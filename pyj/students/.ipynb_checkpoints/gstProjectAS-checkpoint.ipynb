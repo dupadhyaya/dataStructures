{
 "cells": [
  {
   "cell_type": "markdown",
   "id": "b42b3cbc-0e25-4196-b7d3-82334dddf044",
   "metadata": {
    "tags": []
   },
   "source": [
    "# GST Billing System\n",
    "- Roll No - 1 : AGRIMA SRIVASTAVA\n",
    "- COMPUTER SCIENCE\n",
    "- In this project few fields where chosen to be entered into mySQL database and a system of query, updating, deleting etc records was developed which was menu driven through options"
   ]
  },
  {
   "cell_type": "markdown",
   "id": "11aa27ce-d91c-41bc-897d-68d0d58aa855",
   "metadata": {
    "tags": []
   },
   "source": [
    "## Certificate\n",
    "- This is to certify that this Computer Science Project on GST Billing System has been successfully completed by Agrima Srivastava of Class XII-B of Loreto Convent School as part of CBSE New Delhi for Academic Year : 2024-25\n",
    "- .\n",
    "- Teachers Sign"
   ]
  },
  {
   "cell_type": "markdown",
   "id": "f7d46204-0c20-450e-8b45-a97301cea875",
   "metadata": {},
   "source": [
    "## Software Used\n",
    "- Anaconda - Python, Jupyter Notebook\n",
    "- Windows\n",
    "- MySQL "
   ]
  },
  {
   "cell_type": "markdown",
   "id": "be9c3cd7-3890-4195-95b8-42737bd79a63",
   "metadata": {},
   "source": [
    "# Application / Projects\n",
    "- Install Libraries\n",
    "    - !pip install mysql.connector\n",
    "    - !pip install pandas\n",
    "    - !pip install mysql-connector-python\n",
    "    - !pip install --upgrade tabulate  # markdown\n",
    "    - !pip show tabulate # for pdf\n",
    "    - !pip install datetime\n",
    "    - !pip install fpdf"
   ]
  },
  {
   "cell_type": "code",
   "execution_count": null,
   "id": "dde6364a-4c56-4221-bb74-e958f98a9146",
   "metadata": {
    "tags": []
   },
   "outputs": [],
   "source": [
    "#"
   ]
  },
  {
   "cell_type": "markdown",
   "id": "b352f4d2-0328-4b46-b1a3-af2d3fb29245",
   "metadata": {},
   "source": [
    "## Libraries"
   ]
  },
  {
   "cell_type": "code",
   "execution_count": null,
   "id": "86ba37e4-486f-4e9e-a253-1339f12f052c",
   "metadata": {
    "tags": []
   },
   "outputs": [],
   "source": [
    "# Libraries Used in the Project\n",
    "import mysql.connector  # connecting to Mysql\n",
    "from mysql.connector import Error # for capturing errors due to no connection\n",
    "from IPython.display import clear_output #not used \n",
    "import pandas as pd # show table as pandas\n",
    "from fpdf import FPDF\n",
    "from datetime import datetime"
   ]
  },
  {
   "cell_type": "markdown",
   "id": "de57fdb0-b068-4de0-b622-58763fba4249",
   "metadata": {},
   "source": [
    "## MySQL Connection\n",
    "- https://www.mysql.com/downloads/\n",
    "- Start MySQL, Login\n",
    "- Create Database : GSTBILLING \n",
    "    - create database GSTBILLING;\n",
    "- Create USER : subha with PASSWORD : Agrima2024# and GRANT ALL PRIVILIGES to this user\n",
    "    - grant all on *.* to 'subha'@'localhost' with GRANT OPTION;\n",
    "- Use Database : GSTBILLING\n",
    "    - USE GSTBILLING;"
   ]
  },
  {
   "cell_type": "code",
   "execution_count": null,
   "id": "beb5354f-1e15-4168-8776-9969f6a13f62",
   "metadata": {
    "tags": []
   },
   "outputs": [],
   "source": [
    "# Connection\n",
    "con = mysql.connector.connect( host='localhost', user='subha', password='Agrima2024#', database='GSTBILLING')"
   ]
  },
  {
   "cell_type": "code",
   "execution_count": null,
   "id": "bec0eca6-cf9c-494d-b256-21ee56389d0a",
   "metadata": {
    "tags": []
   },
   "outputs": [],
   "source": [
    "print(con , ' on ', datetime.now())"
   ]
  },
  {
   "cell_type": "code",
   "execution_count": null,
   "id": "e0acd365-ae1e-4de1-a502-2c37cefe8569",
   "metadata": {
    "tags": []
   },
   "outputs": [],
   "source": [
    "if con.is_connected():\n",
    "    print(\"Connection Successful\")\n",
    "    print(\"Welcome to GST Billing - Product Table interface\")\n",
    "    cur=con.cursor()"
   ]
  },
  {
   "cell_type": "markdown",
   "id": "6d9473f8-0986-47ea-bece-23940f15cd30",
   "metadata": {},
   "source": [
    "## Create Empty Table\n",
    "- Create Table only if does not exist"
   ]
  },
  {
   "cell_type": "code",
   "execution_count": null,
   "id": "bdc4f6d0-29f9-4ca4-92aa-40d0bbfe93ff",
   "metadata": {
    "tags": []
   },
   "outputs": [],
   "source": [
    "# Create Empty Table for Products and Invoice\n",
    "def create_table():\n",
    "    q1 = ''' CREATE TABLE IF NOT EXISTS products ( SNO INT PRIMARY KEY,PNAME VARCHAR(255) NOT NULL, PRANK CHAR(5) NOT NULL,\n",
    "    COY VARCHAR(255) NOT NULL, DOM DATE NOT NULL,  PRICE DECIMAL(10, 2) ,  GST DECIMAL(5, 2) NOT NULL,  \n",
    "    FPRICE DECIMAL(10, 2) NOT NULL  )'''\n",
    "    cur=con.cursor()\n",
    "    cur.execute(q1)\n",
    "    print(\"An Empty Table - PRODUCTS has been created in Database - GSTBILLING\")\n",
    "    cur.close()\n",
    "    q2 = ''' CREATE TABLE IF NOT EXISTS invoice (INVOICE_ID INT AUTO_INCREMENT PRIMARY KEY, \n",
    "    created_at TIMESTAMP DEFAULT CURRENT_TIMESTAMP, SNO INT, QTY INT NOT NULL  )'''\n",
    "    cur=con.cursor()\n",
    "    cur.execute(q2)\n",
    "    print(\"An Empty Table - INVOICE has been created in Database - GSTBILLING\")\n",
    "    cur.close()"
   ]
  },
  {
   "cell_type": "code",
   "execution_count": null,
   "id": "7cf11388-e2ad-4e1a-b415-41993a678226",
   "metadata": {
    "tags": []
   },
   "outputs": [],
   "source": [
    "#create_table()  #run the function to test only"
   ]
  },
  {
   "cell_type": "markdown",
   "id": "b1e4df6c-67fd-4fbf-b425-54bf98ad9a38",
   "metadata": {},
   "source": [
    "## Describe Products Table"
   ]
  },
  {
   "cell_type": "code",
   "execution_count": null,
   "id": "3ce00d6b-1bde-4557-8fc7-16a05c7e7981",
   "metadata": {
    "tags": []
   },
   "outputs": [],
   "source": [
    "# Describe Products table\n",
    "def describe_table():\n",
    "    cur=con.cursor()\n",
    "    if con.is_connected():\n",
    "        print('Connected to Database : GST BILLING')\n",
    "        tables = [\"invoice\", \"products\"]\n",
    "        cur = con.cursor()\n",
    "        for table in tables:\n",
    "            describe_query = f\"DESCRIBE {table}\"\n",
    "            cur.execute(describe_query)\n",
    "            tableDescp = cur.fetchall()\n",
    "            print(f\"Table `{table}` Description printed (if it existed).\")\n",
    "            for column in tableDescp:\n",
    "                print(column)\n",
    "            print('====================')\n",
    "        cur.close()\n",
    "    else:\n",
    "        print('No connection to database/ mysql')"
   ]
  },
  {
   "cell_type": "code",
   "execution_count": null,
   "id": "b7cd89b5-255f-4d3c-a396-fa776c86a638",
   "metadata": {
    "tags": []
   },
   "outputs": [],
   "source": [
    "describe_table()"
   ]
  },
  {
   "cell_type": "raw",
   "id": "55899dad-350e-4684-9608-d1a029139316",
   "metadata": {
    "tags": []
   },
   "source": [
    "# Write the SQL query to count rows\n",
    "cur = con.cursor()\n",
    "qc1 = \"SELECT COUNT(*) FROM products\"\n",
    "# Execute the query\n",
    "cur.execute(qc1)\n",
    "# Fetch the result\n",
    "count = cur.fetchone()[0]\n",
    "print(f\"Number of records in the table: {count}\")\n",
    "cur.close()"
   ]
  },
  {
   "cell_type": "markdown",
   "id": "9e0301b8-6bb3-49fa-b18d-19a82fe62f9a",
   "metadata": {},
   "source": [
    "## Delete Table"
   ]
  },
  {
   "cell_type": "code",
   "execution_count": null,
   "id": "a88203f6-d780-430a-b871-6fbe0f364ac5",
   "metadata": {
    "tags": []
   },
   "outputs": [],
   "source": [
    "#fun to delete products table\n",
    "def delete_table():\n",
    "    tables = [\"invoice\", \"products\"]\n",
    "    cur = con.cursor()\n",
    "    for table in tables:\n",
    "        drop_query = f\"DROP TABLE IF EXISTS {table}\"\n",
    "        cur.execute(drop_query)\n",
    "        print(f\"Table `{table}` dropped successfully (if it existed).\")\n",
    "    cur.commit()\n",
    "    cur.close()"
   ]
  },
  {
   "cell_type": "code",
   "execution_count": null,
   "id": "f96a5cf1-16fc-429d-abc3-f9fba08bb08c",
   "metadata": {
    "tags": []
   },
   "outputs": [],
   "source": [
    "#delete_table() # do only if required or to tests"
   ]
  },
  {
   "cell_type": "markdown",
   "id": "0de5e936-1d31-4ea3-84d0-35fe22ddcc1f",
   "metadata": {},
   "source": [
    "## Add Sample Records"
   ]
  },
  {
   "cell_type": "code",
   "execution_count": null,
   "id": "8c2605e6-3200-48df-bb3f-c8053e627d11",
   "metadata": {
    "tags": []
   },
   "outputs": [],
   "source": [
    "# insert sample rowsc to products table\n",
    "def insert_sample():\n",
    "    sData = [\n",
    "            (10001, 'Product A', 'A', 'Company X', 100, '2024-01-01', 30, 130),\n",
    "            (20001, 'Product B', 'B', 'Company Y', 200, '2024-02-01', 15, 230),\n",
    "            (30001, 'Product C', 'C', 'Company Z', 300, '2024-03-01', 5, 315),\n",
    "            (40001, 'Product D', 'B', 'Company X', 400, '2024-04-01', 15, 460),\n",
    "            (50001, 'Product E', 'A', 'Company Y', 500, '2024-05-01', 30, 650)\n",
    "        ]\n",
    "    print('Sample Data inserted' , sData)\n",
    "    cur = con.cursor()\n",
    "    iq1 =  ''' INSERT INTO products (SNO, PNAME, PRANK, COY, PRICE, DOM, GST, FPRICE) VALUES \n",
    "(%s, %s, %s, %s, %s, %s, %s, %s) '''\n",
    "    #if con.is_connected():\n",
    "    cur.executemany(iq1, sData)\n",
    "    con.commit()\n",
    "    cur.close()\n",
    "    #print(f'{cur.rowcount} rows inserted successfully !')"
   ]
  },
  {
   "cell_type": "code",
   "execution_count": null,
   "id": "4fac85b2-3425-4615-89bd-623a707ad239",
   "metadata": {
    "tags": []
   },
   "outputs": [],
   "source": [
    "#insert_sample() # for testing only"
   ]
  },
  {
   "cell_type": "raw",
   "id": "a1fb51ae-e9dc-4136-934d-394a08f9caa4",
   "metadata": {
    "tags": []
   },
   "source": [
    "cur = con.cursor()\n",
    "cur.execute(\"SELECT COUNT(*) FROM products\")\n",
    "count = cur.fetchone()[0]\n",
    "print(f\"Number of records in the table now : {count}\")\n",
    "cur.close()"
   ]
  },
  {
   "cell_type": "markdown",
   "id": "70b5e073-d06f-49dc-88eb-3b2def88d7f4",
   "metadata": {},
   "source": [
    "## Add Product One by One "
   ]
  },
  {
   "cell_type": "code",
   "execution_count": null,
   "id": "cc90c5ef-6d05-44cb-8e5c-c53c709e62ef",
   "metadata": {
    "tags": []
   },
   "outputs": [],
   "source": [
    "# Add Products\n",
    "def add_products():\n",
    "    opt='y'\n",
    "    while opt == 'y':\n",
    "        qa2 = '''insert into products( SNO,PNAME, PRANK, COY,  DOM, PRICE, GST, FPRICE) \n",
    "        values (%s,%s,%s, %s, %s, %s,%s,%s)'''\n",
    "        iSNO = int(input(\"enter the product serial number (integer):\"))\n",
    "        iPNAME = input(\"enter the product name (text) :\")\n",
    "        iCOY = input(\"enter the company name (Text) \")\n",
    "        iDOM = input(\"enter the Date of manufacutre: YYYY-MM-DD format\")\n",
    "        iPRANK = input(\"Enter the Rank Category (A/B/C) :\")\n",
    "        iPRICE = int(input(\"Enter the product price (no):\"))\n",
    "        iFPRICE = 0\n",
    "        iGST = 0\n",
    "        print(\" GST percentages are given below according to their ranks\")\n",
    "        print(\" Rank - A ->30%, B-> 15%, C- 5%\")\n",
    "        \n",
    "        if iPRANK==\"A\":\n",
    "            iGST = 30\n",
    "            iFPRICE = iPRICE + iPRICE * iGST/100\n",
    "        elif iPRANK == \"B\":\n",
    "            iGST = 15\n",
    "            iFPRICE = iPRICE + iPRICE * iGST/100\n",
    "        elif iPRANK == \"C\":\n",
    "            iGST = 5\n",
    "            iFPRICE = iPRICE + iPRICE * iGST/100\n",
    "        else:\n",
    "            iGST = 0\n",
    "            iFPRICE = iPRICE + iPRICE * iGST/100\n",
    "        cur = con.cursor()\n",
    "        data = (iSNO, iPNAME, iPRANK, iCOY, iDOM,  iPRICE,  iGST, iFPRICE)\n",
    "        print('You have entered these values', iSNO, iPNAME, iPRANK, iCOY, iDOM, iPRICE, iGST, iFPRICE)\n",
    "        cur.execute(qa2, data)\n",
    "        con.commit()\n",
    "        print(f\"One Record insertion {iSNO} completed with values \\n\")\n",
    "        #print(SNO, PNAME, COY, DOM, PRANK, PRICE, GST, FPRICE)\n",
    "        opt = input(\"Do you want to add another product detail (y/n):\")\n",
    "cur.close()"
   ]
  },
  {
   "cell_type": "code",
   "execution_count": null,
   "id": "b2229560-d5cc-4400-9ea0-a96bee4e71b7",
   "metadata": {
    "tags": []
   },
   "outputs": [],
   "source": [
    "#add_products() # this is for testing in script, run it through the menu"
   ]
  },
  {
   "cell_type": "markdown",
   "id": "7be21a28-beb7-4878-9b69-66b7f09cf8c1",
   "metadata": {},
   "source": [
    "## Display all records"
   ]
  },
  {
   "cell_type": "code",
   "execution_count": null,
   "id": "378d182d-ada3-48cd-b9e2-1cb80b221548",
   "metadata": {
    "tags": []
   },
   "outputs": [],
   "source": [
    "# display all records\n",
    "def display_all():\n",
    "    qd1 = 'select * from products'\n",
    "    cur=con.cursor()\n",
    "    cur.execute(qd1)\n",
    "    records = cur.fetchall()\n",
    "    print(f\"{len(records)} found in the products table\") \n",
    "    if records:\n",
    "        print('\\n All records in the products Table')\n",
    "        for row in records:\n",
    "            print(row)\n",
    "    else:\n",
    "        print('\\n No records found in the products Table')\n",
    "    cur.close()"
   ]
  },
  {
   "cell_type": "code",
   "execution_count": null,
   "id": "e50bd496-cde6-415d-8e20-252a4ea955a7",
   "metadata": {
    "tags": []
   },
   "outputs": [],
   "source": [
    "#display_all()"
   ]
  },
  {
   "cell_type": "markdown",
   "id": "16d9a3bf-80d2-4417-bfdb-bde945fc2681",
   "metadata": {},
   "source": [
    "## Display Records in Data Frame Format"
   ]
  },
  {
   "cell_type": "code",
   "execution_count": null,
   "id": "13c0c18b-a36d-4a4a-a051-46f6deec7ea8",
   "metadata": {
    "tags": []
   },
   "outputs": [],
   "source": [
    "# display all records\n",
    "def display_df():\n",
    "    qd2 = 'select * from products'\n",
    "    df = pd.read_sql(qd2, con=con)\n",
    "    print(df)"
   ]
  },
  {
   "cell_type": "code",
   "execution_count": null,
   "id": "b0088058-32fb-41b9-a9ef-6f6492ca6ead",
   "metadata": {
    "tags": []
   },
   "outputs": [],
   "source": [
    "#display_df()"
   ]
  },
  {
   "cell_type": "markdown",
   "id": "0c4241d6-eeb2-42e5-a3c6-f1c796e73c7d",
   "metadata": {},
   "source": [
    "## Display Data in Markdown format"
   ]
  },
  {
   "cell_type": "code",
   "execution_count": null,
   "id": "e86f7ec4-b471-4937-bb8d-3bce5ff62e07",
   "metadata": {
    "tags": []
   },
   "outputs": [],
   "source": [
    "# Fetch data into a DataFrame\n",
    "def display_mkdown():\n",
    "    qd3 = \"SELECT * FROM products\"\n",
    "    cur= con.cursor()\n",
    "    cur.execute(qd3)\n",
    "    columns = [col[0] for col in cur.description]\n",
    "    data = cur.fetchall()\n",
    "    df = pd.DataFrame(data, columns=columns)\n",
    "    # Display the DataFrame\n",
    "    print(df.to_markdown())  # For Markdown table-style display\n",
    "    cur.close()"
   ]
  },
  {
   "cell_type": "code",
   "execution_count": null,
   "id": "27c64f73-e838-4627-8977-c01c3f24e761",
   "metadata": {
    "tags": []
   },
   "outputs": [],
   "source": [
    "#display_mkdown()"
   ]
  },
  {
   "cell_type": "code",
   "execution_count": null,
   "id": "1d60c663-5b7a-496f-aed1-56a529fec856",
   "metadata": {
    "tags": []
   },
   "outputs": [],
   "source": [
    "#display_all()"
   ]
  },
  {
   "cell_type": "markdown",
   "id": "eb801b77-0f1c-42f6-8ce0-fe6a000fca92",
   "metadata": {
    "tags": []
   },
   "source": [
    "## Show Records as per SNO"
   ]
  },
  {
   "cell_type": "code",
   "execution_count": null,
   "id": "c1ff6ab3-1e83-46a4-83f6-5cd7cba82987",
   "metadata": {},
   "outputs": [],
   "source": [
    "# display SNO\n",
    "def count_SNO():\n",
    "    cur = con.cursor()\n",
    "    cName = 'SNO'\n",
    "    qd2 = 'select SNO from products'\n",
    "    cur.execute(qd2)\n",
    "    records = cur.fetchall()\n",
    "    print(f\"{len(records)} found in the products table\") \n",
    "    if records:\n",
    "        print('\\nAll records in the products Table are - ')\n",
    "        #for row in records:  print(row, sep=', ')\n",
    "        print(f\"{cName} values: \", end=\"\")\n",
    "        print(\", \".join(str(value[0]) for value in records))\n",
    "    else:\n",
    "        print('\\n No records found in the products Table')\n",
    "    cur.close()"
   ]
  },
  {
   "cell_type": "code",
   "execution_count": null,
   "id": "45c53816-4208-4d9d-a154-358461b19b79",
   "metadata": {
    "tags": []
   },
   "outputs": [],
   "source": [
    "#count_SNO()"
   ]
  },
  {
   "cell_type": "markdown",
   "id": "73c3640b-fb6e-45b2-b2dd-907a6848a24c",
   "metadata": {},
   "source": [
    "## Delete Row as per SNO\n",
    "- \"select * from products where SNO={}\".format(sno_value)\n",
    "-  cur.execute(qd3, (sno_value,))  (are similar ways)"
   ]
  },
  {
   "cell_type": "code",
   "execution_count": null,
   "id": "097ef121-d977-409f-b72c-09ed35eb5f64",
   "metadata": {
    "tags": []
   },
   "outputs": [],
   "source": [
    "def delete_row():\n",
    "    cName = 'SNO'\n",
    "    sno_value = input(f\"Enter the value for {cName} to delete: \")\n",
    "    qd3 = f\"DELETE FROM products WHERE {cName} = %s\"\n",
    "    cur = con.cursor()\n",
    "    cur.execute(qd3, (sno_value,))\n",
    "    con.commit()\n",
    "    # Check if a row was deleted\n",
    "    if cur.rowcount > 0:\n",
    "        print(f\"Row(s) deleted successfully! {cur.rowcount} row(s) affected.\")\n",
    "    else:\n",
    "        print(\"No rows found matching the criteria.\")\n",
    "    cur.close()"
   ]
  },
  {
   "cell_type": "code",
   "execution_count": null,
   "id": "fc63cb24-d826-49a0-b38f-5de26e095bd7",
   "metadata": {
    "tags": []
   },
   "outputs": [],
   "source": [
    "#delete_row()"
   ]
  },
  {
   "cell_type": "markdown",
   "id": "e7646350-e3e4-4a8c-bd44-4545ffad33a6",
   "metadata": {},
   "source": [
    "## Update data of row\n",
    "- Select row based on SNO\n",
    "- Select the field to be update\n",
    "- Type the new value to be updated"
   ]
  },
  {
   "cell_type": "code",
   "execution_count": null,
   "id": "825e95c8-2db4-4827-9c5f-2b7eed021283",
   "metadata": {
    "tags": []
   },
   "outputs": [],
   "source": [
    "def update_data():\n",
    "    pCol = 'SNO'\n",
    "    sno_value = input(f\"Enter the value for {pCol} to be updated : \")\n",
    "    print('Columns which can be updated are : PNAME, COY, PRICE, DOM, FPRICE')\n",
    "    print('GST is updated based on PRANK')\n",
    "    colUpdate = input(\"Enter the column name to be updated: \")\n",
    "    new_value = input(f\"Enter the new value for {colUpdate}: \")\n",
    "    qu1 = f\"UPDATE products SET {colUpdate} = %s WHERE {pCol} = %s\"\n",
    "    cur = con.cursor()\n",
    "    cur.execute(qu1, (new_value, sno_value))\n",
    "    con.commit()\n",
    "    if cur.rowcount > 0:\n",
    "        print(f\"Row(s) Updated successfully! {cur.rowcount} row(s) affected.\")\n",
    "    else:\n",
    "        print(\"No rows found matching the criteria.\")\n",
    "    cur.close()"
   ]
  },
  {
   "cell_type": "code",
   "execution_count": null,
   "id": "78d58b40-8b8e-457a-a4a6-641fce5a9b86",
   "metadata": {
    "tags": []
   },
   "outputs": [],
   "source": [
    "#update_data()"
   ]
  },
  {
   "cell_type": "code",
   "execution_count": null,
   "id": "7b1f4dc9-8a5a-4749-9475-5265ea8fab56",
   "metadata": {
    "tags": []
   },
   "outputs": [],
   "source": [
    "#display_all()"
   ]
  },
  {
   "cell_type": "markdown",
   "id": "54a364b7-d143-4c5c-8370-db4ec3f09760",
   "metadata": {},
   "source": [
    "## Update PRANK, GST, FPRICE"
   ]
  },
  {
   "cell_type": "code",
   "execution_count": null,
   "id": "8d7bba30-d9f8-42f8-8a7e-7fa77802891c",
   "metadata": {
    "tags": []
   },
   "outputs": [],
   "source": [
    "def update_prank():\n",
    "    pCol = 'SNO'\n",
    "    sno_value = input(f\"Enter the value for {pCol} for whom you want to update PRANK/GST : \")\n",
    "    print('Columns which are being  updated are : PRANK and then GST & FPRICE')\n",
    "    print('as GST is updated based on PRANK')\n",
    "    colUpdate = 'PRANK'\n",
    "    \n",
    "    #get price\n",
    "    qu2a = f\"SELECT * FROM products WHERE SNO = %s\"\n",
    "    cur = con.cursor()\n",
    "    cur.execute(qu2a, (sno_value,))\n",
    "    result = cur.fetchone()\n",
    "    if result:\n",
    "        iPRICE = result[5]\n",
    "        print(f'Price for {sno_value} is {iPRICE}') \n",
    "    else:\n",
    "        print('No existing value found')\n",
    "        iPRICE = 0\n",
    "    cur.close()\n",
    "    \n",
    "    iPRANK = input(f\"Enter the new value for {colUpdate}: \")\n",
    "    if iPRANK==\"A\":\n",
    "        iGST = 30\n",
    "        iFPRICE = iPRICE + iPRICE * iGST/100\n",
    "    elif iPRANK == \"B\":\n",
    "        iGST = 15\n",
    "        iFPRICE = iPRICE + iPRICE * iGST/100\n",
    "    elif iPRANK == \"C\":\n",
    "        iGST = 5\n",
    "        iFPRICE = iPRICE + iPRICE * iGST/100\n",
    "    else:\n",
    "        iGST = 0\n",
    "        iFPRICE = iPRICE + iPRICE * iGST/100\n",
    "    print(f\" New values for {sno_value} are - {iPRANK}, {iGST}, {iFPRICE}\")\n",
    "    \n",
    "    qu2b = f\"UPDATE products SET PRANK = %s, GST = %s, FPRICE = %s  WHERE {pCol} = %s\"\n",
    "    cur = con.cursor()\n",
    "    cur.execute(qu2b, (iPRANK, iGST, iFPRICE, sno_value))\n",
    "    con.commit()\n",
    "    if cur.rowcount > 0:\n",
    "        print(f\"Row(s) Updated successfully! {cur.rowcount} row(s) affected.\")\n",
    "    else:\n",
    "        print(\"No rows found matching the criteria.\")\n",
    "    cur.close()"
   ]
  },
  {
   "cell_type": "code",
   "execution_count": null,
   "id": "e576391b-987b-47cf-b19e-8863f96932bd",
   "metadata": {
    "tags": []
   },
   "outputs": [],
   "source": [
    "#update_prank()"
   ]
  },
  {
   "cell_type": "markdown",
   "id": "d04b0e91-0c90-4949-97dc-bc7e826e2229",
   "metadata": {},
   "source": [
    "## Create Invoice\n",
    "- !pip install fpdf"
   ]
  },
  {
   "cell_type": "code",
   "execution_count": null,
   "id": "f747c9cc-ab2e-4e16-924c-83a26cf476b9",
   "metadata": {
    "tags": []
   },
   "outputs": [],
   "source": [
    "# Query to fetch invoice data\n",
    "def fetch_invoicedata():\n",
    "    qi1 = '''SELECT p.SNO, p.PNAME, p.PRICE, p.GST, p.FPRICE, i.QTY, i.INVOICE_ID, i.created_at, \n",
    "    (p.FPRICE * i.QTY) AS TPRICE FROM invoice i INNER JOIN products p ON i.SNO = p.SNO''' \n",
    "    df = pd.read_sql(qi1, con=con)\n",
    "    return df\n",
    "    invData = fetch_invoicedata()\n",
    "    print(invData)"
   ]
  },
  {
   "cell_type": "code",
   "execution_count": null,
   "id": "02810f38-23b6-4fa2-b7c1-2886be02dade",
   "metadata": {
    "tags": []
   },
   "outputs": [],
   "source": [
    "#select item, add quantity and add into new table\n",
    "def invoice_item():\n",
    "    cName = 'SNO'\n",
    "    sno_value = input(f\"Enter the value for {cName} to add to Invoice : \")\n",
    "    qd3 = f\"SELECT * FROM products WHERE {cName} = %s\"\n",
    "    cur = con.cursor(buffered=True)\n",
    "    cur.execute(qd3, (sno_value,))\n",
    "    product = cur.fetchone()\n",
    "    if product:\n",
    "        print(f\"Product Found\")\n",
    "        iQTY = input(f\"Enter the Quantity for {sno_value} to genarate Invoice for: \")\n",
    "        qii2 = f\"INSERT INTO invoice (SNO, QTY) values (%s, %s)\"\n",
    "        values = (sno_value, iQTY)\n",
    "        cur = con.cursor(buffered=True)\n",
    "        cur.execute(qii2, (values))\n",
    "        cur.close()\n",
    "        con.commit()\n",
    "        print(f\"Product Serial No: {sno_value} with Quantity: {iQTY} inserted successfully.\")\n",
    "    else:\n",
    "        print(\"No rows found matching the criteria.\")\n",
    "    cur.close()"
   ]
  },
  {
   "cell_type": "code",
   "execution_count": null,
   "id": "4d0c259e-882a-4f7e-bdab-4055670cbf9b",
   "metadata": {
    "tags": []
   },
   "outputs": [],
   "source": [
    "#invoice_item()"
   ]
  },
  {
   "cell_type": "code",
   "execution_count": null,
   "id": "1ba3e2d7-26c7-446d-ac54-c2d5f1fb4952",
   "metadata": {
    "tags": []
   },
   "outputs": [],
   "source": [
    "from fpdf import FPDF\n",
    "class PDFInvoice(FPDF):\n",
    "   \n",
    "    def header(self):\n",
    "        # Add title\n",
    "        self.set_font('Arial', 'B', 12)\n",
    "        self.cell(0, 10, 'Invoice Generated by Agrima Srivastav : GST Billing System', border=False, ln=1, align='C')\n",
    "        self.ln(10)\n",
    "\n",
    "    def footer(self):\n",
    "        # Add footer with page number\n",
    "        self.set_y(-15)\n",
    "        self.set_font('Arial', 'I', 8)\n",
    "        self.cell(0, 10, f' Loreto Convent School AY 2024-25 : Page {self.page_no()}', align='C')\n",
    "\n",
    "    def add_invoice_table(self, data):\n",
    "        # Add table headers\n",
    "        self.set_font('Arial', 'B', 10)\n",
    "        self.cell(10, 10, 'INV ID', 1)  \n",
    "        self.cell(30, 10, 'INV Date', 1)    \n",
    "        self.cell(20, 10, 'SNO', 1)\n",
    "        self.cell(30, 10, 'PNAME', 1)\n",
    "        self.cell(20, 10, 'PRICE', 1)\n",
    "        self.cell(10, 10, 'GST', 1)\n",
    "        self.cell(20, 10, 'FPRICE', 1)\n",
    "        self.cell(20, 10, 'TPRICE', 1)\n",
    "        self.ln()\n",
    "\n",
    "        # Add table rows\n",
    "        self.set_font('Arial', '', 10)\n",
    "        for _, row in data.iterrows():\n",
    "            self.cell(10, 10, str(row['INVOICE_ID']), 1)\n",
    "            self.cell(30, 10, str(row['created_at']), 1) \n",
    "            self.cell(20, 10, str(row['SNO']), 1)\n",
    "            self.cell(30, 10, row['PNAME'], 1)\n",
    "            self.cell(20, 10, str(row['PRICE']), 1)\n",
    "            self.cell(10, 10, str(row['GST']), 1)\n",
    "            self.cell(20, 10, str(row['FPRICE']), 1)\n",
    "            self.cell(20, 10, str(row['TPRICE']), 1)\n",
    "            self.ln()"
   ]
  },
  {
   "cell_type": "code",
   "execution_count": null,
   "id": "9a64f846-a5a7-4088-a53b-6b77caf682bd",
   "metadata": {
    "tags": []
   },
   "outputs": [],
   "source": [
    "# Create PDF instance\n",
    "def create_invoicePDF():\n",
    "    pdf = PDFInvoice()\n",
    "    pdf.add_page()\n",
    "    # Add invoice table to the PDF\n",
    "    pdf.add_invoice_table(invData)\n",
    "    # Save the PDF\n",
    "    pdf.output('invoice.pdf')\n",
    "    print(f\"PDF generated on {datetime.now().date()} :: invoice.pdf\")"
   ]
  },
  {
   "cell_type": "code",
   "execution_count": null,
   "id": "1757b997-e4b8-4376-b3ee-e5c089218f6c",
   "metadata": {
    "tags": []
   },
   "outputs": [],
   "source": [
    "def invoice_pdf2():\n",
    "    query = '''SELECT i.INVOICE_ID, p.SNO, p.PNAME, p.PRICE, p.GST, p.FPRICE, i.QTY, \n",
    "    (p.FPRICE * i.QTY) AS TPRICE FROM invoice i INNER JOIN products p ON i.SNO = p.SNO''' \n",
    "    cur = con.cursor()\n",
    "    cur.execute(query)\n",
    "    rows = cur.fetchall()\n",
    "    columns = [col[0] for col in cur.description]\n",
    "    current_datetime = datetime.now().strftime(\"%Y-%m-%d %H:%M:%S\")\n",
    "    #print(columns)\n",
    "    # Create PDF invoice\n",
    "    pdf = FPDF()\n",
    "    pdf.add_page()\n",
    "    pdf.set_font(\"Arial\", size=12)\n",
    "    # Add title\n",
    "    pdf.set_font(\"Arial\", style=\"B\", size=16)\n",
    "    pdf.cell(200, 10, txt=f\"Invoice Generated by Agrima Srivastava at \", ln=True, align=\"C\")\n",
    "    pdf.ln(2)\n",
    "    pdf.cell(200, 10, txt=f\"Date and Time: {current_datetime}\", ln=True, align=\"C\")\n",
    "    pdf.ln(2)\n",
    "    pdf.cell(200, 10, txt=f\"Loreto Convent School - GST Billing System : AY 2024-25\", ln=True, align=\"C\")\n",
    "    pdf.ln(5)\n",
    "\n",
    "    # Add table headers\n",
    "    pdf.set_font(\"Arial\", style=\"B\", size=12)\n",
    "    headers = [\"InvID\",\"SNO\", \"PNAME\", \"PRICE\", \"GST\", \"FPRICE\", \"QTY\", \"TPRICE\"]\n",
    "    col_widths = [15, 15, 50, 20, 20, 20, 15, 30]  # Adjust column widths\n",
    "\n",
    "    for i, header in enumerate(headers):\n",
    "        pdf.cell(col_widths[i], 10, txt=header, border=1, align=\"F\")\n",
    "        #print(i, header)\n",
    "    pdf.ln()  # Move to the next line after headers\n",
    "\n",
    "    # Add table rows\n",
    "    pdf.set_font(\"Arial\", size=10)\n",
    "    grand_total = 0\n",
    "    for row in rows:\n",
    "        grand_total += row[7]  # Accumulate total price\n",
    "        for i, value in enumerate(row):\n",
    "            pdf.cell(col_widths[i], 10, txt=str(value), border=1, align=\"C\")\n",
    "        pdf.ln()  # Move to the next line after each row\n",
    "\n",
    "    # Add grand total\n",
    "    pdf.set_font(\"Arial\", style=\"B\", size=12)\n",
    "    pdf.cell(100, 10, txt=\"Grand Total\", border=1, align=\"C\")\n",
    "    pdf.cell(40, 10, txt=f\"Rs {grand_total:.2f}\", border=1, align=\"C\")\n",
    "    pdf.ln(20)\n",
    "    pdf.cell(200, 10, txt=f\"Generated using Python and MySQL \", ln=True, align=\"C\")\n",
    "   \n",
    "    # Save the PDF\n",
    "    pdf.output(\"Invoice-GST Bill - AS.pdf\")\n",
    "    print(\"Invoice PDF generated successfully as 'Invoice-GST Bill - AS.pdf'.\")\n",
    "    cur.close()"
   ]
  },
  {
   "cell_type": "code",
   "execution_count": null,
   "id": "616b6926-3205-4ea5-b405-196d863e904a",
   "metadata": {
    "tags": []
   },
   "outputs": [],
   "source": [
    "invoice_pdf2()"
   ]
  },
  {
   "cell_type": "code",
   "execution_count": null,
   "id": "24ca21c3-4435-491a-ad9b-af52bedfb6cb",
   "metadata": {
    "tags": []
   },
   "outputs": [],
   "source": [
    "create_invoicePDF()"
   ]
  },
  {
   "cell_type": "markdown",
   "id": "b4d122b5-bd8b-4463-9eed-6b880df14e02",
   "metadata": {},
   "source": [
    "## Main Function"
   ]
  },
  {
   "cell_type": "code",
   "execution_count": null,
   "id": "aeced73b-1c27-4cfe-9917-cd9b9642b173",
   "metadata": {
    "tags": []
   },
   "outputs": [],
   "source": [
    "def main():\n",
    "    \"\"\"Main function to handle user choices\"\"\"\n",
    "    while True:\n",
    "        # Display menu\n",
    "        current_datetime = datetime.now().strftime(\"%Y-%m-%d %H:%M:%S\")\n",
    "        print(f\" Welcome to GST Billing {current_datetime}\")\n",
    "        print(\"\\nChoose an operation:\")\n",
    "        print(\"1. Create Table\")\n",
    "        print(\"2. Drop/Delete the Table\")\n",
    "        print(\"3. Insert Sample Data\")\n",
    "        print(\"4. Print All the Data in the Table\")\n",
    "        print(\"5. Display Only 1 Row based on SNO\")\n",
    "        print(\"6. Update PRANK -> GST, FPRICE\")\n",
    "        print(\"7. Update Other Values\")\n",
    "        print(\"8. Count rows in the Table\")\n",
    "        print(\"9. Delete Row in the Table\")\n",
    "        print(\"10. Describe the structure of the Table\")\n",
    "        print(\"11. Display Data in Pandas Format\")\n",
    "        print(\"12. Display Data in MarkDown Format\")\n",
    "        print(\"13. Create Invoice for Product\")\n",
    "        \n",
    "        print(\"_______________\") \n",
    "        print(\"0. Exit\")\n",
    "        \n",
    "        # Get user choice\n",
    "        choice = input(\"Enter your choice (1-9): \")\n",
    "\n",
    "        # Call the appropriate function\n",
    "        if choice == \"1\":\n",
    "              create_table()  # create table\n",
    "        elif choice == \"2\":\n",
    "              delete_table()\n",
    "        elif choice == \"3\":\n",
    "              insert_sample()\n",
    "        elif choice == \"4\":\n",
    "              display_all()\n",
    "        elif choice == \"5\":\n",
    "              count_SNO() \n",
    "        elif choice == \"6\":\n",
    "              update_prank()\n",
    "        elif choice == \"7\":\n",
    "              update_data()\n",
    "        elif choice == \"8\":\n",
    "              count_SNO() \n",
    "        elif choice == \"9\":\n",
    "              delete_row()\n",
    "        elif choice == \"10\":\n",
    "              describe_table()\n",
    "        elif choice == \"11\":\n",
    "              display_df()\n",
    "        elif choice == \"12\":\n",
    "              display_mkdown()\n",
    "        elif choice == \"13\":\n",
    "             invoice_pdf2()\n",
    "        elif choice == \"0\":\n",
    "              print(\"Exiting the program. Goodbye!\")\n",
    "              # Clear the output of the current cell\n",
    "              clear_output(wait=True)\n",
    "              break\n",
    "        else:\n",
    "            print(\"Invalid choice. Please try again.\")\n",
    "            clear_output(wait=True)"
   ]
  },
  {
   "cell_type": "markdown",
   "id": "004122e0-be8b-4568-8682-09c77237834c",
   "metadata": {
    "tags": []
   },
   "source": [
    "# Call the main function\n",
    "if __name__ == \"__main__\":\n",
    "    main()"
   ]
  },
  {
   "cell_type": "code",
   "execution_count": null,
   "id": "43af9cbb-15cb-4c6c-b0a8-2fdcfc6dbda8",
   "metadata": {},
   "outputs": [],
   "source": [
    "print('End of File')"
   ]
  },
  {
   "cell_type": "markdown",
   "id": "77700d94-3c67-4eef-9b9a-1dcc70ecc977",
   "metadata": {},
   "source": [
    "# END of GST BILLING project"
   ]
  },
  {
   "cell_type": "code",
   "execution_count": null,
   "id": "cd7e3a23-0e2b-4ae6-b060-393cbaa6e1c3",
   "metadata": {},
   "outputs": [],
   "source": []
  }
 ],
 "metadata": {
  "kernelspec": {
   "display_name": "Python 3 (ipykernel)",
   "language": "python",
   "name": "python3"
  },
  "language_info": {
   "codemirror_mode": {
    "name": "ipython",
    "version": 3
   },
   "file_extension": ".py",
   "mimetype": "text/x-python",
   "name": "python",
   "nbconvert_exporter": "python",
   "pygments_lexer": "ipython3",
   "version": "3.11.5"
  },
  "toc-autonumbering": true
 },
 "nbformat": 4,
 "nbformat_minor": 5
}
