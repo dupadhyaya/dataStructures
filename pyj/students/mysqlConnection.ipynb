{
 "cells": [
  {
   "cell_type": "code",
   "execution_count": 1,
   "id": "1e7aa0f7-3f6a-49a2-9cab-638c7df1a27d",
   "metadata": {
    "tags": []
   },
   "outputs": [],
   "source": [
    "# Mysql Connection"
   ]
  },
  {
   "cell_type": "code",
   "execution_count": 1,
   "id": "459124ff-d262-45a6-b9a5-7efe2de6dd57",
   "metadata": {
    "tags": []
   },
   "outputs": [],
   "source": [
    "#Libraries\n",
    "#!pip install mysql-connector-python"
   ]
  },
  {
   "cell_type": "code",
   "execution_count": 2,
   "id": "8e77d7aa-8a3d-45b1-abfc-80a740a226e0",
   "metadata": {
    "tags": []
   },
   "outputs": [],
   "source": [
    "import mysql.connector\n",
    "from mysql.connector import Error"
   ]
  },
  {
   "cell_type": "code",
   "execution_count": 3,
   "id": "f4966ceb-f46b-40e3-9699-7d144729290f",
   "metadata": {},
   "outputs": [],
   "source": [
    "#Connection Check"
   ]
  },
  {
   "cell_type": "code",
   "execution_count": 4,
   "id": "a80ea5d1-1570-498e-b9cb-ab88e8721396",
   "metadata": {
    "tags": []
   },
   "outputs": [
    {
     "name": "stdout",
     "output_type": "stream",
     "text": [
      "Connection successful\n",
      "MySQL Server version: 9.1.0\n",
      "Connection closed\n"
     ]
    }
   ],
   "source": [
    "try:\n",
    "    # Establish the connection\n",
    "    connection = mysql.connector.connect(\n",
    "        host='localhost',        # Replace with your host\n",
    "        user='subha',             # Replace with your username\n",
    "        password='Agrima2024#',  # Replace with your password\n",
    "        database='GSTBILLING'      # Replace with your database name\n",
    "    )\n",
    "\n",
    "    if connection.is_connected():\n",
    "        print(\"Connection successful\")\n",
    "        # Proceed with your database operations here\n",
    "    #Get and display server details\n",
    "    db_Info = connection.get_server_info()\n",
    "    print(\"MySQL Server version:\", db_Info)\n",
    "\n",
    "except Error as e:\n",
    "    print(f\"Error: {e}\")\n",
    "\n",
    "finally:\n",
    "    if connection.is_connected():\n",
    "        connection.close()\n",
    "        print(\"Connection closed\")"
   ]
  },
  {
   "cell_type": "code",
   "execution_count": 42,
   "id": "9a8d63cc-644b-490f-8fce-d1381093ad23",
   "metadata": {},
   "outputs": [],
   "source": [
    "# create connection\n",
    "connection = mysql.connector.connect(\n",
    "        host='localhost',        # Replace with your host\n",
    "        user='subha',             # Replace with your username\n",
    "        password='Agrima2024#',  # Replace with your password\n",
    "        database='GSTBILLING'      # Replace with your database name\n",
    "    )"
   ]
  },
  {
   "cell_type": "code",
   "execution_count": 43,
   "id": "68bfadef-aec7-4733-b2ed-68d8dc4587e2",
   "metadata": {
    "tags": []
   },
   "outputs": [],
   "source": [
    "# display all records\n",
    "def display_all():\n",
    "    qd1 = 'select * from sample'\n",
    "    cur=connection.cursor()\n",
    "    cur.execute(qd1)\n",
    "    records = cur.fetchall()\n",
    "    print(f\"{len(records)} found in the sample table\") \n",
    "    if records:\n",
    "        print('\\n All records in the sample Table')\n",
    "        for row in records:\n",
    "            print(row)\n",
    "    else:\n",
    "        print('\\n No records found in the products Table')"
   ]
  },
  {
   "cell_type": "code",
   "execution_count": 44,
   "id": "7e7a989b-80d4-4b52-b378-511d9af45452",
   "metadata": {
    "tags": []
   },
   "outputs": [
    {
     "name": "stdout",
     "output_type": "stream",
     "text": [
      "10 found in the sample table\n",
      "\n",
      " All records in the sample Table\n",
      "(1, 'Product A', 1, 'Company X', datetime.date(2024, 1, 10), Decimal('100.00'), Decimal('18.00'), Decimal('118.00'))\n",
      "(2, 'Product B', 2, 'Company Y', datetime.date(2024, 2, 15), Decimal('200.00'), Decimal('18.00'), Decimal('236.00'))\n",
      "(3, 'Product C', 3, 'Company Z', datetime.date(2024, 3, 20), Decimal('300.00'), Decimal('18.00'), Decimal('354.00'))\n",
      "(4, 'Product D', 4, 'Company X', datetime.date(2024, 4, 25), Decimal('400.00'), Decimal('12.00'), Decimal('448.00'))\n",
      "(5, 'Product E', 5, 'Company Y', datetime.date(2024, 5, 30), Decimal('500.00'), Decimal('5.00'), Decimal('525.00'))\n",
      "(10, 'Product A', 1, 'Company X', datetime.date(2024, 1, 1), Decimal('100.00'), Decimal('30.00'), Decimal('130.00'))\n",
      "(12, 'Product B', 2, 'Company Y', datetime.date(2024, 2, 1), Decimal('200.00'), Decimal('15.00'), Decimal('230.00'))\n",
      "(13, 'Product C', 3, 'Company Z', datetime.date(2024, 3, 1), Decimal('300.00'), Decimal('5.00'), Decimal('315.00'))\n",
      "(14, 'Product D', 4, 'Company X', datetime.date(2024, 4, 1), Decimal('400.00'), Decimal('15.00'), Decimal('460.00'))\n",
      "(15, 'Product E', 3, 'Company Y', datetime.date(2024, 5, 1), Decimal('500.00'), Decimal('30.00'), Decimal('650.00'))\n"
     ]
    }
   ],
   "source": [
    "display_all()"
   ]
  },
  {
   "cell_type": "code",
   "execution_count": 45,
   "id": "446f4b5b-11a2-414f-b675-a91a20518aff",
   "metadata": {
    "tags": []
   },
   "outputs": [
    {
     "data": {
      "text/plain": [
       "[('20', 'Product A', 1, 'Company X', '100', '2024-01-01', '30', '130'),\n",
       " ('22', 'Product B', 2, 'Company Y', '200', '2024-02-01', '15', '230'),\n",
       " ('23', 'Product C', 3, 'Company Z', '300', '2024-03-01', '5', '315'),\n",
       " ('24', 'Product D', 4, 'Company X', '400', '2024-04-01', '15', '460'),\n",
       " ('25', 'Product E', 3, 'Company Y', '500', '2024-05-01', '30', '650')]"
      ]
     },
     "execution_count": 45,
     "metadata": {},
     "output_type": "execute_result"
    }
   ],
   "source": [
    "sData = [\n",
    "            ('20', 'Product A', 1, 'Company X', '100', '2024-01-01', '30', '130'),\n",
    "            ('22', 'Product B', 2, 'Company Y', '200', '2024-02-01', '15', '230'),\n",
    "            ('23', 'Product C', 3, 'Company Z', '300', '2024-03-01', '5', '315'),\n",
    "            ('24', 'Product D', 4, 'Company X', '400', '2024-04-01', '15', '460'),\n",
    "            ('25', 'Product E', 3, 'Company Y', '500', '2024-05-01', '30', '650')\n",
    "        ]\n",
    "sData"
   ]
  },
  {
   "cell_type": "code",
   "execution_count": 46,
   "id": "78df00e2-2d68-485c-890b-332bd5039727",
   "metadata": {
    "tags": []
   },
   "outputs": [],
   "source": [
    "# insert sample rows\n",
    "def insert_sample():\n",
    "    iq1 =  ''' INSERT INTO sample (SNO, PNAME, PRANK, COY, PRICE, DOM, GST, FPRICE) VALUES \n",
    "(%s, %s, %s, %s, %s, %s, %s, %s) '''\n",
    "    print(iq1.count(\"%s\"))\n",
    "    if connection.is_connected():\n",
    "            # Creating a cursor object\n",
    "            cursor = connection.cursor()\n",
    "            cursor.executemany(iq1, sData)\n",
    "            connection.commit()\n",
    "            #print(f'{cur.rowcount} rows inserted successfully !')"
   ]
  },
  {
   "cell_type": "code",
   "execution_count": 47,
   "id": "c88eb02a-7a66-432e-97fe-2cc09570d0eb",
   "metadata": {
    "tags": []
   },
   "outputs": [
    {
     "name": "stdout",
     "output_type": "stream",
     "text": [
      "8\n"
     ]
    }
   ],
   "source": [
    "insert_sample()"
   ]
  },
  {
   "cell_type": "code",
   "execution_count": 48,
   "id": "8bdef65e-d2b9-43c8-8606-3e62f21a7349",
   "metadata": {
    "tags": []
   },
   "outputs": [
    {
     "name": "stdout",
     "output_type": "stream",
     "text": [
      "15 found in the sample table\n",
      "\n",
      " All records in the sample Table\n",
      "(1, 'Product A', 1, 'Company X', datetime.date(2024, 1, 10), Decimal('100.00'), Decimal('18.00'), Decimal('118.00'))\n",
      "(2, 'Product B', 2, 'Company Y', datetime.date(2024, 2, 15), Decimal('200.00'), Decimal('18.00'), Decimal('236.00'))\n",
      "(3, 'Product C', 3, 'Company Z', datetime.date(2024, 3, 20), Decimal('300.00'), Decimal('18.00'), Decimal('354.00'))\n",
      "(4, 'Product D', 4, 'Company X', datetime.date(2024, 4, 25), Decimal('400.00'), Decimal('12.00'), Decimal('448.00'))\n",
      "(5, 'Product E', 5, 'Company Y', datetime.date(2024, 5, 30), Decimal('500.00'), Decimal('5.00'), Decimal('525.00'))\n",
      "(10, 'Product A', 1, 'Company X', datetime.date(2024, 1, 1), Decimal('100.00'), Decimal('30.00'), Decimal('130.00'))\n",
      "(12, 'Product B', 2, 'Company Y', datetime.date(2024, 2, 1), Decimal('200.00'), Decimal('15.00'), Decimal('230.00'))\n",
      "(13, 'Product C', 3, 'Company Z', datetime.date(2024, 3, 1), Decimal('300.00'), Decimal('5.00'), Decimal('315.00'))\n",
      "(14, 'Product D', 4, 'Company X', datetime.date(2024, 4, 1), Decimal('400.00'), Decimal('15.00'), Decimal('460.00'))\n",
      "(15, 'Product E', 3, 'Company Y', datetime.date(2024, 5, 1), Decimal('500.00'), Decimal('30.00'), Decimal('650.00'))\n",
      "(20, 'Product A', 1, 'Company X', datetime.date(2024, 1, 1), Decimal('100.00'), Decimal('30.00'), Decimal('130.00'))\n",
      "(22, 'Product B', 2, 'Company Y', datetime.date(2024, 2, 1), Decimal('200.00'), Decimal('15.00'), Decimal('230.00'))\n",
      "(23, 'Product C', 3, 'Company Z', datetime.date(2024, 3, 1), Decimal('300.00'), Decimal('5.00'), Decimal('315.00'))\n",
      "(24, 'Product D', 4, 'Company X', datetime.date(2024, 4, 1), Decimal('400.00'), Decimal('15.00'), Decimal('460.00'))\n",
      "(25, 'Product E', 3, 'Company Y', datetime.date(2024, 5, 1), Decimal('500.00'), Decimal('30.00'), Decimal('650.00'))\n"
     ]
    }
   ],
   "source": [
    "display_all()"
   ]
  },
  {
   "cell_type": "code",
   "execution_count": null,
   "id": "7d062466-428e-4d91-b37e-89a7d763aee1",
   "metadata": {},
   "outputs": [],
   "source": []
  },
  {
   "cell_type": "code",
   "execution_count": null,
   "id": "8cf5c5fb-212d-494f-93f1-eb55360a7f94",
   "metadata": {},
   "outputs": [],
   "source": []
  }
 ],
 "metadata": {
  "kernelspec": {
   "display_name": "Python 3 (ipykernel)",
   "language": "python",
   "name": "python3"
  },
  "language_info": {
   "codemirror_mode": {
    "name": "ipython",
    "version": 3
   },
   "file_extension": ".py",
   "mimetype": "text/x-python",
   "name": "python",
   "nbconvert_exporter": "python",
   "pygments_lexer": "ipython3",
   "version": "3.11.5"
  }
 },
 "nbformat": 4,
 "nbformat_minor": 5
}
