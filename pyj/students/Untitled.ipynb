{
 "cells": [
  {
   "cell_type": "code",
   "execution_count": 1,
   "id": "9e4fd18c-3580-4455-9c50-3768c44289bc",
   "metadata": {
    "tags": []
   },
   "outputs": [],
   "source": [
    "## GST Project"
   ]
  },
  {
   "cell_type": "code",
   "execution_count": 2,
   "id": "e22c6f8b-cf00-4ca6-a71c-833eff946be8",
   "metadata": {
    "tags": []
   },
   "outputs": [],
   "source": [
    "# Libraries Used in the Project\n",
    "import mysql.connector  # connecting to Mysql\n",
    "from mysql.connector import Error # for capturing errors due to no connection\n",
    "from IPython.display import clear_output #not used \n",
    "import pandas as pd # show table as pandas\n",
    "from fpdf import FPDF\n",
    "from datetime import datetime"
   ]
  },
  {
   "cell_type": "code",
   "execution_count": 3,
   "id": "eeb9f12c-12b5-4fdd-a8b5-f9a43720712f",
   "metadata": {
    "tags": []
   },
   "outputs": [],
   "source": [
    "#options\n",
    "pd.set_option('display.max_columns',10)\n",
    "pd.set_option(\"display.width\", 1000)"
   ]
  },
  {
   "cell_type": "code",
   "execution_count": 4,
   "id": "09c64ee8-38a2-4b07-8b5f-4a6a7b78f029",
   "metadata": {
    "tags": []
   },
   "outputs": [],
   "source": [
    "# Connection\n",
    "con = mysql.connector.connect( host='localhost', user='subha', password='Agrima2024#', database='GSTBILLING')"
   ]
  },
  {
   "cell_type": "code",
   "execution_count": 5,
   "id": "867b8b36-ce66-402f-ac1d-dd9b438aff49",
   "metadata": {
    "tags": []
   },
   "outputs": [
    {
     "name": "stdout",
     "output_type": "stream",
     "text": [
      "Connection Successful\n",
      "Welcome to GST Billing - Product Table interface\n"
     ]
    }
   ],
   "source": [
    "if con.is_connected():\n",
    "    print(\"Connection Successful\")\n",
    "    print(\"Welcome to GST Billing - Product Table interface\")\n",
    "    cur=con.cursor()"
   ]
  },
  {
   "cell_type": "code",
   "execution_count": 6,
   "id": "0abd1156-5c55-4b3f-bf9a-a905e143df5c",
   "metadata": {
    "tags": []
   },
   "outputs": [],
   "source": [
    "# Create Empty Table for Products and Invoice\n",
    "def create_table():\n",
    "    q1 = ''' CREATE TABLE IF NOT EXISTS products ( SNO INT PRIMARY KEY,PNAME VARCHAR(255) NOT NULL, PRANK CHAR(5) NOT NULL,\n",
    "    COY VARCHAR(255) NOT NULL, DOM DATE NOT NULL,  PRICE DECIMAL(10, 2) ,  GST DECIMAL(5, 2) NOT NULL,  \n",
    "    FPRICE DECIMAL(10, 2) NOT NULL  )'''\n",
    "    cur=con.cursor()\n",
    "    cur.execute(q1)\n",
    "    print(\"An Empty Table - PRODUCTS has been created in Database - GSTBILLING\")\n",
    "    cur.close()\n",
    "    q2 = ''' CREATE TABLE IF NOT EXISTS invoice (INVOICE_ID INT AUTO_INCREMENT PRIMARY KEY, \n",
    "    created_at TIMESTAMP DEFAULT CURRENT_TIMESTAMP, SNO INT, QTY INT NOT NULL  )'''\n",
    "    cur=con.cursor()\n",
    "    cur.execute(q2)\n",
    "    print(\"An Empty Table - INVOICE has been created in Database - GSTBILLING\")\n",
    "    cur.close()"
   ]
  },
  {
   "cell_type": "code",
   "execution_count": 7,
   "id": "bc904b92-236b-4842-8836-0646fd988c13",
   "metadata": {
    "tags": []
   },
   "outputs": [
    {
     "name": "stdout",
     "output_type": "stream",
     "text": [
      "An Empty Table - PRODUCTS has been created in Database - GSTBILLING\n",
      "An Empty Table - INVOICE has been created in Database - GSTBILLING\n"
     ]
    }
   ],
   "source": [
    "create_table()"
   ]
  },
  {
   "cell_type": "code",
   "execution_count": 8,
   "id": "41a8c535-c413-4cd3-a7e9-a4e2db2723e1",
   "metadata": {
    "tags": []
   },
   "outputs": [],
   "source": [
    "# Describe Products table\n",
    "def describe_table():\n",
    "    cur=con.cursor()\n",
    "    if con.is_connected():\n",
    "        print('Connected to Database : GST BILLING')\n",
    "        tables = [\"invoice\", \"products\"]\n",
    "        cur = con.cursor()\n",
    "        for table in tables:\n",
    "            describe_query = f\"DESCRIBE {table}\"\n",
    "            cur.execute(describe_query)\n",
    "            tableDescp = cur.fetchall()\n",
    "            print(f\"Table `{table}` Description printed (if it existed).\")\n",
    "            for column in tableDescp:\n",
    "                print(column)\n",
    "            print('====================')\n",
    "        cur.close()\n",
    "    else:\n",
    "        print('No connection to database/ mysql')"
   ]
  },
  {
   "cell_type": "code",
   "execution_count": 9,
   "id": "20d3fa59-340d-4c30-b7c9-57435cf82def",
   "metadata": {
    "tags": []
   },
   "outputs": [
    {
     "name": "stdout",
     "output_type": "stream",
     "text": [
      "Connected to Database : GST BILLING\n",
      "Table `invoice` Description printed (if it existed).\n",
      "('INVOICE_ID', 'int', 'NO', 'PRI', None, 'auto_increment')\n",
      "('created_at', 'timestamp', 'YES', '', 'CURRENT_TIMESTAMP', 'DEFAULT_GENERATED')\n",
      "('SNO', 'int', 'YES', '', None, '')\n",
      "('QTY', 'int', 'NO', '', None, '')\n",
      "====================\n",
      "Table `products` Description printed (if it existed).\n",
      "('SNO', 'int', 'NO', 'PRI', None, '')\n",
      "('PNAME', 'varchar(255)', 'NO', '', None, '')\n",
      "('PRANK', 'char(5)', 'NO', '', None, '')\n",
      "('COY', 'varchar(255)', 'NO', '', None, '')\n",
      "('DOM', 'date', 'NO', '', None, '')\n",
      "('PRICE', 'decimal(10,2)', 'YES', '', None, '')\n",
      "('GST', 'decimal(5,2)', 'NO', '', None, '')\n",
      "('FPRICE', 'decimal(10,2)', 'NO', '', None, '')\n",
      "====================\n"
     ]
    }
   ],
   "source": [
    "describe_table()"
   ]
  },
  {
   "cell_type": "code",
   "execution_count": null,
   "id": "88cefbb6-6f49-4b33-9d5d-3704530830d9",
   "metadata": {},
   "outputs": [],
   "source": []
  }
 ],
 "metadata": {
  "kernelspec": {
   "display_name": "Python 3 (ipykernel)",
   "language": "python",
   "name": "python3"
  },
  "language_info": {
   "codemirror_mode": {
    "name": "ipython",
    "version": 3
   },
   "file_extension": ".py",
   "mimetype": "text/x-python",
   "name": "python",
   "nbconvert_exporter": "python",
   "pygments_lexer": "ipython3",
   "version": "3.11.5"
  }
 },
 "nbformat": 4,
 "nbformat_minor": 5
}
