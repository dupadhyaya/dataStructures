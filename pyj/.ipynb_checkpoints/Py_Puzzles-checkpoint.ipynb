{
 "cells": [
  {
   "cell_type": "markdown",
   "id": "291f0b99-a505-4128-a54d-605ff94d3bb8",
   "metadata": {},
   "source": [
    "# Python Puzzles"
   ]
  },
  {
   "cell_type": "code",
   "execution_count": null,
   "id": "efb262dd-dd0c-432c-93be-f43f57cc953d",
   "metadata": {},
   "outputs": [],
   "source": []
  },
  {
   "cell_type": "code",
   "execution_count": 1,
   "id": "baa1d5e7-6b56-4c8d-8680-c91b218fc318",
   "metadata": {},
   "outputs": [],
   "source": [
    "# Keywords"
   ]
  },
  {
   "cell_type": "code",
   "execution_count": 2,
   "id": "3a5f82e7-73ed-4f2b-825a-44f9441808db",
   "metadata": {},
   "outputs": [
    {
     "data": {
      "text/plain": [
       "True"
      ]
     },
     "execution_count": 2,
     "metadata": {},
     "output_type": "execute_result"
    }
   ],
   "source": [
    "False == (1 > 2)"
   ]
  },
  {
   "cell_type": "code",
   "execution_count": 3,
   "id": "7086adc5-98e8-42da-bf97-eca1e9ac9592",
   "metadata": {},
   "outputs": [
    {
     "data": {
      "text/plain": [
       "True"
      ]
     },
     "execution_count": 3,
     "metadata": {},
     "output_type": "execute_result"
    }
   ],
   "source": [
    "True == (2 >1)"
   ]
  },
  {
   "cell_type": "code",
   "execution_count": 4,
   "id": "1dca2084-daac-4130-b53a-37125a4e4912",
   "metadata": {},
   "outputs": [],
   "source": [
    "x, y = True, False"
   ]
  },
  {
   "cell_type": "code",
   "execution_count": 5,
   "id": "40273567-7c23-4b6b-b042-b22b7c81c66a",
   "metadata": {},
   "outputs": [
    {
     "data": {
      "text/plain": [
       "True"
      ]
     },
     "execution_count": 5,
     "metadata": {},
     "output_type": "execute_result"
    }
   ],
   "source": [
    "(x or y ) == True"
   ]
  },
  {
   "cell_type": "code",
   "execution_count": 6,
   "id": "0b80db94-fc9d-463d-9416-85ba6bf21fd3",
   "metadata": {},
   "outputs": [
    {
     "data": {
      "text/plain": [
       "True"
      ]
     },
     "execution_count": 6,
     "metadata": {},
     "output_type": "execute_result"
    }
   ],
   "source": [
    "(x and y) == False"
   ]
  },
  {
   "cell_type": "code",
   "execution_count": 11,
   "id": "68c9391b-eada-470b-8764-df6c75e12048",
   "metadata": {},
   "outputs": [
    {
     "data": {
      "text/plain": [
       "True"
      ]
     },
     "execution_count": 11,
     "metadata": {},
     "output_type": "execute_result"
    }
   ],
   "source": [
    "(not y) == True"
   ]
  },
  {
   "cell_type": "code",
   "execution_count": 12,
   "id": "48ebe138-3642-4d5a-bc17-a60f968f149a",
   "metadata": {},
   "outputs": [
    {
     "name": "stdout",
     "output_type": "stream",
     "text": [
      "Inside Loop\n",
      "Hello World\n"
     ]
    }
   ],
   "source": [
    "while (True):\n",
    "    print('Inside Loop')\n",
    "    break\n",
    "print('Hello World')"
   ]
  },
  {
   "cell_type": "markdown",
   "id": "42a9e6c1-8c10-461d-8a19-915563c84daf",
   "metadata": {},
   "source": [
    "while (True):\n",
    "    continue\n",
    "    print('43')\n",
    "#dead code"
   ]
  },
  {
   "cell_type": "code",
   "execution_count": 19,
   "id": "02131e95-54d3-4c0b-9737-0ed56820dee6",
   "metadata": {},
   "outputs": [
    {
     "name": "stdin",
     "output_type": "stream",
     "text": [
      "Your value pl : 4\n"
     ]
    },
    {
     "name": "stdout",
     "output_type": "stream",
     "text": [
      "x is > 3\n"
     ]
    }
   ],
   "source": [
    "x = int(input ('Your value pl :'))\n",
    "if (x >3): \n",
    "    print(\"x is > 3\")\n",
    "else :\n",
    "    print(\"x is <= 3\")"
   ]
  },
  {
   "cell_type": "code",
   "execution_count": 23,
   "id": "c60ce7b8-cf7d-43b6-80a4-0a8d3c6fda23",
   "metadata": {},
   "outputs": [
    {
     "name": "stdin",
     "output_type": "stream",
     "text": [
      "X value 5\n"
     ]
    },
    {
     "name": "stdout",
     "output_type": "stream",
     "text": [
      "x > 3\n"
     ]
    }
   ],
   "source": [
    "x  = int(input ('X value'))\n",
    "if (x > 3) :\n",
    "    print('x > 3')\n",
    "elif x == 3: \n",
    "    print('x == 3')\n",
    "else :\n",
    "    print('x > 3')"
   ]
  },
  {
   "cell_type": "code",
   "execution_count": 24,
   "id": "2635635b-e9f6-46ca-88e0-08467f7f007c",
   "metadata": {},
   "outputs": [
    {
     "name": "stdout",
     "output_type": "stream",
     "text": [
      "0\n",
      "1\n",
      "2\n"
     ]
    }
   ],
   "source": [
    "j = 0\n",
    "while (j < 3):\n",
    "    print(j)\n",
    "    j = j + 1"
   ]
  },
  {
   "cell_type": "code",
   "execution_count": 25,
   "id": "51956852-cb81-4ee5-9ff7-d238bddf354f",
   "metadata": {},
   "outputs": [
    {
     "data": {
      "text/plain": [
       "True"
      ]
     },
     "execution_count": 25,
     "metadata": {},
     "output_type": "execute_result"
    }
   ],
   "source": [
    "42 in [4,5, 6, 42]"
   ]
  },
  {
   "cell_type": "code",
   "execution_count": 26,
   "id": "991e96c3-b570-413a-8742-0b0341d7c705",
   "metadata": {},
   "outputs": [
    {
     "data": {
      "text/plain": [
       "True"
      ]
     },
     "execution_count": 26,
     "metadata": {},
     "output_type": "execute_result"
    }
   ],
   "source": [
    "y = x = 3\n",
    "x is y"
   ]
  },
  {
   "cell_type": "code",
   "execution_count": 30,
   "id": "1152ddbc-09b8-4056-a92b-2f2b1d72ee57",
   "metadata": {},
   "outputs": [
    {
     "data": {
      "text/plain": [
       "True"
      ]
     },
     "execution_count": 30,
     "metadata": {},
     "output_type": "execute_result"
    }
   ],
   "source": [
    "def f():\n",
    "    x = 2\n",
    "f() is None"
   ]
  },
  {
   "cell_type": "code",
   "execution_count": 33,
   "id": "510bf435-d57a-49d1-88f1-081232ec7e0c",
   "metadata": {},
   "outputs": [
    {
     "data": {
      "text/plain": [
       "13"
      ]
     },
     "execution_count": 33,
     "metadata": {},
     "output_type": "execute_result"
    }
   ],
   "source": [
    "# lambda\n",
    "(lambda x : x + 3 )(10)"
   ]
  },
  {
   "cell_type": "code",
   "execution_count": 34,
   "id": "d29af675-43e4-43b7-8761-a5ef9499087e",
   "metadata": {},
   "outputs": [
    {
     "data": {
      "text/plain": [
       "11"
      ]
     },
     "execution_count": 34,
     "metadata": {},
     "output_type": "execute_result"
    }
   ],
   "source": [
    "def incrementor(x):\n",
    "    return x + 1\n",
    "incrementor(10)"
   ]
  },
  {
   "cell_type": "code",
   "execution_count": null,
   "id": "f5ae0f77-eadc-428b-ab81-ea9ba088558f",
   "metadata": {},
   "outputs": [],
   "source": [
    "# Data Types"
   ]
  },
  {
   "cell_type": "code",
   "execution_count": 35,
   "id": "28e0d319-f7db-41fa-b999-b9a1d8945596",
   "metadata": {},
   "outputs": [
    {
     "name": "stdout",
     "output_type": "stream",
     "text": [
      "True\n"
     ]
    }
   ],
   "source": [
    "x, y = True, False\n",
    "print(x and not y)  # True and True -> True"
   ]
  },
  {
   "cell_type": "code",
   "execution_count": 36,
   "id": "f9b74bed-a9f3-4dc1-825b-d0445017d0f7",
   "metadata": {},
   "outputs": [
    {
     "name": "stdout",
     "output_type": "stream",
     "text": [
      "True\n"
     ]
    }
   ],
   "source": [
    "print(not x and y or x) # False and False or True"
   ]
  },
  {
   "cell_type": "code",
   "execution_count": null,
   "id": "ac3d30f7-c22f-4567-89eb-f95c511ceba5",
   "metadata": {},
   "outputs": [],
   "source": []
  },
  {
   "cell_type": "code",
   "execution_count": null,
   "id": "d46fee04-ec58-4763-bfe4-950252681b92",
   "metadata": {},
   "outputs": [],
   "source": []
  },
  {
   "cell_type": "code",
   "execution_count": null,
   "id": "50b49d1b-9e20-4426-871b-a05ca22154c7",
   "metadata": {},
   "outputs": [],
   "source": []
  },
  {
   "cell_type": "markdown",
   "id": "fc05435b-d49c-4022-bdd9-5fc7ac40a59a",
   "metadata": {},
   "source": [
    "## Functions\n",
    "-  map(func, iter)"
   ]
  },
  {
   "cell_type": "code",
   "execution_count": 38,
   "id": "846bf846-faf5-47b7-96f9-d2763650e269",
   "metadata": {},
   "outputs": [
    {
     "data": {
      "text/plain": [
       "(<function __main__.<lambda>(x)>, ['red', 'green', 'blue'])"
      ]
     },
     "execution_count": 38,
     "metadata": {},
     "output_type": "execute_result"
    }
   ],
   "source": [
    "(lambda x: x[0], ['red', 'green','blue'])"
   ]
  },
  {
   "cell_type": "code",
   "execution_count": 39,
   "id": "b5937e43-1275-470e-8a95-bf2db6ed6cac",
   "metadata": {},
   "outputs": [
    {
     "data": {
      "text/plain": [
       "<map at 0x1496657b0>"
      ]
     },
     "execution_count": 39,
     "metadata": {},
     "output_type": "execute_result"
    }
   ],
   "source": [
    "map(lambda x: x[0], ['red', 'green','blue'])"
   ]
  },
  {
   "cell_type": "code",
   "execution_count": 41,
   "id": "05e8a284-4a67-48b2-aee3-8a82939307b4",
   "metadata": {},
   "outputs": [
    {
     "data": {
      "text/plain": [
       "['r', 'g', 'b']"
      ]
     },
     "execution_count": 41,
     "metadata": {},
     "output_type": "execute_result"
    }
   ],
   "source": [
    "list(map(lambda x: x[0], ['red', 'green','blue']))\n",
    "#execute func on all elements of the iterable"
   ]
  },
  {
   "cell_type": "code",
   "execution_count": 43,
   "id": "d8fbabaf-c338-49aa-ad55-79857e3c9e7c",
   "metadata": {},
   "outputs": [
    {
     "data": {
      "text/plain": [
       "['0 apples', '2 oranges', '2 bananas']"
      ]
     },
     "execution_count": 43,
     "metadata": {},
     "output_type": "execute_result"
    }
   ],
   "source": [
    "#map(func, i1, ..., ik)\n",
    "#Executes the function on all k elements of the k iterables. Example:\n",
    "list(map( lambda x, y: str(x) + ' ' + y + 's' , [ 0 , 2 , 2 ],[ 'apple' , 'orange' , 'banana' ]))\n",
    "# Result: ['0 apples', '2 oranges', '2 bananas']"
   ]
  },
  {
   "cell_type": "code",
   "execution_count": 44,
   "id": "d38c63b5-b5f7-4e05-a809-cb20b789f3a7",
   "metadata": {},
   "outputs": [
    {
     "data": {
      "text/plain": [
       "'Alice marries Bob'"
      ]
     },
     "execution_count": 44,
     "metadata": {},
     "output_type": "execute_result"
    }
   ],
   "source": [
    "#string.join(iter)\n",
    "#Concatenates iterable elements separated by string . Example:\n",
    "' marries ' .join(list([ 'Alice' , 'Bob' ]))\n",
    "# Result: 'Alice marries Bob'"
   ]
  },
  {
   "cell_type": "code",
   "execution_count": 46,
   "id": "f3548a1e-e76b-422f-b0db-bb3768220217",
   "metadata": {},
   "outputs": [
    {
     "data": {
      "text/plain": [
       "[17, 18]"
      ]
     },
     "execution_count": 46,
     "metadata": {},
     "output_type": "execute_result"
    }
   ],
   "source": [
    "#filter(func, iterable)\n",
    "#Filters out elements in iterable for which function returns False (or 0). Example:\n",
    "list(filter( lambda x: True if x >= 17 else False , [ 1 , 15 , 17 ,18 ])) # Result: [18]"
   ]
  },
  {
   "cell_type": "code",
   "execution_count": 47,
   "id": "746a34fa-4c91-4b7e-8ade-a4f4abf3df2e",
   "metadata": {},
   "outputs": [
    {
     "name": "stdout",
     "output_type": "stream",
     "text": [
      "42\n"
     ]
    }
   ],
   "source": [
    "#string.strip()\n",
    "#Removes leading and trailing whitespaces of string. Example:\n",
    "print( \" \\n \\t 42 \\t \" .strip()) # Result: 42"
   ]
  },
  {
   "cell_type": "code",
   "execution_count": 48,
   "id": "dd3662fd-d547-4437-b27f-11716d36b61f",
   "metadata": {},
   "outputs": [
    {
     "data": {
      "text/plain": [
       "[42, 2, 3, 5, 8]"
      ]
     },
     "execution_count": 48,
     "metadata": {},
     "output_type": "execute_result"
    }
   ],
   "source": [
    "#sorted(iter, key=key)\n",
    "#Sorts according to the key function in ascending order. Example:\n",
    "sorted([ 8 , 3 , 2 , 42 , 5 ], key= lambda x: 0 if x== 42 else x)\n",
    "# [42, 2, 3, 5, 8]\n",
    "#help(func)"
   ]
  },
  {
   "cell_type": "code",
   "execution_count": 49,
   "id": "9fb20581-ff77-47c6-b2c1-24ad71fc02aa",
   "metadata": {},
   "outputs": [
    {
     "data": {
      "text/plain": [
       "[2, 3, 5, 8, 42]"
      ]
     },
     "execution_count": 49,
     "metadata": {},
     "output_type": "execute_result"
    }
   ],
   "source": [
    "sorted([ 8, 3, 2, 42,5])"
   ]
  },
  {
   "cell_type": "code",
   "execution_count": 50,
   "id": "5ef47be6-86db-4d61-be39-72b66fad35f9",
   "metadata": {},
   "outputs": [
    {
     "data": {
      "text/plain": [
       "[0, 2, 3, 5, 8]"
      ]
     },
     "execution_count": 50,
     "metadata": {},
     "output_type": "execute_result"
    }
   ],
   "source": [
    "sorted([ 8, 3, 2, 0,5])"
   ]
  },
  {
   "cell_type": "code",
   "execution_count": 53,
   "id": "fb31eb84-a5e9-4261-9d0a-4014148e8f7b",
   "metadata": {},
   "outputs": [
    {
     "data": {
      "text/plain": [
       "'DHIRAJ'"
      ]
     },
     "execution_count": 53,
     "metadata": {},
     "output_type": "execute_result"
    }
   ],
   "source": [
    "str ='Dhiraj'\n",
    "str.upper() # Result: '... to uppercase.'"
   ]
  },
  {
   "cell_type": "code",
   "execution_count": 55,
   "id": "ded9669d-2f19-4b3c-beef-363278ed350c",
   "metadata": {},
   "outputs": [
    {
     "data": {
      "text/plain": [
       "[('Alice', 'Bob'), ('Anna', 'Jon'), ('Dhiraj', 'Upadhyaya')]"
      ]
     },
     "execution_count": 55,
     "metadata": {},
     "output_type": "execute_result"
    }
   ],
   "source": [
    "#zip(i1, i2, ...)\n",
    "#Groups the i-th elements of iterators i1, i2, … together. Example:\n",
    "list(zip([ 'Alice' , 'Anna' , 'Dhiraj'], [ 'Bob' , 'Jon' , 'Upadhyaya', 'Frank' ]))\n",
    "# Result: [('Alice', 'Bob'), ('Anna', 'Jon')]"
   ]
  },
  {
   "cell_type": "code",
   "execution_count": 60,
   "id": "73c3a759-308b-47a8-b50d-3504a485a6b4",
   "metadata": {},
   "outputs": [
    {
     "data": {
      "text/plain": [
       "[('Alice', 'Anna'), ('Bob', 'Jon'), ('Dhiraj', 'Upadhyaya')]"
      ]
     },
     "execution_count": 60,
     "metadata": {},
     "output_type": "execute_result"
    }
   ],
   "source": [
    "#Unzip\n",
    "#Equal to: 1) unpack the zipped list, 2) zip the result. Example:\n",
    "list(zip(* [( 'Alice' , 'Bob' , 'Dhiraj'), ( 'Anna' , 'Jon' , 'Upadhyaya')]))\n",
    "# Result: [('Alice', 'Anna'), ('Bob', 'Jon')]"
   ]
  },
  {
   "cell_type": "code",
   "execution_count": 61,
   "id": "cfd19ad8-9242-417c-9eba-82c84abc44bf",
   "metadata": {},
   "outputs": [
    {
     "data": {
      "text/plain": [
       "[(0, 'Alice'), (1, 'Bob'), (2, 'Jon')]"
      ]
     },
     "execution_count": 61,
     "metadata": {},
     "output_type": "execute_result"
    }
   ],
   "source": [
    "#enumerate(iter)\n",
    "#Assigns a counter value to each element of the iterable. Example:\n",
    "list(enumerate([ 'Alice' , 'Bob' , 'Jon' ]))\n",
    "# Result: [(0, 'Alice'), (1, 'Bob'), (2, 'Jon')]"
   ]
  },
  {
   "cell_type": "code",
   "execution_count": null,
   "id": "77fdb0f1-d305-4e81-8ed5-795abdc35b4d",
   "metadata": {},
   "outputs": [],
   "source": []
  }
 ],
 "metadata": {
  "kernelspec": {
   "display_name": "Python 3 (ipykernel)",
   "language": "python",
   "name": "python3"
  },
  "language_info": {
   "codemirror_mode": {
    "name": "ipython",
    "version": 3
   },
   "file_extension": ".py",
   "mimetype": "text/x-python",
   "name": "python",
   "nbconvert_exporter": "python",
   "pygments_lexer": "ipython3",
   "version": "3.11.5"
  }
 },
 "nbformat": 4,
 "nbformat_minor": 5
}
