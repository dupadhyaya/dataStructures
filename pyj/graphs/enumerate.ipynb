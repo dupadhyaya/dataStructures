{
 "cells": [
  {
   "cell_type": "markdown",
   "id": "b53c3e44-5a75-43f7-8216-9d9014890161",
   "metadata": {},
   "source": [
    "# enumerate/zip\n"
   ]
  },
  {
   "cell_type": "code",
   "execution_count": 1,
   "id": "bca58445-b3e6-4e6d-b2bd-70cdc4c71136",
   "metadata": {},
   "outputs": [],
   "source": [
    "import numpy as np\n",
    "import pandas as pd\n",
    "import matplotlib.pyplot as plt\n",
    "from pydataset import data"
   ]
  },
  {
   "cell_type": "code",
   "execution_count": 3,
   "id": "25df2493-4aab-41e7-bb72-dc7839cf86a9",
   "metadata": {},
   "outputs": [
    {
     "data": {
      "text/html": [
       "<div>\n",
       "<style scoped>\n",
       "    .dataframe tbody tr th:only-of-type {\n",
       "        vertical-align: middle;\n",
       "    }\n",
       "\n",
       "    .dataframe tbody tr th {\n",
       "        vertical-align: top;\n",
       "    }\n",
       "\n",
       "    .dataframe thead th {\n",
       "        text-align: right;\n",
       "    }\n",
       "</style>\n",
       "<table border=\"1\" class=\"dataframe\">\n",
       "  <thead>\n",
       "    <tr style=\"text-align: right;\">\n",
       "      <th></th>\n",
       "      <th>mpg</th>\n",
       "      <th>cyl</th>\n",
       "      <th>disp</th>\n",
       "      <th>hp</th>\n",
       "      <th>drat</th>\n",
       "      <th>wt</th>\n",
       "      <th>qsec</th>\n",
       "      <th>vs</th>\n",
       "      <th>am</th>\n",
       "      <th>gear</th>\n",
       "      <th>carb</th>\n",
       "    </tr>\n",
       "  </thead>\n",
       "  <tbody>\n",
       "    <tr>\n",
       "      <th>Lotus Europa</th>\n",
       "      <td>30.4</td>\n",
       "      <td>4</td>\n",
       "      <td>95.1</td>\n",
       "      <td>113</td>\n",
       "      <td>3.77</td>\n",
       "      <td>1.513</td>\n",
       "      <td>16.90</td>\n",
       "      <td>1</td>\n",
       "      <td>1</td>\n",
       "      <td>5</td>\n",
       "      <td>2</td>\n",
       "    </tr>\n",
       "    <tr>\n",
       "      <th>Honda Civic</th>\n",
       "      <td>30.4</td>\n",
       "      <td>4</td>\n",
       "      <td>75.7</td>\n",
       "      <td>52</td>\n",
       "      <td>4.93</td>\n",
       "      <td>1.615</td>\n",
       "      <td>18.52</td>\n",
       "      <td>1</td>\n",
       "      <td>1</td>\n",
       "      <td>4</td>\n",
       "      <td>2</td>\n",
       "    </tr>\n",
       "    <tr>\n",
       "      <th>Toyota Corolla</th>\n",
       "      <td>33.9</td>\n",
       "      <td>4</td>\n",
       "      <td>71.1</td>\n",
       "      <td>65</td>\n",
       "      <td>4.22</td>\n",
       "      <td>1.835</td>\n",
       "      <td>19.90</td>\n",
       "      <td>1</td>\n",
       "      <td>1</td>\n",
       "      <td>4</td>\n",
       "      <td>1</td>\n",
       "    </tr>\n",
       "    <tr>\n",
       "      <th>Fiat X1-9</th>\n",
       "      <td>27.3</td>\n",
       "      <td>4</td>\n",
       "      <td>79.0</td>\n",
       "      <td>66</td>\n",
       "      <td>4.08</td>\n",
       "      <td>1.935</td>\n",
       "      <td>18.90</td>\n",
       "      <td>1</td>\n",
       "      <td>1</td>\n",
       "      <td>4</td>\n",
       "      <td>1</td>\n",
       "    </tr>\n",
       "    <tr>\n",
       "      <th>Porsche 914-2</th>\n",
       "      <td>26.0</td>\n",
       "      <td>4</td>\n",
       "      <td>120.3</td>\n",
       "      <td>91</td>\n",
       "      <td>4.43</td>\n",
       "      <td>2.140</td>\n",
       "      <td>16.70</td>\n",
       "      <td>0</td>\n",
       "      <td>1</td>\n",
       "      <td>5</td>\n",
       "      <td>2</td>\n",
       "    </tr>\n",
       "  </tbody>\n",
       "</table>\n",
       "</div>"
      ],
      "text/plain": [
       "                 mpg  cyl   disp   hp  drat     wt   qsec  vs  am  gear  carb\n",
       "Lotus Europa    30.4    4   95.1  113  3.77  1.513  16.90   1   1     5     2\n",
       "Honda Civic     30.4    4   75.7   52  4.93  1.615  18.52   1   1     4     2\n",
       "Toyota Corolla  33.9    4   71.1   65  4.22  1.835  19.90   1   1     4     1\n",
       "Fiat X1-9       27.3    4   79.0   66  4.08  1.935  18.90   1   1     4     1\n",
       "Porsche 914-2   26.0    4  120.3   91  4.43  2.140  16.70   0   1     5     2"
      ]
     },
     "execution_count": 3,
     "metadata": {},
     "output_type": "execute_result"
    }
   ],
   "source": [
    "mtcars = data('mtcars')\n",
    "mtcars = mtcars.sort_values(by='wt')\n",
    "mtcars.head()"
   ]
  },
  {
   "cell_type": "code",
   "execution_count": 9,
   "id": "151ca0a5-b49b-478a-90fe-9aebdfa291c6",
   "metadata": {},
   "outputs": [
    {
     "name": "stdout",
     "output_type": "stream",
     "text": [
      "[3 4 5] [4 6 8]\n"
     ]
    }
   ],
   "source": [
    "gears = np.unique(mtcars.gear)\n",
    "cyls = np.unique(mtcars.cyl)\n",
    "print(gears, cyls)"
   ]
  },
  {
   "cell_type": "code",
   "execution_count": 8,
   "id": "3723cd32-e150-405e-8705-8917ba9234cb",
   "metadata": {},
   "outputs": [
    {
     "name": "stdout",
     "output_type": "stream",
     "text": [
      "0 3\n",
      "1 4\n",
      "2 5\n"
     ]
    }
   ],
   "source": [
    "for i, j in enumerate(gears):\n",
    "    print(i, j)"
   ]
  },
  {
   "cell_type": "code",
   "execution_count": 10,
   "id": "ab2e8597-7c06-44ac-a14a-63fa75309c11",
   "metadata": {},
   "outputs": [
    {
     "name": "stdout",
     "output_type": "stream",
     "text": [
      "3 4\n",
      "4 6\n",
      "5 8\n"
     ]
    }
   ],
   "source": [
    "for i, j in zip(gears, cyls):\n",
    "    print(i, j)"
   ]
  },
  {
   "cell_type": "code",
   "execution_count": 11,
   "id": "fcdbe0f1-d839-459a-becf-e33ed67c50cd",
   "metadata": {},
   "outputs": [
    {
     "data": {
      "text/plain": [
       "array([[ 30.4  ,   4.   ,  95.1  , 113.   ,   3.77 ,   1.513,  16.9  ,\n",
       "          1.   ,   1.   ,   5.   ,   2.   ],\n",
       "       [ 30.4  ,   4.   ,  75.7  ,  52.   ,   4.93 ,   1.615,  18.52 ,\n",
       "          1.   ,   1.   ,   4.   ,   2.   ],\n",
       "       [ 33.9  ,   4.   ,  71.1  ,  65.   ,   4.22 ,   1.835,  19.9  ,\n",
       "          1.   ,   1.   ,   4.   ,   1.   ],\n",
       "       [ 27.3  ,   4.   ,  79.   ,  66.   ,   4.08 ,   1.935,  18.9  ,\n",
       "          1.   ,   1.   ,   4.   ,   1.   ],\n",
       "       [ 26.   ,   4.   , 120.3  ,  91.   ,   4.43 ,   2.14 ,  16.7  ,\n",
       "          0.   ,   1.   ,   5.   ,   2.   ],\n",
       "       [ 32.4  ,   4.   ,  78.7  ,  66.   ,   4.08 ,   2.2  ,  19.47 ,\n",
       "          1.   ,   1.   ,   4.   ,   1.   ],\n",
       "       [ 22.8  ,   4.   , 108.   ,  93.   ,   3.85 ,   2.32 ,  18.61 ,\n",
       "          1.   ,   1.   ,   4.   ,   1.   ],\n",
       "       [ 21.5  ,   4.   , 120.1  ,  97.   ,   3.7  ,   2.465,  20.01 ,\n",
       "          1.   ,   0.   ,   3.   ,   1.   ],\n",
       "       [ 21.   ,   6.   , 160.   , 110.   ,   3.9  ,   2.62 ,  16.46 ,\n",
       "          0.   ,   1.   ,   4.   ,   4.   ],\n",
       "       [ 19.7  ,   6.   , 145.   , 175.   ,   3.62 ,   2.77 ,  15.5  ,\n",
       "          0.   ,   1.   ,   5.   ,   6.   ],\n",
       "       [ 21.4  ,   4.   , 121.   , 109.   ,   4.11 ,   2.78 ,  18.6  ,\n",
       "          1.   ,   1.   ,   4.   ,   2.   ],\n",
       "       [ 21.   ,   6.   , 160.   , 110.   ,   3.9  ,   2.875,  17.02 ,\n",
       "          0.   ,   1.   ,   4.   ,   4.   ],\n",
       "       [ 22.8  ,   4.   , 140.8  ,  95.   ,   3.92 ,   3.15 ,  22.9  ,\n",
       "          1.   ,   0.   ,   4.   ,   2.   ],\n",
       "       [ 15.8  ,   8.   , 351.   , 264.   ,   4.22 ,   3.17 ,  14.5  ,\n",
       "          0.   ,   1.   ,   5.   ,   4.   ],\n",
       "       [ 24.4  ,   4.   , 146.7  ,  62.   ,   3.69 ,   3.19 ,  20.   ,\n",
       "          1.   ,   0.   ,   4.   ,   2.   ],\n",
       "       [ 21.4  ,   6.   , 258.   , 110.   ,   3.08 ,   3.215,  19.44 ,\n",
       "          1.   ,   0.   ,   3.   ,   1.   ],\n",
       "       [ 15.2  ,   8.   , 304.   , 150.   ,   3.15 ,   3.435,  17.3  ,\n",
       "          0.   ,   0.   ,   3.   ,   2.   ],\n",
       "       [ 19.2  ,   6.   , 167.6  , 123.   ,   3.92 ,   3.44 ,  18.3  ,\n",
       "          1.   ,   0.   ,   4.   ,   4.   ],\n",
       "       [ 18.7  ,   8.   , 360.   , 175.   ,   3.15 ,   3.44 ,  17.02 ,\n",
       "          0.   ,   0.   ,   3.   ,   2.   ],\n",
       "       [ 17.8  ,   6.   , 167.6  , 123.   ,   3.92 ,   3.44 ,  18.9  ,\n",
       "          1.   ,   0.   ,   4.   ,   4.   ],\n",
       "       [ 18.1  ,   6.   , 225.   , 105.   ,   2.76 ,   3.46 ,  20.22 ,\n",
       "          1.   ,   0.   ,   3.   ,   1.   ],\n",
       "       [ 15.5  ,   8.   , 318.   , 150.   ,   2.76 ,   3.52 ,  16.87 ,\n",
       "          0.   ,   0.   ,   3.   ,   2.   ],\n",
       "       [ 14.3  ,   8.   , 360.   , 245.   ,   3.21 ,   3.57 ,  15.84 ,\n",
       "          0.   ,   0.   ,   3.   ,   4.   ],\n",
       "       [ 15.   ,   8.   , 301.   , 335.   ,   3.54 ,   3.57 ,  14.6  ,\n",
       "          0.   ,   1.   ,   5.   ,   8.   ],\n",
       "       [ 17.3  ,   8.   , 275.8  , 180.   ,   3.07 ,   3.73 ,  17.6  ,\n",
       "          0.   ,   0.   ,   3.   ,   3.   ],\n",
       "       [ 15.2  ,   8.   , 275.8  , 180.   ,   3.07 ,   3.78 ,  18.   ,\n",
       "          0.   ,   0.   ,   3.   ,   3.   ],\n",
       "       [ 13.3  ,   8.   , 350.   , 245.   ,   3.73 ,   3.84 ,  15.41 ,\n",
       "          0.   ,   0.   ,   3.   ,   4.   ],\n",
       "       [ 19.2  ,   8.   , 400.   , 175.   ,   3.08 ,   3.845,  17.05 ,\n",
       "          0.   ,   0.   ,   3.   ,   2.   ],\n",
       "       [ 16.4  ,   8.   , 275.8  , 180.   ,   3.07 ,   4.07 ,  17.4  ,\n",
       "          0.   ,   0.   ,   3.   ,   3.   ],\n",
       "       [ 10.4  ,   8.   , 472.   , 205.   ,   2.93 ,   5.25 ,  17.98 ,\n",
       "          0.   ,   0.   ,   3.   ,   4.   ],\n",
       "       [ 14.7  ,   8.   , 440.   , 230.   ,   3.23 ,   5.345,  17.42 ,\n",
       "          0.   ,   0.   ,   3.   ,   4.   ],\n",
       "       [ 10.4  ,   8.   , 460.   , 215.   ,   3.   ,   5.424,  17.82 ,\n",
       "          0.   ,   0.   ,   3.   ,   4.   ]])"
      ]
     },
     "execution_count": 11,
     "metadata": {},
     "output_type": "execute_result"
    }
   ],
   "source": [
    "mtcars.values"
   ]
  },
  {
   "cell_type": "code",
   "execution_count": 20,
   "id": "19e7bfa9-6179-44a6-b3b2-f9ad26941cba",
   "metadata": {},
   "outputs": [
    {
     "name": "stdout",
     "output_type": "stream",
     "text": [
      "Pandas(Index='Lotus Europa', mpg=30.4, cyl=4, disp=95.1, hp=113, drat=3.77, wt=1.513, qsec=16.9, vs=1, am=1, gear=5, carb=2)\n",
      "Pandas(Index='Honda Civic', mpg=30.4, cyl=4, disp=75.7, hp=52, drat=4.93, wt=1.615, qsec=18.52, vs=1, am=1, gear=4, carb=2)\n",
      "Pandas(Index='Toyota Corolla', mpg=33.9, cyl=4, disp=71.1, hp=65, drat=4.22, wt=1.835, qsec=19.9, vs=1, am=1, gear=4, carb=1)\n",
      "Pandas(Index='Fiat X1-9', mpg=27.3, cyl=4, disp=79.0, hp=66, drat=4.08, wt=1.935, qsec=18.9, vs=1, am=1, gear=4, carb=1)\n",
      "Pandas(Index='Porsche 914-2', mpg=26.0, cyl=4, disp=120.3, hp=91, drat=4.43, wt=2.14, qsec=16.7, vs=0, am=1, gear=5, carb=2)\n"
     ]
    }
   ],
   "source": [
    "#print each row\n",
    "for row in mtcars.iloc[0:5].itertuples():\n",
    "    print(row)"
   ]
  },
  {
   "cell_type": "code",
   "execution_count": 26,
   "id": "5c8a4685-5081-4963-b71c-a4a5c55ac536",
   "metadata": {},
   "outputs": [
    {
     "name": "stdout",
     "output_type": "stream",
     "text": [
      "Lotus Europa 1.513 30.4\n",
      "Honda Civic 1.615 30.4\n",
      "Toyota Corolla 1.835 33.9\n",
      "Fiat X1-9 1.935 27.3\n",
      "Porsche 914-2 2.14 26.0\n"
     ]
    }
   ],
   "source": [
    "for index, row in mtcars.iloc[0:5].iterrows():\n",
    "    print(index, row['wt'], row['mpg'])"
   ]
  },
  {
   "cell_type": "code",
   "execution_count": null,
   "id": "a7bbcee2-5b87-4b75-a713-4edc37a9cfe6",
   "metadata": {},
   "outputs": [],
   "source": []
  }
 ],
 "metadata": {
  "kernelspec": {
   "display_name": "Python 3 (ipykernel)",
   "language": "python",
   "name": "python3"
  },
  "language_info": {
   "codemirror_mode": {
    "name": "ipython",
    "version": 3
   },
   "file_extension": ".py",
   "mimetype": "text/x-python",
   "name": "python",
   "nbconvert_exporter": "python",
   "pygments_lexer": "ipython3",
   "version": "3.11.5"
  }
 },
 "nbformat": 4,
 "nbformat_minor": 5
}
