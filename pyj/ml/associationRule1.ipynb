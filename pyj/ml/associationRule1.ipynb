{
 "cells": [
  {
   "cell_type": "markdown",
   "id": "ba24fa85-b8b8-43e6-9aef-a069a2199acd",
   "metadata": {},
   "source": [
    "# Association Rule Analysis"
   ]
  },
  {
   "cell_type": "code",
   "execution_count": 2,
   "id": "4e846ed5-0f2d-423e-a22e-7d39d92ec7af",
   "metadata": {},
   "outputs": [],
   "source": [
    "import pandas as pd\n",
    "import numpy as np\n",
    "import matplotlib.pyplot as plt"
   ]
  },
  {
   "cell_type": "code",
   "execution_count": 8,
   "id": "a129fcf7-be3d-4330-85c1-c0494d7bdf20",
   "metadata": {},
   "outputs": [],
   "source": [
    "#!pip install mlxtend"
   ]
  },
  {
   "cell_type": "code",
   "execution_count": 9,
   "id": "c3d26263-0c22-49f4-a304-402fd73eb5ff",
   "metadata": {},
   "outputs": [],
   "source": [
    "from mlxtend.frequent_patterns import apriori, association_rules"
   ]
  },
  {
   "cell_type": "code",
   "execution_count": null,
   "id": "17af4b90-84ae-45d7-98eb-4ed275e7bc76",
   "metadata": {},
   "outputs": [],
   "source": []
  }
 ],
 "metadata": {
  "kernelspec": {
   "display_name": "Python 3 (ipykernel)",
   "language": "python",
   "name": "python3"
  },
  "language_info": {
   "codemirror_mode": {
    "name": "ipython",
    "version": 3
   },
   "file_extension": ".py",
   "mimetype": "text/x-python",
   "name": "python",
   "nbconvert_exporter": "python",
   "pygments_lexer": "ipython3",
   "version": "3.11.5"
  }
 },
 "nbformat": 4,
 "nbformat_minor": 5
}
