{
 "cells": [
  {
   "cell_type": "markdown",
   "id": "0ce2ffe0-d8c6-430c-9ff6-405bf537f5df",
   "metadata": {},
   "source": [
    "# JSON in python\n",
    "- https://pandas.pydata.org/pandas-docs/stable/reference/api/pandas.read_json.html"
   ]
  },
  {
   "cell_type": "code",
   "execution_count": 3,
   "id": "1bf808c0-e579-47e3-abdc-187529ef36c0",
   "metadata": {},
   "outputs": [],
   "source": [
    "import pandas as pd"
   ]
  },
  {
   "cell_type": "code",
   "execution_count": 4,
   "id": "db4ea905-1248-4959-bd8e-9f55621efc92",
   "metadata": {},
   "outputs": [
    {
     "data": {
      "text/html": [
       "<div>\n",
       "<style scoped>\n",
       "    .dataframe tbody tr th:only-of-type {\n",
       "        vertical-align: middle;\n",
       "    }\n",
       "\n",
       "    .dataframe tbody tr th {\n",
       "        vertical-align: top;\n",
       "    }\n",
       "\n",
       "    .dataframe thead th {\n",
       "        text-align: right;\n",
       "    }\n",
       "</style>\n",
       "<table border=\"1\" class=\"dataframe\">\n",
       "  <thead>\n",
       "    <tr style=\"text-align: right;\">\n",
       "      <th></th>\n",
       "      <th>col 1</th>\n",
       "      <th>col 2</th>\n",
       "    </tr>\n",
       "  </thead>\n",
       "  <tbody>\n",
       "    <tr>\n",
       "      <th>row 1</th>\n",
       "      <td>a</td>\n",
       "      <td>b</td>\n",
       "    </tr>\n",
       "    <tr>\n",
       "      <th>row 2</th>\n",
       "      <td>c</td>\n",
       "      <td>d</td>\n",
       "    </tr>\n",
       "  </tbody>\n",
       "</table>\n",
       "</div>"
      ],
      "text/plain": [
       "      col 1 col 2\n",
       "row 1     a     b\n",
       "row 2     c     d"
      ]
     },
     "execution_count": 4,
     "metadata": {},
     "output_type": "execute_result"
    }
   ],
   "source": [
    "from io import StringIO\n",
    "df = pd.DataFrame([['a', 'b'], ['c', 'd']],\n",
    "                  index=['row 1', 'row 2'],\n",
    "                  columns=['col 1', 'col 2'])\n",
    "df"
   ]
  },
  {
   "cell_type": "code",
   "execution_count": 7,
   "id": "a4db94e7-8df5-465d-8869-1d285fcf9677",
   "metadata": {},
   "outputs": [
    {
     "data": {
      "text/plain": [
       "'{\"columns\":[\"col 1\",\"col 2\"],\"index\":[\"row 1\",\"row 2\"],\"data\":[[\"a\",\"b\"],[\"c\",\"d\"]]}'"
      ]
     },
     "execution_count": 7,
     "metadata": {},
     "output_type": "execute_result"
    }
   ],
   "source": [
    "df.to_json(orient='split')"
   ]
  },
  {
   "cell_type": "code",
   "execution_count": 8,
   "id": "dc170e84-b728-43c6-b977-232927aaca9c",
   "metadata": {},
   "outputs": [
    {
     "data": {
      "text/html": [
       "<div>\n",
       "<style scoped>\n",
       "    .dataframe tbody tr th:only-of-type {\n",
       "        vertical-align: middle;\n",
       "    }\n",
       "\n",
       "    .dataframe tbody tr th {\n",
       "        vertical-align: top;\n",
       "    }\n",
       "\n",
       "    .dataframe thead th {\n",
       "        text-align: right;\n",
       "    }\n",
       "</style>\n",
       "<table border=\"1\" class=\"dataframe\">\n",
       "  <thead>\n",
       "    <tr style=\"text-align: right;\">\n",
       "      <th></th>\n",
       "      <th>col 1</th>\n",
       "      <th>col 2</th>\n",
       "    </tr>\n",
       "  </thead>\n",
       "  <tbody>\n",
       "    <tr>\n",
       "      <th>row 1</th>\n",
       "      <td>a</td>\n",
       "      <td>b</td>\n",
       "    </tr>\n",
       "    <tr>\n",
       "      <th>row 2</th>\n",
       "      <td>c</td>\n",
       "      <td>d</td>\n",
       "    </tr>\n",
       "  </tbody>\n",
       "</table>\n",
       "</div>"
      ],
      "text/plain": [
       "      col 1 col 2\n",
       "row 1     a     b\n",
       "row 2     c     d"
      ]
     },
     "execution_count": 8,
     "metadata": {},
     "output_type": "execute_result"
    }
   ],
   "source": [
    "pd.read_json(StringIO(_), orient='split')"
   ]
  },
  {
   "cell_type": "code",
   "execution_count": 9,
   "id": "2fd6408b-4e93-46f4-8188-9bf9ed9ef4da",
   "metadata": {},
   "outputs": [
    {
     "data": {
      "text/plain": [
       "'{\"row 1\":{\"col 1\":\"a\",\"col 2\":\"b\"},\"row 2\":{\"col 1\":\"c\",\"col 2\":\"d\"}}'"
      ]
     },
     "execution_count": 9,
     "metadata": {},
     "output_type": "execute_result"
    }
   ],
   "source": [
    "df.to_json(orient='index')"
   ]
  },
  {
   "cell_type": "code",
   "execution_count": 11,
   "id": "04718c72-621f-4d1f-9ca4-97ae1064dee1",
   "metadata": {},
   "outputs": [],
   "source": [
    "from pydataset import data"
   ]
  },
  {
   "cell_type": "code",
   "execution_count": 12,
   "id": "8eac7357-13e6-4b86-8004-8991153cf031",
   "metadata": {},
   "outputs": [
    {
     "data": {
      "text/html": [
       "<div>\n",
       "<style scoped>\n",
       "    .dataframe tbody tr th:only-of-type {\n",
       "        vertical-align: middle;\n",
       "    }\n",
       "\n",
       "    .dataframe tbody tr th {\n",
       "        vertical-align: top;\n",
       "    }\n",
       "\n",
       "    .dataframe thead th {\n",
       "        text-align: right;\n",
       "    }\n",
       "</style>\n",
       "<table border=\"1\" class=\"dataframe\">\n",
       "  <thead>\n",
       "    <tr style=\"text-align: right;\">\n",
       "      <th></th>\n",
       "      <th>mpg</th>\n",
       "      <th>cyl</th>\n",
       "      <th>disp</th>\n",
       "      <th>hp</th>\n",
       "      <th>drat</th>\n",
       "      <th>wt</th>\n",
       "      <th>qsec</th>\n",
       "      <th>vs</th>\n",
       "      <th>am</th>\n",
       "      <th>gear</th>\n",
       "      <th>carb</th>\n",
       "    </tr>\n",
       "  </thead>\n",
       "  <tbody>\n",
       "    <tr>\n",
       "      <th>Mazda RX4</th>\n",
       "      <td>21.0</td>\n",
       "      <td>6</td>\n",
       "      <td>160.0</td>\n",
       "      <td>110</td>\n",
       "      <td>3.90</td>\n",
       "      <td>2.620</td>\n",
       "      <td>16.46</td>\n",
       "      <td>0</td>\n",
       "      <td>1</td>\n",
       "      <td>4</td>\n",
       "      <td>4</td>\n",
       "    </tr>\n",
       "    <tr>\n",
       "      <th>Mazda RX4 Wag</th>\n",
       "      <td>21.0</td>\n",
       "      <td>6</td>\n",
       "      <td>160.0</td>\n",
       "      <td>110</td>\n",
       "      <td>3.90</td>\n",
       "      <td>2.875</td>\n",
       "      <td>17.02</td>\n",
       "      <td>0</td>\n",
       "      <td>1</td>\n",
       "      <td>4</td>\n",
       "      <td>4</td>\n",
       "    </tr>\n",
       "    <tr>\n",
       "      <th>Datsun 710</th>\n",
       "      <td>22.8</td>\n",
       "      <td>4</td>\n",
       "      <td>108.0</td>\n",
       "      <td>93</td>\n",
       "      <td>3.85</td>\n",
       "      <td>2.320</td>\n",
       "      <td>18.61</td>\n",
       "      <td>1</td>\n",
       "      <td>1</td>\n",
       "      <td>4</td>\n",
       "      <td>1</td>\n",
       "    </tr>\n",
       "    <tr>\n",
       "      <th>Hornet 4 Drive</th>\n",
       "      <td>21.4</td>\n",
       "      <td>6</td>\n",
       "      <td>258.0</td>\n",
       "      <td>110</td>\n",
       "      <td>3.08</td>\n",
       "      <td>3.215</td>\n",
       "      <td>19.44</td>\n",
       "      <td>1</td>\n",
       "      <td>0</td>\n",
       "      <td>3</td>\n",
       "      <td>1</td>\n",
       "    </tr>\n",
       "    <tr>\n",
       "      <th>Hornet Sportabout</th>\n",
       "      <td>18.7</td>\n",
       "      <td>8</td>\n",
       "      <td>360.0</td>\n",
       "      <td>175</td>\n",
       "      <td>3.15</td>\n",
       "      <td>3.440</td>\n",
       "      <td>17.02</td>\n",
       "      <td>0</td>\n",
       "      <td>0</td>\n",
       "      <td>3</td>\n",
       "      <td>2</td>\n",
       "    </tr>\n",
       "  </tbody>\n",
       "</table>\n",
       "</div>"
      ],
      "text/plain": [
       "                    mpg  cyl   disp   hp  drat     wt   qsec  vs  am  gear  \\\n",
       "Mazda RX4          21.0    6  160.0  110  3.90  2.620  16.46   0   1     4   \n",
       "Mazda RX4 Wag      21.0    6  160.0  110  3.90  2.875  17.02   0   1     4   \n",
       "Datsun 710         22.8    4  108.0   93  3.85  2.320  18.61   1   1     4   \n",
       "Hornet 4 Drive     21.4    6  258.0  110  3.08  3.215  19.44   1   0     3   \n",
       "Hornet Sportabout  18.7    8  360.0  175  3.15  3.440  17.02   0   0     3   \n",
       "\n",
       "                   carb  \n",
       "Mazda RX4             4  \n",
       "Mazda RX4 Wag         4  \n",
       "Datsun 710            1  \n",
       "Hornet 4 Drive        1  \n",
       "Hornet Sportabout     2  "
      ]
     },
     "execution_count": 12,
     "metadata": {},
     "output_type": "execute_result"
    }
   ],
   "source": [
    "mtcars = data('mtcars')\n",
    "mtcars.head()"
   ]
  },
  {
   "cell_type": "code",
   "execution_count": 16,
   "id": "e397c1a0-1b98-469b-b839-595c2776be66",
   "metadata": {},
   "outputs": [
    {
     "data": {
      "text/plain": [
       "'{\"columns\":[\"mpg\",\"cyl\",\"disp\",\"hp\",\"drat\",\"wt\",\"qsec\",\"vs\",\"am\",\"gear\",\"carb\"],\"index\":[\"Mazda RX4 Wag\",\"Datsun 710\",\"Hornet 4 Drive\",\"Hornet Sportabout\"],\"data\":[[21.0,6,160.0,110,3.9,2.875,17.02,0,1,4,4],[22.8,4,108.0,93,3.85,2.32,18.61,1,1,4,1],[21.4,6,258.0,110,3.08,3.215,19.44,1,0,3,1],[18.7,8,360.0,175,3.15,3.44,17.02,0,0,3,2]]}'"
      ]
     },
     "execution_count": 16,
     "metadata": {},
     "output_type": "execute_result"
    }
   ],
   "source": [
    "mtcars[1:5].to_json(orient='split')"
   ]
  },
  {
   "cell_type": "code",
   "execution_count": 15,
   "id": "924cccd8-2cd5-49bf-9e3d-06287a258932",
   "metadata": {},
   "outputs": [
    {
     "data": {
      "text/plain": [
       "'{\"Mazda RX4 Wag\":{\"mpg\":21.0,\"cyl\":6,\"disp\":160.0,\"hp\":110,\"drat\":3.9,\"wt\":2.875,\"qsec\":17.02,\"vs\":0,\"am\":1,\"gear\":4,\"carb\":4},\"Datsun 710\":{\"mpg\":22.8,\"cyl\":4,\"disp\":108.0,\"hp\":93,\"drat\":3.85,\"wt\":2.32,\"qsec\":18.61,\"vs\":1,\"am\":1,\"gear\":4,\"carb\":1},\"Hornet 4 Drive\":{\"mpg\":21.4,\"cyl\":6,\"disp\":258.0,\"hp\":110,\"drat\":3.08,\"wt\":3.215,\"qsec\":19.44,\"vs\":1,\"am\":0,\"gear\":3,\"carb\":1},\"Hornet Sportabout\":{\"mpg\":18.7,\"cyl\":8,\"disp\":360.0,\"hp\":175,\"drat\":3.15,\"wt\":3.44,\"qsec\":17.02,\"vs\":0,\"am\":0,\"gear\":3,\"carb\":2}}'"
      ]
     },
     "execution_count": 15,
     "metadata": {},
     "output_type": "execute_result"
    }
   ],
   "source": [
    "mtcars[1:5].to_json(orient='index')"
   ]
  },
  {
   "cell_type": "code",
   "execution_count": 20,
   "id": "16e69b5d-b423-486c-a4dd-82c629dde2cd",
   "metadata": {},
   "outputs": [
    {
     "data": {
      "text/plain": [
       "'[{\"mpg\":21.0,\"cyl\":6,\"disp\":160.0,\"hp\":110,\"drat\":3.9,\"wt\":2.875,\"qsec\":17.02,\"vs\":0,\"am\":1,\"gear\":4,\"carb\":4},{\"mpg\":22.8,\"cyl\":4,\"disp\":108.0,\"hp\":93,\"drat\":3.85,\"wt\":2.32,\"qsec\":18.61,\"vs\":1,\"am\":1,\"gear\":4,\"carb\":1},{\"mpg\":21.4,\"cyl\":6,\"disp\":258.0,\"hp\":110,\"drat\":3.08,\"wt\":3.215,\"qsec\":19.44,\"vs\":1,\"am\":0,\"gear\":3,\"carb\":1},{\"mpg\":18.7,\"cyl\":8,\"disp\":360.0,\"hp\":175,\"drat\":3.15,\"wt\":3.44,\"qsec\":17.02,\"vs\":0,\"am\":0,\"gear\":3,\"carb\":2}]'"
      ]
     },
     "execution_count": 20,
     "metadata": {},
     "output_type": "execute_result"
    }
   ],
   "source": [
    "mtcars[1:5].to_json(orient='records')"
   ]
  },
  {
   "cell_type": "code",
   "execution_count": 18,
   "id": "8e2f1747-5fd3-4085-a9ac-fb3abafd0f15",
   "metadata": {},
   "outputs": [
    {
     "data": {
      "text/html": [
       "<div>\n",
       "<style scoped>\n",
       "    .dataframe tbody tr th:only-of-type {\n",
       "        vertical-align: middle;\n",
       "    }\n",
       "\n",
       "    .dataframe tbody tr th {\n",
       "        vertical-align: top;\n",
       "    }\n",
       "\n",
       "    .dataframe thead th {\n",
       "        text-align: right;\n",
       "    }\n",
       "</style>\n",
       "<table border=\"1\" class=\"dataframe\">\n",
       "  <thead>\n",
       "    <tr style=\"text-align: right;\">\n",
       "      <th></th>\n",
       "      <th>mpg</th>\n",
       "      <th>cyl</th>\n",
       "      <th>disp</th>\n",
       "      <th>hp</th>\n",
       "      <th>drat</th>\n",
       "      <th>wt</th>\n",
       "      <th>qsec</th>\n",
       "      <th>vs</th>\n",
       "      <th>am</th>\n",
       "      <th>gear</th>\n",
       "      <th>carb</th>\n",
       "    </tr>\n",
       "  </thead>\n",
       "  <tbody>\n",
       "    <tr>\n",
       "      <th>0</th>\n",
       "      <td>21.0</td>\n",
       "      <td>6</td>\n",
       "      <td>160</td>\n",
       "      <td>110</td>\n",
       "      <td>3.90</td>\n",
       "      <td>2.875</td>\n",
       "      <td>17.02</td>\n",
       "      <td>0</td>\n",
       "      <td>1</td>\n",
       "      <td>4</td>\n",
       "      <td>4</td>\n",
       "    </tr>\n",
       "    <tr>\n",
       "      <th>1</th>\n",
       "      <td>22.8</td>\n",
       "      <td>4</td>\n",
       "      <td>108</td>\n",
       "      <td>93</td>\n",
       "      <td>3.85</td>\n",
       "      <td>2.320</td>\n",
       "      <td>18.61</td>\n",
       "      <td>1</td>\n",
       "      <td>1</td>\n",
       "      <td>4</td>\n",
       "      <td>1</td>\n",
       "    </tr>\n",
       "    <tr>\n",
       "      <th>2</th>\n",
       "      <td>21.4</td>\n",
       "      <td>6</td>\n",
       "      <td>258</td>\n",
       "      <td>110</td>\n",
       "      <td>3.08</td>\n",
       "      <td>3.215</td>\n",
       "      <td>19.44</td>\n",
       "      <td>1</td>\n",
       "      <td>0</td>\n",
       "      <td>3</td>\n",
       "      <td>1</td>\n",
       "    </tr>\n",
       "    <tr>\n",
       "      <th>3</th>\n",
       "      <td>18.7</td>\n",
       "      <td>8</td>\n",
       "      <td>360</td>\n",
       "      <td>175</td>\n",
       "      <td>3.15</td>\n",
       "      <td>3.440</td>\n",
       "      <td>17.02</td>\n",
       "      <td>0</td>\n",
       "      <td>0</td>\n",
       "      <td>3</td>\n",
       "      <td>2</td>\n",
       "    </tr>\n",
       "  </tbody>\n",
       "</table>\n",
       "</div>"
      ],
      "text/plain": [
       "    mpg  cyl  disp   hp  drat     wt   qsec  vs  am  gear  carb\n",
       "0  21.0    6   160  110  3.90  2.875  17.02   0   1     4     4\n",
       "1  22.8    4   108   93  3.85  2.320  18.61   1   1     4     1\n",
       "2  21.4    6   258  110  3.08  3.215  19.44   1   0     3     1\n",
       "3  18.7    8   360  175  3.15  3.440  17.02   0   0     3     2"
      ]
     },
     "execution_count": 18,
     "metadata": {},
     "output_type": "execute_result"
    }
   ],
   "source": [
    "pd.read_json(StringIO(_), orient='records')"
   ]
  },
  {
   "cell_type": "code",
   "execution_count": 23,
   "id": "c454afa7-127e-4059-80bb-f869df5f4c3b",
   "metadata": {},
   "outputs": [
    {
     "data": {
      "text/plain": [
       "'{\"schema\":{\"fields\":[{\"name\":\"index\",\"type\":\"string\"},{\"name\":\"mpg\",\"type\":\"number\"},{\"name\":\"cyl\",\"type\":\"integer\"},{\"name\":\"disp\",\"type\":\"number\"},{\"name\":\"hp\",\"type\":\"integer\"},{\"name\":\"drat\",\"type\":\"number\"},{\"name\":\"wt\",\"type\":\"number\"},{\"name\":\"qsec\",\"type\":\"number\"},{\"name\":\"vs\",\"type\":\"integer\"},{\"name\":\"am\",\"type\":\"integer\"},{\"name\":\"gear\",\"type\":\"integer\"},{\"name\":\"carb\",\"type\":\"integer\"}],\"primaryKey\":[\"index\"],\"pandas_version\":\"1.4.0\"},\"data\":[{\"index\":\"Mazda RX4 Wag\",\"mpg\":21.0,\"cyl\":6,\"disp\":160.0,\"hp\":110,\"drat\":3.9,\"wt\":2.875,\"qsec\":17.02,\"vs\":0,\"am\":1,\"gear\":4,\"carb\":4},{\"index\":\"Datsun 710\",\"mpg\":22.8,\"cyl\":4,\"disp\":108.0,\"hp\":93,\"drat\":3.85,\"wt\":2.32,\"qsec\":18.61,\"vs\":1,\"am\":1,\"gear\":4,\"carb\":1},{\"index\":\"Hornet 4 Drive\",\"mpg\":21.4,\"cyl\":6,\"disp\":258.0,\"hp\":110,\"drat\":3.08,\"wt\":3.215,\"qsec\":19.44,\"vs\":1,\"am\":0,\"gear\":3,\"carb\":1},{\"index\":\"Hornet Sportabout\",\"mpg\":18.7,\"cyl\":8,\"disp\":360.0,\"hp\":175,\"drat\":3.15,\"wt\":3.44,\"qsec\":17.02,\"vs\":0,\"am\":0,\"gear\":3,\"carb\":2}]}'"
      ]
     },
     "execution_count": 23,
     "metadata": {},
     "output_type": "execute_result"
    }
   ],
   "source": [
    "mtcars[1:5].to_json(orient='table')"
   ]
  },
  {
   "cell_type": "markdown",
   "id": "5f4b8945-90e4-4b97-a634-75f13b064bdc",
   "metadata": {},
   "source": [
    "## json normalise\n",
    "- https://pandas.pydata.org/pandas-docs/stable/reference/api/pandas.json_normalize.html"
   ]
  },
  {
   "cell_type": "code",
   "execution_count": 25,
   "id": "33d658f9-d9a1-4581-b434-3d764cda8eff",
   "metadata": {},
   "outputs": [
    {
     "data": {
      "text/plain": [
       "[{'id': 1, 'name': {'first': 'Coleen', 'last': 'Volk'}},\n",
       " {'name': {'given': 'Mark', 'family': 'Regner'}},\n",
       " {'id': 2, 'name': 'Faye Raker'}]"
      ]
     },
     "execution_count": 25,
     "metadata": {},
     "output_type": "execute_result"
    }
   ],
   "source": [
    "data = [\n",
    "    {\"id\": 1, \"name\": {\"first\": \"Coleen\", \"last\": \"Volk\"}},\n",
    "    {\"name\": {\"given\": \"Mark\", \"family\": \"Regner\"}},\n",
    "    {\"id\": 2, \"name\": \"Faye Raker\"},\n",
    "]\n",
    "data"
   ]
  },
  {
   "cell_type": "code",
   "execution_count": 26,
   "id": "b5ee7e16-9d9a-433b-9128-9eb6051e6536",
   "metadata": {},
   "outputs": [
    {
     "data": {
      "text/html": [
       "<div>\n",
       "<style scoped>\n",
       "    .dataframe tbody tr th:only-of-type {\n",
       "        vertical-align: middle;\n",
       "    }\n",
       "\n",
       "    .dataframe tbody tr th {\n",
       "        vertical-align: top;\n",
       "    }\n",
       "\n",
       "    .dataframe thead th {\n",
       "        text-align: right;\n",
       "    }\n",
       "</style>\n",
       "<table border=\"1\" class=\"dataframe\">\n",
       "  <thead>\n",
       "    <tr style=\"text-align: right;\">\n",
       "      <th></th>\n",
       "      <th>id</th>\n",
       "      <th>name.first</th>\n",
       "      <th>name.last</th>\n",
       "      <th>name.given</th>\n",
       "      <th>name.family</th>\n",
       "      <th>name</th>\n",
       "    </tr>\n",
       "  </thead>\n",
       "  <tbody>\n",
       "    <tr>\n",
       "      <th>0</th>\n",
       "      <td>1.0</td>\n",
       "      <td>Coleen</td>\n",
       "      <td>Volk</td>\n",
       "      <td>NaN</td>\n",
       "      <td>NaN</td>\n",
       "      <td>NaN</td>\n",
       "    </tr>\n",
       "    <tr>\n",
       "      <th>1</th>\n",
       "      <td>NaN</td>\n",
       "      <td>NaN</td>\n",
       "      <td>NaN</td>\n",
       "      <td>Mark</td>\n",
       "      <td>Regner</td>\n",
       "      <td>NaN</td>\n",
       "    </tr>\n",
       "    <tr>\n",
       "      <th>2</th>\n",
       "      <td>2.0</td>\n",
       "      <td>NaN</td>\n",
       "      <td>NaN</td>\n",
       "      <td>NaN</td>\n",
       "      <td>NaN</td>\n",
       "      <td>Faye Raker</td>\n",
       "    </tr>\n",
       "  </tbody>\n",
       "</table>\n",
       "</div>"
      ],
      "text/plain": [
       "    id name.first name.last name.given name.family        name\n",
       "0  1.0     Coleen      Volk        NaN         NaN         NaN\n",
       "1  NaN        NaN       NaN       Mark      Regner         NaN\n",
       "2  2.0        NaN       NaN        NaN         NaN  Faye Raker"
      ]
     },
     "execution_count": 26,
     "metadata": {},
     "output_type": "execute_result"
    }
   ],
   "source": [
    "pd.json_normalize(data)"
   ]
  },
  {
   "cell_type": "code",
   "execution_count": 27,
   "id": "8fdb76b6-1565-4dc2-88ee-9f96fb988727",
   "metadata": {},
   "outputs": [
    {
     "data": {
      "text/plain": [
       "[{'id': 1, 'name': 'Cole Volk', 'fitness': {'height': 130, 'weight': 60}},\n",
       " {'name': 'Mark Reg', 'fitness': {'height': 130, 'weight': 60}},\n",
       " {'id': 2, 'name': 'Faye Raker', 'fitness': {'height': 130, 'weight': 60}}]"
      ]
     },
     "execution_count": 27,
     "metadata": {},
     "output_type": "execute_result"
    }
   ],
   "source": [
    "data = [\n",
    "    {\n",
    "        \"id\": 1,\n",
    "        \"name\": \"Cole Volk\",\n",
    "        \"fitness\": {\"height\": 130, \"weight\": 60},\n",
    "    },\n",
    "    {\"name\": \"Mark Reg\", \"fitness\": {\"height\": 130, \"weight\": 60}},\n",
    "    {\n",
    "        \"id\": 2,\n",
    "        \"name\": \"Faye Raker\",\n",
    "        \"fitness\": {\"height\": 130, \"weight\": 60},\n",
    "    },\n",
    "]\n",
    "data"
   ]
  },
  {
   "cell_type": "code",
   "execution_count": 28,
   "id": "f1650cfb-5a88-43f0-8f60-262f67a95d55",
   "metadata": {},
   "outputs": [
    {
     "data": {
      "text/html": [
       "<div>\n",
       "<style scoped>\n",
       "    .dataframe tbody tr th:only-of-type {\n",
       "        vertical-align: middle;\n",
       "    }\n",
       "\n",
       "    .dataframe tbody tr th {\n",
       "        vertical-align: top;\n",
       "    }\n",
       "\n",
       "    .dataframe thead th {\n",
       "        text-align: right;\n",
       "    }\n",
       "</style>\n",
       "<table border=\"1\" class=\"dataframe\">\n",
       "  <thead>\n",
       "    <tr style=\"text-align: right;\">\n",
       "      <th></th>\n",
       "      <th>id</th>\n",
       "      <th>name</th>\n",
       "      <th>fitness</th>\n",
       "    </tr>\n",
       "  </thead>\n",
       "  <tbody>\n",
       "    <tr>\n",
       "      <th>0</th>\n",
       "      <td>1.0</td>\n",
       "      <td>Cole Volk</td>\n",
       "      <td>{'height': 130, 'weight': 60}</td>\n",
       "    </tr>\n",
       "    <tr>\n",
       "      <th>1</th>\n",
       "      <td>NaN</td>\n",
       "      <td>Mark Reg</td>\n",
       "      <td>{'height': 130, 'weight': 60}</td>\n",
       "    </tr>\n",
       "    <tr>\n",
       "      <th>2</th>\n",
       "      <td>2.0</td>\n",
       "      <td>Faye Raker</td>\n",
       "      <td>{'height': 130, 'weight': 60}</td>\n",
       "    </tr>\n",
       "  </tbody>\n",
       "</table>\n",
       "</div>"
      ],
      "text/plain": [
       "    id        name                        fitness\n",
       "0  1.0   Cole Volk  {'height': 130, 'weight': 60}\n",
       "1  NaN    Mark Reg  {'height': 130, 'weight': 60}\n",
       "2  2.0  Faye Raker  {'height': 130, 'weight': 60}"
      ]
     },
     "execution_count": 28,
     "metadata": {},
     "output_type": "execute_result"
    }
   ],
   "source": [
    "pd.json_normalize(data, max_level=0)"
   ]
  },
  {
   "cell_type": "code",
   "execution_count": 32,
   "id": "07891ef4-8294-4c09-a1b0-695212c903c1",
   "metadata": {},
   "outputs": [
    {
     "data": {
      "text/html": [
       "<div>\n",
       "<style scoped>\n",
       "    .dataframe tbody tr th:only-of-type {\n",
       "        vertical-align: middle;\n",
       "    }\n",
       "\n",
       "    .dataframe tbody tr th {\n",
       "        vertical-align: top;\n",
       "    }\n",
       "\n",
       "    .dataframe thead th {\n",
       "        text-align: right;\n",
       "    }\n",
       "</style>\n",
       "<table border=\"1\" class=\"dataframe\">\n",
       "  <thead>\n",
       "    <tr style=\"text-align: right;\">\n",
       "      <th></th>\n",
       "      <th>id</th>\n",
       "      <th>name</th>\n",
       "      <th>fitness.height</th>\n",
       "      <th>fitness.weight</th>\n",
       "    </tr>\n",
       "  </thead>\n",
       "  <tbody>\n",
       "    <tr>\n",
       "      <th>0</th>\n",
       "      <td>1.0</td>\n",
       "      <td>Cole Volk</td>\n",
       "      <td>130</td>\n",
       "      <td>60</td>\n",
       "    </tr>\n",
       "    <tr>\n",
       "      <th>1</th>\n",
       "      <td>NaN</td>\n",
       "      <td>Mark Reg</td>\n",
       "      <td>130</td>\n",
       "      <td>60</td>\n",
       "    </tr>\n",
       "    <tr>\n",
       "      <th>2</th>\n",
       "      <td>2.0</td>\n",
       "      <td>Faye Raker</td>\n",
       "      <td>130</td>\n",
       "      <td>60</td>\n",
       "    </tr>\n",
       "  </tbody>\n",
       "</table>\n",
       "</div>"
      ],
      "text/plain": [
       "    id        name  fitness.height  fitness.weight\n",
       "0  1.0   Cole Volk             130              60\n",
       "1  NaN    Mark Reg             130              60\n",
       "2  2.0  Faye Raker             130              60"
      ]
     },
     "execution_count": 32,
     "metadata": {},
     "output_type": "execute_result"
    }
   ],
   "source": [
    "pd.json_normalize(data, max_level=1)  #gets done in level1"
   ]
  },
  {
   "cell_type": "code",
   "execution_count": 31,
   "id": "d65ba5c2-7c67-4f8d-b54e-272d9f41712e",
   "metadata": {},
   "outputs": [
    {
     "data": {
      "text/html": [
       "<div>\n",
       "<style scoped>\n",
       "    .dataframe tbody tr th:only-of-type {\n",
       "        vertical-align: middle;\n",
       "    }\n",
       "\n",
       "    .dataframe tbody tr th {\n",
       "        vertical-align: top;\n",
       "    }\n",
       "\n",
       "    .dataframe thead th {\n",
       "        text-align: right;\n",
       "    }\n",
       "</style>\n",
       "<table border=\"1\" class=\"dataframe\">\n",
       "  <thead>\n",
       "    <tr style=\"text-align: right;\">\n",
       "      <th></th>\n",
       "      <th>id</th>\n",
       "      <th>name</th>\n",
       "      <th>fitness.height</th>\n",
       "      <th>fitness.weight</th>\n",
       "    </tr>\n",
       "  </thead>\n",
       "  <tbody>\n",
       "    <tr>\n",
       "      <th>0</th>\n",
       "      <td>1.0</td>\n",
       "      <td>Cole Volk</td>\n",
       "      <td>130</td>\n",
       "      <td>60</td>\n",
       "    </tr>\n",
       "    <tr>\n",
       "      <th>1</th>\n",
       "      <td>NaN</td>\n",
       "      <td>Mark Reg</td>\n",
       "      <td>130</td>\n",
       "      <td>60</td>\n",
       "    </tr>\n",
       "    <tr>\n",
       "      <th>2</th>\n",
       "      <td>2.0</td>\n",
       "      <td>Faye Raker</td>\n",
       "      <td>130</td>\n",
       "      <td>60</td>\n",
       "    </tr>\n",
       "  </tbody>\n",
       "</table>\n",
       "</div>"
      ],
      "text/plain": [
       "    id        name  fitness.height  fitness.weight\n",
       "0  1.0   Cole Volk             130              60\n",
       "1  NaN    Mark Reg             130              60\n",
       "2  2.0  Faye Raker             130              60"
      ]
     },
     "execution_count": 31,
     "metadata": {},
     "output_type": "execute_result"
    }
   ],
   "source": [
    "pd.json_normalize(data, max_level=3)"
   ]
  },
  {
   "cell_type": "code",
   "execution_count": 33,
   "id": "3be732f0-5e6b-4081-8b2d-1c1a498008f9",
   "metadata": {},
   "outputs": [
    {
     "data": {
      "text/plain": [
       "[{'state': 'Florida',\n",
       "  'shortname': 'FL',\n",
       "  'info': {'governor': 'Rick Scott'},\n",
       "  'counties': [{'name': 'Dade', 'population': 12345},\n",
       "   {'name': 'Broward', 'population': 40000},\n",
       "   {'name': 'Palm Beach', 'population': 60000}]},\n",
       " {'state': 'Ohio',\n",
       "  'shortname': 'OH',\n",
       "  'info': {'governor': 'John Kasich'},\n",
       "  'counties': [{'name': 'Summit', 'population': 1234},\n",
       "   {'name': 'Cuyahoga', 'population': 1337}]}]"
      ]
     },
     "execution_count": 33,
     "metadata": {},
     "output_type": "execute_result"
    }
   ],
   "source": [
    "data = [\n",
    "    {\n",
    "        \"state\": \"Florida\",\n",
    "        \"shortname\": \"FL\",\n",
    "        \"info\": {\"governor\": \"Rick Scott\"},\n",
    "        \"counties\": [\n",
    "            {\"name\": \"Dade\", \"population\": 12345},\n",
    "            {\"name\": \"Broward\", \"population\": 40000},\n",
    "            {\"name\": \"Palm Beach\", \"population\": 60000},\n",
    "        ],\n",
    "    },\n",
    "    {\n",
    "        \"state\": \"Ohio\",\n",
    "        \"shortname\": \"OH\",\n",
    "        \"info\": {\"governor\": \"John Kasich\"},\n",
    "        \"counties\": [\n",
    "            {\"name\": \"Summit\", \"population\": 1234},\n",
    "            {\"name\": \"Cuyahoga\", \"population\": 1337},\n",
    "        ],\n",
    "    },\n",
    "]\n",
    "data"
   ]
  },
  {
   "cell_type": "code",
   "execution_count": 38,
   "id": "1d259b6d-65e6-403e-b8ff-8b44995e7a07",
   "metadata": {},
   "outputs": [
    {
     "data": {
      "text/html": [
       "<div>\n",
       "<style scoped>\n",
       "    .dataframe tbody tr th:only-of-type {\n",
       "        vertical-align: middle;\n",
       "    }\n",
       "\n",
       "    .dataframe tbody tr th {\n",
       "        vertical-align: top;\n",
       "    }\n",
       "\n",
       "    .dataframe thead th {\n",
       "        text-align: right;\n",
       "    }\n",
       "</style>\n",
       "<table border=\"1\" class=\"dataframe\">\n",
       "  <thead>\n",
       "    <tr style=\"text-align: right;\">\n",
       "      <th></th>\n",
       "      <th>state</th>\n",
       "      <th>shortname</th>\n",
       "      <th>counties</th>\n",
       "      <th>info.governor</th>\n",
       "    </tr>\n",
       "  </thead>\n",
       "  <tbody>\n",
       "    <tr>\n",
       "      <th>0</th>\n",
       "      <td>Florida</td>\n",
       "      <td>FL</td>\n",
       "      <td>[{'name': 'Dade', 'population': 12345}, {'name': 'Broward', 'population': 40000}, {'na...</td>\n",
       "      <td>Rick Scott</td>\n",
       "    </tr>\n",
       "    <tr>\n",
       "      <th>1</th>\n",
       "      <td>Ohio</td>\n",
       "      <td>OH</td>\n",
       "      <td>[{'name': 'Summit', 'population': 1234}, {'name': 'Cuyahoga', 'population': 1337}]</td>\n",
       "      <td>John Kasich</td>\n",
       "    </tr>\n",
       "  </tbody>\n",
       "</table>\n",
       "</div>"
      ],
      "text/plain": [
       "     state shortname  \\\n",
       "0  Florida        FL   \n",
       "1     Ohio        OH   \n",
       "\n",
       "                                                                                    counties  \\\n",
       "0  [{'name': 'Dade', 'population': 12345}, {'name': 'Broward', 'population': 40000}, {'na...   \n",
       "1         [{'name': 'Summit', 'population': 1234}, {'name': 'Cuyahoga', 'population': 1337}]   \n",
       "\n",
       "  info.governor  \n",
       "0    Rick Scott  \n",
       "1   John Kasich  "
      ]
     },
     "execution_count": 38,
     "metadata": {},
     "output_type": "execute_result"
    }
   ],
   "source": [
    "pd.json_normalize(data, max_level=1)"
   ]
  },
  {
   "cell_type": "code",
   "execution_count": 41,
   "id": "9ad38f8b-e40e-454a-8c9b-13282709be9b",
   "metadata": {},
   "outputs": [
    {
     "data": {
      "text/html": [
       "<div>\n",
       "<style scoped>\n",
       "    .dataframe tbody tr th:only-of-type {\n",
       "        vertical-align: middle;\n",
       "    }\n",
       "\n",
       "    .dataframe tbody tr th {\n",
       "        vertical-align: top;\n",
       "    }\n",
       "\n",
       "    .dataframe thead th {\n",
       "        text-align: right;\n",
       "    }\n",
       "</style>\n",
       "<table border=\"1\" class=\"dataframe\">\n",
       "  <thead>\n",
       "    <tr style=\"text-align: right;\">\n",
       "      <th></th>\n",
       "      <th>name</th>\n",
       "      <th>population</th>\n",
       "      <th>state</th>\n",
       "      <th>shortname</th>\n",
       "      <th>info.governor</th>\n",
       "    </tr>\n",
       "  </thead>\n",
       "  <tbody>\n",
       "    <tr>\n",
       "      <th>0</th>\n",
       "      <td>Dade</td>\n",
       "      <td>12345</td>\n",
       "      <td>Florida</td>\n",
       "      <td>FL</td>\n",
       "      <td>Rick Scott</td>\n",
       "    </tr>\n",
       "    <tr>\n",
       "      <th>1</th>\n",
       "      <td>Broward</td>\n",
       "      <td>40000</td>\n",
       "      <td>Florida</td>\n",
       "      <td>FL</td>\n",
       "      <td>Rick Scott</td>\n",
       "    </tr>\n",
       "    <tr>\n",
       "      <th>2</th>\n",
       "      <td>Palm Beach</td>\n",
       "      <td>60000</td>\n",
       "      <td>Florida</td>\n",
       "      <td>FL</td>\n",
       "      <td>Rick Scott</td>\n",
       "    </tr>\n",
       "    <tr>\n",
       "      <th>3</th>\n",
       "      <td>Summit</td>\n",
       "      <td>1234</td>\n",
       "      <td>Ohio</td>\n",
       "      <td>OH</td>\n",
       "      <td>John Kasich</td>\n",
       "    </tr>\n",
       "    <tr>\n",
       "      <th>4</th>\n",
       "      <td>Cuyahoga</td>\n",
       "      <td>1337</td>\n",
       "      <td>Ohio</td>\n",
       "      <td>OH</td>\n",
       "      <td>John Kasich</td>\n",
       "    </tr>\n",
       "  </tbody>\n",
       "</table>\n",
       "</div>"
      ],
      "text/plain": [
       "         name  population    state shortname info.governor\n",
       "0        Dade       12345  Florida        FL    Rick Scott\n",
       "1     Broward       40000  Florida        FL    Rick Scott\n",
       "2  Palm Beach       60000  Florida        FL    Rick Scott\n",
       "3      Summit        1234     Ohio        OH   John Kasich\n",
       "4    Cuyahoga        1337     Ohio        OH   John Kasich"
      ]
     },
     "execution_count": 41,
     "metadata": {},
     "output_type": "execute_result"
    }
   ],
   "source": [
    "pd.json_normalize(data, 'counties', ['state','shortname', ['info', 'governor']])"
   ]
  },
  {
   "cell_type": "code",
   "execution_count": 43,
   "id": "8b291bf1-33d1-4fda-a8f7-4455204b524a",
   "metadata": {},
   "outputs": [
    {
     "data": {
      "text/plain": [
       "{'A': [1, 2]}"
      ]
     },
     "execution_count": 43,
     "metadata": {},
     "output_type": "execute_result"
    }
   ],
   "source": [
    "data = {'A':[1,2]}\n",
    "data"
   ]
  },
  {
   "cell_type": "code",
   "execution_count": 45,
   "id": "1dac2204-3ed9-458a-8098-9737cff7daa9",
   "metadata": {},
   "outputs": [
    {
     "data": {
      "text/html": [
       "<div>\n",
       "<style scoped>\n",
       "    .dataframe tbody tr th:only-of-type {\n",
       "        vertical-align: middle;\n",
       "    }\n",
       "\n",
       "    .dataframe tbody tr th {\n",
       "        vertical-align: top;\n",
       "    }\n",
       "\n",
       "    .dataframe thead th {\n",
       "        text-align: right;\n",
       "    }\n",
       "</style>\n",
       "<table border=\"1\" class=\"dataframe\">\n",
       "  <thead>\n",
       "    <tr style=\"text-align: right;\">\n",
       "      <th></th>\n",
       "      <th>Prefix.0</th>\n",
       "    </tr>\n",
       "  </thead>\n",
       "  <tbody>\n",
       "    <tr>\n",
       "      <th>0</th>\n",
       "      <td>1</td>\n",
       "    </tr>\n",
       "    <tr>\n",
       "      <th>1</th>\n",
       "      <td>2</td>\n",
       "    </tr>\n",
       "  </tbody>\n",
       "</table>\n",
       "</div>"
      ],
      "text/plain": [
       "   Prefix.0\n",
       "0         1\n",
       "1         2"
      ]
     },
     "execution_count": 45,
     "metadata": {},
     "output_type": "execute_result"
    }
   ],
   "source": [
    "pd.json_normalize(data, 'A', record_prefix='Prefix.')"
   ]
  },
  {
   "cell_type": "markdown",
   "id": "8f36d4e0-572a-40aa-8e17-89be1a859be8",
   "metadata": {},
   "source": [
    "## DF to JSON\n",
    "-  https://pandas.pydata.org/pandas-docs/stable/reference/api/pandas.DataFrame.to_json.html"
   ]
  },
  {
   "cell_type": "code",
   "execution_count": 46,
   "id": "0ee0c105-fdce-4427-870b-2a0123817cb0",
   "metadata": {},
   "outputs": [],
   "source": [
    "from json import loads, dumps"
   ]
  },
  {
   "cell_type": "code",
   "execution_count": 47,
   "id": "95699d71-6a13-4da1-ac2f-1141e1cbe8cf",
   "metadata": {},
   "outputs": [
    {
     "data": {
      "text/html": [
       "<div>\n",
       "<style scoped>\n",
       "    .dataframe tbody tr th:only-of-type {\n",
       "        vertical-align: middle;\n",
       "    }\n",
       "\n",
       "    .dataframe tbody tr th {\n",
       "        vertical-align: top;\n",
       "    }\n",
       "\n",
       "    .dataframe thead th {\n",
       "        text-align: right;\n",
       "    }\n",
       "</style>\n",
       "<table border=\"1\" class=\"dataframe\">\n",
       "  <thead>\n",
       "    <tr style=\"text-align: right;\">\n",
       "      <th></th>\n",
       "      <th>col 1</th>\n",
       "      <th>col 2</th>\n",
       "    </tr>\n",
       "  </thead>\n",
       "  <tbody>\n",
       "    <tr>\n",
       "      <th>row 1</th>\n",
       "      <td>a</td>\n",
       "      <td>b</td>\n",
       "    </tr>\n",
       "    <tr>\n",
       "      <th>row 2</th>\n",
       "      <td>c</td>\n",
       "      <td>d</td>\n",
       "    </tr>\n",
       "  </tbody>\n",
       "</table>\n",
       "</div>"
      ],
      "text/plain": [
       "      col 1 col 2\n",
       "row 1     a     b\n",
       "row 2     c     d"
      ]
     },
     "execution_count": 47,
     "metadata": {},
     "output_type": "execute_result"
    }
   ],
   "source": [
    "df = pd.DataFrame(\n",
    "    [[\"a\", \"b\"], [\"c\", \"d\"]],\n",
    "    index=[\"row 1\", \"row 2\"],\n",
    "    columns=[\"col 1\", \"col 2\"],\n",
    ")\n",
    "df"
   ]
  },
  {
   "cell_type": "code",
   "execution_count": 48,
   "id": "5f7562f4-74fd-4742-9b6f-d569bca766fb",
   "metadata": {},
   "outputs": [
    {
     "data": {
      "text/plain": [
       "'{\"columns\":[\"col 1\",\"col 2\"],\"index\":[\"row 1\",\"row 2\"],\"data\":[[\"a\",\"b\"],[\"c\",\"d\"]]}'"
      ]
     },
     "execution_count": 48,
     "metadata": {},
     "output_type": "execute_result"
    }
   ],
   "source": [
    "result = df.to_json(orient='split')\n",
    "result"
   ]
  },
  {
   "cell_type": "code",
   "execution_count": 49,
   "id": "9b157fa9-9655-49b1-a174-6cb350863c83",
   "metadata": {},
   "outputs": [
    {
     "data": {
      "text/plain": [
       "{'columns': ['col 1', 'col 2'],\n",
       " 'index': ['row 1', 'row 2'],\n",
       " 'data': [['a', 'b'], ['c', 'd']]}"
      ]
     },
     "execution_count": 49,
     "metadata": {},
     "output_type": "execute_result"
    }
   ],
   "source": [
    "parsed = loads(result)\n",
    "parsed"
   ]
  },
  {
   "cell_type": "code",
   "execution_count": 52,
   "id": "d43f8713-0f99-41e4-b20e-9af7dc6ff47c",
   "metadata": {},
   "outputs": [
    {
     "data": {
      "text/plain": [
       "'{\\n\"columns\": [\\n\"col 1\",\\n\"col 2\"\\n],\\n\"index\": [\\n\"row 1\",\\n\"row 2\"\\n],\\n\"data\": [\\n[\\n\"a\",\\n\"b\"\\n],\\n[\\n\"c\",\\n\"d\"\\n]\\n]\\n}'"
      ]
     },
     "execution_count": 52,
     "metadata": {},
     "output_type": "execute_result"
    }
   ],
   "source": [
    "dumps(parsed, indent=0)"
   ]
  },
  {
   "cell_type": "code",
   "execution_count": 53,
   "id": "0ddb879e-3b94-4fbf-9ce9-b01871566550",
   "metadata": {},
   "outputs": [
    {
     "data": {
      "text/plain": [
       "'[{\"col 1\":\"a\",\"col 2\":\"b\"},{\"col 1\":\"c\",\"col 2\":\"d\"}]'"
      ]
     },
     "execution_count": 53,
     "metadata": {},
     "output_type": "execute_result"
    }
   ],
   "source": [
    "result = df.to_json(orient='records')\n",
    "result"
   ]
  },
  {
   "cell_type": "code",
   "execution_count": 54,
   "id": "a6285b35-49c5-4cf1-b23d-07f34b14a84b",
   "metadata": {},
   "outputs": [
    {
     "data": {
      "text/plain": [
       "'{\\n    \"columns\": [\\n        \"col 1\",\\n        \"col 2\"\\n    ],\\n    \"index\": [\\n        \"row 1\",\\n        \"row 2\"\\n    ],\\n    \"data\": [\\n        [\\n            \"a\",\\n            \"b\"\\n        ],\\n        [\\n            \"c\",\\n            \"d\"\\n        ]\\n    ]\\n}'"
      ]
     },
     "execution_count": 54,
     "metadata": {},
     "output_type": "execute_result"
    }
   ],
   "source": [
    "dumps(parsed, indent=4)"
   ]
  },
  {
   "cell_type": "code",
   "execution_count": 55,
   "id": "36a35568-23aa-44c2-9a91-47b6daf29c1e",
   "metadata": {},
   "outputs": [
    {
     "data": {
      "text/plain": [
       "'{\"row 1\":{\"col 1\":\"a\",\"col 2\":\"b\"},\"row 2\":{\"col 1\":\"c\",\"col 2\":\"d\"}}'"
      ]
     },
     "execution_count": 55,
     "metadata": {},
     "output_type": "execute_result"
    }
   ],
   "source": [
    "result = df.to_json(orient='index')\n",
    "result"
   ]
  },
  {
   "cell_type": "code",
   "execution_count": 56,
   "id": "e342c761-f00c-4689-a2c5-b76e7cf40444",
   "metadata": {},
   "outputs": [
    {
     "data": {
      "text/plain": [
       "{'row 1': {'col 1': 'a', 'col 2': 'b'}, 'row 2': {'col 1': 'c', 'col 2': 'd'}}"
      ]
     },
     "execution_count": 56,
     "metadata": {},
     "output_type": "execute_result"
    }
   ],
   "source": [
    "parsed = loads(result)\n",
    "parsed"
   ]
  },
  {
   "cell_type": "code",
   "execution_count": 57,
   "id": "d7d0f0bd-0598-4829-9f50-e519e3a5f125",
   "metadata": {},
   "outputs": [
    {
     "data": {
      "text/plain": [
       "'{\\n    \"row 1\": {\\n        \"col 1\": \"a\",\\n        \"col 2\": \"b\"\\n    },\\n    \"row 2\": {\\n        \"col 1\": \"c\",\\n        \"col 2\": \"d\"\\n    }\\n}'"
      ]
     },
     "execution_count": 57,
     "metadata": {},
     "output_type": "execute_result"
    }
   ],
   "source": [
    "dumps(parsed, indent=4)"
   ]
  },
  {
   "cell_type": "code",
   "execution_count": 58,
   "id": "537fec4f-0e19-4479-9fde-84ac7154c749",
   "metadata": {},
   "outputs": [
    {
     "data": {
      "text/plain": [
       "'{\"col 1\":{\"row 1\":\"a\",\"row 2\":\"c\"},\"col 2\":{\"row 1\":\"b\",\"row 2\":\"d\"}}'"
      ]
     },
     "execution_count": 58,
     "metadata": {},
     "output_type": "execute_result"
    }
   ],
   "source": [
    "result = df.to_json(orient='columns')\n",
    "result"
   ]
  },
  {
   "cell_type": "code",
   "execution_count": 59,
   "id": "20352861-b057-4c96-a6aa-9c8c64cdbec0",
   "metadata": {},
   "outputs": [
    {
     "data": {
      "text/plain": [
       "{'col 1': {'row 1': 'a', 'row 2': 'c'}, 'col 2': {'row 1': 'b', 'row 2': 'd'}}"
      ]
     },
     "execution_count": 59,
     "metadata": {},
     "output_type": "execute_result"
    }
   ],
   "source": [
    "parsed = loads(result)\n",
    "parsed"
   ]
  },
  {
   "cell_type": "code",
   "execution_count": 60,
   "id": "569e2bee-3913-4cbc-bc2b-6e5d6e5388f8",
   "metadata": {},
   "outputs": [
    {
     "data": {
      "text/plain": [
       "'{\\n    \"col 1\": {\\n        \"row 1\": \"a\",\\n        \"row 2\": \"c\"\\n    },\\n    \"col 2\": {\\n        \"row 1\": \"b\",\\n        \"row 2\": \"d\"\\n    }\\n}'"
      ]
     },
     "execution_count": 60,
     "metadata": {},
     "output_type": "execute_result"
    }
   ],
   "source": [
    "dumps(parsed, indent=4)"
   ]
  },
  {
   "cell_type": "code",
   "execution_count": 61,
   "id": "fba64bcb-7b07-4b03-9c79-4e704246ae41",
   "metadata": {},
   "outputs": [
    {
     "data": {
      "text/plain": [
       "'[[\"a\",\"b\"],[\"c\",\"d\"]]'"
      ]
     },
     "execution_count": 61,
     "metadata": {},
     "output_type": "execute_result"
    }
   ],
   "source": [
    "result = df.to_json(orient='values')\n",
    "result"
   ]
  },
  {
   "cell_type": "code",
   "execution_count": 62,
   "id": "fb1e7fcd-dbcd-4532-b01b-3b61bd5fa8e1",
   "metadata": {},
   "outputs": [
    {
     "data": {
      "text/plain": [
       "[['a', 'b'], ['c', 'd']]"
      ]
     },
     "execution_count": 62,
     "metadata": {},
     "output_type": "execute_result"
    }
   ],
   "source": [
    "parsed = loads(result)\n",
    "parsed"
   ]
  },
  {
   "cell_type": "code",
   "execution_count": 68,
   "id": "ae2075d6-6b3b-4d7f-8703-9d5df8de12d5",
   "metadata": {},
   "outputs": [
    {
     "name": "stdout",
     "output_type": "stream",
     "text": [
      "{\n",
      "    \"schema\": {\n",
      "        \"fields\": [\n",
      "            {\n",
      "                \"name\": \"index\",\n",
      "                \"type\": \"string\"\n",
      "            },\n",
      "            {\n",
      "                \"name\": \"col 1\",\n",
      "                \"type\": \"string\"\n",
      "            },\n",
      "            {\n",
      "                \"name\": \"col 2\",\n",
      "                \"type\": \"string\"\n",
      "            }\n",
      "        ],\n",
      "        \"primaryKey\": [\n",
      "            \"index\"\n",
      "        ],\n",
      "        \"pandas_version\": \"1.4.0\"\n",
      "    },\n",
      "    \"data\": [\n",
      "        {\n",
      "            \"index\": \"row 1\",\n",
      "            \"col 1\": \"a\",\n",
      "            \"col 2\": \"b\"\n",
      "        },\n",
      "        {\n",
      "            \"index\": \"row 2\",\n",
      "            \"col 1\": \"c\",\n",
      "            \"col 2\": \"d\"\n",
      "        }\n",
      "    ]\n",
      "}\n"
     ]
    }
   ],
   "source": [
    "print(dumps(parsed, indent=4))"
   ]
  },
  {
   "cell_type": "code",
   "execution_count": 64,
   "id": "b998b8b1-73b6-438d-881f-2fc04c5e188f",
   "metadata": {},
   "outputs": [
    {
     "data": {
      "text/plain": [
       "'{\"schema\":{\"fields\":[{\"name\":\"index\",\"type\":\"string\"},{\"name\":\"col 1\",\"type\":\"string\"},{\"name\":\"col 2\",\"type\":\"string\"}],\"primaryKey\":[\"index\"],\"pandas_version\":\"1.4.0\"},\"data\":[{\"index\":\"row 1\",\"col 1\":\"a\",\"col 2\":\"b\"},{\"index\":\"row 2\",\"col 1\":\"c\",\"col 2\":\"d\"}]}'"
      ]
     },
     "execution_count": 64,
     "metadata": {},
     "output_type": "execute_result"
    }
   ],
   "source": [
    "# Table Schema\n",
    "result = df.to_json (orient='table')\n",
    "result"
   ]
  },
  {
   "cell_type": "code",
   "execution_count": 65,
   "id": "97c8042f-2e36-4fff-ad9c-7f351b4b63c5",
   "metadata": {},
   "outputs": [
    {
     "data": {
      "text/plain": [
       "{'schema': {'fields': [{'name': 'index', 'type': 'string'},\n",
       "   {'name': 'col 1', 'type': 'string'},\n",
       "   {'name': 'col 2', 'type': 'string'}],\n",
       "  'primaryKey': ['index'],\n",
       "  'pandas_version': '1.4.0'},\n",
       " 'data': [{'index': 'row 1', 'col 1': 'a', 'col 2': 'b'},\n",
       "  {'index': 'row 2', 'col 1': 'c', 'col 2': 'd'}]}"
      ]
     },
     "execution_count": 65,
     "metadata": {},
     "output_type": "execute_result"
    }
   ],
   "source": [
    "parsed = loads(result)\n",
    "parsed"
   ]
  },
  {
   "cell_type": "code",
   "execution_count": 69,
   "id": "32cc5dbc-7379-403a-bb9e-2928e6addfae",
   "metadata": {},
   "outputs": [
    {
     "name": "stdout",
     "output_type": "stream",
     "text": [
      "{\n",
      "  \"schema\": {\n",
      "    \"fields\": [\n",
      "      {\n",
      "        \"name\": \"index\",\n",
      "        \"type\": \"string\"\n",
      "      },\n",
      "      {\n",
      "        \"name\": \"col 1\",\n",
      "        \"type\": \"string\"\n",
      "      },\n",
      "      {\n",
      "        \"name\": \"col 2\",\n",
      "        \"type\": \"string\"\n",
      "      }\n",
      "    ],\n",
      "    \"primaryKey\": [\n",
      "      \"index\"\n",
      "    ],\n",
      "    \"pandas_version\": \"1.4.0\"\n",
      "  },\n",
      "  \"data\": [\n",
      "    {\n",
      "      \"index\": \"row 1\",\n",
      "      \"col 1\": \"a\",\n",
      "      \"col 2\": \"b\"\n",
      "    },\n",
      "    {\n",
      "      \"index\": \"row 2\",\n",
      "      \"col 1\": \"c\",\n",
      "      \"col 2\": \"d\"\n",
      "    }\n",
      "  ]\n",
      "}\n"
     ]
    }
   ],
   "source": [
    "print(dumps(parsed, indent=2))"
   ]
  },
  {
   "cell_type": "markdown",
   "id": "4635efd8-b75a-43e6-a6ea-5914a2975bdf",
   "metadata": {},
   "source": [
    "## Build Table Schema\n",
    "- https://pandas.pydata.org/pandas-docs/stable/reference/api/pandas.io.json.build_table_schema.html"
   ]
  },
  {
   "cell_type": "code",
   "execution_count": 70,
   "id": "a2f8ae33-a1a6-44cf-b774-496630d2aa02",
   "metadata": {},
   "outputs": [
    {
     "data": {
      "text/html": [
       "<div>\n",
       "<style scoped>\n",
       "    .dataframe tbody tr th:only-of-type {\n",
       "        vertical-align: middle;\n",
       "    }\n",
       "\n",
       "    .dataframe tbody tr th {\n",
       "        vertical-align: top;\n",
       "    }\n",
       "\n",
       "    .dataframe thead th {\n",
       "        text-align: right;\n",
       "    }\n",
       "</style>\n",
       "<table border=\"1\" class=\"dataframe\">\n",
       "  <thead>\n",
       "    <tr style=\"text-align: right;\">\n",
       "      <th></th>\n",
       "      <th>A</th>\n",
       "      <th>B</th>\n",
       "      <th>C</th>\n",
       "    </tr>\n",
       "    <tr>\n",
       "      <th>idx</th>\n",
       "      <th></th>\n",
       "      <th></th>\n",
       "      <th></th>\n",
       "    </tr>\n",
       "  </thead>\n",
       "  <tbody>\n",
       "    <tr>\n",
       "      <th>0</th>\n",
       "      <td>1</td>\n",
       "      <td>a</td>\n",
       "      <td>2016-01-01</td>\n",
       "    </tr>\n",
       "    <tr>\n",
       "      <th>1</th>\n",
       "      <td>2</td>\n",
       "      <td>b</td>\n",
       "      <td>2016-01-02</td>\n",
       "    </tr>\n",
       "    <tr>\n",
       "      <th>2</th>\n",
       "      <td>3</td>\n",
       "      <td>c</td>\n",
       "      <td>2016-01-03</td>\n",
       "    </tr>\n",
       "  </tbody>\n",
       "</table>\n",
       "</div>"
      ],
      "text/plain": [
       "     A  B          C\n",
       "idx                 \n",
       "0    1  a 2016-01-01\n",
       "1    2  b 2016-01-02\n",
       "2    3  c 2016-01-03"
      ]
     },
     "execution_count": 70,
     "metadata": {},
     "output_type": "execute_result"
    }
   ],
   "source": [
    "from pandas.io.json._table_schema import build_table_schema\n",
    "df = pd.DataFrame(\n",
    "    {'A': [1, 2, 3],\n",
    "     'B': ['a', 'b', 'c'],\n",
    "     'C': pd.date_range('2016-01-01', freq='d', periods=3),\n",
    "    }, index=pd.Index(range(3), name='idx'))\n",
    "\n",
    "df"
   ]
  },
  {
   "cell_type": "code",
   "execution_count": 71,
   "id": "1bcb2ddc-b2e2-41b4-9c61-941c7c38a9b0",
   "metadata": {},
   "outputs": [
    {
     "data": {
      "text/plain": [
       "{'fields': [{'name': 'idx', 'type': 'integer'},\n",
       "  {'name': 'A', 'type': 'integer'},\n",
       "  {'name': 'B', 'type': 'string'},\n",
       "  {'name': 'C', 'type': 'datetime'}],\n",
       " 'primaryKey': ['idx'],\n",
       " 'pandas_version': '1.4.0'}"
      ]
     },
     "execution_count": 71,
     "metadata": {},
     "output_type": "execute_result"
    }
   ],
   "source": [
    "build_table_schema(df)"
   ]
  },
  {
   "cell_type": "code",
   "execution_count": null,
   "id": "466a59a4-ce9b-4f14-a99a-2b3b40229177",
   "metadata": {},
   "outputs": [],
   "source": []
  }
 ],
 "metadata": {
  "kernelspec": {
   "display_name": "Python 3 (ipykernel)",
   "language": "python",
   "name": "python3"
  },
  "language_info": {
   "codemirror_mode": {
    "name": "ipython",
    "version": 3
   },
   "file_extension": ".py",
   "mimetype": "text/x-python",
   "name": "python",
   "nbconvert_exporter": "python",
   "pygments_lexer": "ipython3",
   "version": "3.11.8"
  }
 },
 "nbformat": 4,
 "nbformat_minor": 5
}
