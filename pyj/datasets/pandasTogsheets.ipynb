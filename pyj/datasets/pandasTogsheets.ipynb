{
 "cells": [
  {
   "cell_type": "markdown",
   "id": "3f2be7cb-53a2-41eb-a4a2-8d0b8190690b",
   "metadata": {
    "tags": []
   },
   "source": [
    "# export from pandas to google sheets\n",
    "- share Google Sheets with this email : duserviceaccount@ferrous-upgrade-446815-j5.iam.gserviceaccount.com"
   ]
  },
  {
   "cell_type": "code",
   "execution_count": 9,
   "id": "94ad4c74-f8d9-4ecc-81e8-ebe36b835f91",
   "metadata": {
    "tags": []
   },
   "outputs": [],
   "source": [
    "# Method 1\n",
    "#!pip install pygsheets\n",
    "#!pip install df2gspread"
   ]
  },
  {
   "cell_type": "code",
   "execution_count": 10,
   "id": "872999ce-3de8-4c6a-9b53-3f4e1c25d12d",
   "metadata": {
    "tags": []
   },
   "outputs": [],
   "source": [
    "import pandas as pd\n",
    "import pygsheets\n",
    "import df2gspread as d2g"
   ]
  },
  {
   "cell_type": "code",
   "execution_count": 14,
   "id": "41b662cf-a57f-4539-ba7d-a0eaa79f68b3",
   "metadata": {
    "tags": []
   },
   "outputs": [],
   "source": [
    "# Authenticate and create a pygsheets client\n",
    "sfile = \"/Users/du/dup/analytics/keys/duGoogleServiceAccount.json\"\n",
    "client = pygsheets.authorize(service_file=sfile)"
   ]
  },
  {
   "cell_type": "code",
   "execution_count": 12,
   "id": "d6c95c53-7645-44da-9b90-185205a97046",
   "metadata": {
    "tags": []
   },
   "outputs": [],
   "source": [
    "gsheetname='Google Sheets Pandas'"
   ]
  },
  {
   "cell_type": "markdown",
   "id": "ca48dd9a-7d8c-43a1-9288-5d112b89aff8",
   "metadata": {
    "tags": []
   },
   "source": [
    "# Open the Google Sheet\n",
    "sheet = client.open(gsheetname)"
   ]
  },
  {
   "cell_type": "code",
   "execution_count": null,
   "id": "024baac7-98b1-44aa-94bf-82550251d64b",
   "metadata": {},
   "outputs": [],
   "source": [
    "\n",
    "\n",
    "\n",
    "\n",
    "# Select the first worksheet\n",
    "worksheet = sheet[0]\n",
    "\n",
    "# Create a DataFrame\n",
    "data = {\n",
    "    \"Name\": [\"Alice\", \"Bob\", \"Charlie\"],\n",
    "    \"Age\": [25, 30, 35],\n",
    "    \"City\": [\"New York\", \"Los Angeles\", \"Chicago\"]\n",
    "}\n",
    "df = pd.DataFrame(data)\n",
    "\n",
    "# Export the DataFrame to the Google Sheet\n",
    "worksheet.set_dataframe(df, start=\"A1\")\n",
    "\n",
    "print(\"Data exported successfully!\")"
   ]
  },
  {
   "cell_type": "code",
   "execution_count": null,
   "id": "bef31854-42c1-407f-9b43-f54a306fd124",
   "metadata": {},
   "outputs": [],
   "source": [
    "import pandas as pd\n",
    "import pygsheets\n",
    "\n"
   ]
  },
  {
   "cell_type": "markdown",
   "id": "874b0adb-4eb9-4abf-a66d-3493fcd53dd4",
   "metadata": {
    "tags": []
   },
   "source": [
    "\n",
    "# Authenticate and create a pygsheets client\n",
    "client = pygsheets.authorize(service_file=sfile)\n",
    "\n",
    "# Open the Google Sheet\n",
    "sheet = client.open(gsheetname)\n",
    "\n",
    "# Select the first worksheet\n",
    "worksheet = sheet[0]\n",
    "\n",
    "# Create a DataFrame\n",
    "data = {\n",
    "    \"Name\": [\"Alice\", \"Bob\", \"Charlie\"],\n",
    "    \"Age\": [25, 30, 35],\n",
    "    \"City\": [\"New York\", \"Los Angeles\", \"Chicago\"]\n",
    "}\n",
    "df = pd.DataFrame(data)\n",
    "\n",
    "# Export the DataFrame to the Google Sheet\n",
    "worksheet.set_dataframe(df, start=\"A1\")"
   ]
  },
  {
   "cell_type": "code",
   "execution_count": 18,
   "id": "90dfbcd3-812d-4087-a7ba-71022818f1e9",
   "metadata": {
    "tags": []
   },
   "outputs": [],
   "source": [
    "#!pip install pysheets"
   ]
  },
  {
   "cell_type": "code",
   "execution_count": 22,
   "id": "5bb7218a-612f-4c03-ae6d-1a22cd7664da",
   "metadata": {
    "tags": []
   },
   "outputs": [
    {
     "data": {
      "text/plain": [
       "'/Users/du/dup/analytics/keys/duGoogleServiceAccount.json'"
      ]
     },
     "execution_count": 22,
     "metadata": {},
     "output_type": "execute_result"
    }
   ],
   "source": [
    "import pygsheets\n",
    "sfile"
   ]
  },
  {
   "cell_type": "code",
   "execution_count": 21,
   "id": "154476c4-e5e4-48a2-9af9-4df82de0a3b2",
   "metadata": {
    "tags": []
   },
   "outputs": [
    {
     "ename": "ValueError",
     "evalue": "Client secrets must be for a web or installed app.",
     "output_type": "error",
     "traceback": [
      "\u001b[0;31m---------------------------------------------------------------------------\u001b[0m",
      "\u001b[0;31mValueError\u001b[0m                                Traceback (most recent call last)",
      "Cell \u001b[0;32mIn[21], line 2\u001b[0m\n\u001b[1;32m      1\u001b[0m \u001b[38;5;66;03m#pip install pygsheets # in anaconda prompt as admin\u001b[39;00m\n\u001b[0;32m----> 2\u001b[0m gc \u001b[38;5;241m=\u001b[39m pygsheets\u001b[38;5;241m.\u001b[39mauthorize(sfile)\n",
      "File \u001b[0;32m~/anaconda3/lib/python3.11/site-packages/pygsheets/authorization.py:139\u001b[0m, in \u001b[0;36mauthorize\u001b[0;34m(client_secret, service_account_file, service_account_env_var, service_account_json, credentials_directory, scopes, custom_credentials, local, **kwargs)\u001b[0m\n\u001b[1;32m    137\u001b[0m     credentials \u001b[38;5;241m=\u001b[39m service_account\u001b[38;5;241m.\u001b[39mCredentials\u001b[38;5;241m.\u001b[39mfrom_service_account_file(service_account_file, scopes\u001b[38;5;241m=\u001b[39mscopes)\n\u001b[1;32m    138\u001b[0m \u001b[38;5;28;01melse\u001b[39;00m:\n\u001b[0;32m--> 139\u001b[0m     credentials \u001b[38;5;241m=\u001b[39m _get_user_authentication_credentials(client_secret, scopes, credentials_directory, local)\n\u001b[1;32m    141\u001b[0m \u001b[38;5;28;01mreturn\u001b[39;00m Client(credentials, \u001b[38;5;241m*\u001b[39m\u001b[38;5;241m*\u001b[39mkwargs)\n",
      "File \u001b[0;32m~/anaconda3/lib/python3.11/site-packages/pygsheets/authorization.py:46\u001b[0m, in \u001b[0;36m_get_user_authentication_credentials\u001b[0;34m(client_secret_file, scopes, credential_directory, local)\u001b[0m\n\u001b[1;32m     44\u001b[0m     credentials \u001b[38;5;241m=\u001b[39m flow\u001b[38;5;241m.\u001b[39mrun_local_server()\n\u001b[1;32m     45\u001b[0m \u001b[38;5;28;01melse\u001b[39;00m:\n\u001b[0;32m---> 46\u001b[0m     flow \u001b[38;5;241m=\u001b[39m Flow\u001b[38;5;241m.\u001b[39mfrom_client_secrets_file(client_secret_file, scopes\u001b[38;5;241m=\u001b[39mscopes,\n\u001b[1;32m     47\u001b[0m                                          redirect_uri\u001b[38;5;241m=\u001b[39m\u001b[38;5;124m'\u001b[39m\u001b[38;5;124murn:ietf:wg:oauth:2.0:oob\u001b[39m\u001b[38;5;124m'\u001b[39m)\n\u001b[1;32m     48\u001b[0m     auth_url, _ \u001b[38;5;241m=\u001b[39m flow\u001b[38;5;241m.\u001b[39mauthorization_url(prompt\u001b[38;5;241m=\u001b[39m\u001b[38;5;124m'\u001b[39m\u001b[38;5;124mconsent\u001b[39m\u001b[38;5;124m'\u001b[39m)\n\u001b[1;32m     50\u001b[0m     \u001b[38;5;28mprint\u001b[39m(\u001b[38;5;124m'\u001b[39m\u001b[38;5;124mPlease go to this URL and finish the authentication flow: \u001b[39m\u001b[38;5;132;01m{}\u001b[39;00m\u001b[38;5;124m'\u001b[39m\u001b[38;5;241m.\u001b[39mformat(auth_url))\n",
      "File \u001b[0;32m~/anaconda3/lib/python3.11/site-packages/google_auth_oauthlib/flow.py:201\u001b[0m, in \u001b[0;36mFlow.from_client_secrets_file\u001b[0;34m(cls, client_secrets_file, scopes, **kwargs)\u001b[0m\n\u001b[1;32m    198\u001b[0m \u001b[38;5;28;01mwith\u001b[39;00m \u001b[38;5;28mopen\u001b[39m(client_secrets_file, \u001b[38;5;124m\"\u001b[39m\u001b[38;5;124mr\u001b[39m\u001b[38;5;124m\"\u001b[39m) \u001b[38;5;28;01mas\u001b[39;00m json_file:\n\u001b[1;32m    199\u001b[0m     client_config \u001b[38;5;241m=\u001b[39m json\u001b[38;5;241m.\u001b[39mload(json_file)\n\u001b[0;32m--> 201\u001b[0m \u001b[38;5;28;01mreturn\u001b[39;00m \u001b[38;5;28mcls\u001b[39m\u001b[38;5;241m.\u001b[39mfrom_client_config(client_config, scopes\u001b[38;5;241m=\u001b[39mscopes, \u001b[38;5;241m*\u001b[39m\u001b[38;5;241m*\u001b[39mkwargs)\n",
      "File \u001b[0;32m~/anaconda3/lib/python3.11/site-packages/google_auth_oauthlib/flow.py:159\u001b[0m, in \u001b[0;36mFlow.from_client_config\u001b[0;34m(cls, client_config, scopes, **kwargs)\u001b[0m\n\u001b[1;32m    157\u001b[0m     client_type \u001b[38;5;241m=\u001b[39m \u001b[38;5;124m\"\u001b[39m\u001b[38;5;124minstalled\u001b[39m\u001b[38;5;124m\"\u001b[39m\n\u001b[1;32m    158\u001b[0m \u001b[38;5;28;01melse\u001b[39;00m:\n\u001b[0;32m--> 159\u001b[0m     \u001b[38;5;28;01mraise\u001b[39;00m \u001b[38;5;167;01mValueError\u001b[39;00m(\u001b[38;5;124m\"\u001b[39m\u001b[38;5;124mClient secrets must be for a web or installed app.\u001b[39m\u001b[38;5;124m\"\u001b[39m)\n\u001b[1;32m    161\u001b[0m \u001b[38;5;66;03m# these args cannot be passed to requests_oauthlib.OAuth2Session\u001b[39;00m\n\u001b[1;32m    162\u001b[0m code_verifier \u001b[38;5;241m=\u001b[39m kwargs\u001b[38;5;241m.\u001b[39mpop(\u001b[38;5;124m\"\u001b[39m\u001b[38;5;124mcode_verifier\u001b[39m\u001b[38;5;124m\"\u001b[39m, \u001b[38;5;28;01mNone\u001b[39;00m)\n",
      "\u001b[0;31mValueError\u001b[0m: Client secrets must be for a web or installed app."
     ]
    }
   ],
   "source": [
    "#pip install pygsheets # in anaconda prompt as admin\n",
    "gc = pygsheets.authorize(sfile)"
   ]
  },
  {
   "cell_type": "code",
   "execution_count": null,
   "id": "61748b88-506c-4fff-a45f-66473af2d18c",
   "metadata": {},
   "outputs": [],
   "source": []
  },
  {
   "cell_type": "code",
   "execution_count": null,
   "id": "4988a751-88f7-418c-b2dd-87d410488aa1",
   "metadata": {},
   "outputs": [],
   "source": [
    "\n",
    "\n",
    "# Open spreadsheet and then workseet\n",
    "sh = gc.open('my new ssheet')\n",
    "wks = sh.sheet1\n",
    "\n",
    "# Update a cell with value (just to let him know values is updated ;) )\n",
    "wks.update_cell('A1', \"Hey yank this numpy array\")\n",
    "\n",
    "# update the sheet with array\n",
    "wks.update_cells('A2', my_nparray.to_list())\n",
    "\n",
    "# share the sheet with your friend\n",
    "sh.share(\"myFriend@gmail.com\")"
   ]
  },
  {
   "cell_type": "code",
   "execution_count": 23,
   "id": "4a5ea15a-662e-457a-a1b3-96e3f4fa54b1",
   "metadata": {
    "tags": []
   },
   "outputs": [
    {
     "data": {
      "text/html": [
       "<div>\n",
       "<style scoped>\n",
       "    .dataframe tbody tr th:only-of-type {\n",
       "        vertical-align: middle;\n",
       "    }\n",
       "\n",
       "    .dataframe tbody tr th {\n",
       "        vertical-align: top;\n",
       "    }\n",
       "\n",
       "    .dataframe thead th {\n",
       "        text-align: right;\n",
       "    }\n",
       "</style>\n",
       "<table border=\"1\" class=\"dataframe\">\n",
       "  <thead>\n",
       "    <tr style=\"text-align: right;\">\n",
       "      <th></th>\n",
       "      <th>City</th>\n",
       "      <th>region</th>\n",
       "      <th>Res_Comm</th>\n",
       "      <th>mkt_type</th>\n",
       "      <th>Quradate</th>\n",
       "      <th>National_exp</th>\n",
       "      <th>Alabama_exp</th>\n",
       "      <th>Sales_exp</th>\n",
       "      <th>Inventory_exp</th>\n",
       "      <th>Price_exp</th>\n",
       "      <th>Credit_exp</th>\n",
       "    </tr>\n",
       "  </thead>\n",
       "  <tbody>\n",
       "    <tr>\n",
       "      <th>0</th>\n",
       "      <td>Dothan</td>\n",
       "      <td>South_Central-Montgomery-Auburn-Wiregrass-Dothan</td>\n",
       "      <td>Residential</td>\n",
       "      <td>Rural</td>\n",
       "      <td>2010-01-15</td>\n",
       "      <td>2</td>\n",
       "      <td>2</td>\n",
       "      <td>3</td>\n",
       "      <td>2</td>\n",
       "      <td>3</td>\n",
       "      <td>3</td>\n",
       "    </tr>\n",
       "    <tr>\n",
       "      <th>10</th>\n",
       "      <td>Foley</td>\n",
       "      <td>South_Mobile-Baldwin</td>\n",
       "      <td>Residential</td>\n",
       "      <td>Suburban_Urban</td>\n",
       "      <td>2010-01-15</td>\n",
       "      <td>4</td>\n",
       "      <td>4</td>\n",
       "      <td>4</td>\n",
       "      <td>4</td>\n",
       "      <td>4</td>\n",
       "      <td>3</td>\n",
       "    </tr>\n",
       "    <tr>\n",
       "      <th>12</th>\n",
       "      <td>Birmingham</td>\n",
       "      <td>North_Central-Birmingham-Tuscaloosa-Anniston</td>\n",
       "      <td>Commercial</td>\n",
       "      <td>Suburban_Urban</td>\n",
       "      <td>2010-01-15</td>\n",
       "      <td>2</td>\n",
       "      <td>2</td>\n",
       "      <td>3</td>\n",
       "      <td>2</td>\n",
       "      <td>2</td>\n",
       "      <td>3</td>\n",
       "    </tr>\n",
       "    <tr>\n",
       "      <th>38</th>\n",
       "      <td>Brent</td>\n",
       "      <td>North_Central-Birmingham-Tuscaloosa-Anniston</td>\n",
       "      <td>Residential</td>\n",
       "      <td>Rural</td>\n",
       "      <td>2010-01-15</td>\n",
       "      <td>3</td>\n",
       "      <td>3</td>\n",
       "      <td>3</td>\n",
       "      <td>3</td>\n",
       "      <td>3</td>\n",
       "      <td>2</td>\n",
       "    </tr>\n",
       "    <tr>\n",
       "      <th>44</th>\n",
       "      <td>Athens</td>\n",
       "      <td>North_Huntsville-Decatur-Florence</td>\n",
       "      <td>Residential</td>\n",
       "      <td>Suburban_Urban</td>\n",
       "      <td>2010-01-15</td>\n",
       "      <td>4</td>\n",
       "      <td>5</td>\n",
       "      <td>4</td>\n",
       "      <td>4</td>\n",
       "      <td>4</td>\n",
       "      <td>4</td>\n",
       "    </tr>\n",
       "  </tbody>\n",
       "</table>\n",
       "</div>"
      ],
      "text/plain": [
       "          City                                            region     Res_Comm  \\\n",
       "0       Dothan  South_Central-Montgomery-Auburn-Wiregrass-Dothan  Residential   \n",
       "10       Foley                              South_Mobile-Baldwin  Residential   \n",
       "12  Birmingham      North_Central-Birmingham-Tuscaloosa-Anniston   Commercial   \n",
       "38       Brent      North_Central-Birmingham-Tuscaloosa-Anniston  Residential   \n",
       "44      Athens                 North_Huntsville-Decatur-Florence  Residential   \n",
       "\n",
       "          mkt_type   Quradate  National_exp  Alabama_exp  Sales_exp  \\\n",
       "0            Rural 2010-01-15             2            2          3   \n",
       "10  Suburban_Urban 2010-01-15             4            4          4   \n",
       "12  Suburban_Urban 2010-01-15             2            2          3   \n",
       "38           Rural 2010-01-15             3            3          3   \n",
       "44  Suburban_Urban 2010-01-15             4            5          4   \n",
       "\n",
       "    Inventory_exp  Price_exp  Credit_exp  \n",
       "0               2          3           3  \n",
       "10              4          4           3  \n",
       "12              2          2           3  \n",
       "38              3          3           2  \n",
       "44              4          4           4  "
      ]
     },
     "execution_count": 23,
     "metadata": {},
     "output_type": "execute_result"
    }
   ],
   "source": [
    "import pandas as pd\n",
    "\n",
    "test = pd.read_csv('https://docs.google.com/spreadsheets/d/' + '0Ak1ecr7i0wotdGJmTURJRnZLYlV3M2daNTRubTdwTXc' + '/export?gid=0&format=csv',                index_col=0, parse_dates=['Quradate']      )\n",
    "test.head(5) \n"
   ]
  },
  {
   "cell_type": "code",
   "execution_count": 30,
   "id": "466b330a-d651-4a4b-8a24-aeb171bd2388",
   "metadata": {
    "tags": []
   },
   "outputs": [],
   "source": [
    "import auth"
   ]
  },
  {
   "cell_type": "code",
   "execution_count": 26,
   "id": "0b0da0f2-92ce-46b2-8ae6-ab7a67eb4c47",
   "metadata": {
    "tags": []
   },
   "outputs": [],
   "source": [
    "#!pip install auth"
   ]
  },
  {
   "cell_type": "code",
   "execution_count": 31,
   "id": "21dbe004-cc4a-4af9-90d3-c29f6f509bd9",
   "metadata": {
    "tags": []
   },
   "outputs": [],
   "source": [
    "from googleapiclient.discovery import build\n",
    "from google.oauth2 import service_account"
   ]
  },
  {
   "cell_type": "code",
   "execution_count": 32,
   "id": "75136457-f364-4b46-9bfa-2aabbb26a6f7",
   "metadata": {
    "tags": []
   },
   "outputs": [],
   "source": [
    "creds = service_account.Credentials.from_service_account_file( sfile, scopes=['https://www.googleapis.com/auth/drive'] )"
   ]
  },
  {
   "cell_type": "code",
   "execution_count": 34,
   "id": "f153042e-27b1-4710-9eaf-89ffaed72798",
   "metadata": {
    "tags": []
   },
   "outputs": [
    {
     "ename": "NameError",
     "evalue": "name 'drive_service' is not defined",
     "output_type": "error",
     "traceback": [
      "\u001b[0;31m---------------------------------------------------------------------------\u001b[0m",
      "\u001b[0;31mNameError\u001b[0m                                 Traceback (most recent call last)",
      "Cell \u001b[0;32mIn[34], line 4\u001b[0m\n\u001b[1;32m      1\u001b[0m file_id \u001b[38;5;241m=\u001b[39m \u001b[38;5;124m'\u001b[39m\u001b[38;5;124m1gGyH8Xq5Gpy8G6LzowIGM3gieoJ-vHhiwEAk91yYBUs\u001b[39m\u001b[38;5;124m'\u001b[39m\n\u001b[1;32m      2\u001b[0m file_path \u001b[38;5;241m=\u001b[39m \u001b[38;5;124m'\u001b[39m\u001b[38;5;124mpath/to/save/downloaded/file.txt\u001b[39m\u001b[38;5;124m'\u001b[39m\n\u001b[0;32m----> 4\u001b[0m request \u001b[38;5;241m=\u001b[39m drive_service\u001b[38;5;241m.\u001b[39mfiles()\u001b[38;5;241m.\u001b[39mget_media(fileId\u001b[38;5;241m=\u001b[39mfile_id)\n",
      "\u001b[0;31mNameError\u001b[0m: name 'drive_service' is not defined"
     ]
    }
   ],
   "source": [
    "file_id = '1gGyH8Xq5Gpy8G6LzowIGM3gieoJ-vHhiwEAk91yYBUs'\n",
    "file_path = 'path/to/save/downloaded/file.txt'\n",
    "\n",
    "request = drive_service.files().get_media(fileId=file_id)\n"
   ]
  },
  {
   "cell_type": "code",
   "execution_count": null,
   "id": "01d519d4-d3af-44c6-94b4-617e1422f47d",
   "metadata": {},
   "outputs": [],
   "source": []
  }
 ],
 "metadata": {
  "kernelspec": {
   "display_name": "Python 3 (ipykernel)",
   "language": "python",
   "name": "python3"
  },
  "language_info": {
   "codemirror_mode": {
    "name": "ipython",
    "version": 3
   },
   "file_extension": ".py",
   "mimetype": "text/x-python",
   "name": "python",
   "nbconvert_exporter": "python",
   "pygments_lexer": "ipython3",
   "version": "3.11.5"
  }
 },
 "nbformat": 4,
 "nbformat_minor": 5
}
