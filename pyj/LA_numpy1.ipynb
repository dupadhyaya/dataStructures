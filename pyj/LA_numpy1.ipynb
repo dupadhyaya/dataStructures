{
 "cells": [
  {
   "cell_type": "markdown",
   "id": "0025d65b-b39b-45bd-997d-8a9b49e68536",
   "metadata": {},
   "source": [
    "# Linear Algebra"
   ]
  },
  {
   "cell_type": "markdown",
   "id": "c20d9cb0-69e7-475c-9d78-28f2d8016bf4",
   "metadata": {},
   "source": [
    "## Numpy"
   ]
  },
  {
   "cell_type": "code",
   "execution_count": 1,
   "id": "2a075cab-1272-420e-b68b-2de126e5adb6",
   "metadata": {},
   "outputs": [],
   "source": [
    "import numpy as np"
   ]
  },
  {
   "cell_type": "code",
   "execution_count": 5,
   "id": "fffbf1ad-304c-49a5-b477-d31ba50b30c8",
   "metadata": {},
   "outputs": [
    {
     "data": {
      "text/plain": [
       "array([1., 2., 3.])"
      ]
     },
     "execution_count": 5,
     "metadata": {},
     "output_type": "execute_result"
    }
   ],
   "source": [
    "l = [1.0, 2.0, 3.0]\n",
    "a = np.array(l)\n",
    "a"
   ]
  },
  {
   "cell_type": "code",
   "execution_count": 6,
   "id": "2a5deda6-ae69-4669-b72b-08050eb18bc8",
   "metadata": {},
   "outputs": [
    {
     "name": "stdout",
     "output_type": "stream",
     "text": [
      "(3,)\n",
      "float64\n"
     ]
    }
   ],
   "source": [
    "print(a.shape)\n",
    "print(a.dtype)"
   ]
  },
  {
   "cell_type": "code",
   "execution_count": 7,
   "id": "328e8986-646c-4b1e-adb8-59a967e03e93",
   "metadata": {},
   "outputs": [],
   "source": [
    "#empty "
   ]
  },
  {
   "cell_type": "code",
   "execution_count": 8,
   "id": "0e3e0bc0-d68f-4d78-9175-293a71360caa",
   "metadata": {},
   "outputs": [
    {
     "name": "stdout",
     "output_type": "stream",
     "text": [
      "[[ 6.17779239e-31 -1.23555848e-30  3.08889620e-31]\n",
      " [-1.23555848e-30  2.68733969e-30 -8.34001973e-31]\n",
      " [ 3.08889620e-31 -8.34001973e-31  4.78778910e-31]]\n"
     ]
    }
   ],
   "source": [
    "a = np.empty([3,3])\n",
    "print(a)"
   ]
  },
  {
   "cell_type": "code",
   "execution_count": 9,
   "id": "fe8fad6f-3859-4718-ada6-377d3564ee5f",
   "metadata": {},
   "outputs": [
    {
     "name": "stdout",
     "output_type": "stream",
     "text": [
      "[[0. 0. 0. 0. 0.]\n",
      " [0. 0. 0. 0. 0.]\n",
      " [0. 0. 0. 0. 0.]]\n"
     ]
    }
   ],
   "source": [
    "# zeros\n",
    "a = np.zeros([3,5])\n",
    "print(a)"
   ]
  },
  {
   "cell_type": "code",
   "execution_count": 10,
   "id": "dfa02a2a-e698-4244-aa9d-242571509ccf",
   "metadata": {},
   "outputs": [
    {
     "name": "stdout",
     "output_type": "stream",
     "text": [
      "[1. 1. 1. 1. 1.]\n"
     ]
    }
   ],
   "source": [
    "# ones\n",
    "a = np.ones([5])\n",
    "print(a)"
   ]
  },
  {
   "cell_type": "code",
   "execution_count": 13,
   "id": "91946191-9e55-4094-a572-896331d6739c",
   "metadata": {},
   "outputs": [
    {
     "name": "stdout",
     "output_type": "stream",
     "text": [
      "[1 2 3] [4 5 6]\n",
      "[[1 2 3]\n",
      " [4 5 6]]\n",
      "(2, 3)\n"
     ]
    }
   ],
   "source": [
    "# combining arrays - vstack, hstack\n",
    "a1 = np.array([1,2,3])\n",
    "a2 = np.array([4,5,6])\n",
    "print(a1, a2)\n",
    "a3 = np.vstack((a1, a2))\n",
    "print(a3)\n",
    "print(a3.shape)"
   ]
  },
  {
   "cell_type": "code",
   "execution_count": 14,
   "id": "fb5c0931-65fb-4a3e-817c-ef2ed8a9feef",
   "metadata": {},
   "outputs": [
    {
     "name": "stdout",
     "output_type": "stream",
     "text": [
      "[1 2 3 4 5 6]\n",
      "(6,)\n"
     ]
    }
   ],
   "source": [
    "a4 = np.hstack((a1, a2))\n",
    "print(a4)\n",
    "print(a4.shape)"
   ]
  },
  {
   "cell_type": "code",
   "execution_count": 15,
   "id": "7223fd8d-7861-4a10-a81b-68ba5b06b722",
   "metadata": {},
   "outputs": [],
   "source": [
    "## slice, index, reshape"
   ]
  },
  {
   "cell_type": "code",
   "execution_count": 19,
   "id": "cc08c070-bf9f-4935-b410-6e9721bc807c",
   "metadata": {},
   "outputs": [
    {
     "name": "stdout",
     "output_type": "stream",
     "text": [
      "[11 22 33 44 55] <class 'numpy.ndarray'>\n"
     ]
    }
   ],
   "source": [
    "data1D = np.array([11,22,33,44,55])\n",
    "print(data1D, type(data1D))"
   ]
  },
  {
   "cell_type": "code",
   "execution_count": 20,
   "id": "bb665d46-20c8-4891-bec3-2f4b07111d2d",
   "metadata": {},
   "outputs": [
    {
     "name": "stdout",
     "output_type": "stream",
     "text": [
      "[[11 22]\n",
      " [33 44]\n",
      " [55 66]] <class 'numpy.ndarray'>\n"
     ]
    }
   ],
   "source": [
    "# 2 dim\n",
    "data2D = np.array([[11,22], [33,44], [55,66]])\n",
    "print(data2D, type(data2D))"
   ]
  },
  {
   "cell_type": "code",
   "execution_count": 22,
   "id": "81d82f15-7a66-44ea-84dc-ee0666113fbc",
   "metadata": {},
   "outputs": [
    {
     "name": "stdout",
     "output_type": "stream",
     "text": [
      "11 44\n"
     ]
    }
   ],
   "source": [
    "print(data1D[0], data1D[3])"
   ]
  },
  {
   "cell_type": "code",
   "execution_count": 23,
   "id": "556fde9c-45ec-4e4e-a331-ba7d2fecb43e",
   "metadata": {},
   "outputs": [
    {
     "name": "stdout",
     "output_type": "stream",
     "text": [
      "55 11\n"
     ]
    }
   ],
   "source": [
    "print(data1D[-1], data1D[-5])"
   ]
  },
  {
   "cell_type": "code",
   "execution_count": 27,
   "id": "52764df7-d235-49dd-9d46-772742f50cf3",
   "metadata": {},
   "outputs": [
    {
     "name": "stdout",
     "output_type": "stream",
     "text": [
      "[11 22] 22 [11 22]\n"
     ]
    }
   ],
   "source": [
    "print(data2D[0], data2D[0,1], data2D[0,])"
   ]
  },
  {
   "cell_type": "code",
   "execution_count": 33,
   "id": "ac88a96d-62b4-4f49-abdd-8dd0ae7eb70e",
   "metadata": {},
   "outputs": [
    {
     "name": "stdout",
     "output_type": "stream",
     "text": [
      "[[11 22]\n",
      " [33 44]\n",
      " [55 66]] \n",
      "\n",
      "\t [[11 22]\n",
      " [33 44]]\n"
     ]
    }
   ],
   "source": [
    "print(data2D[:], '\\n\\n\\t', data2D[0:2])"
   ]
  },
  {
   "cell_type": "code",
   "execution_count": 34,
   "id": "81554442-e1bb-4635-b588-f68e787916fa",
   "metadata": {},
   "outputs": [
    {
     "data": {
      "text/plain": [
       "array([[11, 22, 33],\n",
       "       [44, 55, 66],\n",
       "       [77, 88, 99]])"
      ]
     },
     "execution_count": 34,
     "metadata": {},
     "output_type": "execute_result"
    }
   ],
   "source": [
    "#slicing\n",
    "data2DB = np.array([[11, 22, 33], [44, 55, 66], [77, 88, 99]])\n",
    "data2DB"
   ]
  },
  {
   "cell_type": "code",
   "execution_count": 35,
   "id": "405aa2be-5834-4318-a592-5639b0306bba",
   "metadata": {},
   "outputs": [
    {
     "name": "stdout",
     "output_type": "stream",
     "text": [
      "[[11 22]\n",
      " [44 55]\n",
      " [77 88]] \n",
      "\n",
      " [33 66 99]\n"
     ]
    }
   ],
   "source": [
    "X, y = data2DB[:, :-1], data2DB[:, -1]\n",
    "print(X, '\\n\\n', y)"
   ]
  },
  {
   "cell_type": "code",
   "execution_count": 38,
   "id": "3c3f98d9-1ab6-4851-8ebf-ad511cb400c7",
   "metadata": {},
   "outputs": [
    {
     "name": "stdout",
     "output_type": "stream",
     "text": [
      "Train Data- \n",
      " [[11 22 33]\n",
      " [44 55 66]] \n",
      " Test Data-  [[77 88 99]]\n"
     ]
    }
   ],
   "source": [
    "train, test = data2DB[:2, :], data2DB[2:, :]\n",
    "print('Train Data- \\n', train, '\\n Test Data- ', test)"
   ]
  },
  {
   "cell_type": "code",
   "execution_count": 39,
   "id": "847457ae-0f45-4d7a-bb5c-ab50587c3b82",
   "metadata": {},
   "outputs": [
    {
     "data": {
      "text/plain": [
       "array([11, 22, 33, 44, 55])"
      ]
     },
     "execution_count": 39,
     "metadata": {},
     "output_type": "execute_result"
    }
   ],
   "source": [
    "data1D"
   ]
  },
  {
   "cell_type": "code",
   "execution_count": 50,
   "id": "127dbbac-5714-4996-be2b-e5d97df34f38",
   "metadata": {},
   "outputs": [
    {
     "name": "stdout",
     "output_type": "stream",
     "text": [
      "(5,) (3, 2)\n"
     ]
    }
   ],
   "source": [
    "print(data1D.shape, data2D.shape)"
   ]
  },
  {
   "cell_type": "code",
   "execution_count": 51,
   "id": "d22dcfae-0920-48b2-b2f2-f5f009ef1fba",
   "metadata": {},
   "outputs": [
    {
     "name": "stdout",
     "output_type": "stream",
     "text": [
      "5 \t Data2D - 3 2\n"
     ]
    }
   ],
   "source": [
    "print(data1D.shape[0], '\\t Data2D -', data2D.shape[0], data2D.shape[1])"
   ]
  },
  {
   "cell_type": "code",
   "execution_count": 52,
   "id": "c11ab792-1343-41df-a0fd-f77917179604",
   "metadata": {},
   "outputs": [
    {
     "name": "stdout",
     "output_type": "stream",
     "text": [
      "[[11]\n",
      " [22]\n",
      " [33]\n",
      " [44]\n",
      " [55]]  Shape-  (5, 1)\n"
     ]
    }
   ],
   "source": [
    "# 1 D to 2 D\n",
    "print(data1D.reshape(data1D.shape[0], 1) , ' Shape- ',  data1D.reshape(data1D.shape[0], 1).shape) "
   ]
  },
  {
   "cell_type": "code",
   "execution_count": 56,
   "id": "122d8ada-8e23-4492-b0e1-884a606b870f",
   "metadata": {},
   "outputs": [
    {
     "data": {
      "text/plain": [
       "array([[11],\n",
       "       [22],\n",
       "       [33],\n",
       "       [44],\n",
       "       [55]])"
      ]
     },
     "execution_count": 56,
     "metadata": {},
     "output_type": "execute_result"
    }
   ],
   "source": [
    "# any Dim to Single Columns\n",
    "data1D.reshape(-1, 1)"
   ]
  },
  {
   "cell_type": "code",
   "execution_count": 57,
   "id": "5875f008-a7d5-4c20-9723-0d6112b7ab99",
   "metadata": {},
   "outputs": [
    {
     "data": {
      "text/plain": [
       "array([[11],\n",
       "       [22],\n",
       "       [33],\n",
       "       [44],\n",
       "       [55],\n",
       "       [66]])"
      ]
     },
     "execution_count": 57,
     "metadata": {},
     "output_type": "execute_result"
    }
   ],
   "source": [
    "data2D.reshape(-1, 1)"
   ]
  },
  {
   "cell_type": "code",
   "execution_count": 60,
   "id": "494cd088-a042-406f-b031-b8e8b8fd4ac9",
   "metadata": {},
   "outputs": [
    {
     "name": "stdout",
     "output_type": "stream",
     "text": [
      "[[[11]\n",
      "  [22]]\n",
      "\n",
      " [[33]\n",
      "  [44]]\n",
      "\n",
      " [[55]\n",
      "  [66]]] (3, 2, 1)\n"
     ]
    }
   ],
   "source": [
    "#2d to 3d\n",
    "print(data2D.reshape(data2D.shape[0], data2D.shape[1], 1), data2D.reshape(data2D.shape[0], data2D.shape[1], 1).shape)\n",
    "# 3 x 2 matrix - 1 array"
   ]
  },
  {
   "cell_type": "markdown",
   "id": "4151fc7a-26e7-496b-aae3-55e3c29cfe57",
   "metadata": {},
   "source": [
    "## Broadcast"
   ]
  },
  {
   "cell_type": "markdown",
   "id": "ab93d5ac-cfe8-47d0-a380-47b72ba50171",
   "metadata": {},
   "source": [
    "## Matrices"
   ]
  },
  {
   "cell_type": "code",
   "execution_count": 63,
   "id": "882f4cae-075a-4e04-ba10-08f0c24ef74d",
   "metadata": {},
   "outputs": [
    {
     "name": "stdout",
     "output_type": "stream",
     "text": [
      "[1 2 3] [4 5 6] [5 7 9] [-3 -3 -3]\n"
     ]
    }
   ],
   "source": [
    "a = np.array([1,2,3])\n",
    "b = np.array([4,5,6])\n",
    "print(a, b, a+b, a-b)"
   ]
  },
  {
   "cell_type": "code",
   "execution_count": 64,
   "id": "aa3432c1-08b5-4456-9451-32c69dc21624",
   "metadata": {},
   "outputs": [
    {
     "name": "stdout",
     "output_type": "stream",
     "text": [
      "[ 4 10 18]\n"
     ]
    }
   ],
   "source": [
    "print(a * b)"
   ]
  },
  {
   "cell_type": "code",
   "execution_count": 65,
   "id": "3fb26e2e-f084-4dd9-b7b8-c61f8103b9d6",
   "metadata": {},
   "outputs": [
    {
     "name": "stdout",
     "output_type": "stream",
     "text": [
      "[0.25 0.4  0.5 ]\n"
     ]
    }
   ],
   "source": [
    "print(a / b)"
   ]
  },
  {
   "cell_type": "code",
   "execution_count": 67,
   "id": "a09c98f8-30ff-4061-9085-5edd8aed8c5d",
   "metadata": {},
   "outputs": [
    {
     "data": {
      "text/plain": [
       "6.0"
      ]
     },
     "execution_count": 67,
     "metadata": {},
     "output_type": "execute_result"
    }
   ],
   "source": [
    "np.linalg.norm(a,1 )"
   ]
  },
  {
   "cell_type": "code",
   "execution_count": 73,
   "id": "413af89a-27e9-490a-ae8f-cc45101eed61",
   "metadata": {},
   "outputs": [
    {
     "data": {
      "text/plain": [
       "0.8571428571428571"
      ]
     },
     "execution_count": 73,
     "metadata": {},
     "output_type": "execute_result"
    }
   ],
   "source": [
    "np.linalg.norm(a , -2)"
   ]
  },
  {
   "cell_type": "markdown",
   "id": "4946be7b-f3ea-4873-b52c-ac05ba3d0c51",
   "metadata": {},
   "source": [
    "## Matrix Multiplication, Addition, Subtraction, Division"
   ]
  },
  {
   "cell_type": "code",
   "execution_count": 75,
   "id": "d20398d2-8683-4c26-96ad-d5a27297025f",
   "metadata": {},
   "outputs": [
    {
     "data": {
      "text/plain": [
       "array([[1, 2, 3],\n",
       "       [4, 5, 6],\n",
       "       [7, 8, 9]])"
      ]
     },
     "execution_count": 75,
     "metadata": {},
     "output_type": "execute_result"
    }
   ],
   "source": [
    "M = np.array([[1,2,3], [4,5,6], [7,8,9]])\n",
    "M"
   ]
  },
  {
   "cell_type": "code",
   "execution_count": 76,
   "id": "74639330-ebe8-40d7-b5f3-5823ea6ee0f2",
   "metadata": {},
   "outputs": [
    {
     "data": {
      "text/plain": [
       "array([[1, 0, 0],\n",
       "       [4, 5, 0],\n",
       "       [7, 8, 9]])"
      ]
     },
     "execution_count": 76,
     "metadata": {},
     "output_type": "execute_result"
    }
   ],
   "source": [
    "lower = np.tril(M)\n",
    "lower"
   ]
  },
  {
   "cell_type": "code",
   "execution_count": 77,
   "id": "c4cd0be1-db1c-4792-90eb-41317cf335b5",
   "metadata": {},
   "outputs": [
    {
     "data": {
      "text/plain": [
       "array([[1, 2, 3],\n",
       "       [0, 5, 6],\n",
       "       [0, 0, 9]])"
      ]
     },
     "execution_count": 77,
     "metadata": {},
     "output_type": "execute_result"
    }
   ],
   "source": [
    "upper = np.triu(M)\n",
    "upper"
   ]
  },
  {
   "cell_type": "code",
   "execution_count": 78,
   "id": "a1846908-5440-41d7-9669-7cc8a822cbdf",
   "metadata": {},
   "outputs": [
    {
     "data": {
      "text/plain": [
       "array([1, 5, 9])"
      ]
     },
     "execution_count": 78,
     "metadata": {},
     "output_type": "execute_result"
    }
   ],
   "source": [
    "d = np.diag(M)\n",
    "d"
   ]
  },
  {
   "cell_type": "code",
   "execution_count": 79,
   "id": "aca4cd20-c2d5-4ca9-85b8-c8c91e981d19",
   "metadata": {},
   "outputs": [
    {
     "data": {
      "text/plain": [
       "array([[1, 0, 0],\n",
       "       [0, 5, 0],\n",
       "       [0, 0, 9]])"
      ]
     },
     "execution_count": 79,
     "metadata": {},
     "output_type": "execute_result"
    }
   ],
   "source": [
    "np.diag(d)"
   ]
  },
  {
   "cell_type": "code",
   "execution_count": 80,
   "id": "855d9f32-872b-41d1-9b8b-0f3b136e684d",
   "metadata": {},
   "outputs": [
    {
     "data": {
      "text/plain": [
       "array([[1., 0., 0.],\n",
       "       [0., 1., 0.],\n",
       "       [0., 0., 1.]])"
      ]
     },
     "execution_count": 80,
     "metadata": {},
     "output_type": "execute_result"
    }
   ],
   "source": [
    "I = np.identity(3)\n",
    "I"
   ]
  },
  {
   "cell_type": "code",
   "execution_count": 83,
   "id": "38805bd0-6eb1-4328-bd2b-0ecad5a0eaf0",
   "metadata": {},
   "outputs": [
    {
     "data": {
      "text/plain": [
       "array([[1., 0., 0.],\n",
       "       [0., 1., 0.],\n",
       "       [0., 0., 1.]])"
      ]
     },
     "execution_count": 83,
     "metadata": {},
     "output_type": "execute_result"
    }
   ],
   "source": [
    "V = np.linalg.inv(I)\n",
    "V"
   ]
  },
  {
   "cell_type": "code",
   "execution_count": 84,
   "id": "6d9b66e3-f34e-4b42-bc77-1443c34885c9",
   "metadata": {},
   "outputs": [
    {
     "data": {
      "text/plain": [
       "array([[1., 0., 0.],\n",
       "       [0., 1., 0.],\n",
       "       [0., 0., 1.]])"
      ]
     },
     "execution_count": 84,
     "metadata": {},
     "output_type": "execute_result"
    }
   ],
   "source": [
    "V.T"
   ]
  },
  {
   "cell_type": "markdown",
   "id": "6acc0254-ddfe-4e5e-ab32-a1d9f3d42b7f",
   "metadata": {},
   "source": [
    "## Matrix Operations"
   ]
  },
  {
   "cell_type": "code",
   "execution_count": 86,
   "id": "494b213b-b223-49b0-ba7e-c2d0f2437089",
   "metadata": {},
   "outputs": [
    {
     "data": {
      "text/plain": [
       "array([[1, 2],\n",
       "       [3, 4],\n",
       "       [5, 6]])"
      ]
     },
     "execution_count": 86,
     "metadata": {},
     "output_type": "execute_result"
    }
   ],
   "source": [
    "A = np.array([ [1, 2], [3, 4], [5, 6]])\n",
    "A"
   ]
  },
  {
   "cell_type": "code",
   "execution_count": 87,
   "id": "3c998467-d96b-4c63-a32d-9e28277fdabb",
   "metadata": {},
   "outputs": [
    {
     "data": {
      "text/plain": [
       "array([[1, 3, 5],\n",
       "       [2, 4, 6]])"
      ]
     },
     "execution_count": 87,
     "metadata": {},
     "output_type": "execute_result"
    }
   ],
   "source": [
    "C = A.T\n",
    "C"
   ]
  },
  {
   "cell_type": "code",
   "execution_count": 93,
   "id": "e32616d0-3695-4d3d-9e5f-6372d206cf11",
   "metadata": {},
   "outputs": [
    {
     "name": "stdout",
     "output_type": "stream",
     "text": [
      "[[1 2]\n",
      " [3 4]]\n"
     ]
    },
    {
     "data": {
      "text/plain": [
       "array([[-2. ,  1. ],\n",
       "       [ 1.5, -0.5]])"
      ]
     },
     "execution_count": 93,
     "metadata": {},
     "output_type": "execute_result"
    }
   ],
   "source": [
    "A = np.array([[1, 2] , [3,4]])\n",
    "print(A)\n",
    "AI = np.linalg.inv(A)  #inverse of matrix\n",
    "AI"
   ]
  },
  {
   "cell_type": "code",
   "execution_count": 94,
   "id": "57996cde-16a4-47f2-88cd-e9c66109e60e",
   "metadata": {},
   "outputs": [
    {
     "data": {
      "text/plain": [
       "array([[1.0000000e+00, 0.0000000e+00],\n",
       "       [8.8817842e-16, 1.0000000e+00]])"
      ]
     },
     "execution_count": 94,
     "metadata": {},
     "output_type": "execute_result"
    }
   ],
   "source": [
    "A.dot(AI)"
   ]
  },
  {
   "cell_type": "code",
   "execution_count": 95,
   "id": "3da4692d-d92b-4d69-bdd1-6ccfcb402476",
   "metadata": {},
   "outputs": [
    {
     "data": {
      "text/plain": [
       "-2.4999999999999996"
      ]
     },
     "execution_count": 95,
     "metadata": {},
     "output_type": "execute_result"
    }
   ],
   "source": [
    "np.trace(AI)"
   ]
  },
  {
   "cell_type": "code",
   "execution_count": 96,
   "id": "81c7c8eb-a0b0-4afe-8779-2d15e6735435",
   "metadata": {},
   "outputs": [
    {
     "data": {
      "text/plain": [
       "-2.0000000000000004"
      ]
     },
     "execution_count": 96,
     "metadata": {},
     "output_type": "execute_result"
    }
   ],
   "source": [
    "np.linalg.det(A)"
   ]
  },
  {
   "cell_type": "code",
   "execution_count": 97,
   "id": "657a9303-8a96-4f44-9057-895b60ce5a9d",
   "metadata": {},
   "outputs": [
    {
     "data": {
      "text/plain": [
       "2"
      ]
     },
     "execution_count": 97,
     "metadata": {},
     "output_type": "execute_result"
    }
   ],
   "source": [
    "np.linalg.matrix_rank(A)"
   ]
  },
  {
   "cell_type": "markdown",
   "id": "2502d6fe-43ae-4122-b8e6-7509328093af",
   "metadata": {},
   "source": [
    "## sparse matrix"
   ]
  },
  {
   "cell_type": "code",
   "execution_count": 99,
   "id": "311595c4-a97c-4b7d-bb37-ffc1e0ec5f18",
   "metadata": {},
   "outputs": [],
   "source": [
    "import scipy as sc"
   ]
  },
  {
   "cell_type": "code",
   "execution_count": 98,
   "id": "5289a76a-f456-442d-b97f-63e5ee479f1f",
   "metadata": {},
   "outputs": [
    {
     "name": "stdout",
     "output_type": "stream",
     "text": [
      "[[1 0 0 1 0 0]\n",
      " [0 0 2 0 0 1]\n",
      " [0 0 0 2 0 0]]\n"
     ]
    }
   ],
   "source": [
    "A = np.array([\n",
    "    [1,0,0,1,0,0],\n",
    "    [0,0,2,0,0,1],\n",
    "    [0,0,0,2,0,0]])\n",
    "print(A)"
   ]
  },
  {
   "cell_type": "code",
   "execution_count": 100,
   "id": "1466ba94-d25f-48f0-85de-7a720e67e07f",
   "metadata": {},
   "outputs": [
    {
     "data": {
      "text/plain": [
       "<3x6 sparse matrix of type '<class 'numpy.int64'>'\n",
       "\twith 5 stored elements in Compressed Sparse Row format>"
      ]
     },
     "execution_count": 100,
     "metadata": {},
     "output_type": "execute_result"
    }
   ],
   "source": [
    "SA = sc.sparse.csr_matrix(A)\n",
    "SA"
   ]
  },
  {
   "cell_type": "code",
   "execution_count": 101,
   "id": "2df728d8-5051-4b77-a533-213a4740aac2",
   "metadata": {},
   "outputs": [
    {
     "data": {
      "text/plain": [
       "matrix([[1, 0, 0, 1, 0, 0],\n",
       "        [0, 0, 2, 0, 0, 1],\n",
       "        [0, 0, 0, 2, 0, 0]])"
      ]
     },
     "execution_count": 101,
     "metadata": {},
     "output_type": "execute_result"
    }
   ],
   "source": [
    "BA = SA.todense()\n",
    "BA"
   ]
  },
  {
   "cell_type": "code",
   "execution_count": 103,
   "id": "39aef077-15db-4af2-aee8-5cb1a312db19",
   "metadata": {},
   "outputs": [
    {
     "data": {
      "text/plain": [
       "0.7222222222222222"
      ]
     },
     "execution_count": 103,
     "metadata": {},
     "output_type": "execute_result"
    }
   ],
   "source": [
    "sparsity = 1.0 - np.count_nonzero(A) / A.size\n",
    "sparsity"
   ]
  },
  {
   "cell_type": "markdown",
   "id": "e23bac35-7c53-40ca-b795-53e02d52bd22",
   "metadata": {},
   "source": [
    "## Factorise"
   ]
  },
  {
   "cell_type": "code",
   "execution_count": null,
   "id": "b83f8eb3-4376-4cc6-b917-a80f2a5eb69d",
   "metadata": {},
   "outputs": [],
   "source": []
  }
 ],
 "metadata": {
  "kernelspec": {
   "display_name": "Python 3 (ipykernel)",
   "language": "python",
   "name": "python3"
  },
  "language_info": {
   "codemirror_mode": {
    "name": "ipython",
    "version": 3
   },
   "file_extension": ".py",
   "mimetype": "text/x-python",
   "name": "python",
   "nbconvert_exporter": "python",
   "pygments_lexer": "ipython3",
   "version": "3.11.5"
  }
 },
 "nbformat": 4,
 "nbformat_minor": 5
}
