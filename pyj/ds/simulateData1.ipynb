{
 "cells": [
  {
   "cell_type": "markdown",
   "id": "e7da62ce-9e80-4b7f-9593-cdff20fd57bd",
   "metadata": {},
   "source": [
    "# Simulate data\n",
    "- faker library\n",
    "- https://fakerjs.dev/api/date.html#between"
   ]
  },
  {
   "cell_type": "code",
   "execution_count": 3,
   "id": "e36dec34-e091-4ad1-a93e-ea779aba416b",
   "metadata": {},
   "outputs": [],
   "source": [
    "#!pip install faker"
   ]
  },
  {
   "cell_type": "code",
   "execution_count": 4,
   "id": "25b69051-22a5-4466-a575-e16a864fd846",
   "metadata": {},
   "outputs": [],
   "source": [
    "import pandas as pd\n",
    "import numpy as np\n",
    "from faker import Faker\n",
    "import random\n",
    "from datetime import datetime, timedelta"
   ]
  },
  {
   "cell_type": "code",
   "execution_count": 5,
   "id": "abd6dd48-2d74-4805-a3c9-f1c77cf7a3b3",
   "metadata": {},
   "outputs": [],
   "source": [
    "fake = Faker('en_IN')"
   ]
  },
  {
   "cell_type": "code",
   "execution_count": 6,
   "id": "d704fc1f-d8d7-4a0e-9c25-e29d590672a8",
   "metadata": {},
   "outputs": [],
   "source": [
    "def generate_random_date(start_date, end_date):\n",
    "    return fake.date_between_dates(date_start=start_date, date_end=end_date)"
   ]
  },
  {
   "cell_type": "code",
   "execution_count": 7,
   "id": "9ad90ac0-51d0-4df7-be5b-2b5b41d07f82",
   "metadata": {},
   "outputs": [],
   "source": [
    "num_rows = 20000\n",
    "columns = ['empcode', 'campus', 'Salutation', 'name', 'DOJ', 'DOB', 'Age', 'gender', 'cadre']\n",
    "data = []"
   ]
  },
  {
   "cell_type": "code",
   "execution_count": null,
   "id": "7a820115-743e-454a-b870-d1a33588008a",
   "metadata": {},
   "outputs": [],
   "source": []
  },
  {
   "cell_type": "code",
   "execution_count": 8,
   "id": "6420aa55-5ba4-4b6d-b078-b4e9110908cc",
   "metadata": {},
   "outputs": [],
   "source": [
    "for _ in range(num_rows):\n",
    "    empcode = fake.unique.random_number(digits=5)\n",
    "    campus = fake.random_element(elements=('AUMP', 'AUCG', 'AURJ','AUUP','AUMH'))\n",
    "    salutation = fake.random_element(elements=('Mr.', 'Ms.', 'Dr.'))\n",
    "    name = fake.name()\n",
    "    doj = generate_random_date(datetime(2020, 1, 1), datetime(2023, 1, 1)).strftime('%Y-%m-%d')\n",
    "    dob = generate_random_date(datetime(1960, 1, 1), datetime(2000, 1, 1)).strftime('%Y-%m-%d')\n",
    "    age = fake.random_int(min=22, max=60)\n",
    "    gender = fake.random_element(elements=('Male', 'Female'))\n",
    "    cadre = fake.random_element(elements=('Professor', 'Associate Professor', 'Assistant Professor'))\n",
    "    data.append([empcode, campus, salutation, name, doj, dob, age, gender, cadre])\n",
    "df = pd.DataFrame(data, columns=columns)"
   ]
  },
  {
   "cell_type": "code",
   "execution_count": 9,
   "id": "4cbbc32a-d66c-4021-807d-517e3e652efa",
   "metadata": {},
   "outputs": [
    {
     "data": {
      "text/html": [
       "<div>\n",
       "<style scoped>\n",
       "    .dataframe tbody tr th:only-of-type {\n",
       "        vertical-align: middle;\n",
       "    }\n",
       "\n",
       "    .dataframe tbody tr th {\n",
       "        vertical-align: top;\n",
       "    }\n",
       "\n",
       "    .dataframe thead th {\n",
       "        text-align: right;\n",
       "    }\n",
       "</style>\n",
       "<table border=\"1\" class=\"dataframe\">\n",
       "  <thead>\n",
       "    <tr style=\"text-align: right;\">\n",
       "      <th></th>\n",
       "      <th>empcode</th>\n",
       "      <th>campus</th>\n",
       "      <th>Salutation</th>\n",
       "      <th>name</th>\n",
       "      <th>DOJ</th>\n",
       "      <th>DOB</th>\n",
       "      <th>Age</th>\n",
       "      <th>gender</th>\n",
       "      <th>cadre</th>\n",
       "    </tr>\n",
       "  </thead>\n",
       "  <tbody>\n",
       "    <tr>\n",
       "      <th>0</th>\n",
       "      <td>63642</td>\n",
       "      <td>AUUP</td>\n",
       "      <td>Dr.</td>\n",
       "      <td>Kashvi Soni</td>\n",
       "      <td>2021-08-21</td>\n",
       "      <td>1992-04-30</td>\n",
       "      <td>44</td>\n",
       "      <td>Male</td>\n",
       "      <td>Assistant Professor</td>\n",
       "    </tr>\n",
       "    <tr>\n",
       "      <th>1</th>\n",
       "      <td>8397</td>\n",
       "      <td>AUMH</td>\n",
       "      <td>Dr.</td>\n",
       "      <td>Faiyaz Kannan</td>\n",
       "      <td>2021-05-25</td>\n",
       "      <td>1993-09-02</td>\n",
       "      <td>29</td>\n",
       "      <td>Male</td>\n",
       "      <td>Professor</td>\n",
       "    </tr>\n",
       "    <tr>\n",
       "      <th>2</th>\n",
       "      <td>84791</td>\n",
       "      <td>AUUP</td>\n",
       "      <td>Mr.</td>\n",
       "      <td>Taran Sengupta</td>\n",
       "      <td>2020-06-19</td>\n",
       "      <td>1965-02-24</td>\n",
       "      <td>46</td>\n",
       "      <td>Male</td>\n",
       "      <td>Assistant Professor</td>\n",
       "    </tr>\n",
       "    <tr>\n",
       "      <th>3</th>\n",
       "      <td>12707</td>\n",
       "      <td>AUMP</td>\n",
       "      <td>Mr.</td>\n",
       "      <td>Emir Khanna</td>\n",
       "      <td>2022-08-20</td>\n",
       "      <td>1966-05-17</td>\n",
       "      <td>45</td>\n",
       "      <td>Male</td>\n",
       "      <td>Associate Professor</td>\n",
       "    </tr>\n",
       "    <tr>\n",
       "      <th>4</th>\n",
       "      <td>20590</td>\n",
       "      <td>AUCG</td>\n",
       "      <td>Mr.</td>\n",
       "      <td>Madhav Khosla</td>\n",
       "      <td>2020-02-24</td>\n",
       "      <td>1961-04-07</td>\n",
       "      <td>37</td>\n",
       "      <td>Female</td>\n",
       "      <td>Professor</td>\n",
       "    </tr>\n",
       "  </tbody>\n",
       "</table>\n",
       "</div>"
      ],
      "text/plain": [
       "   empcode campus Salutation            name         DOJ         DOB  Age  \\\n",
       "0    63642   AUUP        Dr.     Kashvi Soni  2021-08-21  1992-04-30   44   \n",
       "1     8397   AUMH        Dr.   Faiyaz Kannan  2021-05-25  1993-09-02   29   \n",
       "2    84791   AUUP        Mr.  Taran Sengupta  2020-06-19  1965-02-24   46   \n",
       "3    12707   AUMP        Mr.     Emir Khanna  2022-08-20  1966-05-17   45   \n",
       "4    20590   AUCG        Mr.   Madhav Khosla  2020-02-24  1961-04-07   37   \n",
       "\n",
       "   gender                cadre  \n",
       "0    Male  Assistant Professor  \n",
       "1    Male            Professor  \n",
       "2    Male  Assistant Professor  \n",
       "3    Male  Associate Professor  \n",
       "4  Female            Professor  "
      ]
     },
     "execution_count": 9,
     "metadata": {},
     "output_type": "execute_result"
    }
   ],
   "source": [
    "df.head()"
   ]
  },
  {
   "cell_type": "code",
   "execution_count": null,
   "id": "915c37e9-63c0-4882-bb29-e1da19e05b36",
   "metadata": {},
   "outputs": [],
   "source": []
  }
 ],
 "metadata": {
  "kernelspec": {
   "display_name": "Python 3 (ipykernel)",
   "language": "python",
   "name": "python3"
  },
  "language_info": {
   "codemirror_mode": {
    "name": "ipython",
    "version": 3
   },
   "file_extension": ".py",
   "mimetype": "text/x-python",
   "name": "python",
   "nbconvert_exporter": "python",
   "pygments_lexer": "ipython3",
   "version": "3.11.5"
  }
 },
 "nbformat": 4,
 "nbformat_minor": 5
}
