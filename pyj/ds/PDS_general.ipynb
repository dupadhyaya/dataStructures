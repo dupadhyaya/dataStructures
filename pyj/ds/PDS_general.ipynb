{
 "cells": [
  {
   "cell_type": "markdown",
   "id": "ad43d123",
   "metadata": {},
   "source": [
    "# General"
   ]
  },
  {
   "cell_type": "markdown",
   "id": "d6adb475",
   "metadata": {},
   "source": [
    "## Boolean : False True"
   ]
  },
  {
   "cell_type": "code",
   "execution_count": 2,
   "id": "fad8cc38",
   "metadata": {},
   "outputs": [
    {
     "data": {
      "text/plain": [
       "False"
      ]
     },
     "execution_count": 2,
     "metadata": {},
     "output_type": "execute_result"
    }
   ],
   "source": [
    "(1 > 2)"
   ]
  },
  {
   "cell_type": "code",
   "execution_count": 3,
   "id": "bfbe44f3",
   "metadata": {},
   "outputs": [
    {
     "data": {
      "text/plain": [
       "True"
      ]
     },
     "execution_count": 3,
     "metadata": {},
     "output_type": "execute_result"
    }
   ],
   "source": [
    "(2 > 1)"
   ]
  },
  {
   "cell_type": "markdown",
   "id": "42e369bb",
   "metadata": {},
   "source": [
    "## Logical Operators : and, or , not"
   ]
  },
  {
   "cell_type": "code",
   "execution_count": 4,
   "id": "5beb18ba",
   "metadata": {},
   "outputs": [
    {
     "name": "stdout",
     "output_type": "stream",
     "text": [
      "True False\n"
     ]
    }
   ],
   "source": [
    "x, y = True, False\n",
    "print(x, y)"
   ]
  },
  {
   "cell_type": "code",
   "execution_count": 5,
   "id": "cb7c35f7",
   "metadata": {},
   "outputs": [
    {
     "data": {
      "text/plain": [
       "True"
      ]
     },
     "execution_count": 5,
     "metadata": {},
     "output_type": "execute_result"
    }
   ],
   "source": [
    "(x or y)"
   ]
  },
  {
   "cell_type": "code",
   "execution_count": 6,
   "id": "d6e36105",
   "metadata": {},
   "outputs": [
    {
     "data": {
      "text/plain": [
       "False"
      ]
     },
     "execution_count": 6,
     "metadata": {},
     "output_type": "execute_result"
    }
   ],
   "source": [
    "(x and y)"
   ]
  },
  {
   "cell_type": "code",
   "execution_count": 7,
   "id": "596e5632",
   "metadata": {},
   "outputs": [
    {
     "data": {
      "text/plain": [
       "True"
      ]
     },
     "execution_count": 7,
     "metadata": {},
     "output_type": "execute_result"
    }
   ],
   "source": [
    "(not y)"
   ]
  },
  {
   "cell_type": "markdown",
   "id": "2ae88961",
   "metadata": {},
   "source": [
    "## Break\n",
    "- ends loop prematurely"
   ]
  },
  {
   "cell_type": "code",
   "execution_count": 8,
   "id": "291bdfba",
   "metadata": {},
   "outputs": [
    {
     "name": "stdout",
     "output_type": "stream",
     "text": [
      "Hello World\n"
     ]
    }
   ],
   "source": [
    "while (True):\n",
    "    break\n",
    "print('Hello World')"
   ]
  },
  {
   "cell_type": "markdown",
   "id": "f7766219",
   "metadata": {},
   "source": [
    "## Continue\n",
    "-  Finishes current loop iteration"
   ]
  },
  {
   "cell_type": "markdown",
   "id": "b0c9257d",
   "metadata": {},
   "source": [
    "while (True):\n",
    "    continue\n",
    "    print('43')\n",
    "#dead code"
   ]
  },
  {
   "cell_type": "markdown",
   "id": "4994ba29",
   "metadata": {},
   "source": [
    "## class & def\n",
    "-  defines a new class -> a real word concept (OOPs)\n",
    "## def\n",
    "-  Defines a new function or class method"
   ]
  },
  {
   "cell_type": "code",
   "execution_count": 11,
   "id": "86771a9a",
   "metadata": {},
   "outputs": [],
   "source": [
    "class Beer :\n",
    "    def _init_ (self):\n",
    "        self.content = 1.0\n",
    "    def drink (self):\n",
    "        self.content = 0.0"
   ]
  },
  {
   "cell_type": "code",
   "execution_count": 23,
   "id": "8fd2e9cb",
   "metadata": {},
   "outputs": [],
   "source": [
    "becks = Beer() # create class \n",
    "#print(becks, becks.drink)"
   ]
  },
  {
   "cell_type": "code",
   "execution_count": 24,
   "id": "a232eaa1",
   "metadata": {},
   "outputs": [
    {
     "name": "stdout",
     "output_type": "stream",
     "text": [
      "<bound method Beer.drink of <__main__.Beer object at 0x0000028A3D7D9510>>\n"
     ]
    }
   ],
   "source": [
    "becks.drink\n",
    "print(becks.drink)"
   ]
  },
  {
   "cell_type": "code",
   "execution_count": 25,
   "id": "280b0207",
   "metadata": {},
   "outputs": [
    {
     "name": "stdout",
     "output_type": "stream",
     "text": [
      "2\n"
     ]
    }
   ],
   "source": [
    "becks.drink = 2\n",
    "print(becks.drink)"
   ]
  },
  {
   "cell_type": "markdown",
   "id": "303e269b",
   "metadata": {},
   "source": [
    "## conditional statements : if, elif, else\n",
    "-  starts with if\n",
    "-  tries the elif branches\n",
    "-  finishes with else till it is True"
   ]
  },
  {
   "cell_type": "code",
   "execution_count": 28,
   "id": "830f7072",
   "metadata": {},
   "outputs": [
    {
     "name": "stdout",
     "output_type": "stream",
     "text": [
      "Your Integer Value : 5\n",
      " Value is  5\n"
     ]
    }
   ],
   "source": [
    "x = int (input ('Your Integer Value : '))\n",
    "print (' Value is ', x)"
   ]
  },
  {
   "cell_type": "code",
   "execution_count": 29,
   "id": "8c4f6774",
   "metadata": {},
   "outputs": [
    {
     "name": "stdout",
     "output_type": "stream",
     "text": [
      "Value Less thank 10\n"
     ]
    }
   ],
   "source": [
    "if x > 10 : print('Values Greater than 10')\n",
    "elif x == 10 : print('Value Equal to 10')\n",
    "else : print('Value Less thank 10')        "
   ]
  },
  {
   "cell_type": "markdown",
   "id": "f3468c0b",
   "metadata": {},
   "source": [
    "## Loops : for, while"
   ]
  },
  {
   "cell_type": "code",
   "execution_count": 30,
   "id": "2c358c8f",
   "metadata": {},
   "outputs": [
    {
     "name": "stdout",
     "output_type": "stream",
     "text": [
      "0\n",
      "1\n",
      "2\n"
     ]
    }
   ],
   "source": [
    "# for loop\n",
    "for i in [0, 1,2]:\n",
    "    print(i)"
   ]
  },
  {
   "cell_type": "code",
   "execution_count": 31,
   "id": "59ed92e3",
   "metadata": {},
   "outputs": [
    {
     "name": "stdout",
     "output_type": "stream",
     "text": [
      "0\n",
      "1\n",
      "2\n"
     ]
    }
   ],
   "source": [
    "j = 0\n",
    "while j < 3:\n",
    "    print(j)\n",
    "    j+=1"
   ]
  },
  {
   "cell_type": "markdown",
   "id": "cbf0d9ef",
   "metadata": {},
   "source": [
    "## in : check\n",
    "-  check if element in sequence"
   ]
  },
  {
   "cell_type": "code",
   "execution_count": 33,
   "id": "79266282",
   "metadata": {},
   "outputs": [
    {
     "data": {
      "text/plain": [
       "True"
      ]
     },
     "execution_count": 33,
     "metadata": {},
     "output_type": "execute_result"
    }
   ],
   "source": [
    "42 in [2, 42, 39, 42]"
   ]
  },
  {
   "cell_type": "markdown",
   "id": "3a31f123",
   "metadata": {},
   "source": [
    "## is \n",
    "-  check if both elements point to the same object"
   ]
  },
  {
   "cell_type": "code",
   "execution_count": 34,
   "id": "1f6965f6",
   "metadata": {},
   "outputs": [
    {
     "data": {
      "text/plain": [
       "True"
      ]
     },
     "execution_count": 34,
     "metadata": {},
     "output_type": "execute_result"
    }
   ],
   "source": [
    "y = x = 3\n",
    "x is y"
   ]
  },
  {
   "cell_type": "code",
   "execution_count": 36,
   "id": "d1907b7e",
   "metadata": {},
   "outputs": [
    {
     "data": {
      "text/plain": [
       "False"
      ]
     },
     "execution_count": 36,
     "metadata": {},
     "output_type": "execute_result"
    }
   ],
   "source": [
    "[3] is [3] #  ? "
   ]
  },
  {
   "cell_type": "markdown",
   "id": "1901fe08",
   "metadata": {},
   "source": [
    "## None\n",
    "-  Emppty constant value"
   ]
  },
  {
   "cell_type": "code",
   "execution_count": 41,
   "id": "1fa5b078",
   "metadata": {},
   "outputs": [
    {
     "name": "stdout",
     "output_type": "stream",
     "text": [
      "<function f at 0x0000028A3CA677E0>\n"
     ]
    }
   ],
   "source": [
    "def f():\n",
    "    x = 2\n",
    "print(f)"
   ]
  },
  {
   "cell_type": "code",
   "execution_count": 38,
   "id": "5aa322eb",
   "metadata": {},
   "outputs": [
    {
     "data": {
      "text/plain": [
       "True"
      ]
     },
     "execution_count": 38,
     "metadata": {},
     "output_type": "execute_result"
    }
   ],
   "source": [
    "# check f() does not have any value\n",
    "f() is None"
   ]
  },
  {
   "cell_type": "markdown",
   "id": "20f80860",
   "metadata": {},
   "source": [
    "## lambda\n",
    "-  Function with no name (annoymous function)"
   ]
  },
  {
   "cell_type": "code",
   "execution_count": 42,
   "id": "543192f2",
   "metadata": {},
   "outputs": [
    {
     "data": {
      "text/plain": [
       "7"
      ]
     },
     "execution_count": 42,
     "metadata": {},
     "output_type": "execute_result"
    }
   ],
   "source": [
    "(lambda x : x +3)(4)"
   ]
  },
  {
   "cell_type": "markdown",
   "id": "7db621f1",
   "metadata": {},
   "source": [
    "## return\n",
    "-  terminates execution of the function and passes the flow of execution to the caller\n",
    "-  optional value after the return specifies function result"
   ]
  },
  {
   "cell_type": "code",
   "execution_count": 44,
   "id": "03edd381",
   "metadata": {},
   "outputs": [],
   "source": [
    "def incrementor(x):\n",
    "    return x + 1"
   ]
  },
  {
   "cell_type": "code",
   "execution_count": 45,
   "id": "1a6cec0b",
   "metadata": {},
   "outputs": [
    {
     "data": {
      "text/plain": [
       "5"
      ]
     },
     "execution_count": 45,
     "metadata": {},
     "output_type": "execute_result"
    }
   ],
   "source": [
    "incrementor (4)"
   ]
  },
  {
   "cell_type": "code",
   "execution_count": null,
   "id": "dee9c50b",
   "metadata": {},
   "outputs": [],
   "source": []
  }
 ],
 "metadata": {
  "kernelspec": {
   "display_name": "Python 3 (ipykernel)",
   "language": "python",
   "name": "python3"
  },
  "language_info": {
   "codemirror_mode": {
    "name": "ipython",
    "version": 3
   },
   "file_extension": ".py",
   "mimetype": "text/x-python",
   "name": "python",
   "nbconvert_exporter": "python",
   "pygments_lexer": "ipython3",
   "version": "3.11.5"
  }
 },
 "nbformat": 4,
 "nbformat_minor": 5
}
