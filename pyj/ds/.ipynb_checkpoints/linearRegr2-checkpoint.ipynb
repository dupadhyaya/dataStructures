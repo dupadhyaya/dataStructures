{
 "cells": [
  {
   "cell_type": "code",
   "execution_count": null,
   "id": "00048583-7a26-4755-a441-599242c907fa",
   "metadata": {},
   "outputs": [],
   "source": [
    " # practise 2"
   ]
  },
  {
   "cell_type": "code",
   "execution_count": 4,
   "id": "99c6679c-3fb4-42c4-84ac-5b6f5545d163",
   "metadata": {},
   "outputs": [],
   "source": [
    "import numpy as np\n",
    "import pandas as pd\n",
    "import matplotlib.pyplot as plt\n",
    "from pydataset import data\n",
    "from sklearn.linear_model import LinearRegression\n",
    "from sklearn.model_selection  import train_test_split\n",
    "from sklearn.metrics import mean_squared_error, r2_score\n",
    "from statsmodels.formula.api import ols"
   ]
  },
  {
   "cell_type": "code",
   "execution_count": 5,
   "id": "3cb03546-29a8-4868-942b-262434581bf0",
   "metadata": {},
   "outputs": [
    {
     "data": {
      "text/html": [
       "<div>\n",
       "<style scoped>\n",
       "    .dataframe tbody tr th:only-of-type {\n",
       "        vertical-align: middle;\n",
       "    }\n",
       "\n",
       "    .dataframe tbody tr th {\n",
       "        vertical-align: top;\n",
       "    }\n",
       "\n",
       "    .dataframe thead th {\n",
       "        text-align: right;\n",
       "    }\n",
       "</style>\n",
       "<table border=\"1\" class=\"dataframe\">\n",
       "  <thead>\n",
       "    <tr style=\"text-align: right;\">\n",
       "      <th></th>\n",
       "      <th>mpg</th>\n",
       "      <th>cyl</th>\n",
       "      <th>disp</th>\n",
       "      <th>hp</th>\n",
       "      <th>drat</th>\n",
       "      <th>wt</th>\n",
       "      <th>qsec</th>\n",
       "      <th>vs</th>\n",
       "      <th>am</th>\n",
       "      <th>gear</th>\n",
       "      <th>carb</th>\n",
       "    </tr>\n",
       "  </thead>\n",
       "  <tbody>\n",
       "    <tr>\n",
       "      <th>Mazda RX4</th>\n",
       "      <td>21.0</td>\n",
       "      <td>6</td>\n",
       "      <td>160.0</td>\n",
       "      <td>110</td>\n",
       "      <td>3.90</td>\n",
       "      <td>2.620</td>\n",
       "      <td>16.46</td>\n",
       "      <td>0</td>\n",
       "      <td>1</td>\n",
       "      <td>4</td>\n",
       "      <td>4</td>\n",
       "    </tr>\n",
       "    <tr>\n",
       "      <th>Mazda RX4 Wag</th>\n",
       "      <td>21.0</td>\n",
       "      <td>6</td>\n",
       "      <td>160.0</td>\n",
       "      <td>110</td>\n",
       "      <td>3.90</td>\n",
       "      <td>2.875</td>\n",
       "      <td>17.02</td>\n",
       "      <td>0</td>\n",
       "      <td>1</td>\n",
       "      <td>4</td>\n",
       "      <td>4</td>\n",
       "    </tr>\n",
       "    <tr>\n",
       "      <th>Datsun 710</th>\n",
       "      <td>22.8</td>\n",
       "      <td>4</td>\n",
       "      <td>108.0</td>\n",
       "      <td>93</td>\n",
       "      <td>3.85</td>\n",
       "      <td>2.320</td>\n",
       "      <td>18.61</td>\n",
       "      <td>1</td>\n",
       "      <td>1</td>\n",
       "      <td>4</td>\n",
       "      <td>1</td>\n",
       "    </tr>\n",
       "    <tr>\n",
       "      <th>Hornet 4 Drive</th>\n",
       "      <td>21.4</td>\n",
       "      <td>6</td>\n",
       "      <td>258.0</td>\n",
       "      <td>110</td>\n",
       "      <td>3.08</td>\n",
       "      <td>3.215</td>\n",
       "      <td>19.44</td>\n",
       "      <td>1</td>\n",
       "      <td>0</td>\n",
       "      <td>3</td>\n",
       "      <td>1</td>\n",
       "    </tr>\n",
       "    <tr>\n",
       "      <th>Hornet Sportabout</th>\n",
       "      <td>18.7</td>\n",
       "      <td>8</td>\n",
       "      <td>360.0</td>\n",
       "      <td>175</td>\n",
       "      <td>3.15</td>\n",
       "      <td>3.440</td>\n",
       "      <td>17.02</td>\n",
       "      <td>0</td>\n",
       "      <td>0</td>\n",
       "      <td>3</td>\n",
       "      <td>2</td>\n",
       "    </tr>\n",
       "  </tbody>\n",
       "</table>\n",
       "</div>"
      ],
      "text/plain": [
       "                    mpg  cyl   disp   hp  drat     wt   qsec  vs  am  gear  \\\n",
       "Mazda RX4          21.0    6  160.0  110  3.90  2.620  16.46   0   1     4   \n",
       "Mazda RX4 Wag      21.0    6  160.0  110  3.90  2.875  17.02   0   1     4   \n",
       "Datsun 710         22.8    4  108.0   93  3.85  2.320  18.61   1   1     4   \n",
       "Hornet 4 Drive     21.4    6  258.0  110  3.08  3.215  19.44   1   0     3   \n",
       "Hornet Sportabout  18.7    8  360.0  175  3.15  3.440  17.02   0   0     3   \n",
       "\n",
       "                   carb  \n",
       "Mazda RX4             4  \n",
       "Mazda RX4 Wag         4  \n",
       "Datsun 710            1  \n",
       "Hornet 4 Drive        1  \n",
       "Hornet Sportabout     2  "
      ]
     },
     "execution_count": 5,
     "metadata": {},
     "output_type": "execute_result"
    }
   ],
   "source": [
    "mtcars = data('mtcars')\n",
    "mtcars.head()"
   ]
  },
  {
   "cell_type": "code",
   "execution_count": 9,
   "id": "ef371c1d-6efb-4677-9c9c-a478247b225c",
   "metadata": {},
   "outputs": [
    {
     "data": {
      "text/plain": [
       "(                        wt   hp\n",
       " Mazda RX4            2.620  110\n",
       " Mazda RX4 Wag        2.875  110\n",
       " Datsun 710           2.320   93\n",
       " Hornet 4 Drive       3.215  110\n",
       " Hornet Sportabout    3.440  175\n",
       " Valiant              3.460  105\n",
       " Duster 360           3.570  245\n",
       " Merc 240D            3.190   62\n",
       " Merc 230             3.150   95\n",
       " Merc 280             3.440  123\n",
       " Merc 280C            3.440  123\n",
       " Merc 450SE           4.070  180\n",
       " Merc 450SL           3.730  180\n",
       " Merc 450SLC          3.780  180\n",
       " Cadillac Fleetwood   5.250  205\n",
       " Lincoln Continental  5.424  215\n",
       " Chrysler Imperial    5.345  230\n",
       " Fiat 128             2.200   66\n",
       " Honda Civic          1.615   52\n",
       " Toyota Corolla       1.835   65\n",
       " Toyota Corona        2.465   97\n",
       " Dodge Challenger     3.520  150\n",
       " AMC Javelin          3.435  150\n",
       " Camaro Z28           3.840  245\n",
       " Pontiac Firebird     3.845  175\n",
       " Fiat X1-9            1.935   66\n",
       " Porsche 914-2        2.140   91\n",
       " Lotus Europa         1.513  113\n",
       " Ford Pantera L       3.170  264\n",
       " Ferrari Dino         2.770  175\n",
       " Maserati Bora        3.570  335\n",
       " Volvo 142E           2.780  109,\n",
       "                       mpg\n",
       " Mazda RX4            21.0\n",
       " Mazda RX4 Wag        21.0\n",
       " Datsun 710           22.8\n",
       " Hornet 4 Drive       21.4\n",
       " Hornet Sportabout    18.7\n",
       " Valiant              18.1\n",
       " Duster 360           14.3\n",
       " Merc 240D            24.4\n",
       " Merc 230             22.8\n",
       " Merc 280             19.2\n",
       " Merc 280C            17.8\n",
       " Merc 450SE           16.4\n",
       " Merc 450SL           17.3\n",
       " Merc 450SLC          15.2\n",
       " Cadillac Fleetwood   10.4\n",
       " Lincoln Continental  10.4\n",
       " Chrysler Imperial    14.7\n",
       " Fiat 128             32.4\n",
       " Honda Civic          30.4\n",
       " Toyota Corolla       33.9\n",
       " Toyota Corona        21.5\n",
       " Dodge Challenger     15.5\n",
       " AMC Javelin          15.2\n",
       " Camaro Z28           13.3\n",
       " Pontiac Firebird     19.2\n",
       " Fiat X1-9            27.3\n",
       " Porsche 914-2        26.0\n",
       " Lotus Europa         30.4\n",
       " Ford Pantera L       15.8\n",
       " Ferrari Dino         19.7\n",
       " Maserati Bora        15.0\n",
       " Volvo 142E           21.4)"
      ]
     },
     "execution_count": 9,
     "metadata": {},
     "output_type": "execute_result"
    }
   ],
   "source": [
    "IV = mtcars[['wt','hp']]\n",
    "DV = mtcars[['mpg']]\n",
    "IV, DV"
   ]
  },
  {
   "cell_type": "code",
   "execution_count": 11,
   "id": "202846d2-a10c-45d1-9c49-8b424201c890",
   "metadata": {},
   "outputs": [
    {
     "data": {
      "text/plain": [
       "(                        wt   hp\n",
       " Dodge Challenger     3.520  150\n",
       " Merc 450SE           4.070  180\n",
       " Camaro Z28           3.840  245\n",
       " Honda Civic          1.615   52\n",
       " Hornet Sportabout    3.440  175\n",
       " Hornet 4 Drive       3.215  110\n",
       " Pontiac Firebird     3.845  175\n",
       " Chrysler Imperial    5.345  230\n",
       " Cadillac Fleetwood   5.250  205\n",
       " Toyota Corona        2.465   97\n",
       " Merc 280             3.440  123\n",
       " Lincoln Continental  5.424  215\n",
       " Fiat X1-9            1.935   66\n",
       " Mazda RX4            2.620  110\n",
       " Mazda RX4 Wag        2.875  110\n",
       " AMC Javelin          3.435  150\n",
       " Merc 280C            3.440  123\n",
       " Toyota Corolla       1.835   65\n",
       " Fiat 128             2.200   66\n",
       " Duster 360           3.570  245\n",
       " Ferrari Dino         2.770  175\n",
       " Ford Pantera L       3.170  264\n",
       " Datsun 710           2.320   93\n",
       " Merc 450SLC          3.780  180\n",
       " Maserati Bora        3.570  335,\n",
       "                   wt   hp\n",
       " Merc 240D      3.190   62\n",
       " Volvo 142E     2.780  109\n",
       " Valiant        3.460  105\n",
       " Porsche 914-2  2.140   91\n",
       " Merc 230       3.150   95\n",
       " Lotus Europa   1.513  113\n",
       " Merc 450SL     3.730  180,\n",
       "                       mpg\n",
       " Dodge Challenger     15.5\n",
       " Merc 450SE           16.4\n",
       " Camaro Z28           13.3\n",
       " Honda Civic          30.4\n",
       " Hornet Sportabout    18.7\n",
       " Hornet 4 Drive       21.4\n",
       " Pontiac Firebird     19.2\n",
       " Chrysler Imperial    14.7\n",
       " Cadillac Fleetwood   10.4\n",
       " Toyota Corona        21.5\n",
       " Merc 280             19.2\n",
       " Lincoln Continental  10.4\n",
       " Fiat X1-9            27.3\n",
       " Mazda RX4            21.0\n",
       " Mazda RX4 Wag        21.0\n",
       " AMC Javelin          15.2\n",
       " Merc 280C            17.8\n",
       " Toyota Corolla       33.9\n",
       " Fiat 128             32.4\n",
       " Duster 360           14.3\n",
       " Ferrari Dino         19.7\n",
       " Ford Pantera L       15.8\n",
       " Datsun 710           22.8\n",
       " Merc 450SLC          15.2\n",
       " Maserati Bora        15.0,\n",
       "                 mpg\n",
       " Merc 240D      24.4\n",
       " Volvo 142E     21.4\n",
       " Valiant        18.1\n",
       " Porsche 914-2  26.0\n",
       " Merc 230       22.8\n",
       " Lotus Europa   30.4\n",
       " Merc 450SL     17.3)"
      ]
     },
     "execution_count": 11,
     "metadata": {},
     "output_type": "execute_result"
    }
   ],
   "source": [
    " #split data in train and test\n",
    "IV_train, IV_test, DV_train, DV_test = train_test_split(IV, DV, test_size =.2, random_state=123)\n",
    "IV_train, IV_test, DV_train, DV_test"
   ]
  },
  {
   "cell_type": "code",
   "execution_count": 14,
   "id": "122f86e1-ea2a-47e4-9a5f-fa113be0dc0a",
   "metadata": {},
   "outputs": [
    {
     "data": {
      "text/html": [
       "<style>#sk-container-id-1 {color: black;background-color: white;}#sk-container-id-1 pre{padding: 0;}#sk-container-id-1 div.sk-toggleable {background-color: white;}#sk-container-id-1 label.sk-toggleable__label {cursor: pointer;display: block;width: 100%;margin-bottom: 0;padding: 0.3em;box-sizing: border-box;text-align: center;}#sk-container-id-1 label.sk-toggleable__label-arrow:before {content: \"▸\";float: left;margin-right: 0.25em;color: #696969;}#sk-container-id-1 label.sk-toggleable__label-arrow:hover:before {color: black;}#sk-container-id-1 div.sk-estimator:hover label.sk-toggleable__label-arrow:before {color: black;}#sk-container-id-1 div.sk-toggleable__content {max-height: 0;max-width: 0;overflow: hidden;text-align: left;background-color: #f0f8ff;}#sk-container-id-1 div.sk-toggleable__content pre {margin: 0.2em;color: black;border-radius: 0.25em;background-color: #f0f8ff;}#sk-container-id-1 input.sk-toggleable__control:checked~div.sk-toggleable__content {max-height: 200px;max-width: 100%;overflow: auto;}#sk-container-id-1 input.sk-toggleable__control:checked~label.sk-toggleable__label-arrow:before {content: \"▾\";}#sk-container-id-1 div.sk-estimator input.sk-toggleable__control:checked~label.sk-toggleable__label {background-color: #d4ebff;}#sk-container-id-1 div.sk-label input.sk-toggleable__control:checked~label.sk-toggleable__label {background-color: #d4ebff;}#sk-container-id-1 input.sk-hidden--visually {border: 0;clip: rect(1px 1px 1px 1px);clip: rect(1px, 1px, 1px, 1px);height: 1px;margin: -1px;overflow: hidden;padding: 0;position: absolute;width: 1px;}#sk-container-id-1 div.sk-estimator {font-family: monospace;background-color: #f0f8ff;border: 1px dotted black;border-radius: 0.25em;box-sizing: border-box;margin-bottom: 0.5em;}#sk-container-id-1 div.sk-estimator:hover {background-color: #d4ebff;}#sk-container-id-1 div.sk-parallel-item::after {content: \"\";width: 100%;border-bottom: 1px solid gray;flex-grow: 1;}#sk-container-id-1 div.sk-label:hover label.sk-toggleable__label {background-color: #d4ebff;}#sk-container-id-1 div.sk-serial::before {content: \"\";position: absolute;border-left: 1px solid gray;box-sizing: border-box;top: 0;bottom: 0;left: 50%;z-index: 0;}#sk-container-id-1 div.sk-serial {display: flex;flex-direction: column;align-items: center;background-color: white;padding-right: 0.2em;padding-left: 0.2em;position: relative;}#sk-container-id-1 div.sk-item {position: relative;z-index: 1;}#sk-container-id-1 div.sk-parallel {display: flex;align-items: stretch;justify-content: center;background-color: white;position: relative;}#sk-container-id-1 div.sk-item::before, #sk-container-id-1 div.sk-parallel-item::before {content: \"\";position: absolute;border-left: 1px solid gray;box-sizing: border-box;top: 0;bottom: 0;left: 50%;z-index: -1;}#sk-container-id-1 div.sk-parallel-item {display: flex;flex-direction: column;z-index: 1;position: relative;background-color: white;}#sk-container-id-1 div.sk-parallel-item:first-child::after {align-self: flex-end;width: 50%;}#sk-container-id-1 div.sk-parallel-item:last-child::after {align-self: flex-start;width: 50%;}#sk-container-id-1 div.sk-parallel-item:only-child::after {width: 0;}#sk-container-id-1 div.sk-dashed-wrapped {border: 1px dashed gray;margin: 0 0.4em 0.5em 0.4em;box-sizing: border-box;padding-bottom: 0.4em;background-color: white;}#sk-container-id-1 div.sk-label label {font-family: monospace;font-weight: bold;display: inline-block;line-height: 1.2em;}#sk-container-id-1 div.sk-label-container {text-align: center;}#sk-container-id-1 div.sk-container {/* jupyter's `normalize.less` sets `[hidden] { display: none; }` but bootstrap.min.css set `[hidden] { display: none !important; }` so we also need the `!important` here to be able to override the default hidden behavior on the sphinx rendered scikit-learn.org. See: https://github.com/scikit-learn/scikit-learn/issues/21755 */display: inline-block !important;position: relative;}#sk-container-id-1 div.sk-text-repr-fallback {display: none;}</style><div id=\"sk-container-id-1\" class=\"sk-top-container\"><div class=\"sk-text-repr-fallback\"><pre>LinearRegression()</pre><b>In a Jupyter environment, please rerun this cell to show the HTML representation or trust the notebook. <br />On GitHub, the HTML representation is unable to render, please try loading this page with nbviewer.org.</b></div><div class=\"sk-container\" hidden><div class=\"sk-item\"><div class=\"sk-estimator sk-toggleable\"><input class=\"sk-toggleable__control sk-hidden--visually\" id=\"sk-estimator-id-1\" type=\"checkbox\" checked><label for=\"sk-estimator-id-1\" class=\"sk-toggleable__label sk-toggleable__label-arrow\">LinearRegression</label><div class=\"sk-toggleable__content\"><pre>LinearRegression()</pre></div></div></div></div></div>"
      ],
      "text/plain": [
       "LinearRegression()"
      ]
     },
     "execution_count": 14,
     "metadata": {},
     "output_type": "execute_result"
    }
   ],
   "source": [
    "model1 = LinearRegression().fit(IV_train, DV_train)\n",
    "model1"
   ]
  },
  {
   "cell_type": "code",
   "execution_count": 17,
   "id": "ca8b6496-ccda-4290-999c-9867ed289100",
   "metadata": {},
   "outputs": [
    {
     "data": {
      "text/plain": [
       "0.8107676967305829"
      ]
     },
     "execution_count": 17,
     "metadata": {},
     "output_type": "execute_result"
    }
   ],
   "source": [
    "model1.score(IV_train, DV_train)"
   ]
  },
  {
   "cell_type": "code",
   "execution_count": 19,
   "id": "c8abe65f-9759-43f4-9f6d-791f9eb7e5eb",
   "metadata": {},
   "outputs": [
    {
     "data": {
      "text/plain": [
       "array([36.58509786])"
      ]
     },
     "execution_count": 19,
     "metadata": {},
     "output_type": "execute_result"
    }
   ],
   "source": [
    "model1.intercept_"
   ]
  },
  {
   "cell_type": "code",
   "execution_count": 20,
   "id": "c609aef1-17b8-445d-aa4f-feb7e53b94af",
   "metadata": {},
   "outputs": [
    {
     "data": {
      "text/plain": [
       "array([[-3.62076076, -0.0334207 ]])"
      ]
     },
     "execution_count": 20,
     "metadata": {},
     "output_type": "execute_result"
    }
   ],
   "source": [
    "model1.coef_"
   ]
  },
  {
   "cell_type": "code",
   "execution_count": 21,
   "id": "3bd4f062-6561-43ea-a883-4af8b6d78f40",
   "metadata": {},
   "outputs": [
    {
     "data": {
      "text/plain": [
       "array([[22.96278771],\n",
       "       [22.8765268 ],\n",
       "       [20.54809227],\n",
       "       [25.79538626],\n",
       "       [22.00473509],\n",
       "       [27.33034789],\n",
       "       [17.06393448]])"
      ]
     },
     "execution_count": 21,
     "metadata": {},
     "output_type": "execute_result"
    }
   ],
   "source": [
    "model1.predict(IV_test)"
   ]
  },
  {
   "cell_type": "code",
   "execution_count": 22,
   "id": "bf7e3e5e-c53d-4b7f-b8d0-f80912f45321",
   "metadata": {},
   "outputs": [
    {
     "data": {
      "text/plain": [
       "2.9130957650007057"
      ]
     },
     "execution_count": 22,
     "metadata": {},
     "output_type": "execute_result"
    }
   ],
   "source": [
    "# mean error\n",
    "mean_squared_error(DV_test, model1.predict(IV_test))"
   ]
  },
  {
   "cell_type": "code",
   "execution_count": null,
   "id": "d6030eb7-066d-4f03-8ec7-0f88779d4d61",
   "metadata": {},
   "outputs": [],
   "source": []
  }
 ],
 "metadata": {
  "kernelspec": {
   "display_name": "Python 3 (ipykernel)",
   "language": "python",
   "name": "python3"
  },
  "language_info": {
   "codemirror_mode": {
    "name": "ipython",
    "version": 3
   },
   "file_extension": ".py",
   "mimetype": "text/x-python",
   "name": "python",
   "nbconvert_exporter": "python",
   "pygments_lexer": "ipython3",
   "version": "3.11.5"
  }
 },
 "nbformat": 4,
 "nbformat_minor": 5
}
