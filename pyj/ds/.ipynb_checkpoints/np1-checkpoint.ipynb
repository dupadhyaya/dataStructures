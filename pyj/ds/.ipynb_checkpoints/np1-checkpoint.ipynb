{
 "cells": [
  {
   "cell_type": "code",
   "execution_count": 1,
   "id": "64650e9c-3174-48bd-b070-cd6119328400",
   "metadata": {},
   "outputs": [],
   "source": [
    "# numpy "
   ]
  },
  {
   "cell_type": "code",
   "execution_count": 2,
   "id": "22bf3756-e8d2-4c58-84f1-4fcdc9434d71",
   "metadata": {},
   "outputs": [],
   "source": [
    "import numpy as np"
   ]
  },
  {
   "cell_type": "code",
   "execution_count": 3,
   "id": "6cfb8a7f-ebe6-4bab-84c3-e326f99a98cc",
   "metadata": {},
   "outputs": [
    {
     "name": "stdout",
     "output_type": "stream",
     "text": [
      "1.26.3\n"
     ]
    }
   ],
   "source": [
    "print(np.__version__)"
   ]
  },
  {
   "cell_type": "code",
   "execution_count": 5,
   "id": "25a2e074-0e65-4568-b1a0-1d5f0c48cef0",
   "metadata": {},
   "outputs": [
    {
     "data": {
      "text/plain": [
       "'ALLOW_THREADS. BUFSIZE. CLIP. DataSource. ERR_CALL. ERR_DEFAULT. ERR_IGNORE. ERR_LOG. ERR_PRINT. ERR_RAISE. ERR_WARN. FLOATING_POINT_SUPPORT. FPE_DIVIDEBYZERO. FPE_INVALID. FPE_OVERFLOW. FPE_UNDERFLOW. False_. Inf. Infinity. MAXDIMS. MAY_SHARE_BOUNDS. MAY_SHARE_EXACT. NAN. NINF. NZERO. NaN. PINF. PZERO. RAISE. RankWarning. SHIFT_DIVIDEBYZERO. SHIFT_INVALID. SHIFT_OVERFLOW. SHIFT_UNDERFLOW. ScalarType. True_. UFUNC_BUFSIZE_DEFAULT. UFUNC_PYVALS_NAME. WRAP. _CopyMode. _NoValue. _UFUNC_API. __NUMPY_SETUP__. __all__. __builtins__. __cached__. __config__. __deprecated_attrs__. __dir__. __doc__. __expired_functions__. __file__. __former_attrs__. __future_scalars__. __getattr__. __loader__. __name__. __package__. __path__. __spec__. __version__. _add_newdoc_ufunc. _builtins. _distributor_init. _financial_names. _get_promotion_state. _globals. _int_extended_msg. _mat. _no_nep50_warning. _pyinstaller_hooks_dir. _pytesttester. _set_promotion_state. _specific_msg. _typing. _using_numpy2_behavior. _utils. abs. absolute. add. add_docstring. add_newdoc. add_newdoc_ufunc. all. allclose. alltrue. amax. amin. angle. any. append. apply_along_axis. apply_over_axes. arange. arccos. arccosh. arcsin. arcsinh. arctan. arctan2. arctanh. argmax. argmin. argpartition. argsort. argwhere. around. array. array2string. array_equal. array_equiv. array_repr. array_split. array_str. asanyarray. asarray. asarray_chkfinite. ascontiguousarray. asfarray. asfortranarray. asmatrix. atleast_1d. atleast_2d. atleast_3d. average. bartlett. base_repr. binary_repr. bincount. bitwise_and. bitwise_not. bitwise_or. bitwise_xor. blackman. block. bmat. bool_. broadcast. broadcast_arrays. broadcast_shapes. broadcast_to. busday_count. busday_offset. busdaycalendar. byte. byte_bounds. bytes_. c_. can_cast. cast. cbrt. cdouble. ceil. cfloat. char. character. chararray. choose. clip. clongdouble. clongfloat. column_stack. common_type. compare_chararrays. compat. complex128. complex64. complex_. complexfloating. compress. concatenate. conj. conjugate. convolve. copy. copysign. copyto. corrcoef. correlate. cos. cosh. count_nonzero. cov. cross. csingle. ctypeslib. cumprod. cumproduct. cumsum. datetime64. datetime_as_string. datetime_data. deg2rad. degrees. delete. deprecate. deprecate_with_doc. diag. diag_indices. diag_indices_from. diagflat. diagonal. diff. digitize. disp. divide. divmod. dot. double. dsplit. dstack. dtype. dtypes. e. ediff1d. einsum. einsum_path. emath. empty. empty_like. equal. errstate. euler_gamma. exceptions. exp. exp2. expand_dims. expm1. extract. eye. fabs. fastCopyAndTranspose. fft. fill_diagonal. find_common_type. finfo. fix. flatiter. flatnonzero. flexible. flip. fliplr. flipud. float16. float32. float64. float_. float_power. floating. floor. floor_divide. fmax. fmin. fmod. format_float_positional. format_float_scientific. format_parser. frexp. from_dlpack. frombuffer. fromfile. fromfunction. fromiter. frompyfunc. fromregex. fromstring. full. full_like. gcd. generic. genfromtxt. geomspace. get_array_wrap. get_include. get_printoptions. getbufsize. geterr. geterrcall. geterrobj. gradient. greater. greater_equal. half. hamming. hanning. heaviside. histogram. histogram2d. histogram_bin_edges. histogramdd. hsplit. hstack. hypot. i0. identity. iinfo. imag. in1d. index_exp. indices. inexact. inf. info. infty. inner. insert. int16. int32. int64. int8. int_. intc. integer. interp. intersect1d. intp. invert. is_busday. isclose. iscomplex. iscomplexobj. isfinite. isfortran. isin. isinf. isnan. isnat. isneginf. isposinf. isreal. isrealobj. isscalar. issctype. issubclass_. issubdtype. issubsctype. iterable. ix_. kaiser. kron. lcm. ldexp. left_shift. less. less_equal. lexsort. lib. linalg. linspace. little_endian. load. loadtxt. log. log10. log1p. log2. logaddexp. logaddexp2. logical_and. logical_not. logical_or. logical_xor. logspace. longcomplex. longdouble. longfloat. longlong. lookfor. ma. mask_indices. mat. matmul. matrix. max. maximum. maximum_sctype. may_share_memory. mean. median. memmap. meshgrid. mgrid. min. min_scalar_type. minimum. mintypecode. mod. modf. moveaxis. msort. multiply. nan. nan_to_num. nanargmax. nanargmin. nancumprod. nancumsum. nanmax. nanmean. nanmedian. nanmin. nanpercentile. nanprod. nanquantile. nanstd. nansum. nanvar. nbytes. ndarray. ndenumerate. ndim. ndindex. nditer. negative. nested_iters. newaxis. nextafter. nonzero. not_equal. numarray. number. obj2sctype. object_. ogrid. oldnumeric. ones. ones_like. outer. packbits. pad. partition. percentile. pi. piecewise. place. poly. poly1d. polyadd. polyder. polydiv. polyfit. polyint. polymul. polynomial. polysub. polyval. positive. power. printoptions. prod. product. promote_types. ptp. put. put_along_axis. putmask. quantile. r_. rad2deg. radians. random. ravel. ravel_multi_index. real. real_if_close. rec. recarray. recfromcsv. recfromtxt. reciprocal. record. remainder. repeat. require. reshape. resize. result_type. right_shift. rint. roll. rollaxis. roots. rot90. round. round_. row_stack. s_. safe_eval. save. savetxt. savez. savez_compressed. sctype2char. sctypeDict. sctypes. searchsorted. select. set_numeric_ops. set_printoptions. set_string_function. setbufsize. setdiff1d. seterr. seterrcall. seterrobj. setxor1d. shape. shares_memory. short. show_config. show_runtime. sign. signbit. signedinteger. sin. sinc. single. singlecomplex. sinh. size. sometrue. sort. sort_complex. source. spacing. split. sqrt. square. squeeze. stack. std. str_. string_. subtract. sum. swapaxes. take. take_along_axis. tan. tanh. tensordot. test. testing. tile. timedelta64. trace. tracemalloc_domain. transpose. trapz. tri. tril. tril_indices. tril_indices_from. trim_zeros. triu. triu_indices. triu_indices_from. true_divide. trunc. typecodes. typename. ubyte. ufunc. uint. uint16. uint32. uint64. uint8. uintc. uintp. ulonglong. unicode_. union1d. unique. unpackbits. unravel_index. unsignedinteger. unwrap. ushort. vander. var. vdot. vectorize. version. void. vsplit. vstack. where. who. zeros. zeros_like'"
      ]
     },
     "execution_count": 5,
     "metadata": {},
     "output_type": "execute_result"
    }
   ],
   "source": [
    "'. '.join(dir(np))"
   ]
  },
  {
   "cell_type": "code",
   "execution_count": 6,
   "id": "a9b29a54-cb66-4e44-80c4-f6673681c853",
   "metadata": {},
   "outputs": [
    {
     "data": {
      "text/plain": [
       "array([ 1,  2, 40])"
      ]
     },
     "execution_count": 6,
     "metadata": {},
     "output_type": "execute_result"
    }
   ],
   "source": [
    "np.array([1,2,40])"
   ]
  },
  {
   "cell_type": "code",
   "execution_count": 7,
   "id": "086478c9-2d06-4bed-96b4-21640c28e8f7",
   "metadata": {},
   "outputs": [
    {
     "data": {
      "text/plain": [
       "array([ 1,  3,  5,  7,  9, 11, 13, 15, 17, 19, 21, 23, 25, 27, 29, 31, 33,\n",
       "       35, 37, 39, 41, 43, 45, 47, 49, 51, 53, 55, 57, 59, 61, 63, 65, 67,\n",
       "       69, 71, 73, 75, 77, 79, 81, 83, 85, 87, 89, 91, 93, 95, 97, 99])"
      ]
     },
     "execution_count": 7,
     "metadata": {},
     "output_type": "execute_result"
    }
   ],
   "source": [
    "np.arange(1,100,2)"
   ]
  },
  {
   "cell_type": "code",
   "execution_count": 9,
   "id": "3a402051-af91-4138-9741-8b5ccab8212c",
   "metadata": {},
   "outputs": [
    {
     "data": {
      "text/plain": [
       "array([0., 0.])"
      ]
     },
     "execution_count": 9,
     "metadata": {},
     "output_type": "execute_result"
    }
   ],
   "source": [
    "np.zeros(2)"
   ]
  },
  {
   "cell_type": "code",
   "execution_count": 10,
   "id": "e29c467f-408b-4b4c-bc13-61a90c55fa4c",
   "metadata": {},
   "outputs": [
    {
     "data": {
      "text/plain": [
       "array([[0., 0., 0., 0.],\n",
       "       [0., 0., 0., 0.],\n",
       "       [0., 0., 0., 0.]])"
      ]
     },
     "execution_count": 10,
     "metadata": {},
     "output_type": "execute_result"
    }
   ],
   "source": [
    "np.zeros([3,4])"
   ]
  },
  {
   "cell_type": "code",
   "execution_count": 11,
   "id": "07aa42af-4388-41f3-994c-b30235b54cfd",
   "metadata": {},
   "outputs": [
    {
     "data": {
      "text/plain": [
       "array([1., 1., 1., 1., 1., 1., 1., 1., 1., 1.])"
      ]
     },
     "execution_count": 11,
     "metadata": {},
     "output_type": "execute_result"
    }
   ],
   "source": [
    "np.ones(10)"
   ]
  },
  {
   "cell_type": "code",
   "execution_count": 14,
   "id": "b11203a8-9986-41d1-9ba0-16271153dbbf",
   "metadata": {},
   "outputs": [
    {
     "data": {
      "text/plain": [
       "array([0.12184155, 0.80109495, 0.58947818, 0.86709522, 0.24661591,\n",
       "       0.01995416, 0.97799808, 0.02070872, 0.44572775, 0.74927289])"
      ]
     },
     "execution_count": 14,
     "metadata": {},
     "output_type": "execute_result"
    }
   ],
   "source": [
    "np.random.rand(10)"
   ]
  },
  {
   "cell_type": "code",
   "execution_count": 17,
   "id": "05f5ff93-7421-40dc-b68e-22cd72a63289",
   "metadata": {},
   "outputs": [
    {
     "data": {
      "text/plain": [
       "array([[[0.21, 0.65, 0.16, 0.42, 0.83],\n",
       "        [0.78, 0.67, 0.18, 0.51, 0.08]],\n",
       "\n",
       "       [[0.76, 0.62, 0.22, 0.04, 0.25],\n",
       "        [0.69, 0.57, 0.16, 0.39, 0.79]],\n",
       "\n",
       "       [[0.86, 0.58, 0.98, 0.44, 0.47],\n",
       "        [0.65, 0.76, 0.63, 0.98, 0.16]]])"
      ]
     },
     "execution_count": 17,
     "metadata": {},
     "output_type": "execute_result"
    }
   ],
   "source": [
    "np.random.rand(3,2,5).round(2)"
   ]
  },
  {
   "cell_type": "code",
   "execution_count": 79,
   "id": "b42ef7ab-b9a1-4138-8f8d-68803e5fd5c0",
   "metadata": {},
   "outputs": [],
   "source": [
    "#np.random.randn?  # help"
   ]
  },
  {
   "cell_type": "code",
   "execution_count": 80,
   "id": "0fbc9f1f-9df2-4261-851a-77270bacb487",
   "metadata": {},
   "outputs": [
    {
     "data": {
      "text/plain": [
       "1.5597304906830545"
      ]
     },
     "execution_count": 80,
     "metadata": {},
     "output_type": "execute_result"
    }
   ],
   "source": [
    "np.random.randn()"
   ]
  },
  {
   "cell_type": "code",
   "execution_count": 81,
   "id": "9d1e4025-a053-45d1-9881-9942995ca269",
   "metadata": {},
   "outputs": [
    {
     "data": {
      "text/plain": [
       "array([[[ 1.58450409,  1.1349469 ,  0.31403807, -0.51140958],\n",
       "        [-0.26678265, -0.54990552,  0.38594467,  0.20610196],\n",
       "        [ 0.0407496 ,  1.05556318, -0.77600033, -1.30647584]],\n",
       "\n",
       "       [[-0.03994888,  0.31833457,  0.05095714,  2.31706404],\n",
       "        [ 1.33281396, -0.06414627,  0.71108744,  0.12655178],\n",
       "        [ 1.37515206,  0.99396724, -0.14371361,  0.23744917]]])"
      ]
     },
     "execution_count": 81,
     "metadata": {},
     "output_type": "execute_result"
    }
   ],
   "source": [
    "np.random.randn(2,3,4)"
   ]
  },
  {
   "cell_type": "code",
   "execution_count": 82,
   "id": "b8606a8b-5a78-449f-89ff-442dc2a16ce1",
   "metadata": {},
   "outputs": [
    {
     "name": "stdout",
     "output_type": "stream",
     "text": [
      "[4.26993942 6.12137055 5.37164812 3.87253184 6.87996181 5.08537444\n",
      " 3.82355243 4.26267184 4.74819846 5.59390954] \n",
      " 5.002915846362276\n"
     ]
    }
   ],
   "source": [
    "x1 = 5 + np.random.randn(10)  #mean of 5, sd=1\n",
    "print(x1, '\\n', np.mean(x1))"
   ]
  },
  {
   "cell_type": "code",
   "execution_count": 83,
   "id": "1f6d2561-070c-4994-8343-236f308c0138",
   "metadata": {},
   "outputs": [],
   "source": [
    "x2 = np.linspace(start=1, stop=100, num=20)"
   ]
  },
  {
   "cell_type": "code",
   "execution_count": 84,
   "id": "09953b5a-4e27-430f-b781-9759e6654f06",
   "metadata": {},
   "outputs": [],
   "source": [
    "x3 = np.logspace(1, 100, 20)\n",
    "x1 = np.arange(0,20,1)"
   ]
  },
  {
   "cell_type": "code",
   "execution_count": 85,
   "id": "0c97d51d-dcda-456b-bbe0-109a4894db1b",
   "metadata": {},
   "outputs": [],
   "source": [
    "import matplotlib.pyplot as plt"
   ]
  },
  {
   "cell_type": "code",
   "execution_count": 86,
   "id": "c801b810-9ef3-4248-b8ac-cedb9f5de5e7",
   "metadata": {},
   "outputs": [
    {
     "name": "stdout",
     "output_type": "stream",
     "text": [
      "20 [ 0  1  2  3  4  5  6  7  8  9 10 11 12 13 14 15 16 17 18 19]\n",
      "[  1.           6.21052632  11.42105263  16.63157895  21.84210526\n",
      "  27.05263158  32.26315789  37.47368421  42.68421053  47.89473684\n",
      "  53.10526316  58.31578947  63.52631579  68.73684211  73.94736842\n",
      "  79.15789474  84.36842105  89.57894737  94.78947368 100.        ]\n",
      "[1.00000000e+001 1.62377674e+006 2.63665090e+011 4.28133240e+016\n",
      " 6.95192796e+021 1.12883789e+027 1.83298071e+032 2.97635144e+037\n",
      " 4.83293024e+042 7.84759970e+047 1.27427499e+053 2.06913808e+058\n",
      " 3.35981829e+063 5.45559478e+068 8.85866790e+073 1.43844989e+079\n",
      " 2.33572147e+084 3.79269019e+089 6.15848211e+094 1.00000000e+100]\n"
     ]
    }
   ],
   "source": [
    "print(len(x1),x1)\n",
    "print(x2)\n",
    "print(x3)"
   ]
  },
  {
   "cell_type": "code",
   "execution_count": 87,
   "id": "2e1d66e0-b498-4769-b598-05490ee8de66",
   "metadata": {},
   "outputs": [
    {
     "data": {
      "text/plain": [
       "<matplotlib.collections.PathCollection at 0x166356690>"
      ]
     },
     "execution_count": 87,
     "metadata": {},
     "output_type": "execute_result"
    },
    {
     "data": {
      "image/png": "[encoded data removed]",
      "text/plain": [
       "<Figure size 640x480 with 1 Axes>"
      ]
     },
     "metadata": {},
     "output_type": "display_data"
    }
   ],
   "source": [
    "plt.scatter(x=x1, y=x2, color='red', label='Normal Line')"
   ]
  },
  {
   "cell_type": "code",
   "execution_count": 88,
   "id": "e9d69e82-1a16-4ec0-9563-f330c4c24a49",
   "metadata": {},
   "outputs": [
    {
     "data": {
      "image/png": "[encoded data removed]",
      "text/plain": [
       "<Figure size 640x480 with 1 Axes>"
      ]
     },
     "metadata": {},
     "output_type": "display_data"
    }
   ],
   "source": [
    "plt.plot(x1, x2, '--', color='red', label='Normal Line')\n",
    "plt.plot(x1, x3, '-.', color='green', label='Log Line')\n",
    "plt.show()"
   ]
  },
  {
   "cell_type": "code",
   "execution_count": 89,
   "id": "12eabd7f-164f-433b-94b5-eae415acecf7",
   "metadata": {},
   "outputs": [
    {
     "data": {
      "text/plain": [
       "<matplotlib.collections.PathCollection at 0x166855490>"
      ]
     },
     "execution_count": 89,
     "metadata": {},
     "output_type": "execute_result"
    },
    {
     "data": {
      "image/png": "[encoded data removed]",
      "text/plain": [
       "<Figure size 640x480 with 1 Axes>"
      ]
     },
     "metadata": {},
     "output_type": "display_data"
    }
   ],
   "source": [
    "plt.scatter(x=np.arange(0,20,1), y=x3, color='blue')"
   ]
  },
  {
   "cell_type": "code",
   "execution_count": 91,
   "id": "210f6d90-9d01-4833-a17a-35ac9fabef0b",
   "metadata": {},
   "outputs": [
    {
     "data": {
      "text/plain": [
       "array([ 0,  1,  2,  3,  4,  5,  6,  7,  8,  9, 10, 11, 12, 13, 14, 15, 16,\n",
       "       17, 18, 19])"
      ]
     },
     "execution_count": 91,
     "metadata": {},
     "output_type": "execute_result"
    }
   ],
   "source": [
    "x1"
   ]
  },
  {
   "cell_type": "code",
   "execution_count": 95,
   "id": "0dd9f906-9760-4292-b2bf-0f68ec85d7cc",
   "metadata": {},
   "outputs": [
    {
     "name": "stdout",
     "output_type": "stream",
     "text": [
      "2\n",
      "[  5 100]\n"
     ]
    }
   ],
   "source": [
    "x4 = np.array([4,2,5,2,5,83, 100])\n",
    "print(x4[3])\n",
    "print(x4[[4,6]])"
   ]
  },
  {
   "cell_type": "code",
   "execution_count": 96,
   "id": "3adffc0b-b291-4092-985d-2e1257e6cc78",
   "metadata": {},
   "outputs": [
    {
     "data": {
      "text/plain": [
       "array([  2,   2,   4,   5,   5,  83, 100])"
      ]
     },
     "execution_count": 96,
     "metadata": {},
     "output_type": "execute_result"
    }
   ],
   "source": [
    "# sort\n",
    "np.sort(x4)"
   ]
  },
  {
   "cell_type": "code",
   "execution_count": 98,
   "id": "4461d62f-03ca-4f03-9e64-55f2e93a798e",
   "metadata": {},
   "outputs": [
    {
     "data": {
      "text/plain": [
       "array([  0,   1,   2,   3,   4,   5,   6,   7,   8,   9,  10,  11,  12,\n",
       "        13,  14,  15,  16,  17,  18,  19,   4,   2,   5,   2,   5,  83,\n",
       "       100])"
      ]
     },
     "execution_count": 98,
     "metadata": {},
     "output_type": "execute_result"
    }
   ],
   "source": [
    "#concatenate\n",
    "np.concatenate((x1,x4))"
   ]
  },
  {
   "cell_type": "code",
   "execution_count": 139,
   "id": "10363b54-4c63-43a1-ad5a-5c9bd615341d",
   "metadata": {},
   "outputs": [
    {
     "name": "stdout",
     "output_type": "stream",
     "text": [
      "[[1 2]\n",
      " [3 4]] [5 6] [[7. 8.]] \n",
      " (2, 2)\n"
     ]
    }
   ],
   "source": [
    "#concatenate with axis\n",
    "x1 = np.array([[1,2],[3,4]])\n",
    "x2 = np.array([5,6], dtype='int32')\n",
    "x3 = np.array([[7,8]], dtype='float')\n",
    "print(x1, x2, x3, '\\n', np.shape(x1))\n",
    "#np.concatenate((x1, x2), axis=0)"
   ]
  },
  {
   "cell_type": "code",
   "execution_count": 140,
   "id": "7b0b4a7c-3246-4af5-93c7-403bd0f79560",
   "metadata": {},
   "outputs": [
    {
     "name": "stdout",
     "output_type": "stream",
     "text": [
      "2 1 2 (2, 2) int64 int32 float64 4 2\n"
     ]
    }
   ],
   "source": [
    "print(np.ndim(x1), np.ndim(x2), np.ndim(x3), np.shape(x1),x1.dtype.name,  x2.dtype.name, x3.dtype.name,\\\n",
    "      x1.size, x2.size)\n",
    "#x1 & x3 have similar dimensions"
   ]
  },
  {
   "cell_type": "code",
   "execution_count": 141,
   "id": "f29f9fdf-ad3d-4946-a355-6a9664073417",
   "metadata": {},
   "outputs": [
    {
     "data": {
      "text/plain": [
       "array([[1., 2.],\n",
       "       [3., 4.],\n",
       "       [7., 8.]])"
      ]
     },
     "execution_count": 141,
     "metadata": {},
     "output_type": "execute_result"
    }
   ],
   "source": [
    "#np.concatenate((x1, x2), axis=1)  #error\n",
    "np.concatenate((x1, x3), axis=0)"
   ]
  },
  {
   "cell_type": "code",
   "execution_count": 142,
   "id": "6cc666f9-b745-4650-b5da-90cdc040f149",
   "metadata": {},
   "outputs": [],
   "source": [
    "# np.concatenate((x2, x3), axis=0)  #error"
   ]
  },
  {
   "cell_type": "code",
   "execution_count": 147,
   "id": "b2a46deb-f2da-4680-90f6-479f2cbb6d4b",
   "metadata": {},
   "outputs": [
    {
     "data": {
      "text/plain": [
       "array([[1, 2, 3, 4]])"
      ]
     },
     "execution_count": 147,
     "metadata": {},
     "output_type": "execute_result"
    }
   ],
   "source": [
    "#reshape\n",
    "np.reshape(x1, newshape = (1,4))  #1 row x 4 cols"
   ]
  },
  {
   "cell_type": "code",
   "execution_count": 148,
   "id": "1593d542-654a-4c3f-8991-688cefb918d7",
   "metadata": {},
   "outputs": [
    {
     "data": {
      "text/plain": [
       "array([[1],\n",
       "       [2],\n",
       "       [3],\n",
       "       [4]])"
      ]
     },
     "execution_count": 148,
     "metadata": {},
     "output_type": "execute_result"
    }
   ],
   "source": [
    "np.reshape(x1, (-1, 1))  # 1 col, n rows"
   ]
  },
  {
   "cell_type": "code",
   "execution_count": 149,
   "id": "d5b55c57-1457-4239-b62a-32269b0f9bcb",
   "metadata": {},
   "outputs": [
    {
     "data": {
      "text/plain": [
       "array([[1., 2.],\n",
       "       [3., 4.],\n",
       "       [7., 8.]])"
      ]
     },
     "execution_count": 149,
     "metadata": {},
     "output_type": "execute_result"
    }
   ],
   "source": [
    "np.vstack((x1, x3))"
   ]
  },
  {
   "cell_type": "code",
   "execution_count": 152,
   "id": "305a2a1e-7c05-4fd1-8a24-15413a6f84d3",
   "metadata": {},
   "outputs": [
    {
     "data": {
      "text/plain": [
       "array([[1, 2, 1, 2],\n",
       "       [3, 4, 3, 4]])"
      ]
     },
     "execution_count": 152,
     "metadata": {},
     "output_type": "execute_result"
    }
   ],
   "source": [
    "np.hstack((x1, x1))"
   ]
  },
  {
   "cell_type": "code",
   "execution_count": 164,
   "id": "7178464c-f977-4209-b3ba-f47ed6bbe4cb",
   "metadata": {},
   "outputs": [
    {
     "data": {
      "text/plain": [
       "array([[ 1,  6, 11, 16, 21],\n",
       "       [26, 31, 36, 41, 46],\n",
       "       [51, 56, 61, 66, 71],\n",
       "       [76, 81, 86, 91, 96]])"
      ]
     },
     "execution_count": 164,
     "metadata": {},
     "output_type": "execute_result"
    }
   ],
   "source": [
    "x1= np.arange(1,100,5).reshape(-1,5)  # 5 cols - n rows after creating data\n",
    "x1"
   ]
  },
  {
   "cell_type": "code",
   "execution_count": 183,
   "id": "4942f623-b810-464c-bf1d-7776f7e40c27",
   "metadata": {},
   "outputs": [
    {
     "data": {
      "text/plain": [
       "array([  1.,   8.,  14.,  21.,  27.,  34.,  41.,  47.,  54.,  60.,  67.,\n",
       "        74.,  80.,  87.,  93., 100.])"
      ]
     },
     "execution_count": 183,
     "metadata": {},
     "output_type": "execute_result"
    }
   ],
   "source": [
    "x2 = np.linspace(1,100,16).round(0)\n",
    "x2"
   ]
  },
  {
   "cell_type": "code",
   "execution_count": 184,
   "id": "8329e663-04a6-4bae-8904-4dc645e3a93a",
   "metadata": {},
   "outputs": [
    {
     "name": "stdout",
     "output_type": "stream",
     "text": [
      "[[  1.   8.  14.  21.]\n",
      " [ 27.  34.  41.  47.]\n",
      " [ 54.  60.  67.  74.]\n",
      " [ 80.  87.  93. 100.]] 2\n"
     ]
    }
   ],
   "source": [
    "x2b= x2.reshape(-1,4)\n",
    "print(x2b, np.ndim(x2b))"
   ]
  },
  {
   "cell_type": "code",
   "execution_count": 185,
   "id": "15f8cd5a-a48d-4099-9ae3-292894ee9a9d",
   "metadata": {},
   "outputs": [
    {
     "data": {
      "text/plain": [
       "[array([ 1.,  8., 14., 21.]),\n",
       " array([27., 34., 41., 47.]),\n",
       " array([54., 60., 67., 74.]),\n",
       " array([ 80.,  87.,  93., 100.])]"
      ]
     },
     "execution_count": 185,
     "metadata": {},
     "output_type": "execute_result"
    }
   ],
   "source": [
    "np.hsplit(x2,4)  #4 different arrays horizontally"
   ]
  },
  {
   "cell_type": "code",
   "execution_count": 187,
   "id": "32ba6cf1-b8bf-442a-b2e6-ceb6079c793c",
   "metadata": {},
   "outputs": [
    {
     "data": {
      "text/plain": [
       "[array([ 1.,  8., 14., 21., 27., 34., 41., 47.]),\n",
       " array([ 54.,  60.,  67.,  74.,  80.,  87.,  93., 100.])]"
      ]
     },
     "execution_count": 187,
     "metadata": {},
     "output_type": "execute_result"
    }
   ],
   "source": [
    "np.hsplit(x2, 2)"
   ]
  },
  {
   "cell_type": "code",
   "execution_count": 191,
   "id": "04760ffe-c6bf-4834-b379-0c90916d124e",
   "metadata": {},
   "outputs": [],
   "source": [
    "#np.vsplit(x2, 4)"
   ]
  },
  {
   "cell_type": "code",
   "execution_count": 193,
   "id": "7cf1f2ad-88d4-4804-bb8d-b9f40d3e76fd",
   "metadata": {},
   "outputs": [
    {
     "name": "stdout",
     "output_type": "stream",
     "text": [
      "[1 2 3 4]\n"
     ]
    }
   ],
   "source": [
    "x1 = np.array([1,2,3,4])\n",
    "print(x1)"
   ]
  },
  {
   "cell_type": "code",
   "execution_count": 194,
   "id": "ed0520b9-ac50-4a14-89bd-993019e9ed6f",
   "metadata": {},
   "outputs": [
    {
     "data": {
      "text/plain": [
       "array([1, 2, 3, 4, 1, 2, 3, 4, 1, 2, 3, 4, 1, 2, 3, 4])"
      ]
     },
     "execution_count": 194,
     "metadata": {},
     "output_type": "execute_result"
    }
   ],
   "source": [
    "np.tile(x1,4)"
   ]
  },
  {
   "cell_type": "code",
   "execution_count": 196,
   "id": "41e56bc5-35be-497f-9716-a13faed341a3",
   "metadata": {},
   "outputs": [
    {
     "data": {
      "text/plain": [
       "array([[1, 2, 3, 4],\n",
       "       [1, 2, 3, 4]])"
      ]
     },
     "execution_count": 196,
     "metadata": {},
     "output_type": "execute_result"
    }
   ],
   "source": [
    "np.tile(x1, (2,1))"
   ]
  },
  {
   "cell_type": "code",
   "execution_count": 197,
   "id": "e6d42235-6716-406d-bfd7-53c437656ed8",
   "metadata": {},
   "outputs": [
    {
     "data": {
      "text/plain": [
       "array([3, 3, 3, 3])"
      ]
     },
     "execution_count": 197,
     "metadata": {},
     "output_type": "execute_result"
    }
   ],
   "source": [
    "np.repeat(3,4)"
   ]
  },
  {
   "cell_type": "code",
   "execution_count": 201,
   "id": "3e22d514-6479-4cfc-bc6a-32a29dff05c0",
   "metadata": {},
   "outputs": [
    {
     "data": {
      "text/plain": [
       "array([1, 1, 1, 1, 2, 2, 2, 2, 3, 3, 3, 3, 4, 4, 4, 4])"
      ]
     },
     "execution_count": 201,
     "metadata": {},
     "output_type": "execute_result"
    }
   ],
   "source": [
    "np.repeat([1,2,3,4], 4, axis=0)"
   ]
  },
  {
   "cell_type": "code",
   "execution_count": 209,
   "id": "4e692e3a-f7fd-4c3b-910a-fdd4940480f4",
   "metadata": {},
   "outputs": [
    {
     "name": "stdout",
     "output_type": "stream",
     "text": [
      "[[1 2]\n",
      " [3 4]]\n"
     ]
    }
   ],
   "source": [
    "x2 = np.array([[1,2], [3,4]])\n",
    "print(x2)"
   ]
  },
  {
   "cell_type": "code",
   "execution_count": 210,
   "id": "b44a9048-3040-439b-9f84-4f5c3f43df00",
   "metadata": {},
   "outputs": [
    {
     "data": {
      "text/plain": [
       "array([[1, 1, 1, 2, 2, 2],\n",
       "       [3, 3, 3, 4, 4, 4]])"
      ]
     },
     "execution_count": 210,
     "metadata": {},
     "output_type": "execute_result"
    }
   ],
   "source": [
    "np.repeat(x2, 3, axis=1)"
   ]
  },
  {
   "cell_type": "code",
   "execution_count": 211,
   "id": "d0716919-0bbf-4610-8558-5d73f525c52e",
   "metadata": {},
   "outputs": [
    {
     "data": {
      "text/plain": [
       "array([[1, 2],\n",
       "       [1, 2],\n",
       "       [1, 2],\n",
       "       [3, 4],\n",
       "       [3, 4],\n",
       "       [3, 4]])"
      ]
     },
     "execution_count": 211,
     "metadata": {},
     "output_type": "execute_result"
    }
   ],
   "source": [
    "np.repeat(x2, 3, axis=0)"
   ]
  },
  {
   "cell_type": "code",
   "execution_count": 214,
   "id": "fe480799-c787-4244-a961-3721cf2c4305",
   "metadata": {},
   "outputs": [
    {
     "data": {
      "text/plain": [
       "array([[1, 1, 1, 2, 2],\n",
       "       [3, 3, 3, 4, 4]])"
      ]
     },
     "execution_count": 214,
     "metadata": {},
     "output_type": "execute_result"
    }
   ],
   "source": [
    "np.repeat(x2, (3,2), axis=1)  #3times of [1,2], 2 times of [3,4] along horz"
   ]
  },
  {
   "cell_type": "code",
   "execution_count": 215,
   "id": "72592a2a-c0eb-41aa-8636-a406e2e0eb85",
   "metadata": {},
   "outputs": [
    {
     "data": {
      "text/plain": [
       "array([1, 2, 4, 5, 6])"
      ]
     },
     "execution_count": 215,
     "metadata": {},
     "output_type": "execute_result"
    }
   ],
   "source": [
    "x1 = np.array([1,2,4,2,5,6,6])\n",
    "np.unique(x1)"
   ]
  },
  {
   "cell_type": "code",
   "execution_count": 224,
   "id": "8b14ab95-ad9d-4ef8-a26b-7799620c97a8",
   "metadata": {},
   "outputs": [
    {
     "name": "stdout",
     "output_type": "stream",
     "text": [
      "[[1 2]\n",
      " [3 4]]\n"
     ]
    },
    {
     "data": {
      "text/plain": [
       "array([[2, 1],\n",
       "       [4, 3]])"
      ]
     },
     "execution_count": 224,
     "metadata": {},
     "output_type": "execute_result"
    }
   ],
   "source": [
    "x2 = np.array([[1,2], [3,4]])\n",
    "print(x2)\n",
    "np.fliplr(x2)"
   ]
  },
  {
   "cell_type": "code",
   "execution_count": 225,
   "id": "436efeb8-ba86-4fc6-88e0-abc8db5fe2f7",
   "metadata": {},
   "outputs": [
    {
     "data": {
      "text/plain": [
       "array([[4, 3],\n",
       "       [2, 1]])"
      ]
     },
     "execution_count": 225,
     "metadata": {},
     "output_type": "execute_result"
    }
   ],
   "source": [
    "np.flip(x2)"
   ]
  },
  {
   "cell_type": "code",
   "execution_count": 226,
   "id": "7c1435a7-b6d9-453e-a80f-a8205e2c5f10",
   "metadata": {},
   "outputs": [
    {
     "data": {
      "text/plain": [
       "array([[2, 4],\n",
       "       [1, 3]])"
      ]
     },
     "execution_count": 226,
     "metadata": {},
     "output_type": "execute_result"
    }
   ],
   "source": [
    "np.rot90(x2)"
   ]
  },
  {
   "cell_type": "code",
   "execution_count": null,
   "id": "0e17083a-52ec-42e2-96d0-242cc802821e",
   "metadata": {},
   "outputs": [],
   "source": []
  }
 ],
 "metadata": {
  "kernelspec": {
   "display_name": "Python 3 (ipykernel)",
   "language": "python",
   "name": "python3"
  },
  "language_info": {
   "codemirror_mode": {
    "name": "ipython",
    "version": 3
   },
   "file_extension": ".py",
   "mimetype": "text/x-python",
   "name": "python",
   "nbconvert_exporter": "python",
   "pygments_lexer": "ipython3",
   "version": "3.11.5"
  }
 },
 "nbformat": 4,
 "nbformat_minor": 5
}
