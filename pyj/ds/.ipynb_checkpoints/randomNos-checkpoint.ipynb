{
 "cells": [
  {
   "cell_type": "markdown",
   "id": "3200a282-d563-421e-9a74-6643b803db17",
   "metadata": {},
   "source": [
    " # random values\n",
    "- random()\n",
    "- randint()\n",
    "- sample()\n",
    "- choice()\n",
    "- randrang()\n",
    "- uniform()\n",
    "- shuffle()\n",
    "- seed()"
   ]
  },
  {
   "cell_type": "code",
   "execution_count": 2,
   "id": "39d9336b-9907-4f4f-a4d7-195e1514c32d",
   "metadata": {},
   "outputs": [],
   "source": [
    "import random\n",
    "import numpy as np\n",
    "import pandas as pd"
   ]
  },
  {
   "cell_type": "code",
   "execution_count": 3,
   "id": "02c01411-3cc3-415b-9853-603d41d541af",
   "metadata": {},
   "outputs": [
    {
     "data": {
      "text/plain": [
       "4"
      ]
     },
     "execution_count": 3,
     "metadata": {},
     "output_type": "execute_result"
    }
   ],
   "source": [
    "# random nos\n",
    "random.randint(0,9)"
   ]
  },
  {
   "cell_type": "code",
   "execution_count": 4,
   "id": "a570634a-e2dd-45e1-a007-358259e2788d",
   "metadata": {},
   "outputs": [
    {
     "data": {
      "text/plain": [
       "0.36082077589664074"
      ]
     },
     "execution_count": 4,
     "metadata": {},
     "output_type": "execute_result"
    }
   ],
   "source": [
    "random.random()"
   ]
  },
  {
   "cell_type": "code",
   "execution_count": 7,
   "id": "6e8e8b2f-a8c8-4316-9fb7-4cc071e094a5",
   "metadata": {},
   "outputs": [
    {
     "data": {
      "text/plain": [
       "[146, 179, 137, 168, 159, 164, 117, 145, 152, 194]"
      ]
     },
     "execution_count": 7,
     "metadata": {},
     "output_type": "execute_result"
    }
   ],
   "source": [
    "randomList = []\n",
    "for i in range(0,10):\n",
    "    rn = random.randint(100,200)\n",
    "    randomList.append(rn)\n",
    "randomList"
   ]
  },
  {
   "cell_type": "code",
   "execution_count": 8,
   "id": "3eabcb3c-3e70-4496-b90a-bee8cd6fa12d",
   "metadata": {},
   "outputs": [
    {
     "data": {
      "text/plain": [
       "[60, 90, 86, 55, 87, 75, 94, 73, 78, 56]"
      ]
     },
     "execution_count": 8,
     "metadata": {},
     "output_type": "execute_result"
    }
   ],
   "source": [
    "rs = random.sample(range(50,100), 10)\n",
    "rs"
   ]
  },
  {
   "cell_type": "code",
   "execution_count": 9,
   "id": "daa066b1-bc3f-4bbd-ad82-4f0febf17d46",
   "metadata": {},
   "outputs": [
    {
     "name": "stdout",
     "output_type": "stream",
     "text": [
      "55\n"
     ]
    }
   ],
   "source": [
    "#random nos from list\n",
    "rnlist = random.choice(rs)\n",
    "print(rnlist)"
   ]
  },
  {
   "cell_type": "code",
   "execution_count": 10,
   "id": "7365290c-7813-4481-9609-e96db505918b",
   "metadata": {},
   "outputs": [
    {
     "data": {
      "text/plain": [
       "34"
      ]
     },
     "execution_count": 10,
     "metadata": {},
     "output_type": "execute_result"
    }
   ],
   "source": [
    "rng =random.randrange(10,50,4)\n",
    "rng"
   ]
  },
  {
   "cell_type": "code",
   "execution_count": 11,
   "id": "2a3e2b2c-d708-4ff2-a478-787d9473f4f0",
   "metadata": {},
   "outputs": [
    {
     "data": {
      "text/plain": [
       "15.857822100462919"
      ]
     },
     "execution_count": 11,
     "metadata": {},
     "output_type": "execute_result"
    }
   ],
   "source": [
    "ru = random.uniform(13,17)\n",
    "ru"
   ]
  },
  {
   "cell_type": "code",
   "execution_count": 12,
   "id": "08767722-aaf2-44dc-9ff0-582a03ff6d67",
   "metadata": {},
   "outputs": [
    {
     "data": {
      "text/plain": [
       "[146, 179, 137, 168, 159, 164, 117, 145, 152, 194]"
      ]
     },
     "execution_count": 12,
     "metadata": {},
     "output_type": "execute_result"
    }
   ],
   "source": [
    "randomList"
   ]
  },
  {
   "cell_type": "code",
   "execution_count": 13,
   "id": "a3b673a1-819c-412c-a8d3-8b871484e2ee",
   "metadata": {},
   "outputs": [
    {
     "data": {
      "text/plain": [
       "[194, 145, 164, 159, 117, 179, 146, 137, 168, 152]"
      ]
     },
     "execution_count": 13,
     "metadata": {},
     "output_type": "execute_result"
    }
   ],
   "source": [
    "random.shuffle(randomList)\n",
    "randomList"
   ]
  },
  {
   "cell_type": "code",
   "execution_count": 14,
   "id": "f529de72-7152-4ee1-8814-96dd89c15af4",
   "metadata": {},
   "outputs": [
    {
     "data": {
      "text/plain": [
       "0.13967434151928615"
      ]
     },
     "execution_count": 14,
     "metadata": {},
     "output_type": "execute_result"
    }
   ],
   "source": [
    "random.random()"
   ]
  },
  {
   "cell_type": "code",
   "execution_count": 16,
   "id": "3a8e328e-71c6-4ba4-afe2-28a2444f67d3",
   "metadata": {},
   "outputs": [
    {
     "data": {
      "text/plain": [
       "[168, 137, 117, 164]"
      ]
     },
     "execution_count": 16,
     "metadata": {},
     "output_type": "execute_result"
    }
   ],
   "source": [
    "random.sample(randomList, 4)"
   ]
  },
  {
   "cell_type": "code",
   "execution_count": 17,
   "id": "71c2475d-bfad-444f-b5e8-294f0fefac91",
   "metadata": {},
   "outputs": [
    {
     "data": {
      "text/plain": [
       "array([ 1.1470578 , -2.85153042, -0.43318948,  1.01603215,  1.00505057,\n",
       "       -0.49634961, -1.33872683, -0.7536037 ,  0.27238861, -0.16664736])"
      ]
     },
     "execution_count": 17,
     "metadata": {},
     "output_type": "execute_result"
    }
   ],
   "source": [
    "#using numpy\n",
    "np.random.standard_normal(10)"
   ]
  },
  {
   "cell_type": "code",
   "execution_count": 20,
   "id": "d59ccf87-dd45-4ca6-a324-b3733a605725",
   "metadata": {},
   "outputs": [
    {
     "data": {
      "text/plain": [
       "array([19, 16, 16,  2,  2, 10, 19,  7,  9,  8, 11, 14, 12, 15,  1,  2,  5,\n",
       "        5, 10,  3, 14,  9, 14,  1,  8,  5, 13,  3,  2, 17, 17,  6, 11, 12,\n",
       "       17,  9, 12,  8,  1,  2,  9,  4,  9,  1,  1, 18,  1,  4,  1,  9])"
      ]
     },
     "execution_count": 20,
     "metadata": {},
     "output_type": "execute_result"
    }
   ],
   "source": [
    "np.random.randint(1,20,50)"
   ]
  },
  {
   "cell_type": "code",
   "execution_count": 21,
   "id": "1e42f79d-ec7c-4b51-9e10-53f4b3af044b",
   "metadata": {},
   "outputs": [],
   "source": [
    "#dates"
   ]
  },
  {
   "cell_type": "code",
   "execution_count": 22,
   "id": "e6f39505-addf-4461-a0c9-3f01facc2a4a",
   "metadata": {},
   "outputs": [],
   "source": [
    "from datetime import date, timedelta\n"
   ]
  },
  {
   "cell_type": "code",
   "execution_count": 23,
   "id": "82a24e24-bae2-426e-8380-c668de4a6ceb",
   "metadata": {},
   "outputs": [
    {
     "data": {
      "text/plain": [
       "(datetime.date(2023, 1, 1), datetime.date(2023, 6, 30))"
      ]
     },
     "execution_count": 23,
     "metadata": {},
     "output_type": "execute_result"
    }
   ],
   "source": [
    "d1, d2 = date(2023,1,1), date(2023,6,30)\n",
    "d1, d2"
   ]
  },
  {
   "cell_type": "code",
   "execution_count": 25,
   "id": "f94c4d3a-ead0-4a41-8f49-bc6b0956232c",
   "metadata": {},
   "outputs": [
    {
     "data": {
      "text/plain": [
       "180"
      ]
     },
     "execution_count": 25,
     "metadata": {},
     "output_type": "execute_result"
    }
   ],
   "source": [
    "daysbet = d2 - d1\n",
    "totalDays = daysbet.days\n",
    "totalDays"
   ]
  },
  {
   "cell_type": "code",
   "execution_count": 27,
   "id": "0e4439c4-17ca-425c-9793-e033377a9556",
   "metadata": {},
   "outputs": [
    {
     "data": {
      "text/plain": [
       "[datetime.date(2023, 2, 24),\n",
       " datetime.date(2023, 6, 4),\n",
       " datetime.date(2023, 2, 14),\n",
       " datetime.date(2023, 1, 17),\n",
       " datetime.date(2023, 4, 26),\n",
       " datetime.date(2023, 6, 10),\n",
       " datetime.date(2023, 5, 19),\n",
       " datetime.date(2023, 6, 9),\n",
       " datetime.date(2023, 6, 14),\n",
       " datetime.date(2023, 1, 12),\n",
       " datetime.date(2023, 1, 12),\n",
       " datetime.date(2023, 4, 24),\n",
       " datetime.date(2023, 1, 11),\n",
       " datetime.date(2023, 6, 18),\n",
       " datetime.date(2023, 5, 14),\n",
       " datetime.date(2023, 3, 29),\n",
       " datetime.date(2023, 1, 12),\n",
       " datetime.date(2023, 2, 23),\n",
       " datetime.date(2023, 1, 26),\n",
       " datetime.date(2023, 6, 18)]"
      ]
     },
     "execution_count": 27,
     "metadata": {},
     "output_type": "execute_result"
    }
   ],
   "source": [
    "rDates = [ ]\n",
    "k = 20 \n",
    "for idx in range(20):\n",
    "    random.seed(a=None)\n",
    "    randay = random.randrange(totalDays)\n",
    "    rDates.append(d1 + timedelta(days= randay))\n",
    "rDates"
   ]
  },
  {
   "cell_type": "code",
   "execution_count": 38,
   "id": "f10df557-c492-4d00-a9cc-887ce644194a",
   "metadata": {},
   "outputs": [
    {
     "data": {
      "text/plain": [
       "0    2023-02-24\n",
       "1    2023-06-04\n",
       "2    2023-02-14\n",
       "3    2023-01-17\n",
       "4    2023-04-26\n",
       "5    2023-06-10\n",
       "6    2023-05-19\n",
       "7    2023-06-09\n",
       "8    2023-06-14\n",
       "9    2023-01-12\n",
       "10   2023-01-12\n",
       "11   2023-04-24\n",
       "12   2023-01-11\n",
       "13   2023-06-18\n",
       "14   2023-05-14\n",
       "15   2023-03-29\n",
       "16   2023-01-12\n",
       "17   2023-02-23\n",
       "18   2023-01-26\n",
       "19   2023-06-18\n",
       "dtype: datetime64[ns]"
      ]
     },
     "execution_count": 38,
     "metadata": {},
     "output_type": "execute_result"
    }
   ],
   "source": [
    "s1 =  pd.Series(pd.to_datetime(rDates))\n",
    "type(s1)\n",
    "s1"
   ]
  },
  {
   "cell_type": "code",
   "execution_count": 39,
   "id": "b2ef11da-5837-484a-a3ac-8e8c01bef414",
   "metadata": {},
   "outputs": [
    {
     "data": {
      "text/html": [
       "<div>\n",
       "<style scoped>\n",
       "    .dataframe tbody tr th:only-of-type {\n",
       "        vertical-align: middle;\n",
       "    }\n",
       "\n",
       "    .dataframe tbody tr th {\n",
       "        vertical-align: top;\n",
       "    }\n",
       "\n",
       "    .dataframe thead th {\n",
       "        text-align: right;\n",
       "    }\n",
       "</style>\n",
       "<table border=\"1\" class=\"dataframe\">\n",
       "  <thead>\n",
       "    <tr style=\"text-align: right;\">\n",
       "      <th></th>\n",
       "      <th>s1</th>\n",
       "    </tr>\n",
       "  </thead>\n",
       "  <tbody>\n",
       "    <tr>\n",
       "      <th>0</th>\n",
       "      <td>2023-02-24</td>\n",
       "    </tr>\n",
       "    <tr>\n",
       "      <th>1</th>\n",
       "      <td>2023-06-04</td>\n",
       "    </tr>\n",
       "    <tr>\n",
       "      <th>2</th>\n",
       "      <td>2023-02-14</td>\n",
       "    </tr>\n",
       "    <tr>\n",
       "      <th>3</th>\n",
       "      <td>2023-01-17</td>\n",
       "    </tr>\n",
       "    <tr>\n",
       "      <th>4</th>\n",
       "      <td>2023-04-26</td>\n",
       "    </tr>\n",
       "    <tr>\n",
       "      <th>5</th>\n",
       "      <td>2023-06-10</td>\n",
       "    </tr>\n",
       "    <tr>\n",
       "      <th>6</th>\n",
       "      <td>2023-05-19</td>\n",
       "    </tr>\n",
       "    <tr>\n",
       "      <th>7</th>\n",
       "      <td>2023-06-09</td>\n",
       "    </tr>\n",
       "    <tr>\n",
       "      <th>8</th>\n",
       "      <td>2023-06-14</td>\n",
       "    </tr>\n",
       "    <tr>\n",
       "      <th>9</th>\n",
       "      <td>2023-01-12</td>\n",
       "    </tr>\n",
       "    <tr>\n",
       "      <th>10</th>\n",
       "      <td>2023-01-12</td>\n",
       "    </tr>\n",
       "    <tr>\n",
       "      <th>11</th>\n",
       "      <td>2023-04-24</td>\n",
       "    </tr>\n",
       "    <tr>\n",
       "      <th>12</th>\n",
       "      <td>2023-01-11</td>\n",
       "    </tr>\n",
       "    <tr>\n",
       "      <th>13</th>\n",
       "      <td>2023-06-18</td>\n",
       "    </tr>\n",
       "    <tr>\n",
       "      <th>14</th>\n",
       "      <td>2023-05-14</td>\n",
       "    </tr>\n",
       "    <tr>\n",
       "      <th>15</th>\n",
       "      <td>2023-03-29</td>\n",
       "    </tr>\n",
       "    <tr>\n",
       "      <th>16</th>\n",
       "      <td>2023-01-12</td>\n",
       "    </tr>\n",
       "    <tr>\n",
       "      <th>17</th>\n",
       "      <td>2023-02-23</td>\n",
       "    </tr>\n",
       "    <tr>\n",
       "      <th>18</th>\n",
       "      <td>2023-01-26</td>\n",
       "    </tr>\n",
       "    <tr>\n",
       "      <th>19</th>\n",
       "      <td>2023-06-18</td>\n",
       "    </tr>\n",
       "  </tbody>\n",
       "</table>\n",
       "</div>"
      ],
      "text/plain": [
       "           s1\n",
       "0  2023-02-24\n",
       "1  2023-06-04\n",
       "2  2023-02-14\n",
       "3  2023-01-17\n",
       "4  2023-04-26\n",
       "5  2023-06-10\n",
       "6  2023-05-19\n",
       "7  2023-06-09\n",
       "8  2023-06-14\n",
       "9  2023-01-12\n",
       "10 2023-01-12\n",
       "11 2023-04-24\n",
       "12 2023-01-11\n",
       "13 2023-06-18\n",
       "14 2023-05-14\n",
       "15 2023-03-29\n",
       "16 2023-01-12\n",
       "17 2023-02-23\n",
       "18 2023-01-26\n",
       "19 2023-06-18"
      ]
     },
     "execution_count": 39,
     "metadata": {},
     "output_type": "execute_result"
    }
   ],
   "source": [
    "df1 = pd.DataFrame({'s1':s1})\n",
    "df1"
   ]
  },
  {
   "cell_type": "code",
   "execution_count": 47,
   "id": "59cacae2-44b7-4834-ae2f-68a4b536cd9b",
   "metadata": {},
   "outputs": [
    {
     "data": {
      "text/html": [
       "<div>\n",
       "<style scoped>\n",
       "    .dataframe tbody tr th:only-of-type {\n",
       "        vertical-align: middle;\n",
       "    }\n",
       "\n",
       "    .dataframe tbody tr th {\n",
       "        vertical-align: top;\n",
       "    }\n",
       "\n",
       "    .dataframe thead th {\n",
       "        text-align: right;\n",
       "    }\n",
       "</style>\n",
       "<table border=\"1\" class=\"dataframe\">\n",
       "  <thead>\n",
       "    <tr style=\"text-align: right;\">\n",
       "      <th></th>\n",
       "      <th>s1</th>\n",
       "      <th>s2</th>\n",
       "    </tr>\n",
       "  </thead>\n",
       "  <tbody>\n",
       "    <tr>\n",
       "      <th>0</th>\n",
       "      <td>2023-02-24</td>\n",
       "      <td>2023-03-01</td>\n",
       "    </tr>\n",
       "    <tr>\n",
       "      <th>1</th>\n",
       "      <td>2023-06-04</td>\n",
       "      <td>2023-06-05</td>\n",
       "    </tr>\n",
       "    <tr>\n",
       "      <th>2</th>\n",
       "      <td>2023-02-14</td>\n",
       "      <td>2023-02-22</td>\n",
       "    </tr>\n",
       "    <tr>\n",
       "      <th>3</th>\n",
       "      <td>2023-01-17</td>\n",
       "      <td>2023-01-27</td>\n",
       "    </tr>\n",
       "    <tr>\n",
       "      <th>4</th>\n",
       "      <td>2023-04-26</td>\n",
       "      <td>2023-04-27</td>\n",
       "    </tr>\n",
       "    <tr>\n",
       "      <th>5</th>\n",
       "      <td>2023-06-10</td>\n",
       "      <td>2023-06-19</td>\n",
       "    </tr>\n",
       "    <tr>\n",
       "      <th>6</th>\n",
       "      <td>2023-05-19</td>\n",
       "      <td>2023-05-22</td>\n",
       "    </tr>\n",
       "    <tr>\n",
       "      <th>7</th>\n",
       "      <td>2023-06-09</td>\n",
       "      <td>2023-06-17</td>\n",
       "    </tr>\n",
       "    <tr>\n",
       "      <th>8</th>\n",
       "      <td>2023-06-14</td>\n",
       "      <td>2023-06-19</td>\n",
       "    </tr>\n",
       "    <tr>\n",
       "      <th>9</th>\n",
       "      <td>2023-01-12</td>\n",
       "      <td>2023-01-18</td>\n",
       "    </tr>\n",
       "    <tr>\n",
       "      <th>10</th>\n",
       "      <td>2023-01-12</td>\n",
       "      <td>2023-01-13</td>\n",
       "    </tr>\n",
       "    <tr>\n",
       "      <th>11</th>\n",
       "      <td>2023-04-24</td>\n",
       "      <td>2023-04-30</td>\n",
       "    </tr>\n",
       "    <tr>\n",
       "      <th>12</th>\n",
       "      <td>2023-01-11</td>\n",
       "      <td>2023-01-19</td>\n",
       "    </tr>\n",
       "    <tr>\n",
       "      <th>13</th>\n",
       "      <td>2023-06-18</td>\n",
       "      <td>2023-06-24</td>\n",
       "    </tr>\n",
       "    <tr>\n",
       "      <th>14</th>\n",
       "      <td>2023-05-14</td>\n",
       "      <td>2023-05-24</td>\n",
       "    </tr>\n",
       "    <tr>\n",
       "      <th>15</th>\n",
       "      <td>2023-03-29</td>\n",
       "      <td>2023-03-31</td>\n",
       "    </tr>\n",
       "    <tr>\n",
       "      <th>16</th>\n",
       "      <td>2023-01-12</td>\n",
       "      <td>2023-01-13</td>\n",
       "    </tr>\n",
       "    <tr>\n",
       "      <th>17</th>\n",
       "      <td>2023-02-23</td>\n",
       "      <td>2023-02-24</td>\n",
       "    </tr>\n",
       "    <tr>\n",
       "      <th>18</th>\n",
       "      <td>2023-01-26</td>\n",
       "      <td>2023-02-01</td>\n",
       "    </tr>\n",
       "    <tr>\n",
       "      <th>19</th>\n",
       "      <td>2023-06-18</td>\n",
       "      <td>2023-06-21</td>\n",
       "    </tr>\n",
       "  </tbody>\n",
       "</table>\n",
       "</div>"
      ],
      "text/plain": [
       "           s1         s2\n",
       "0  2023-02-24 2023-03-01\n",
       "1  2023-06-04 2023-06-05\n",
       "2  2023-02-14 2023-02-22\n",
       "3  2023-01-17 2023-01-27\n",
       "4  2023-04-26 2023-04-27\n",
       "5  2023-06-10 2023-06-19\n",
       "6  2023-05-19 2023-05-22\n",
       "7  2023-06-09 2023-06-17\n",
       "8  2023-06-14 2023-06-19\n",
       "9  2023-01-12 2023-01-18\n",
       "10 2023-01-12 2023-01-13\n",
       "11 2023-04-24 2023-04-30\n",
       "12 2023-01-11 2023-01-19\n",
       "13 2023-06-18 2023-06-24\n",
       "14 2023-05-14 2023-05-24\n",
       "15 2023-03-29 2023-03-31\n",
       "16 2023-01-12 2023-01-13\n",
       "17 2023-02-23 2023-02-24\n",
       "18 2023-01-26 2023-02-01\n",
       "19 2023-06-18 2023-06-21"
      ]
     },
     "execution_count": 47,
     "metadata": {},
     "output_type": "execute_result"
    }
   ],
   "source": [
    "df1['s2'] = df1['s1'].apply(lambda x: x+timedelta(days = random.randint(0,10)))\n",
    "df1"
   ]
  },
  {
   "cell_type": "code",
   "execution_count": null,
   "id": "dc70ea85-5101-4804-bf1e-7f29544371fb",
   "metadata": {},
   "outputs": [],
   "source": []
  }
 ],
 "metadata": {
  "kernelspec": {
   "display_name": "Python 3 (ipykernel)",
   "language": "python",
   "name": "python3"
  },
  "language_info": {
   "codemirror_mode": {
    "name": "ipython",
    "version": 3
   },
   "file_extension": ".py",
   "mimetype": "text/x-python",
   "name": "python",
   "nbconvert_exporter": "python",
   "pygments_lexer": "ipython3",
   "version": "3.11.5"
  }
 },
 "nbformat": 4,
 "nbformat_minor": 5
}
