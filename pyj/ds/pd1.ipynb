{
 "cells": [
  {
   "cell_type": "markdown",
   "id": "e37b010e-528e-4d71-a92c-df48ff88ac11",
   "metadata": {},
   "source": [
    "# pandas"
   ]
  },
  {
   "cell_type": "code",
   "execution_count": 1,
   "id": "473d68a1-45da-4072-b627-37ed0cc84611",
   "metadata": {},
   "outputs": [
    {
     "name": "stdout",
     "output_type": "stream",
     "text": [
      "2.1.4\n"
     ]
    }
   ],
   "source": [
    "import pandas as pd\n",
    "print(pd.__version__)"
   ]
  },
  {
   "cell_type": "code",
   "execution_count": 4,
   "id": "3cbe8b50-ebda-4baa-97e7-4ba82caf9d5e",
   "metadata": {},
   "outputs": [],
   "source": [
    "from pydataset import data"
   ]
  },
  {
   "cell_type": "code",
   "execution_count": 9,
   "id": "f51372f0-d0c7-4e10-9338-4f559dac1b7b",
   "metadata": {},
   "outputs": [
    {
     "data": {
      "text/plain": [
       "'AirPassengers, BJsales, BOD, Formaldehyde, HairEyeColor, InsectSprays, JohnsonJohnson, LakeHuron, LifeCycleSavings, Nile, OrchardSprays, PlantGrowth, Puromycin, Titanic, ToothGrowth, UCBAdmissions, UKDriverDeaths, UKgas, USAccDeaths, USArrests, USJudgeRatings, USPersonalExpenditure, VADeaths, WWWusage, WorldPhones, airmiles, airquality, anscombe, attenu, attitude, austres, cars, chickwts, co2, crimtab, discoveries, esoph, euro, faithful, freeny, infert, iris, islands, lh, longley, lynx, morley, mtcars, nhtemp, nottem, npk, occupationalStatus, precip, presidents, pressure, quakes, randu, rivers, rock, sleep, stackloss, sunspot.month, sunspot.year, sunspots, swiss, treering, trees, uspop, volcano, warpbreaks, women, acme, aids, aircondit, aircondit7, amis, aml, bigcity, brambles, breslow, calcium, cane, capability, catsM, cav, cd4, channing, city, claridge, cloth, co.transfer, coal, darwin, dogs, downs.bc, ducks, fir, frets, grav, gravity, hirose, islay, manaus, melanoma, motor, neuro, nitrofen, nodal, nuclear, paulsen, poisons, polar, remission, salinity, survival, tau, tuna, urine, wool, aids, alloauto, allograft, azt, baboon, bcdeter, bfeed, bmt, bnct, btrial, burn, channing, drug6mp, drughiv, hodg, kidney, kidrecurr, kidtran, larynx, lung, pneumon, psych, rats, std, stddiag, tongue, twins, Animals2, CrohnD, NOxEmissions, SiegelsEx, aircraft, airmay, alcohol, ambientNOxCH, bushfire, carrots, cloud, coleman, condroz, cushny, delivery, education, epilepsy, exAM, foodstamp, hbk, heart, kootenay, lactic, milk, pension, phosphor, pilot, possumDiv, pulpfiber, radarImage, salinity, starsCYG, telef, toxicity, vaso, wagnerGrowth, wood, AMSsurvey, Adler, Angell, Anscombe, Baumann, Bfox, Blackmoor, Burt, CanPop, Chile, Chirot, Cowles, Davis, DavisThin, Depredations, Duncan, Ericksen, Florida, Freedman, Friendly, Ginzberg, Greene, Guyer, Hartnagel, Highway1, Leinhardt, Mandel, Migration, Moore, Mroz, OBrienKaiser, Ornstein, Pottery, Prestige, Quartet, Robey, SLID, Sahlins, Salaries, Soils, States, Transact, UN, USPop, Vocab, WeightLoss, Womenlf, Wool, agriculture, animals, chorSub, flower, plantTraits, pluton, ruspini, votes.repub, xclara, affairs, azcabgptca, azdrg112, azpro, azprocedure, badhealth, fasttrakg, fishing, lbw, lbwgrp, loomis, mdvis, medpar, nuts, rwm, rwm1984, rwm5yr, ships, smoking, titanic, titanicgrp, Accident, Airline, Airq, Benefits, Bids, BudgetFood, BudgetItaly, BudgetUK, Bwages, CPSch3, CRANpackages, Capm, Car, Caschool, Catsup, Cigar, Cigarette, Clothing, Computers, Cracker, Crime, DM, Diamond, Doctor, DoctorAUS, DoctorContacts, Earnings, Electricity, Fair, Fatality, Fishing, Forward, FriendFoe, Garch, Gasoline, Griliches, Grunfeld, HC, HI, Hdma, Heating, Hedonic, Housing, Icecream, Journals, Kakadu, Ketchup, Klein, LaborSupply, Labour, MCAS, Males, Mathlevel, MedExp, Metal, Mode, ModeChoice, Mofa, Mroz, MunExp, NaturalPark, Nerlove, OFP, Oil, PSID, Participation, PatentsHGH, PatentsRD, Pound, Produc, RetSchool, SP500, Schooling, Somerville, Star, Strike, StrikeDur, StrikeNb, SumHes, Tobacco, Train, TranspEq, Treatment, Tuna, USFinanceIndustry, USclassifiedDocuments, USstateAbbreviations, UStaxWords, UnempDur, Unemployment, University, VietNamH, VietNamI, Wages, Wages1, Workinghours, Yen, Yogurt, bankingCrises, incomeInequality, nonEnglishNames, politicalKnowledge, PD, aldh2, apoeapoc, cf, crohn, fa, fsnps, hla, hr1420, l51, lukas, mao, mfblong, mhtdata, nep499, diamonds, economics, midwest, movies, mpg, msleep, presidential, seals, Arbuthnot, Bowley, Cavendish, ChestSizes, CushnyPeebles, CushnyPeeblesN, Dactyl, DrinksWages, Fingerprints, Galton, GaltonFamilies, Guerry, Jevons, Langren.all, Langren1644, Macdonell, MacdonellDF, Michelson, MichelsonSets, Minard.cities, Minard.temp, Minard.troops, Nightingale, OldMaps, PearsonLee, PolioTrials, Prostitutes, Pyx, Quarrels, Snow.deaths, Snow.polygons, Snow.pumps, Snow.streets, Wheat, Wheat.monarchs, Yeast, YeastD.mat, ZeaMays, barley, environmental, ethanol, melanoma, singer, Aids2, Animals, Boston, Cars93, Cushings, DDT, GAGurine, Insurance, Melanoma, OME, Pima.te, Pima.tr, Pima.tr2, Rabbit, Rubber, SP500, Sitka, Sitka89, Skye, Traffic, UScereal, UScrime, VA, abbey, accdeaths, anorexia, bacteria, beav1, beav2, biopsy, birthwt, cabbages, caith, cats, cement, chem, coop, cpus, crabs, deaths, drivers, eagles, epil, farms, fgl, forbes, galaxies, gehan, genotype, geyser, gilgais, hills, housing, immer, leuk, mammals, mcycle, menarche, michelson, minn38, motors, muscle, newcomb, nlschools, npk, npr1, oats, painters, petrol, quine, road, rotifer, ships, shrimp, shuttle, snails, steam, stormer, survey, synth.te, synth.tr, topo, waders, whiteside, wtloss, Cigar, Crime, EmplUK, Gasoline, Grunfeld, Hedonic, LaborSupply, Males, Produc, Snmesp, SumHes, Wages, baseball, AustralianElectionPolling, AustralianElections, EfronMorris, RockTheVote, UKHouseOfCommons, absentee, admit, bioChemists, ca2006, iraqVote, politicalInformation, presidentialElections, prussian, unionDensity, vote92, french_fries, smiths, tips, car.test.frame, car90, cu.summary, kyphosis, solder, stagec, PublicSchools, Bollen, CNES, Klein, Kmenta, Tests, bladder, cancer, cgd, colon, flchain, heart, kidney, leukemia, logan, lung, mgus, nwtco, ovarian, pbc, rats, stanford2, tobin, veteran, Arthritis, Baseball, BrokenMarriage, Bundesliga, Bundestag2005, Butterfly, CoalMiners, DanishWelfare, Employment, Federalist, Hitters, HorseKicks, Hospital, JobSatisfaction, JointSports, Lifeboats, NonResponse, OvaryCancer, PreSex, Punishment, RepVict, Saxony, SexualFun, SpaceShuttle, Suicide, Trucks, UKSoccer, VisualAcuity, VonBort, WeldonDice, WomenQueue, MatchIt.url, PErisk, SupremeCourt, Weimar, Zelig.url, approval, bivariate, coalition, coalition2, eidat, free1, free2, friendship, grunfeld, hoff, homerun, immi1, immi2, immi3, immi4, immi5, immigration, klein, kmenta, macro, mexico, mid, newpainters, sanction, sna.ex, swiss, tobin, turnout, voteincome, BCG, BtheB, CYGOB1, Forbes2000, GHQ, Lanza, agefat, aspirin, birthdeathrates, bladdercancer, clouds, epilepsy, foster, heptathlon, mastectomy, meteo, orallesions, phosphate, pistonrings, planets, plasma, polyps, polyps3, pottery, rearrests, respiratory, roomwidth, schizophrenia, schizophrenia2, schooldays, skulls, smoking, students, suicides, toothpaste, voting, water, watervoles, waves, weightgain, womensrole, Bechtoldt, Bechtoldt.1, Bechtoldt.2, Dwyer, Gleser, Gorsuch, Harman.5, Harman.8, Harman.political, Holzinger, Holzinger.9, Reise, Schmid, Thurstone, Thurstone.33, Tucker, ability, affect, bfi, bfi.dictionary, blot, burt, cities, cubits, cushny, epi, epi.bfi, epi.dictionary, galton, heights, income, iqitems, msq, neo, peas, sat.act, withinBetween, Bosco, CobarOre, Mammals, barro, engel, uis, dietox, koch, ohio, respdis, respiratory, seizure, sitka89, spruce, liver, portpirie, rain, summer, wavesurge, winter, arthritis, housing, bmw, danish, nidd.annual, nidd.thresh, siemens, sp.raw, spto87, Dyestuff, Dyestuff2, InstEval, Pastes, Penicillin, VerbAgg, cake, cbpp, grouseticks, sleepstudy'"
      ]
     },
     "execution_count": 9,
     "metadata": {},
     "output_type": "execute_result"
    }
   ],
   "source": [
    "', '.join(data().dataset_id)"
   ]
  },
  {
   "cell_type": "code",
   "execution_count": 10,
   "id": "ea364189-8e2a-4fbb-9148-e6dd9bdb9282",
   "metadata": {},
   "outputs": [
    {
     "name": "stdout",
     "output_type": "stream",
     "text": [
      "<class 'pandas.core.frame.DataFrame'>\n",
      "Index: 32 entries, Mazda RX4 to Volvo 142E\n",
      "Data columns (total 11 columns):\n",
      " #   Column  Non-Null Count  Dtype  \n",
      "---  ------  --------------  -----  \n",
      " 0   mpg     32 non-null     float64\n",
      " 1   cyl     32 non-null     int64  \n",
      " 2   disp    32 non-null     float64\n",
      " 3   hp      32 non-null     int64  \n",
      " 4   drat    32 non-null     float64\n",
      " 5   wt      32 non-null     float64\n",
      " 6   qsec    32 non-null     float64\n",
      " 7   vs      32 non-null     int64  \n",
      " 8   am      32 non-null     int64  \n",
      " 9   gear    32 non-null     int64  \n",
      " 10  carb    32 non-null     int64  \n",
      "dtypes: float64(5), int64(6)\n",
      "memory usage: 3.0+ KB\n"
     ]
    }
   ],
   "source": [
    "mtcars = data('mtcars')\n",
    "mtcars.info()"
   ]
  },
  {
   "cell_type": "code",
   "execution_count": 17,
   "id": "f5fffdf1-e42f-4d0e-b6bf-c1477a3bd624",
   "metadata": {},
   "outputs": [
    {
     "name": "stdout",
     "output_type": "stream",
     "text": [
      "mpg     float64\n",
      "cyl       int64\n",
      "disp    float64\n",
      "hp        int64\n",
      "drat    float64\n",
      "wt      float64\n",
      "qsec    float64\n",
      "vs        int64\n",
      "am        int64\n",
      "gear      int64\n",
      "carb      int64\n",
      "dtype: object\n",
      "(32, 11)\n",
      "2\n",
      "Index(['mpg', 'cyl', 'disp', 'hp', 'drat', 'wt', 'qsec', 'vs', 'am', 'gear',\n",
      "       'carb'],\n",
      "      dtype='object')\n",
      "             mpg        cyl        disp          hp       drat         wt  \\\n",
      "count  32.000000  32.000000   32.000000   32.000000  32.000000  32.000000   \n",
      "mean   20.090625   6.187500  230.721875  146.687500   3.596563   3.217250   \n",
      "std     6.026948   1.785922  123.938694   68.562868   0.534679   0.978457   \n",
      "min    10.400000   4.000000   71.100000   52.000000   2.760000   1.513000   \n",
      "25%    15.425000   4.000000  120.825000   96.500000   3.080000   2.581250   \n",
      "50%    19.200000   6.000000  196.300000  123.000000   3.695000   3.325000   \n",
      "75%    22.800000   8.000000  326.000000  180.000000   3.920000   3.610000   \n",
      "max    33.900000   8.000000  472.000000  335.000000   4.930000   5.424000   \n",
      "\n",
      "            qsec         vs         am       gear     carb  \n",
      "count  32.000000  32.000000  32.000000  32.000000  32.0000  \n",
      "mean   17.848750   0.437500   0.406250   3.687500   2.8125  \n",
      "std     1.786943   0.504016   0.498991   0.737804   1.6152  \n",
      "min    14.500000   0.000000   0.000000   3.000000   1.0000  \n",
      "25%    16.892500   0.000000   0.000000   3.000000   2.0000  \n",
      "50%    17.710000   0.000000   0.000000   4.000000   2.0000  \n",
      "75%    18.900000   1.000000   1.000000   4.000000   4.0000  \n",
      "max    22.900000   1.000000   1.000000   5.000000   8.0000  \n"
     ]
    }
   ],
   "source": [
    "print(mtcars.dtypes)\n",
    "print(mtcars.shape)\n",
    "print(mtcars.ndim)\n",
    "print(mtcars.columns)\n",
    "print(mtcars.describe())"
   ]
  },
  {
   "cell_type": "code",
   "execution_count": 15,
   "id": "019448ad-3780-4cfd-ab63-b569ffca09e4",
   "metadata": {},
   "outputs": [
    {
     "data": {
      "text/html": [
       "<div>\n",
       "<style scoped>\n",
       "    .dataframe tbody tr th:only-of-type {\n",
       "        vertical-align: middle;\n",
       "    }\n",
       "\n",
       "    .dataframe tbody tr th {\n",
       "        vertical-align: top;\n",
       "    }\n",
       "\n",
       "    .dataframe thead th {\n",
       "        text-align: right;\n",
       "    }\n",
       "</style>\n",
       "<table border=\"1\" class=\"dataframe\">\n",
       "  <thead>\n",
       "    <tr style=\"text-align: right;\">\n",
       "      <th></th>\n",
       "      <th>mpg</th>\n",
       "      <th>cyl</th>\n",
       "      <th>disp</th>\n",
       "      <th>hp</th>\n",
       "      <th>drat</th>\n",
       "      <th>wt</th>\n",
       "      <th>qsec</th>\n",
       "      <th>vs</th>\n",
       "      <th>am</th>\n",
       "      <th>gear</th>\n",
       "      <th>carb</th>\n",
       "    </tr>\n",
       "  </thead>\n",
       "  <tbody>\n",
       "    <tr>\n",
       "      <th>Mazda RX4</th>\n",
       "      <td>21.0</td>\n",
       "      <td>6</td>\n",
       "      <td>160.0</td>\n",
       "      <td>110</td>\n",
       "      <td>3.90</td>\n",
       "      <td>2.620</td>\n",
       "      <td>16.46</td>\n",
       "      <td>0</td>\n",
       "      <td>1</td>\n",
       "      <td>4</td>\n",
       "      <td>4</td>\n",
       "    </tr>\n",
       "    <tr>\n",
       "      <th>Mazda RX4 Wag</th>\n",
       "      <td>21.0</td>\n",
       "      <td>6</td>\n",
       "      <td>160.0</td>\n",
       "      <td>110</td>\n",
       "      <td>3.90</td>\n",
       "      <td>2.875</td>\n",
       "      <td>17.02</td>\n",
       "      <td>0</td>\n",
       "      <td>1</td>\n",
       "      <td>4</td>\n",
       "      <td>4</td>\n",
       "    </tr>\n",
       "    <tr>\n",
       "      <th>Datsun 710</th>\n",
       "      <td>22.8</td>\n",
       "      <td>4</td>\n",
       "      <td>108.0</td>\n",
       "      <td>93</td>\n",
       "      <td>3.85</td>\n",
       "      <td>2.320</td>\n",
       "      <td>18.61</td>\n",
       "      <td>1</td>\n",
       "      <td>1</td>\n",
       "      <td>4</td>\n",
       "      <td>1</td>\n",
       "    </tr>\n",
       "    <tr>\n",
       "      <th>Hornet 4 Drive</th>\n",
       "      <td>21.4</td>\n",
       "      <td>6</td>\n",
       "      <td>258.0</td>\n",
       "      <td>110</td>\n",
       "      <td>3.08</td>\n",
       "      <td>3.215</td>\n",
       "      <td>19.44</td>\n",
       "      <td>1</td>\n",
       "      <td>0</td>\n",
       "      <td>3</td>\n",
       "      <td>1</td>\n",
       "    </tr>\n",
       "  </tbody>\n",
       "</table>\n",
       "</div>"
      ],
      "text/plain": [
       "                 mpg  cyl   disp   hp  drat     wt   qsec  vs  am  gear  carb\n",
       "Mazda RX4       21.0    6  160.0  110  3.90  2.620  16.46   0   1     4     4\n",
       "Mazda RX4 Wag   21.0    6  160.0  110  3.90  2.875  17.02   0   1     4     4\n",
       "Datsun 710      22.8    4  108.0   93  3.85  2.320  18.61   1   1     4     1\n",
       "Hornet 4 Drive  21.4    6  258.0  110  3.08  3.215  19.44   1   0     3     1"
      ]
     },
     "execution_count": 15,
     "metadata": {},
     "output_type": "execute_result"
    }
   ],
   "source": [
    "mtcars.head(4)"
   ]
  },
  {
   "cell_type": "code",
   "execution_count": 16,
   "id": "1ac739d7-eecb-43b4-9cfd-d59667262dae",
   "metadata": {},
   "outputs": [
    {
     "data": {
      "text/html": [
       "<div>\n",
       "<style scoped>\n",
       "    .dataframe tbody tr th:only-of-type {\n",
       "        vertical-align: middle;\n",
       "    }\n",
       "\n",
       "    .dataframe tbody tr th {\n",
       "        vertical-align: top;\n",
       "    }\n",
       "\n",
       "    .dataframe thead th {\n",
       "        text-align: right;\n",
       "    }\n",
       "</style>\n",
       "<table border=\"1\" class=\"dataframe\">\n",
       "  <thead>\n",
       "    <tr style=\"text-align: right;\">\n",
       "      <th></th>\n",
       "      <th>mpg</th>\n",
       "      <th>cyl</th>\n",
       "      <th>disp</th>\n",
       "      <th>hp</th>\n",
       "      <th>drat</th>\n",
       "      <th>wt</th>\n",
       "      <th>qsec</th>\n",
       "      <th>vs</th>\n",
       "      <th>am</th>\n",
       "      <th>gear</th>\n",
       "      <th>carb</th>\n",
       "    </tr>\n",
       "  </thead>\n",
       "  <tbody>\n",
       "    <tr>\n",
       "      <th>Lotus Europa</th>\n",
       "      <td>30.4</td>\n",
       "      <td>4</td>\n",
       "      <td>95.1</td>\n",
       "      <td>113</td>\n",
       "      <td>3.77</td>\n",
       "      <td>1.513</td>\n",
       "      <td>16.9</td>\n",
       "      <td>1</td>\n",
       "      <td>1</td>\n",
       "      <td>5</td>\n",
       "      <td>2</td>\n",
       "    </tr>\n",
       "    <tr>\n",
       "      <th>Ford Pantera L</th>\n",
       "      <td>15.8</td>\n",
       "      <td>8</td>\n",
       "      <td>351.0</td>\n",
       "      <td>264</td>\n",
       "      <td>4.22</td>\n",
       "      <td>3.170</td>\n",
       "      <td>14.5</td>\n",
       "      <td>0</td>\n",
       "      <td>1</td>\n",
       "      <td>5</td>\n",
       "      <td>4</td>\n",
       "    </tr>\n",
       "    <tr>\n",
       "      <th>Ferrari Dino</th>\n",
       "      <td>19.7</td>\n",
       "      <td>6</td>\n",
       "      <td>145.0</td>\n",
       "      <td>175</td>\n",
       "      <td>3.62</td>\n",
       "      <td>2.770</td>\n",
       "      <td>15.5</td>\n",
       "      <td>0</td>\n",
       "      <td>1</td>\n",
       "      <td>5</td>\n",
       "      <td>6</td>\n",
       "    </tr>\n",
       "    <tr>\n",
       "      <th>Maserati Bora</th>\n",
       "      <td>15.0</td>\n",
       "      <td>8</td>\n",
       "      <td>301.0</td>\n",
       "      <td>335</td>\n",
       "      <td>3.54</td>\n",
       "      <td>3.570</td>\n",
       "      <td>14.6</td>\n",
       "      <td>0</td>\n",
       "      <td>1</td>\n",
       "      <td>5</td>\n",
       "      <td>8</td>\n",
       "    </tr>\n",
       "    <tr>\n",
       "      <th>Volvo 142E</th>\n",
       "      <td>21.4</td>\n",
       "      <td>4</td>\n",
       "      <td>121.0</td>\n",
       "      <td>109</td>\n",
       "      <td>4.11</td>\n",
       "      <td>2.780</td>\n",
       "      <td>18.6</td>\n",
       "      <td>1</td>\n",
       "      <td>1</td>\n",
       "      <td>4</td>\n",
       "      <td>2</td>\n",
       "    </tr>\n",
       "  </tbody>\n",
       "</table>\n",
       "</div>"
      ],
      "text/plain": [
       "                 mpg  cyl   disp   hp  drat     wt  qsec  vs  am  gear  carb\n",
       "Lotus Europa    30.4    4   95.1  113  3.77  1.513  16.9   1   1     5     2\n",
       "Ford Pantera L  15.8    8  351.0  264  4.22  3.170  14.5   0   1     5     4\n",
       "Ferrari Dino    19.7    6  145.0  175  3.62  2.770  15.5   0   1     5     6\n",
       "Maserati Bora   15.0    8  301.0  335  3.54  3.570  14.6   0   1     5     8\n",
       "Volvo 142E      21.4    4  121.0  109  4.11  2.780  18.6   1   1     4     2"
      ]
     },
     "execution_count": 16,
     "metadata": {},
     "output_type": "execute_result"
    }
   ],
   "source": [
    "mtcars.tail(5)"
   ]
  },
  {
   "cell_type": "code",
   "execution_count": 24,
   "id": "4f3299be-0d40-42a4-b588-7534052ccb5b",
   "metadata": {},
   "outputs": [],
   "source": [
    "#help(pd.set_option)"
   ]
  },
  {
   "cell_type": "code",
   "execution_count": 25,
   "id": "bf4422e5-5b7e-4103-9ab4-0133215703d4",
   "metadata": {},
   "outputs": [
    {
     "data": {
      "text/plain": [
       "mpg      20.090625\n",
       "cyl       6.187500\n",
       "disp    230.721875\n",
       "hp      146.687500\n",
       "drat      3.596563\n",
       "wt        3.217250\n",
       "qsec     17.848750\n",
       "vs        0.437500\n",
       "am        0.406250\n",
       "gear      3.687500\n",
       "carb      2.812500\n",
       "dtype: float64"
      ]
     },
     "execution_count": 25,
     "metadata": {},
     "output_type": "execute_result"
    }
   ],
   "source": [
    "mtcars.mean()"
   ]
  },
  {
   "cell_type": "code",
   "execution_count": 26,
   "id": "521b3d5f-384d-463c-9cfd-53c825783cb3",
   "metadata": {},
   "outputs": [
    {
     "data": {
      "text/plain": [
       "mpg      642.900\n",
       "cyl      198.000\n",
       "disp    7383.100\n",
       "hp      4694.000\n",
       "drat     115.090\n",
       "wt       102.952\n",
       "qsec     571.160\n",
       "vs        14.000\n",
       "am        13.000\n",
       "gear     118.000\n",
       "carb      90.000\n",
       "dtype: float64"
      ]
     },
     "execution_count": 26,
     "metadata": {},
     "output_type": "execute_result"
    }
   ],
   "source": [
    "mtcars.sum()"
   ]
  },
  {
   "cell_type": "code",
   "execution_count": 27,
   "id": "890892f3-bdde-4102-bdf6-b8267dfa4f79",
   "metadata": {},
   "outputs": [
    {
     "data": {
      "text/plain": [
       "Mazda RX4              21.0\n",
       "Mazda RX4 Wag          21.0\n",
       "Datsun 710             22.8\n",
       "Hornet 4 Drive         21.4\n",
       "Hornet Sportabout      18.7\n",
       "Valiant                18.1\n",
       "Duster 360             14.3\n",
       "Merc 240D              24.4\n",
       "Merc 230               22.8\n",
       "Merc 280               19.2\n",
       "Merc 280C              17.8\n",
       "Merc 450SE             16.4\n",
       "Merc 450SL             17.3\n",
       "Merc 450SLC            15.2\n",
       "Cadillac Fleetwood     10.4\n",
       "Lincoln Continental    10.4\n",
       "Chrysler Imperial      14.7\n",
       "Fiat 128               32.4\n",
       "Honda Civic            30.4\n",
       "Toyota Corolla         33.9\n",
       "Toyota Corona          21.5\n",
       "Dodge Challenger       15.5\n",
       "AMC Javelin            15.2\n",
       "Camaro Z28             13.3\n",
       "Pontiac Firebird       19.2\n",
       "Fiat X1-9              27.3\n",
       "Porsche 914-2          26.0\n",
       "Lotus Europa           30.4\n",
       "Ford Pantera L         15.8\n",
       "Ferrari Dino           19.7\n",
       "Maserati Bora          15.0\n",
       "Volvo 142E             21.4\n",
       "Name: mpg, dtype: float64"
      ]
     },
     "execution_count": 27,
     "metadata": {},
     "output_type": "execute_result"
    }
   ],
   "source": [
    "mtcars.mpg"
   ]
  },
  {
   "cell_type": "code",
   "execution_count": 35,
   "id": "76c78133-615f-467f-a256-f720e430282c",
   "metadata": {},
   "outputs": [
    {
     "data": {
      "text/plain": [
       "Mazda RX4            110\n",
       "Mazda RX4 Wag        110\n",
       "Datsun 710            93\n",
       "Hornet 4 Drive       110\n",
       "Hornet Sportabout    175\n",
       "Name: hp, dtype: int64"
      ]
     },
     "execution_count": 35,
     "metadata": {},
     "output_type": "execute_result"
    }
   ],
   "source": [
    "mtcars['hp'].head()"
   ]
  },
  {
   "cell_type": "code",
   "execution_count": 34,
   "id": "adebebb6-17e6-4bac-b0a8-e20f3780150c",
   "metadata": {},
   "outputs": [
    {
     "data": {
      "text/html": [
       "<div>\n",
       "<style scoped>\n",
       "    .dataframe tbody tr th:only-of-type {\n",
       "        vertical-align: middle;\n",
       "    }\n",
       "\n",
       "    .dataframe tbody tr th {\n",
       "        vertical-align: top;\n",
       "    }\n",
       "\n",
       "    .dataframe thead th {\n",
       "        text-align: right;\n",
       "    }\n",
       "</style>\n",
       "<table border=\"1\" class=\"dataframe\">\n",
       "  <thead>\n",
       "    <tr style=\"text-align: right;\">\n",
       "      <th></th>\n",
       "      <th>mpg</th>\n",
       "      <th>hp</th>\n",
       "    </tr>\n",
       "  </thead>\n",
       "  <tbody>\n",
       "    <tr>\n",
       "      <th>Mazda RX4</th>\n",
       "      <td>21.0</td>\n",
       "      <td>110</td>\n",
       "    </tr>\n",
       "    <tr>\n",
       "      <th>Mazda RX4 Wag</th>\n",
       "      <td>21.0</td>\n",
       "      <td>110</td>\n",
       "    </tr>\n",
       "    <tr>\n",
       "      <th>Datsun 710</th>\n",
       "      <td>22.8</td>\n",
       "      <td>93</td>\n",
       "    </tr>\n",
       "    <tr>\n",
       "      <th>Hornet 4 Drive</th>\n",
       "      <td>21.4</td>\n",
       "      <td>110</td>\n",
       "    </tr>\n",
       "    <tr>\n",
       "      <th>Hornet Sportabout</th>\n",
       "      <td>18.7</td>\n",
       "      <td>175</td>\n",
       "    </tr>\n",
       "  </tbody>\n",
       "</table>\n",
       "</div>"
      ],
      "text/plain": [
       "                    mpg   hp\n",
       "Mazda RX4          21.0  110\n",
       "Mazda RX4 Wag      21.0  110\n",
       "Datsun 710         22.8   93\n",
       "Hornet 4 Drive     21.4  110\n",
       "Hornet Sportabout  18.7  175"
      ]
     },
     "execution_count": 34,
     "metadata": {},
     "output_type": "execute_result"
    }
   ],
   "source": [
    "mtcars[['mpg','hp']].head()"
   ]
  },
  {
   "cell_type": "code",
   "execution_count": 38,
   "id": "fdc21625-d1ae-4f68-9069-f776f60945a8",
   "metadata": {},
   "outputs": [
    {
     "data": {
      "text/html": [
       "<div>\n",
       "<style scoped>\n",
       "    .dataframe tbody tr th:only-of-type {\n",
       "        vertical-align: middle;\n",
       "    }\n",
       "\n",
       "    .dataframe tbody tr th {\n",
       "        vertical-align: top;\n",
       "    }\n",
       "\n",
       "    .dataframe thead th {\n",
       "        text-align: right;\n",
       "    }\n",
       "</style>\n",
       "<table border=\"1\" class=\"dataframe\">\n",
       "  <thead>\n",
       "    <tr style=\"text-align: right;\">\n",
       "      <th></th>\n",
       "      <th>cyl</th>\n",
       "      <th>disp</th>\n",
       "    </tr>\n",
       "  </thead>\n",
       "  <tbody>\n",
       "    <tr>\n",
       "      <th>Mazda RX4 Wag</th>\n",
       "      <td>6</td>\n",
       "      <td>160.0</td>\n",
       "    </tr>\n",
       "    <tr>\n",
       "      <th>Datsun 710</th>\n",
       "      <td>4</td>\n",
       "      <td>108.0</td>\n",
       "    </tr>\n",
       "  </tbody>\n",
       "</table>\n",
       "</div>"
      ],
      "text/plain": [
       "               cyl   disp\n",
       "Mazda RX4 Wag    6  160.0\n",
       "Datsun 710       4  108.0"
      ]
     },
     "execution_count": 38,
     "metadata": {},
     "output_type": "execute_result"
    }
   ],
   "source": [
    "mtcars.iloc[1:3,[1,2]].head()"
   ]
  },
  {
   "cell_type": "code",
   "execution_count": 37,
   "id": "05c9e877-0176-4fa1-b9ab-556e816aaf44",
   "metadata": {},
   "outputs": [
    {
     "data": {
      "text/html": [
       "<div>\n",
       "<style scoped>\n",
       "    .dataframe tbody tr th:only-of-type {\n",
       "        vertical-align: middle;\n",
       "    }\n",
       "\n",
       "    .dataframe tbody tr th {\n",
       "        vertical-align: top;\n",
       "    }\n",
       "\n",
       "    .dataframe thead th {\n",
       "        text-align: right;\n",
       "    }\n",
       "</style>\n",
       "<table border=\"1\" class=\"dataframe\">\n",
       "  <thead>\n",
       "    <tr style=\"text-align: right;\">\n",
       "      <th></th>\n",
       "      <th>hp</th>\n",
       "      <th>wt</th>\n",
       "    </tr>\n",
       "  </thead>\n",
       "  <tbody>\n",
       "    <tr>\n",
       "      <th>Mazda RX4</th>\n",
       "      <td>110</td>\n",
       "      <td>2.620</td>\n",
       "    </tr>\n",
       "    <tr>\n",
       "      <th>Mazda RX4 Wag</th>\n",
       "      <td>110</td>\n",
       "      <td>2.875</td>\n",
       "    </tr>\n",
       "    <tr>\n",
       "      <th>Datsun 710</th>\n",
       "      <td>93</td>\n",
       "      <td>2.320</td>\n",
       "    </tr>\n",
       "    <tr>\n",
       "      <th>Hornet 4 Drive</th>\n",
       "      <td>110</td>\n",
       "      <td>3.215</td>\n",
       "    </tr>\n",
       "    <tr>\n",
       "      <th>Hornet Sportabout</th>\n",
       "      <td>175</td>\n",
       "      <td>3.440</td>\n",
       "    </tr>\n",
       "  </tbody>\n",
       "</table>\n",
       "</div>"
      ],
      "text/plain": [
       "                    hp     wt\n",
       "Mazda RX4          110  2.620\n",
       "Mazda RX4 Wag      110  2.875\n",
       "Datsun 710          93  2.320\n",
       "Hornet 4 Drive     110  3.215\n",
       "Hornet Sportabout  175  3.440"
      ]
     },
     "execution_count": 37,
     "metadata": {},
     "output_type": "execute_result"
    }
   ],
   "source": [
    "mtcars.loc[:,['hp','wt']].head()"
   ]
  },
  {
   "cell_type": "code",
   "execution_count": 44,
   "id": "ae7364c6-4563-4202-a7da-47191a2374d3",
   "metadata": {},
   "outputs": [
    {
     "data": {
      "text/html": [
       "<div>\n",
       "<style scoped>\n",
       "    .dataframe tbody tr th:only-of-type {\n",
       "        vertical-align: middle;\n",
       "    }\n",
       "\n",
       "    .dataframe tbody tr th {\n",
       "        vertical-align: top;\n",
       "    }\n",
       "\n",
       "    .dataframe thead th {\n",
       "        text-align: right;\n",
       "    }\n",
       "</style>\n",
       "<table border=\"1\" class=\"dataframe\">\n",
       "  <thead>\n",
       "    <tr style=\"text-align: right;\">\n",
       "      <th></th>\n",
       "      <th>mpg</th>\n",
       "      <th>cyl</th>\n",
       "      <th>disp</th>\n",
       "      <th>hp</th>\n",
       "      <th>drat</th>\n",
       "      <th>wt</th>\n",
       "      <th>qsec</th>\n",
       "      <th>vs</th>\n",
       "      <th>am</th>\n",
       "      <th>gear</th>\n",
       "      <th>carb</th>\n",
       "    </tr>\n",
       "  </thead>\n",
       "  <tbody>\n",
       "    <tr>\n",
       "      <th>Mazda RX4</th>\n",
       "      <td>21.0</td>\n",
       "      <td>6</td>\n",
       "      <td>160.0</td>\n",
       "      <td>110</td>\n",
       "      <td>3.90</td>\n",
       "      <td>2.620</td>\n",
       "      <td>16.46</td>\n",
       "      <td>0</td>\n",
       "      <td>1</td>\n",
       "      <td>4</td>\n",
       "      <td>4</td>\n",
       "    </tr>\n",
       "    <tr>\n",
       "      <th>Mazda RX4 Wag</th>\n",
       "      <td>21.0</td>\n",
       "      <td>6</td>\n",
       "      <td>160.0</td>\n",
       "      <td>110</td>\n",
       "      <td>3.90</td>\n",
       "      <td>2.875</td>\n",
       "      <td>17.02</td>\n",
       "      <td>0</td>\n",
       "      <td>1</td>\n",
       "      <td>4</td>\n",
       "      <td>4</td>\n",
       "    </tr>\n",
       "    <tr>\n",
       "      <th>Datsun 710</th>\n",
       "      <td>22.8</td>\n",
       "      <td>4</td>\n",
       "      <td>108.0</td>\n",
       "      <td>93</td>\n",
       "      <td>3.85</td>\n",
       "      <td>2.320</td>\n",
       "      <td>18.61</td>\n",
       "      <td>1</td>\n",
       "      <td>1</td>\n",
       "      <td>4</td>\n",
       "      <td>1</td>\n",
       "    </tr>\n",
       "    <tr>\n",
       "      <th>Hornet 4 Drive</th>\n",
       "      <td>21.4</td>\n",
       "      <td>6</td>\n",
       "      <td>258.0</td>\n",
       "      <td>110</td>\n",
       "      <td>3.08</td>\n",
       "      <td>3.215</td>\n",
       "      <td>19.44</td>\n",
       "      <td>1</td>\n",
       "      <td>0</td>\n",
       "      <td>3</td>\n",
       "      <td>1</td>\n",
       "    </tr>\n",
       "    <tr>\n",
       "      <th>Merc 240D</th>\n",
       "      <td>24.4</td>\n",
       "      <td>4</td>\n",
       "      <td>146.7</td>\n",
       "      <td>62</td>\n",
       "      <td>3.69</td>\n",
       "      <td>3.190</td>\n",
       "      <td>20.00</td>\n",
       "      <td>1</td>\n",
       "      <td>0</td>\n",
       "      <td>4</td>\n",
       "      <td>2</td>\n",
       "    </tr>\n",
       "  </tbody>\n",
       "</table>\n",
       "</div>"
      ],
      "text/plain": [
       "                 mpg  cyl   disp   hp  drat     wt   qsec  vs  am  gear  carb\n",
       "Mazda RX4       21.0    6  160.0  110  3.90  2.620  16.46   0   1     4     4\n",
       "Mazda RX4 Wag   21.0    6  160.0  110  3.90  2.875  17.02   0   1     4     4\n",
       "Datsun 710      22.8    4  108.0   93  3.85  2.320  18.61   1   1     4     1\n",
       "Hornet 4 Drive  21.4    6  258.0  110  3.08  3.215  19.44   1   0     3     1\n",
       "Merc 240D       24.4    4  146.7   62  3.69  3.190  20.00   1   0     4     2"
      ]
     },
     "execution_count": 44,
     "metadata": {},
     "output_type": "execute_result"
    }
   ],
   "source": [
    "#filter\n",
    "mtcars[mtcars['mpg'] > 20].head()"
   ]
  },
  {
   "cell_type": "code",
   "execution_count": 48,
   "id": "e2380705-acd5-471c-813b-b6b323d28ba9",
   "metadata": {},
   "outputs": [
    {
     "data": {
      "text/plain": [
       "14"
      ]
     },
     "execution_count": 48,
     "metadata": {},
     "output_type": "execute_result"
    }
   ],
   "source": [
    "sum(mtcars['mpg'] > 20)"
   ]
  },
  {
   "cell_type": "code",
   "execution_count": 70,
   "id": "6a7e3df1-be24-4e4b-813b-a5609b3d49ca",
   "metadata": {},
   "outputs": [
    {
     "data": {
      "text/plain": [
       "Fiat 128          32.4\n",
       "Honda Civic       30.4\n",
       "Toyota Corolla    33.9\n",
       "Fiat X1-9         27.3\n",
       "Porsche 914-2     26.0\n",
       "Lotus Europa      30.4\n",
       "Name: mpg, dtype: float64"
      ]
     },
     "execution_count": 70,
     "metadata": {},
     "output_type": "execute_result"
    }
   ],
   "source": [
    "mtcars.loc[(mtcars['mpg'] > 25) & (mtcars['wt'] < 3), 'mpg']"
   ]
  },
  {
   "cell_type": "code",
   "execution_count": 89,
   "id": "d5c29381-ced5-47f7-8e3c-16f52c9536a3",
   "metadata": {},
   "outputs": [
    {
     "data": {
      "text/html": [
       "<div>\n",
       "<style scoped>\n",
       "    .dataframe tbody tr th:only-of-type {\n",
       "        vertical-align: middle;\n",
       "    }\n",
       "\n",
       "    .dataframe tbody tr th {\n",
       "        vertical-align: top;\n",
       "    }\n",
       "\n",
       "    .dataframe thead th {\n",
       "        text-align: right;\n",
       "    }\n",
       "</style>\n",
       "<table border=\"1\" class=\"dataframe\">\n",
       "  <thead>\n",
       "    <tr style=\"text-align: right;\">\n",
       "      <th></th>\n",
       "      <th>mpg</th>\n",
       "      <th>wt</th>\n",
       "    </tr>\n",
       "  </thead>\n",
       "  <tbody>\n",
       "    <tr>\n",
       "      <th>Mazda RX4</th>\n",
       "      <td>21.0</td>\n",
       "      <td>2.620</td>\n",
       "    </tr>\n",
       "    <tr>\n",
       "      <th>Mazda RX4 Wag</th>\n",
       "      <td>21.0</td>\n",
       "      <td>2.875</td>\n",
       "    </tr>\n",
       "    <tr>\n",
       "      <th>Datsun 710</th>\n",
       "      <td>22.8</td>\n",
       "      <td>2.320</td>\n",
       "    </tr>\n",
       "    <tr>\n",
       "      <th>Hornet 4 Drive</th>\n",
       "      <td>21.4</td>\n",
       "      <td>3.215</td>\n",
       "    </tr>\n",
       "    <tr>\n",
       "      <th>Hornet Sportabout</th>\n",
       "      <td>18.7</td>\n",
       "      <td>3.440</td>\n",
       "    </tr>\n",
       "  </tbody>\n",
       "</table>\n",
       "</div>"
      ],
      "text/plain": [
       "                    mpg     wt\n",
       "Mazda RX4          21.0  2.620\n",
       "Mazda RX4 Wag      21.0  2.875\n",
       "Datsun 710         22.8  2.320\n",
       "Hornet 4 Drive     21.4  3.215\n",
       "Hornet Sportabout  18.7  3.440"
      ]
     },
     "execution_count": 89,
     "metadata": {},
     "output_type": "execute_result"
    }
   ],
   "source": [
    "mtcars[(mtcars['cyl'].isin([3,4])) | (mtcars['gear'].isin([3,4]))].loc[:,['mpg','wt']].head()"
   ]
  },
  {
   "cell_type": "code",
   "execution_count": 100,
   "id": "f30cab2e-6c9e-4a33-a41a-c2fe25951a99",
   "metadata": {},
   "outputs": [
    {
     "data": {
      "text/html": [
       "<div>\n",
       "<style scoped>\n",
       "    .dataframe tbody tr th:only-of-type {\n",
       "        vertical-align: middle;\n",
       "    }\n",
       "\n",
       "    .dataframe tbody tr th {\n",
       "        vertical-align: top;\n",
       "    }\n",
       "\n",
       "    .dataframe thead th {\n",
       "        text-align: right;\n",
       "    }\n",
       "</style>\n",
       "<table border=\"1\" class=\"dataframe\">\n",
       "  <thead>\n",
       "    <tr style=\"text-align: right;\">\n",
       "      <th></th>\n",
       "      <th>cyl</th>\n",
       "      <th>disp</th>\n",
       "      <th>drat</th>\n",
       "      <th>vs</th>\n",
       "    </tr>\n",
       "  </thead>\n",
       "  <tbody>\n",
       "    <tr>\n",
       "      <th>Mazda RX4 Wag</th>\n",
       "      <td>6</td>\n",
       "      <td>160.0</td>\n",
       "      <td>3.90</td>\n",
       "      <td>0</td>\n",
       "    </tr>\n",
       "    <tr>\n",
       "      <th>Hornet 4 Drive</th>\n",
       "      <td>6</td>\n",
       "      <td>258.0</td>\n",
       "      <td>3.08</td>\n",
       "      <td>1</td>\n",
       "    </tr>\n",
       "    <tr>\n",
       "      <th>Valiant</th>\n",
       "      <td>6</td>\n",
       "      <td>225.0</td>\n",
       "      <td>2.76</td>\n",
       "      <td>1</td>\n",
       "    </tr>\n",
       "    <tr>\n",
       "      <th>Merc 240D</th>\n",
       "      <td>4</td>\n",
       "      <td>146.7</td>\n",
       "      <td>3.69</td>\n",
       "      <td>1</td>\n",
       "    </tr>\n",
       "    <tr>\n",
       "      <th>Merc 280</th>\n",
       "      <td>6</td>\n",
       "      <td>167.6</td>\n",
       "      <td>3.92</td>\n",
       "      <td>1</td>\n",
       "    </tr>\n",
       "    <tr>\n",
       "      <th>Merc 450SE</th>\n",
       "      <td>8</td>\n",
       "      <td>275.8</td>\n",
       "      <td>3.07</td>\n",
       "      <td>0</td>\n",
       "    </tr>\n",
       "    <tr>\n",
       "      <th>Merc 450SLC</th>\n",
       "      <td>8</td>\n",
       "      <td>275.8</td>\n",
       "      <td>3.07</td>\n",
       "      <td>0</td>\n",
       "    </tr>\n",
       "  </tbody>\n",
       "</table>\n",
       "</div>"
      ],
      "text/plain": [
       "                cyl   disp  drat  vs\n",
       "Mazda RX4 Wag     6  160.0  3.90   0\n",
       "Hornet 4 Drive    6  258.0  3.08   1\n",
       "Valiant           6  225.0  2.76   1\n",
       "Merc 240D         4  146.7  3.69   1\n",
       "Merc 280          6  167.6  3.92   1\n",
       "Merc 450SE        8  275.8  3.07   0\n",
       "Merc 450SLC       8  275.8  3.07   0"
      ]
     },
     "execution_count": 100,
     "metadata": {},
     "output_type": "execute_result"
    }
   ],
   "source": [
    "mtcars[(mtcars['cyl'].isin([3,4])) | (mtcars['gear'].isin([3,4]))].iloc[1:14:2,[1,2,4,7]]"
   ]
  },
  {
   "cell_type": "code",
   "execution_count": null,
   "id": "bcb39aa5-6fe2-4f67-9a95-8bac13a8e01a",
   "metadata": {},
   "outputs": [],
   "source": []
  }
 ],
 "metadata": {
  "kernelspec": {
   "display_name": "Python 3 (ipykernel)",
   "language": "python",
   "name": "python3"
  },
  "language_info": {
   "codemirror_mode": {
    "name": "ipython",
    "version": 3
   },
   "file_extension": ".py",
   "mimetype": "text/x-python",
   "name": "python",
   "nbconvert_exporter": "python",
   "pygments_lexer": "ipython3",
   "version": "3.11.5"
  }
 },
 "nbformat": 4,
 "nbformat_minor": 5
}
