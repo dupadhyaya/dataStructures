{
 "cells": [
  {
   "cell_type": "markdown",
   "id": "5a1ea3e7-4649-4698-95df-2faa4b3e138f",
   "metadata": {},
   "source": [
    "# Faker Library"
   ]
  },
  {
   "cell_type": "code",
   "execution_count": 1,
   "id": "ec1fc428-25a5-4c01-8557-16f66a73e812",
   "metadata": {},
   "outputs": [],
   "source": [
    "from datetime import date, datetime, timedelta\n",
    "from dateutil import parser, relativedelta\n",
    "import numpy as np\n",
    "import pandas as pd\n",
    "from faker import Faker"
   ]
  },
  {
   "cell_type": "code",
   "execution_count": 2,
   "id": "8c384dc6-f654-434b-951e-8537473f0cf6",
   "metadata": {},
   "outputs": [],
   "source": [
    "fake = Faker('en_IN')\n",
    "#set indian profile to create data"
   ]
  },
  {
   "cell_type": "code",
   "execution_count": 10,
   "id": "11561b4b-f228-4765-b164-5b38782290bf",
   "metadata": {},
   "outputs": [
    {
     "name": "stdout",
     "output_type": "stream",
     "text": [
      "Oorja Chacko\n",
      "Pranay Wadhwa\n",
      "Anahita Buch\n",
      "Miraya Ben\n",
      "Dharmajan Kibe\n",
      "Badal Toor\n",
      "Vritika Dar\n",
      "Mishti Malhotra\n",
      "Divij Korpal\n",
      "Khushi Saran\n"
     ]
    }
   ],
   "source": [
    "for _ in range(10):    print(fake.name())"
   ]
  },
  {
   "cell_type": "code",
   "execution_count": null,
   "id": "f089b052-ad7f-487d-af75-452882a4ea90",
   "metadata": {},
   "outputs": [],
   "source": []
  }
 ],
 "metadata": {
  "kernelspec": {
   "display_name": "Python 3 (ipykernel)",
   "language": "python",
   "name": "python3"
  },
  "language_info": {
   "codemirror_mode": {
    "name": "ipython",
    "version": 3
   },
   "file_extension": ".py",
   "mimetype": "text/x-python",
   "name": "python",
   "nbconvert_exporter": "python",
   "pygments_lexer": "ipython3",
   "version": "3.11.5"
  }
 },
 "nbformat": 4,
 "nbformat_minor": 5
}
