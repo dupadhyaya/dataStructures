{
 "cells": [
  {
   "cell_type": "code",
   "execution_count": 1,
   "id": "a61de3a9-03a3-4e3a-babf-13616ebb873b",
   "metadata": {},
   "outputs": [],
   "source": [
    "# default Dates"
   ]
  },
  {
   "cell_type": "code",
   "execution_count": 2,
   "id": "f2ff5ac3-9c3c-4fd6-ba7b-fae0e5a49a59",
   "metadata": {},
   "outputs": [],
   "source": [
    "from datetime import date"
   ]
  },
  {
   "cell_type": "code",
   "execution_count": 3,
   "id": "812a1ad3-ca64-42b3-a20d-ff4d0a6ad8af",
   "metadata": {},
   "outputs": [
    {
     "data": {
      "text/plain": [
       "datetime.date(2024, 3, 15)"
      ]
     },
     "execution_count": 3,
     "metadata": {},
     "output_type": "execute_result"
    }
   ],
   "source": [
    "today = date.today()\n",
    "today"
   ]
  },
  {
   "cell_type": "code",
   "execution_count": 4,
   "id": "50eb5805-ec9c-4b43-9171-63ef1d471368",
   "metadata": {},
   "outputs": [
    {
     "data": {
      "text/plain": [
       "2024"
      ]
     },
     "execution_count": 4,
     "metadata": {},
     "output_type": "execute_result"
    }
   ],
   "source": [
    "today.year"
   ]
  },
  {
   "cell_type": "code",
   "execution_count": 5,
   "id": "a50c42f9-f0eb-42ad-ad6e-153d4b50804c",
   "metadata": {},
   "outputs": [
    {
     "data": {
      "text/plain": [
       "3"
      ]
     },
     "execution_count": 5,
     "metadata": {},
     "output_type": "execute_result"
    }
   ],
   "source": [
    "today.month"
   ]
  },
  {
   "cell_type": "code",
   "execution_count": 6,
   "id": "fd1a9f4d-add5-495a-9d2b-035173141ba7",
   "metadata": {},
   "outputs": [
    {
     "data": {
      "text/plain": [
       "15"
      ]
     },
     "execution_count": 6,
     "metadata": {},
     "output_type": "execute_result"
    }
   ],
   "source": [
    "today.day"
   ]
  },
  {
   "cell_type": "code",
   "execution_count": null,
   "id": "ec0323f8-a82e-4370-a10c-7895723d3ffa",
   "metadata": {},
   "outputs": [],
   "source": [
    "# count days/years between 2 dates"
   ]
  },
  {
   "cell_type": "code",
   "execution_count": 7,
   "id": "95c0e162-f67b-4a71-b6f5-608a71d09d02",
   "metadata": {},
   "outputs": [
    {
     "name": "stdout",
     "output_type": "stream",
     "text": [
      "2024-02-10 2024-03-25\n"
     ]
    }
   ],
   "source": [
    "startDate = date(2024,2,10)\n",
    "endDate = date(2024,3,25)\n",
    "print(startDate, endDate)"
   ]
  },
  {
   "cell_type": "code",
   "execution_count": 8,
   "id": "c020b7c1-986a-4f57-a39a-6fdfcf9b56c2",
   "metadata": {},
   "outputs": [
    {
     "data": {
      "text/plain": [
       "datetime.timedelta(days=44)"
      ]
     },
     "execution_count": 8,
     "metadata": {},
     "output_type": "execute_result"
    }
   ],
   "source": [
    "daysCourse = abs(endDate - startDate)\n",
    "daysCourse"
   ]
  },
  {
   "cell_type": "code",
   "execution_count": 9,
   "id": "fae3c056-eb77-4f1b-975f-1c1c9c2ba3f1",
   "metadata": {},
   "outputs": [
    {
     "data": {
      "text/plain": [
       "datetime.timedelta(days=10806)"
      ]
     },
     "execution_count": 9,
     "metadata": {},
     "output_type": "execute_result"
    }
   ],
   "source": [
    "dob = date(1994, 8, 14)\n",
    "age = abs(today - dob)\n",
    "age"
   ]
  },
  {
   "cell_type": "code",
   "execution_count": 19,
   "id": "8e952d5d-611c-4034-849f-84d45a4d9495",
   "metadata": {},
   "outputs": [
    {
     "data": {
      "text/plain": [
       "29.605479452054794"
      ]
     },
     "execution_count": 19,
     "metadata": {},
     "output_type": "execute_result"
    }
   ],
   "source": [
    "age.days/ 365  #years"
   ]
  },
  {
   "cell_type": "code",
   "execution_count": 10,
   "id": "7b627b51-1312-4a3a-b812-bfcdb909ec74",
   "metadata": {},
   "outputs": [],
   "source": [
    "# years\n",
    "from dateutil.relativedelta import relativedelta"
   ]
  },
  {
   "cell_type": "code",
   "execution_count": 13,
   "id": "bb03d0cc-c4c1-4e47-8920-b981ef304fcb",
   "metadata": {},
   "outputs": [
    {
     "data": {
      "text/plain": [
       "relativedelta(years=+29, months=+7, days=+1)"
      ]
     },
     "execution_count": 13,
     "metadata": {},
     "output_type": "execute_result"
    }
   ],
   "source": [
    "age2 = relativedelta(today, dob)\n",
    "age2"
   ]
  },
  {
   "cell_type": "code",
   "execution_count": 14,
   "id": "01a5cb6a-4dfe-4859-bddf-5817587f6ffe",
   "metadata": {},
   "outputs": [
    {
     "data": {
      "text/plain": [
       "29"
      ]
     },
     "execution_count": 14,
     "metadata": {},
     "output_type": "execute_result"
    }
   ],
   "source": [
    "age2.years"
   ]
  },
  {
   "cell_type": "code",
   "execution_count": null,
   "id": "5557a828-d629-4572-a291-0f7d87c6dfdf",
   "metadata": {},
   "outputs": [],
   "source": []
  }
 ],
 "metadata": {
  "kernelspec": {
   "display_name": "Python 3 (ipykernel)",
   "language": "python",
   "name": "python3"
  },
  "language_info": {
   "codemirror_mode": {
    "name": "ipython",
    "version": 3
   },
   "file_extension": ".py",
   "mimetype": "text/x-python",
   "name": "python",
   "nbconvert_exporter": "python",
   "pygments_lexer": "ipython3",
   "version": "3.11.5"
  }
 },
 "nbformat": 4,
 "nbformat_minor": 5
}
