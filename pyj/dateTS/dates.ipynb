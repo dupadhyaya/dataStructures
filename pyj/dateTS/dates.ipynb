{
 "cells": [
  {
   "cell_type": "markdown",
   "id": "b9471d37-bf49-410c-85cd-9547385b4250",
   "metadata": {},
   "source": [
    "# Dates in Python"
   ]
  },
  {
   "cell_type": "code",
   "execution_count": 1,
   "id": "9e8fbf8b-12f0-4a76-aae6-2ca9d6d59cce",
   "metadata": {},
   "outputs": [],
   "source": [
    "from datetime import date,datetime, timedelta\n",
    "from dateutil import parser, relativedelta\n",
    "import numpy as np\n",
    "import pandas as pd"
   ]
  },
  {
   "cell_type": "code",
   "execution_count": 2,
   "id": "d58f5b37-9ad5-4a10-9401-2961450bb687",
   "metadata": {},
   "outputs": [
    {
     "data": {
      "text/plain": [
       "datetime.datetime(2024, 3, 12, 0, 0)"
      ]
     },
     "execution_count": 2,
     "metadata": {},
     "output_type": "execute_result"
    }
   ],
   "source": [
    "d1 = datetime(2024,3,12)\n",
    "d1"
   ]
  },
  {
   "cell_type": "code",
   "execution_count": 3,
   "id": "8bf6db7a-f5c1-4c25-8d0b-328053428fbd",
   "metadata": {},
   "outputs": [
    {
     "name": "stdout",
     "output_type": "stream",
     "text": [
      "3 2024 12\n"
     ]
    }
   ],
   "source": [
    "print(d1.month, d1.year, d1.day)"
   ]
  },
  {
   "cell_type": "code",
   "execution_count": 4,
   "id": "da965f69-94f4-4c5e-8154-47b98a724b65",
   "metadata": {},
   "outputs": [
    {
     "data": {
      "text/plain": [
       "datetime.datetime(2024, 4, 11, 0, 0)"
      ]
     },
     "execution_count": 4,
     "metadata": {},
     "output_type": "execute_result"
    }
   ],
   "source": [
    "d1 + timedelta(days=30)"
   ]
  },
  {
   "cell_type": "code",
   "execution_count": 5,
   "id": "6d01cdcd-e0b4-4df9-884b-d9b554acd058",
   "metadata": {},
   "outputs": [
    {
     "data": {
      "text/plain": [
       "3"
      ]
     },
     "execution_count": 5,
     "metadata": {},
     "output_type": "execute_result"
    }
   ],
   "source": [
    "d2 = parser.parse('15th March 2024')\n",
    "d2.month"
   ]
  },
  {
   "cell_type": "code",
   "execution_count": 6,
   "id": "8dcc4c11-4a73-4100-9375-bd69dde19cf9",
   "metadata": {},
   "outputs": [
    {
     "data": {
      "text/plain": [
       "datetime.datetime(2024, 3, 25, 0, 0)"
      ]
     },
     "execution_count": 6,
     "metadata": {},
     "output_type": "execute_result"
    }
   ],
   "source": [
    "d2 + timedelta(days=10)"
   ]
  },
  {
   "cell_type": "code",
   "execution_count": 7,
   "id": "9b0051b5-016c-4aca-a913-f93e8671141d",
   "metadata": {},
   "outputs": [
    {
     "data": {
      "text/plain": [
       "datetime.datetime(2024, 8, 15, 0, 0)"
      ]
     },
     "execution_count": 7,
     "metadata": {},
     "output_type": "execute_result"
    }
   ],
   "source": [
    "d2 + relativedelta.relativedelta(months=5)"
   ]
  },
  {
   "cell_type": "code",
   "execution_count": 35,
   "id": "28fa0cab-d124-471f-b473-f0facba8b7f0",
   "metadata": {},
   "outputs": [
    {
     "data": {
      "text/plain": [
       "datetime.datetime(2026, 3, 12, 0, 0)"
      ]
     },
     "execution_count": 35,
     "metadata": {},
     "output_type": "execute_result"
    }
   ],
   "source": [
    "d2 + relativedelta.relativedelta(years=2)"
   ]
  },
  {
   "cell_type": "code",
   "execution_count": 7,
   "id": "97ba35d8-7e05-4753-aad7-36288ac1c8aa",
   "metadata": {},
   "outputs": [
    {
     "data": {
      "text/plain": [
       "array('2024-03-12', dtype='datetime64[D]')"
      ]
     },
     "execution_count": 7,
     "metadata": {},
     "output_type": "execute_result"
    }
   ],
   "source": [
    "d3 = np.array('2024-03-12', dtype=np.datetime64)\n",
    "d3"
   ]
  },
  {
   "cell_type": "code",
   "execution_count": 10,
   "id": "e46b3901-e09c-41f3-baa2-7e4340c8c615",
   "metadata": {},
   "outputs": [
    {
     "name": "stdout",
     "output_type": "stream",
     "text": [
      "2024-03-14 2024-03-15 ['2024-03-16' '2024-03-18' '2024-03-19']\n"
     ]
    }
   ],
   "source": [
    "# arithmetic\n",
    "print(d3 + 2, d3 + 3, d3 + [4,6,7])"
   ]
  },
  {
   "cell_type": "code",
   "execution_count": 19,
   "id": "05f7dc9a-8fc8-474d-aba5-c429a104f37f",
   "metadata": {},
   "outputs": [],
   "source": [
    "from calendar import monthrange"
   ]
  },
  {
   "cell_type": "code",
   "execution_count": 20,
   "id": "f66cede5-2b4b-4476-a354-7609ed24932d",
   "metadata": {},
   "outputs": [
    {
     "data": {
      "text/plain": [
       "datetime.date(2024, 3, 12)"
      ]
     },
     "execution_count": 20,
     "metadata": {},
     "output_type": "execute_result"
    }
   ],
   "source": [
    "today = date.today()\n",
    "today"
   ]
  },
  {
   "cell_type": "code",
   "execution_count": 27,
   "id": "07065779-dd58-4729-8091-2819dbd73eb1",
   "metadata": {},
   "outputs": [
    {
     "data": {
      "text/plain": [
       "31"
      ]
     },
     "execution_count": 27,
     "metadata": {},
     "output_type": "execute_result"
    }
   ],
   "source": [
    "monthrange(today.year, today.month)[1]"
   ]
  },
  {
   "cell_type": "code",
   "execution_count": 40,
   "id": "fbe11c71-bc6b-4a4f-9468-77277cb8bdc5",
   "metadata": {},
   "outputs": [
    {
     "data": {
      "text/plain": [
       "(datetime.datetime(2024, 3, 12, 0, 0), datetime.datetime(2024, 3, 15, 0, 0))"
      ]
     },
     "execution_count": 40,
     "metadata": {},
     "output_type": "execute_result"
    }
   ],
   "source": [
    "d1, d2"
   ]
  },
  {
   "cell_type": "code",
   "execution_count": 41,
   "id": "996460d5-e328-408f-ae35-d54595a627d8",
   "metadata": {},
   "outputs": [
    {
     "data": {
      "text/plain": [
       "datetime.timedelta(days=3)"
      ]
     },
     "execution_count": 41,
     "metadata": {},
     "output_type": "execute_result"
    }
   ],
   "source": [
    "d2 - d1"
   ]
  },
  {
   "cell_type": "markdown",
   "id": "373f099a-9fd1-42ba-83da-012f1c928ac2",
   "metadata": {},
   "source": [
    "# pandas Dates"
   ]
  },
  {
   "cell_type": "code",
   "execution_count": 44,
   "id": "36dd0e37-f41f-4942-a204-8bb9488ff546",
   "metadata": {},
   "outputs": [
    {
     "data": {
      "text/plain": [
       "Timestamp('2024-04-01 00:00:00')"
      ]
     },
     "execution_count": 44,
     "metadata": {},
     "output_type": "execute_result"
    }
   ],
   "source": [
    "d4 = pd.to_datetime('1 Apr 2024')\n",
    "d4"
   ]
  },
  {
   "cell_type": "code",
   "execution_count": 47,
   "id": "5a028f26-2eeb-414c-92d9-db4f50f427bb",
   "metadata": {},
   "outputs": [
    {
     "data": {
      "text/plain": [
       "DatetimeIndex(['2024-04-01', '2024-04-02', '2024-04-03', '2024-04-04',\n",
       "               '2024-04-05', '2024-04-06', '2024-04-07', '2024-04-08',\n",
       "               '2024-04-09', '2024-04-10', '2024-04-11', '2024-04-12',\n",
       "               '2024-04-13', '2024-04-14', '2024-04-15'],\n",
       "              dtype='datetime64[ns]', freq=None)"
      ]
     },
     "execution_count": 47,
     "metadata": {},
     "output_type": "execute_result"
    }
   ],
   "source": [
    "#series of dates with day diff\n",
    "d4 + pd.to_timedelta(np.arange(15), unit='D')"
   ]
  },
  {
   "cell_type": "code",
   "execution_count": 49,
   "id": "a773ad41-2dd4-43fd-a16e-d13b4f3c6eb0",
   "metadata": {},
   "outputs": [
    {
     "data": {
      "text/plain": [
       "DatetimeIndex(['2024-01-01', '2024-01-02', '2024-01-03', '2024-01-04',\n",
       "               '2024-01-05', '2024-01-06', '2024-01-07', '2024-01-08',\n",
       "               '2024-01-09', '2024-01-10', '2024-01-11', '2024-01-12',\n",
       "               '2024-01-13', '2024-01-14', '2024-01-15', '2024-01-16',\n",
       "               '2024-01-17', '2024-01-18', '2024-01-19', '2024-01-20',\n",
       "               '2024-01-21', '2024-01-22', '2024-01-23', '2024-01-24',\n",
       "               '2024-01-25', '2024-01-26', '2024-01-27', '2024-01-28',\n",
       "               '2024-01-29', '2024-01-30', '2024-01-31', '2024-02-01',\n",
       "               '2024-02-02', '2024-02-03', '2024-02-04', '2024-02-05',\n",
       "               '2024-02-06', '2024-02-07', '2024-02-08', '2024-02-09',\n",
       "               '2024-02-10', '2024-02-11', '2024-02-12', '2024-02-13',\n",
       "               '2024-02-14', '2024-02-15', '2024-02-16', '2024-02-17',\n",
       "               '2024-02-18', '2024-02-19', '2024-02-20', '2024-02-21',\n",
       "               '2024-02-22', '2024-02-23', '2024-02-24', '2024-02-25',\n",
       "               '2024-02-26', '2024-02-27', '2024-02-28', '2024-02-29',\n",
       "               '2024-03-01', '2024-03-02', '2024-03-03', '2024-03-04',\n",
       "               '2024-03-05', '2024-03-06', '2024-03-07', '2024-03-08',\n",
       "               '2024-03-09', '2024-03-10', '2024-03-11', '2024-03-12',\n",
       "               '2024-03-13', '2024-03-14', '2024-03-15'],\n",
       "              dtype='datetime64[ns]', freq='D')"
      ]
     },
     "execution_count": 49,
     "metadata": {},
     "output_type": "execute_result"
    }
   ],
   "source": [
    "pd.date_range('2024-1-1', '2024-3-15')\n",
    "# periods=45"
   ]
  },
  {
   "cell_type": "code",
   "execution_count": 56,
   "id": "8c0edbec-80a1-49cc-b04c-aba23e78be47",
   "metadata": {},
   "outputs": [
    {
     "data": {
      "text/plain": [
       "DatetimeIndex(['2024-01-01', '2024-01-02', '2024-01-03', '2024-01-04',\n",
       "               '2024-01-05', '2024-01-06', '2024-01-07', '2024-01-08',\n",
       "               '2024-01-09', '2024-01-10', '2024-01-11', '2024-01-12',\n",
       "               '2024-01-13', '2024-01-14', '2024-01-15', '2024-01-16',\n",
       "               '2024-01-17', '2024-01-18', '2024-01-19', '2024-01-20',\n",
       "               '2024-01-21', '2024-01-22', '2024-01-23', '2024-01-24',\n",
       "               '2024-01-25', '2024-01-26', '2024-01-27', '2024-01-28',\n",
       "               '2024-01-29', '2024-01-30', '2024-01-31', '2024-02-01',\n",
       "               '2024-02-02', '2024-02-03', '2024-02-04', '2024-02-05',\n",
       "               '2024-02-06', '2024-02-07', '2024-02-08', '2024-02-09',\n",
       "               '2024-02-10', '2024-02-11', '2024-02-12', '2024-02-13',\n",
       "               '2024-02-14', '2024-02-15', '2024-02-16', '2024-02-17',\n",
       "               '2024-02-18', '2024-02-19', '2024-02-20', '2024-02-21',\n",
       "               '2024-02-22', '2024-02-23', '2024-02-24', '2024-02-25',\n",
       "               '2024-02-26', '2024-02-27', '2024-02-28', '2024-02-29',\n",
       "               '2024-03-01', '2024-03-02', '2024-03-03', '2024-03-04',\n",
       "               '2024-03-05', '2024-03-06', '2024-03-07', '2024-03-08',\n",
       "               '2024-03-09', '2024-03-10', '2024-03-11', '2024-03-12',\n",
       "               '2024-03-13', '2024-03-14', '2024-03-15'],\n",
       "              dtype='datetime64[ns]', freq='D')"
      ]
     },
     "execution_count": 56,
     "metadata": {},
     "output_type": "execute_result"
    }
   ],
   "source": [
    "pd.date_range('2024-1-1', '2024-3-15', freq='D')"
   ]
  },
  {
   "cell_type": "code",
   "execution_count": null,
   "id": "5bbae572-3024-46ce-8f6e-3287c9579691",
   "metadata": {},
   "outputs": [],
   "source": []
  }
 ],
 "metadata": {
  "kernelspec": {
   "display_name": "Python 3 (ipykernel)",
   "language": "python",
   "name": "python3"
  },
  "language_info": {
   "codemirror_mode": {
    "name": "ipython",
    "version": 3
   },
   "file_extension": ".py",
   "mimetype": "text/x-python",
   "name": "python",
   "nbconvert_exporter": "python",
   "pygments_lexer": "ipython3",
   "version": "3.11.5"
  }
 },
 "nbformat": 4,
 "nbformat_minor": 5
}
