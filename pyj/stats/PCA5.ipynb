{
 "cells": [
  {
   "cell_type": "markdown",
   "id": "dfc08404-fd50-4a73-b1c9-ab56f24aaef1",
   "metadata": {},
   "source": [
    "# principal Component analysis (PCA)\n",
    "- Principal Component Analysis is basically a statistical procedure to convert a set of observations of possibly correlated variables into a set of values of linearly uncorrelated variables. \n",
    "- Each of the principal components is chosen in such a way that it would describe most of them still available variance and all these principal components are orthogonal to each other. In all principal components, first principal component has a maximum variance.\n",
    "- Uses of PCA:\n",
    "    - It is used to find interrelations between variables in the data.\n",
    "    - It is used to interpret and visualize data.\n",
    "    - The number of variables is decreasing which makes further analysis simpler.\n",
    "- It’s often used to visualize genetic distance and relatedness between populations.\n",
    "- These are basically performed on a square symmetric matrix. It can be a pure sums of squares and cross-products matrix Covariance matrix or Correlation matrix. A correlation matrix is used if the individual variance differs much."
   ]
  },
  {
   "cell_type": "code",
   "execution_count": 16,
   "id": "ddd6e5e4-a576-4aae-aee1-e91ba8a6cbbf",
   "metadata": {},
   "outputs": [],
   "source": [
    "import numpy as np\n",
    "import pandas as pd\n",
    "import matplotlib.pyplot as plt\n",
    "from sklearn.datasets import load_wine\n",
    "from pydataset import data"
   ]
  },
  {
   "cell_type": "code",
   "execution_count": 18,
   "id": "6aa0a7a5-195d-4aa9-afa5-3f45538a7ed4",
   "metadata": {},
   "outputs": [
    {
     "name": "stdout",
     "output_type": "stream",
     "text": [
      "Did you mean:\n",
      "winter, quine, urine, twins, darwin, infert, singer, income, kidney, neo, Airline\n"
     ]
    }
   ],
   "source": [
    "wine = data('wine')\n",
    "wine"
   ]
  },
  {
   "cell_type": "code",
   "execution_count": 6,
   "id": "6aaa2c1e-0f8a-438e-9fce-82bb0e474a16",
   "metadata": {},
   "outputs": [
    {
     "data": {
      "text/plain": [
       "(178, 13)"
      ]
     },
     "execution_count": 6,
     "metadata": {},
     "output_type": "execute_result"
    }
   ],
   "source": [
    "wine = load_wine()\n",
    "np.shape(wine.data)"
   ]
  },
  {
   "cell_type": "code",
   "execution_count": 9,
   "id": "70e0235a-2459-489f-8abc-70095066f41d",
   "metadata": {},
   "outputs": [
    {
     "data": {
      "text/plain": [
       "((13, 13), (13,))"
      ]
     },
     "execution_count": 9,
     "metadata": {},
     "output_type": "execute_result"
    }
   ],
   "source": [
    "X = wine.data[0:13]\n",
    "y = wine.data[13]\n",
    "X.shape, y.shape"
   ]
  },
  {
   "cell_type": "code",
   "execution_count": 14,
   "id": "d07478e2-6fd9-4744-b109-99df73429c8d",
   "metadata": {},
   "outputs": [
    {
     "data": {
      "text/plain": [
       "array([1.475e+01, 1.730e+00, 2.390e+00, 1.140e+01, 9.100e+01, 3.100e+00,\n",
       "       3.690e+00, 4.300e-01, 2.810e+00, 5.400e+00, 1.250e+00, 2.730e+00,\n",
       "       1.150e+03])"
      ]
     },
     "execution_count": 14,
     "metadata": {},
     "output_type": "execute_result"
    }
   ],
   "source": [
    "y"
   ]
  },
  {
   "cell_type": "code",
   "execution_count": 13,
   "id": "ddad5b75-a8f9-4d3f-a5bd-e1b57d4d70dd",
   "metadata": {},
   "outputs": [
    {
     "data": {
      "text/plain": [
       "array([[1.423e+01, 1.710e+00, 2.430e+00, 1.560e+01, 1.270e+02, 2.800e+00,\n",
       "        3.060e+00, 2.800e-01, 2.290e+00, 5.640e+00, 1.040e+00, 3.920e+00,\n",
       "        1.065e+03, 1.475e+01],\n",
       "       [1.320e+01, 1.780e+00, 2.140e+00, 1.120e+01, 1.000e+02, 2.650e+00,\n",
       "        2.760e+00, 2.600e-01, 1.280e+00, 4.380e+00, 1.050e+00, 3.400e+00,\n",
       "        1.050e+03, 1.730e+00],\n",
       "       [1.316e+01, 2.360e+00, 2.670e+00, 1.860e+01, 1.010e+02, 2.800e+00,\n",
       "        3.240e+00, 3.000e-01, 2.810e+00, 5.680e+00, 1.030e+00, 3.170e+00,\n",
       "        1.185e+03, 2.390e+00],\n",
       "       [1.437e+01, 1.950e+00, 2.500e+00, 1.680e+01, 1.130e+02, 3.850e+00,\n",
       "        3.490e+00, 2.400e-01, 2.180e+00, 7.800e+00, 8.600e-01, 3.450e+00,\n",
       "        1.480e+03, 1.140e+01],\n",
       "       [1.324e+01, 2.590e+00, 2.870e+00, 2.100e+01, 1.180e+02, 2.800e+00,\n",
       "        2.690e+00, 3.900e-01, 1.820e+00, 4.320e+00, 1.040e+00, 2.930e+00,\n",
       "        7.350e+02, 9.100e+01]])"
      ]
     },
     "execution_count": 13,
     "metadata": {},
     "output_type": "execute_result"
    }
   ],
   "source": [
    "np.concatenate([X[0:5], y[0:5].reshape(-1,1)],axis=1)"
   ]
  },
  {
   "cell_type": "code",
   "execution_count": null,
   "id": "9a493fea-175d-40b4-bb86-f0911ee0d23f",
   "metadata": {},
   "outputs": [],
   "source": []
  }
 ],
 "metadata": {
  "kernelspec": {
   "display_name": "Python 3 (ipykernel)",
   "language": "python",
   "name": "python3"
  },
  "language_info": {
   "codemirror_mode": {
    "name": "ipython",
    "version": 3
   },
   "file_extension": ".py",
   "mimetype": "text/x-python",
   "name": "python",
   "nbconvert_exporter": "python",
   "pygments_lexer": "ipython3",
   "version": "3.11.5"
  }
 },
 "nbformat": 4,
 "nbformat_minor": 5
}
