{
 "cells": [
  {
   "cell_type": "code",
   "execution_count": 1,
   "id": "98009a8b",
   "metadata": {},
   "outputs": [],
   "source": [
    "import pandas as pd"
   ]
  },
  {
   "cell_type": "code",
   "execution_count": 2,
   "id": "93f080d6",
   "metadata": {},
   "outputs": [],
   "source": [
    "from selenium import webdriver\n",
    "from selenium.webdriver.chrome.service import Service as ChromeService\n",
    "from webdriver_manager.chrome import ChromeDriverManager"
   ]
  },
  {
   "cell_type": "code",
   "execution_count": 3,
   "id": "7df6dce2",
   "metadata": {},
   "outputs": [],
   "source": [
    "from selenium.webdriver.common.by import By"
   ]
  },
  {
   "cell_type": "code",
   "execution_count": 4,
   "id": "d952bc8a",
   "metadata": {},
   "outputs": [],
   "source": [
    "from selenium.common.exceptions import NoSuchElementException"
   ]
  },
  {
   "cell_type": "code",
   "execution_count": 105,
   "id": "43a87a06",
   "metadata": {},
   "outputs": [],
   "source": [
    "chrome_binary_path = 'D:\\cft\\chrome-win64\\chrome.exe'\n",
    "\n",
    "options = webdriver.ChromeOptions()\n",
    "options.binary_location = chrome_binary_path\n",
    "\n",
    "\n",
    "driver = webdriver.Chrome(service=ChromeService(ChromeDriverManager().install()), options=options)\n",
    "\n",
    "driver.maximize_window()"
   ]
  },
  {
   "cell_type": "code",
   "execution_count": 59,
   "id": "94204ac6",
   "metadata": {},
   "outputs": [],
   "source": [
    "import time"
   ]
  },
  {
   "cell_type": "code",
   "execution_count": 106,
   "id": "82373b10",
   "metadata": {},
   "outputs": [],
   "source": [
    "url = 'https://docs.google.com/forms/d/e/1FAIpQLSdDXgKfiM4uRrcinCS8yn2jhsdQ0oK1SWnJhh-h-ZY6-NfIuw/viewform'\n",
    "driver.get(url)\n",
    "time.sleep(1)"
   ]
  },
  {
   "cell_type": "code",
   "execution_count": 75,
   "id": "6e06b628",
   "metadata": {},
   "outputs": [],
   "source": [
    "df=pd.read_excel('D:\\\\gsheet.xlsx',parse_dates=['DOJ'], date_parser=pd.to_datetime)"
   ]
  },
  {
   "cell_type": "code",
   "execution_count": 77,
   "id": "c8d08d47",
   "metadata": {},
   "outputs": [
    {
     "data": {
      "text/html": [
       "<div>\n",
       "<style scoped>\n",
       "    .dataframe tbody tr th:only-of-type {\n",
       "        vertical-align: middle;\n",
       "    }\n",
       "\n",
       "    .dataframe tbody tr th {\n",
       "        vertical-align: top;\n",
       "    }\n",
       "\n",
       "    .dataframe thead th {\n",
       "        text-align: right;\n",
       "    }\n",
       "</style>\n",
       "<table border=\"1\" class=\"dataframe\">\n",
       "  <thead>\n",
       "    <tr style=\"text-align: right;\">\n",
       "      <th></th>\n",
       "      <th>empCode</th>\n",
       "      <th>empName</th>\n",
       "      <th>gender</th>\n",
       "      <th>campus</th>\n",
       "      <th>qualifications</th>\n",
       "      <th>age</th>\n",
       "      <th>DOJ</th>\n",
       "      <th>Remarks</th>\n",
       "    </tr>\n",
       "  </thead>\n",
       "  <tbody>\n",
       "    <tr>\n",
       "      <th>0</th>\n",
       "      <td>306213</td>\n",
       "      <td>Rakesh Bhatnagar</td>\n",
       "      <td>M</td>\n",
       "      <td>AURJ_J</td>\n",
       "      <td>phd</td>\n",
       "      <td>34</td>\n",
       "      <td>2021-05-10</td>\n",
       "      <td>good</td>\n",
       "    </tr>\n",
       "    <tr>\n",
       "      <th>1</th>\n",
       "      <td>303680</td>\n",
       "      <td>Amit Jain</td>\n",
       "      <td>M</td>\n",
       "      <td>AURJ_J</td>\n",
       "      <td>btech</td>\n",
       "      <td>54</td>\n",
       "      <td>2019-06-21</td>\n",
       "      <td>good</td>\n",
       "    </tr>\n",
       "    <tr>\n",
       "      <th>2</th>\n",
       "      <td>8730</td>\n",
       "      <td>G. K. Aseri</td>\n",
       "      <td>M</td>\n",
       "      <td>AURJ_J</td>\n",
       "      <td>mtech</td>\n",
       "      <td>22</td>\n",
       "      <td>2012-08-17</td>\n",
       "      <td>good</td>\n",
       "    </tr>\n",
       "    <tr>\n",
       "      <th>3</th>\n",
       "      <td>14555</td>\n",
       "      <td>P.V.S. Raju</td>\n",
       "      <td>M</td>\n",
       "      <td>AURJ_J</td>\n",
       "      <td>bsc</td>\n",
       "      <td>35</td>\n",
       "      <td>2015-07-02</td>\n",
       "      <td>good</td>\n",
       "    </tr>\n",
       "    <tr>\n",
       "      <th>4</th>\n",
       "      <td>305780</td>\n",
       "      <td>Himanshu Mittal</td>\n",
       "      <td>M</td>\n",
       "      <td>AURJ_J</td>\n",
       "      <td>mtech</td>\n",
       "      <td>56</td>\n",
       "      <td>2021-01-08</td>\n",
       "      <td>good</td>\n",
       "    </tr>\n",
       "    <tr>\n",
       "      <th>5</th>\n",
       "      <td>305015</td>\n",
       "      <td>Shatrughan Singh</td>\n",
       "      <td>M</td>\n",
       "      <td>AURJ_J</td>\n",
       "      <td>phd</td>\n",
       "      <td>43</td>\n",
       "      <td>2020-02-17</td>\n",
       "      <td>good</td>\n",
       "    </tr>\n",
       "  </tbody>\n",
       "</table>\n",
       "</div>"
      ],
      "text/plain": [
       "   empCode           empName gender  campus qualifications  age        DOJ  \\\n",
       "0   306213  Rakesh Bhatnagar      M  AURJ_J            phd   34 2021-05-10   \n",
       "1   303680         Amit Jain      M  AURJ_J          btech   54 2019-06-21   \n",
       "2     8730       G. K. Aseri      M  AURJ_J          mtech   22 2012-08-17   \n",
       "3    14555       P.V.S. Raju      M  AURJ_J            bsc   35 2015-07-02   \n",
       "4   305780   Himanshu Mittal      M  AURJ_J          mtech   56 2021-01-08   \n",
       "5   305015  Shatrughan Singh      M  AURJ_J            phd   43 2020-02-17   \n",
       "\n",
       "  Remarks  \n",
       "0    good  \n",
       "1    good  \n",
       "2    good  \n",
       "3    good  \n",
       "4    good  \n",
       "5    good  "
      ]
     },
     "execution_count": 77,
     "metadata": {},
     "output_type": "execute_result"
    }
   ],
   "source": [
    "df"
   ]
  },
  {
   "cell_type": "code",
   "execution_count": 79,
   "id": "a0c8230b",
   "metadata": {},
   "outputs": [],
   "source": [
    "df['DOJ'] = df['DOJ'].apply(lambda x: x.strftime('%m-%d-%Y'))"
   ]
  },
  {
   "cell_type": "code",
   "execution_count": 107,
   "id": "4b6aae7a",
   "metadata": {},
   "outputs": [],
   "source": [
    "for index, row in df.iterrows():\n",
    "    \n",
    "    emp_field = driver.find_element(by=By.XPATH,value='//div/input[@aria-labelledby=\"i1\"]')\n",
    "    emp_field.send_keys(row['empCode'])\n",
    "    name_field = driver.find_element(by=By.XPATH,value='//div/input[@aria-labelledby=\"i5\"]')\n",
    "    name_field.send_keys(row['empName'])\n",
    "    \n",
    "    if row['gender']=='M':\n",
    "        gender_field = driver.find_element(by=By.XPATH,value='//div[@id=\"i13\"]')\n",
    "        gender_field.click()\n",
    "        \n",
    "    else:\n",
    "        gender_field = driver.find_element(by=By.XPATH,value='//div[@id=\"i16\"]')\n",
    "        gender_field.click()\n",
    "        \n",
    "    campus_field = driver.find_element(by=By.XPATH,value='//div/input[@aria-labelledby=\"i19\"]')\n",
    "    campus_field.send_keys(row['campus'])\n",
    "    quali_field = driver.find_element(by=By.XPATH,value='//textarea[@aria-labelledby=\"i23\"]')\n",
    "    quali_field.send_keys(row['qualifications'])\n",
    "    age_field = driver.find_element(by=By.XPATH,value='//div/input[@aria-labelledby=\"i27\"]')\n",
    "    age_field.send_keys(row['age'])\n",
    "    doj_field = driver.find_element(by=By.XPATH,value='//input[@type=\"date\"]')\n",
    "    doj_field.send_keys((row['DOJ']))\n",
    "    remark_field = driver.find_element(by=By.XPATH,value='//textarea[@aria-labelledby=\"i36\"]')\n",
    "    remark_field.send_keys(row['Remarks'])\n",
    "    time.sleep(2)\n",
    "    submit_field = driver.find_element(by=By.XPATH,value='//span[@class=\"NPEfkd RveJvd snByac\"]')\n",
    "    submit_field.click()\n",
    "    time.sleep(2)\n",
    "    another_response= driver.find_element(by=By.XPATH,value='/html/body/div[1]/div[2]/div[1]/div/div[4]/a')\n",
    "    another_response.click()\n",
    "    time.sleep(1)\n",
    "       "
   ]
  },
  {
   "cell_type": "code",
   "execution_count": null,
   "id": "59682b96",
   "metadata": {},
   "outputs": [],
   "source": []
  }
 ],
 "metadata": {
  "kernelspec": {
   "display_name": "Python 3 (ipykernel)",
   "language": "python",
   "name": "python3"
  },
  "language_info": {
   "codemirror_mode": {
    "name": "ipython",
    "version": 3
   },
   "file_extension": ".py",
   "mimetype": "text/x-python",
   "name": "python",
   "nbconvert_exporter": "python",
   "pygments_lexer": "ipython3",
   "version": "3.11.5"
  }
 },
 "nbformat": 4,
 "nbformat_minor": 5
}
