{
 "cells": [
  {
   "cell_type": "markdown",
   "id": "060254fa-c648-4a81-ac9f-ee622b2c0ccd",
   "metadata": {},
   "source": [
    "# Web Scraping on the basis of Metadata\n",
    "-  https://help.parsehub.com/hc/en-us/articles/360009095134-Extracting-meta-data-from-webpages\n",
    "-  https://medium.com/@rohanbhautoo/python-web-scraper-a-powerful-tool-for-web-data-extraction-6b196424d6fe"
   ]
  },
  {
   "cell_type": "code",
   "execution_count": 1,
   "id": "fba50c8c-83a5-4b2b-b81f-f879ab4b8f7f",
   "metadata": {},
   "outputs": [],
   "source": [
    "import requests\n",
    "from bs4 import BeautifulSoup"
   ]
  },
  {
   "cell_type": "code",
   "execution_count": 2,
   "id": "3594900d-51e0-4fc5-aea4-fdb8f73b067e",
   "metadata": {},
   "outputs": [],
   "source": [
    "url = 'http://www.virginaustralia.com/au/en/bookings/flights/make-a-booking/'\n",
    "response = requests.get(url)\n",
    "soup = BeautifulSoup(response.text)\n",
    "metas = soup.find_all('meta')"
   ]
  },
  {
   "cell_type": "code",
   "execution_count": 6,
   "id": "1a2955fc-63f1-41d1-a0b0-05b78b4216fa",
   "metadata": {},
   "outputs": [
    {
     "data": {
      "text/plain": [
       "[<meta charset=\"utf-8\"/>,\n",
       " <meta content=\"width=device-width, initial-scale=1.0\" name=\"viewport\"/>,\n",
       " <meta content=\"same-origin\" name=\"referrer\"/>,\n",
       " <meta content=\"Fly with award-winning service and great value fares to popular destinations across Australia. We can't wait to welcome you onboard Virgin Australia soon.\" name=\"description\"/>,\n",
       " <meta content=\"home-page-template\" name=\"template\"/>]"
      ]
     },
     "execution_count": 6,
     "metadata": {},
     "output_type": "execute_result"
    }
   ],
   "source": [
    "metas"
   ]
  },
  {
   "cell_type": "code",
   "execution_count": 9,
   "id": "cf837f53-424a-45b8-86a4-c9636ccc0e9b",
   "metadata": {},
   "outputs": [
    {
     "name": "stdout",
     "output_type": "stream",
     "text": [
      "[\"Fly with award-winning service and great value fares to popular destinations across Australia. We can't wait to welcome you onboard Virgin Australia soon.\"]\n"
     ]
    }
   ],
   "source": [
    "print([ meta.attrs['content'] for meta in metas if 'name' in meta.attrs and meta.attrs['name'] == 'description' ])"
   ]
  },
  {
   "cell_type": "code",
   "execution_count": 11,
   "id": "b936c7f6-cc71-446c-8e1d-7721f72dfa27",
   "metadata": {},
   "outputs": [
    {
     "name": "stdout",
     "output_type": "stream",
     "text": [
      "Fly with award-winning service and great value fares to popular destinations across Australia. We can't wait to welcome you onboard Virgin Australia soon.\n"
     ]
    }
   ],
   "source": [
    "metas = soup.find_all('meta') #Get Meta Description\n",
    "for m in metas:\n",
    "    if m.get ('name') == 'description':\n",
    "        desc = m.get('content')\n",
    "        print(desc)"
   ]
  },
  {
   "cell_type": "code",
   "execution_count": null,
   "id": "ce3fcf09-a4aa-4645-a09e-743f50b3c162",
   "metadata": {},
   "outputs": [],
   "source": []
  },
  {
   "cell_type": "markdown",
   "id": "17ac23db-f6be-49a5-bcd6-2c706d00fd23",
   "metadata": {},
   "source": [
    "## LXML\n",
    "- "
   ]
  },
  {
   "cell_type": "code",
   "execution_count": 10,
   "id": "4adcd6dc-2405-493d-8c0d-d1a8104f4b84",
   "metadata": {},
   "outputs": [],
   "source": [
    "import lxml"
   ]
  },
  {
   "cell_type": "code",
   "execution_count": null,
   "id": "8fac6509-da6c-41e0-8dcc-b99822ab374d",
   "metadata": {},
   "outputs": [],
   "source": []
  },
  {
   "cell_type": "code",
   "execution_count": null,
   "id": "f8a52838-5a0a-42cd-945f-5ab5b7d1eed4",
   "metadata": {},
   "outputs": [],
   "source": [
    "\n",
    "doc = lxml.html.document_fromstring(html_content)\n",
    "title_element = doc.xpath(\"//title\")\n",
    "website_title = title_element[0].text_content().strip()\n",
    "meta_description_element = doc.xpath(\"//meta[@property='description']\")\n",
    "website_meta_description = meta_description_element[0].text_content().strip()"
   ]
  }
 ],
 "metadata": {
  "kernelspec": {
   "display_name": "Python 3 (ipykernel)",
   "language": "python",
   "name": "python3"
  },
  "language_info": {
   "codemirror_mode": {
    "name": "ipython",
    "version": 3
   },
   "file_extension": ".py",
   "mimetype": "text/x-python",
   "name": "python",
   "nbconvert_exporter": "python",
   "pygments_lexer": "ipython3",
   "version": "3.11.5"
  }
 },
 "nbformat": 4,
 "nbformat_minor": 5
}
