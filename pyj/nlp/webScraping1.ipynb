{
 "cells": [
  {
   "cell_type": "markdown",
   "id": "457d3c3e-8bbd-4b6c-9a80-56dc3e6a08ff",
   "metadata": {},
   "source": [
    "# NLP - requests\n",
    "- "
   ]
  },
  {
   "cell_type": "code",
   "execution_count": 1,
   "id": "1a9be7d6-6d8c-48c7-a91b-d49efabd2073",
   "metadata": {},
   "outputs": [],
   "source": [
    "import requests"
   ]
  },
  {
   "cell_type": "code",
   "execution_count": 4,
   "id": "fc78c4a5-ac29-44d9-ae8d-1c1ccd607d7b",
   "metadata": {},
   "outputs": [
    {
     "data": {
      "text/plain": [
       "'https://www.gutenberg.org/files/2701/2701-h/2701-h.htm'"
      ]
     },
     "execution_count": 4,
     "metadata": {},
     "output_type": "execute_result"
    }
   ],
   "source": [
    "url = 'https://www.gutenberg.org/files/2701/2701-h/2701-h.htm'\n",
    "url"
   ]
  },
  {
   "cell_type": "code",
   "execution_count": 5,
   "id": "be2cf59a-8783-468f-a95a-2ac145afa650",
   "metadata": {},
   "outputs": [
    {
     "data": {
      "text/plain": [
       "requests.models.Response"
      ]
     },
     "execution_count": 5,
     "metadata": {},
     "output_type": "execute_result"
    }
   ],
   "source": [
    "r = requests.get(url)\n",
    "type(r)"
   ]
  },
  {
   "cell_type": "code",
   "execution_count": 6,
   "id": "0d4910e2-59e7-4412-abfd-18b47f3aa360",
   "metadata": {},
   "outputs": [
    {
     "data": {
      "text/plain": [
       "requests.models.Response"
      ]
     },
     "execution_count": 6,
     "metadata": {},
     "output_type": "execute_result"
    }
   ],
   "source": [
    "requests.models.Response"
   ]
  },
  {
   "cell_type": "code",
   "execution_count": 8,
   "id": "069236fc-7822-4b82-95a9-e05919472353",
   "metadata": {},
   "outputs": [],
   "source": [
    "#extract HTML\n",
    "html = r.text\n",
    "#html"
   ]
  },
  {
   "cell_type": "code",
   "execution_count": null,
   "id": "97fd285a-2249-47ee-a30f-a52932564857",
   "metadata": {},
   "outputs": [],
   "source": []
  }
 ],
 "metadata": {
  "kernelspec": {
   "display_name": "Python 3 (ipykernel)",
   "language": "python",
   "name": "python3"
  },
  "language_info": {
   "codemirror_mode": {
    "name": "ipython",
    "version": 3
   },
   "file_extension": ".py",
   "mimetype": "text/x-python",
   "name": "python",
   "nbconvert_exporter": "python",
   "pygments_lexer": "ipython3",
   "version": "3.11.5"
  }
 },
 "nbformat": 4,
 "nbformat_minor": 5
}
