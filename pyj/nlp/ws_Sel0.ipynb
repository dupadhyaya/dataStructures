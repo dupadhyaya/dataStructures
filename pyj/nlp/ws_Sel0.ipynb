{
 "cells": [
  {
   "cell_type": "markdown",
   "id": "cf5fe5d3-adcc-4950-8ea7-64054c8b7349",
   "metadata": {},
   "source": [
    "# Selenium Setup\n",
    "- autoinstaller\n",
    "    - https://github.com/yeongbin-jo/python-chromedriver-autoinstaller"
   ]
  },
  {
   "cell_type": "code",
   "execution_count": 1,
   "id": "63dea790-b72e-45e7-9f1f-9e0449d992d6",
   "metadata": {},
   "outputs": [],
   "source": [
    "from selenium import webdriver"
   ]
  },
  {
   "cell_type": "code",
   "execution_count": 2,
   "id": "daf4c204-b73a-4d3a-9fd3-b2f2b3861c93",
   "metadata": {},
   "outputs": [],
   "source": [
    "import chromedriver_autoinstaller"
   ]
  },
  {
   "cell_type": "code",
   "execution_count": 3,
   "id": "c409d8a8-6f44-47a8-8223-39edad7863ce",
   "metadata": {},
   "outputs": [
    {
     "name": "stdout",
     "output_type": "stream",
     "text": [
      "CHROME >= 115, using mac-arm64 as architecture identifier\n"
     ]
    },
    {
     "data": {
      "text/plain": [
       "'/Users/du/anaconda3/lib/python3.11/site-packages/chromedriver_autoinstaller/123/chromedriver'"
      ]
     },
     "execution_count": 3,
     "metadata": {},
     "output_type": "execute_result"
    }
   ],
   "source": [
    "chromedriver_autoinstaller.install()"
   ]
  },
  {
   "cell_type": "code",
   "execution_count": 4,
   "id": "4207c9fe-32f0-472a-9fae-0ce9da14494c",
   "metadata": {},
   "outputs": [],
   "source": [
    "driver = webdriver.Chrome()"
   ]
  },
  {
   "cell_type": "code",
   "execution_count": 5,
   "id": "cc97ddb4-d1ed-4ab8-a9d3-594d7233379f",
   "metadata": {},
   "outputs": [],
   "source": [
    "driver.get(\"http://www.python.org\")"
   ]
  },
  {
   "cell_type": "code",
   "execution_count": 7,
   "id": "dc06b582-0699-4714-bee6-076f991b91a2",
   "metadata": {},
   "outputs": [],
   "source": [
    "assert \"Python\" in driver.title"
   ]
  },
  {
   "cell_type": "code",
   "execution_count": 9,
   "id": "ea318f5b-8982-4917-abcf-e3c48ba95787",
   "metadata": {},
   "outputs": [
    {
     "data": {
      "text/plain": [
       "<selenium.webdriver.chrome.webdriver.WebDriver (session=\"0406139b844cc6acec7b803f54365e89\")>"
      ]
     },
     "execution_count": 9,
     "metadata": {},
     "output_type": "execute_result"
    }
   ],
   "source": [
    "driver"
   ]
  },
  {
   "cell_type": "code",
   "execution_count": null,
   "id": "e2e42122-c8ae-48d2-b7d9-2166e945016d",
   "metadata": {},
   "outputs": [],
   "source": []
  }
 ],
 "metadata": {
  "kernelspec": {
   "display_name": "Python 3 (ipykernel)",
   "language": "python",
   "name": "python3"
  },
  "language_info": {
   "codemirror_mode": {
    "name": "ipython",
    "version": 3
   },
   "file_extension": ".py",
   "mimetype": "text/x-python",
   "name": "python",
   "nbconvert_exporter": "python",
   "pygments_lexer": "ipython3",
   "version": "3.11.5"
  }
 },
 "nbformat": 4,
 "nbformat_minor": 5
}
