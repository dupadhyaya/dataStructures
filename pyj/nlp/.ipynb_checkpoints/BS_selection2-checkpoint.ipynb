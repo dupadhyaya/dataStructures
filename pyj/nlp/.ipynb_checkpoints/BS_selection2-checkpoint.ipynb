{
 "cells": [
  {
   "cell_type": "markdown",
   "id": "9b37078b-f5e9-4465-a3b8-0c4471adfb78",
   "metadata": {},
   "source": [
    "# Beautiful Soup"
   ]
  },
  {
   "cell_type": "code",
   "execution_count": 20,
   "id": "9847183e-e7e9-4d25-aeff-b96ff286fa58",
   "metadata": {},
   "outputs": [],
   "source": [
    "import requests\n",
    "from bs4 import BeautifulSoup\n",
    "import pandas as pd"
   ]
  },
  {
   "cell_type": "code",
   "execution_count": 6,
   "id": "c8fd6b1a-26b9-4db5-90e1-4bfdbf9972ce",
   "metadata": {},
   "outputs": [],
   "source": [
    "response = requests.get(\"https://www.scrapingbee.com/blog/\")\n",
    "soup = BeautifulSoup(response.content, 'html.parser')"
   ]
  },
  {
   "cell_type": "markdown",
   "id": "1dc36e96-307a-40c1-8c04-fbbeab2261e1",
   "metadata": {},
   "source": [
    "## html element by class"
   ]
  },
  {
   "cell_type": "code",
   "execution_count": 7,
   "id": "a7a3aa9f-db29-4d21-a242-9124980350c5",
   "metadata": {},
   "outputs": [
    {
     "name": "stdout",
     "output_type": "stream",
     "text": [
      "The ScrapingBee Blog\n"
     ]
    }
   ],
   "source": [
    "h1 = soup.find(attrs={\"class\": \"mb-21\"})\n",
    "print(h1.string)"
   ]
  },
  {
   "cell_type": "markdown",
   "id": "f39c3177-02f5-4388-b437-3f375dbda563",
   "metadata": {},
   "source": [
    "## By Attributes"
   ]
  },
  {
   "cell_type": "code",
   "execution_count": 9,
   "id": "30b585a9-74eb-49ff-8aa7-eeb842626624",
   "metadata": {},
   "outputs": [],
   "source": [
    "tooltips = soup.find_all(\"button\", attrs={\"data-microtip-size\": \"medium\"})\n",
    "for tooltip in tooltips:\n",
    "  print(tooltip.get(\"aria-label\"))"
   ]
  },
  {
   "cell_type": "markdown",
   "id": "6d5aa102-ff5c-47ba-a98c-245b1583d5a9",
   "metadata": {},
   "source": [
    "## Multiple Tags\n"
   ]
  },
  {
   "cell_type": "code",
   "execution_count": 15,
   "id": "5f93bef5-fb42-4d2c-895c-a08f6189cc63",
   "metadata": {},
   "outputs": [
    {
     "name": "stdout",
     "output_type": "stream",
     "text": [
      "<li class=\"px-15 lg:px-21\"><a class=\"block hover:underline\" href=\"https://app.scrapingbee.com/account/login\">Login</a></li>\n",
      "<li class=\"px-15 lg:px-21\"><a class=\"btn btn-black-o text-16 px-21 h-40 md:h-48 border-white md:border-black-100 text-white md:text-black-100 hover:bg-white md:hover:bg-black-100 hover:text-black-100 md:hover:text-white transition-all\" href=\"https://app.scrapingbee.com/account/register\">Sign Up</a></li>\n",
      "<li class=\"relative md:px-15 lg:px-21 mb-20 md:mb-0\"><a class=\"block hover:underline\" href=\"/#pricing\">Pricing</a></li>\n",
      "<li class=\"relative md:px-15 lg:px-21 mb-20 md:mb-0\"><a class=\"block hover:underline\" href=\"/#faq\">FAQ</a></li>\n",
      "<li class=\"relative md:px-15 lg:px-21 mb-20 md:mb-0\"><a class=\"block hover:underline\" href=\"/blog/\">Blog</a></li>\n"
     ]
    }
   ],
   "source": [
    "headers_and_bold_text = soup.find_all([\"h1\", \"li\"])\n",
    "i=0\n",
    "for element in headers_and_bold_text:\n",
    "  print(element)\n",
    "  i = i + 1\n",
    "  if (i >= 5) : break"
   ]
  },
  {
   "cell_type": "markdown",
   "id": "e07dfc3c-2de1-4bce-bccd-9d372fb4a441",
   "metadata": {},
   "source": [
    "## find all links"
   ]
  },
  {
   "cell_type": "code",
   "execution_count": 16,
   "id": "8ec802b7-c4a8-41da-8dff-05f9dfd7f4d4",
   "metadata": {},
   "outputs": [
    {
     "name": "stdout",
     "output_type": "stream",
     "text": [
      "Link: / Text: None\n",
      "Link: https://app.scrapingbee.com/account/login Text: Login\n",
      "Link: https://app.scrapingbee.com/account/register Text: Sign Up\n",
      "Link: /#pricing Text: Pricing\n",
      "Link: /#faq Text: FAQ\n"
     ]
    }
   ],
   "source": [
    "links = soup.find_all(\"a\") # Find all elements with the tag <a>\n",
    "i = 0\n",
    "for link in links:\n",
    "  print(\"Link:\", link.get(\"href\"), \"Text:\", link.string)\n",
    "  i +=1\n",
    "  if (i >=5) : break"
   ]
  },
  {
   "cell_type": "markdown",
   "id": "d347c21c-594a-4bb7-b321-6c068eab00b5",
   "metadata": {},
   "source": [
    "## Tables"
   ]
  },
  {
   "cell_type": "code",
   "execution_count": 17,
   "id": "d6f2a84a-a7c0-4035-8ff6-a9cee72c006f",
   "metadata": {},
   "outputs": [],
   "source": [
    "url2 = \"https://demo.scrapingbee.com/table_content.html\""
   ]
  },
  {
   "cell_type": "code",
   "execution_count": 21,
   "id": "14e750f2-b6db-4819-9b80-10220ab9f49d",
   "metadata": {},
   "outputs": [],
   "source": [
    "response = requests.get(url2)\n",
    "soup = BeautifulSoup(response.content, 'html.parser')\n",
    "\n",
    "data = []\n",
    "table = soup.find('table')\n",
    "table_body = table.find('tbody')\n",
    "\n",
    "rows = table.find_all('tr')\n",
    "for row in rows:\n",
    "    cols = row.find_all(['td', 'th'])\n",
    "    cols = [ele.text.strip() for ele in cols]\n",
    "    data.append([ele for ele in cols if ele])\n",
    "#print(data)"
   ]
  },
  {
   "cell_type": "code",
   "execution_count": 46,
   "id": "7c3df26b-821e-4cde-8766-d6010d8c265f",
   "metadata": {},
   "outputs": [
    {
     "data": {
      "text/html": [
       "<div>\n",
       "<style scoped>\n",
       "    .dataframe tbody tr th:only-of-type {\n",
       "        vertical-align: middle;\n",
       "    }\n",
       "\n",
       "    .dataframe tbody tr th {\n",
       "        vertical-align: top;\n",
       "    }\n",
       "\n",
       "    .dataframe thead th {\n",
       "        text-align: right;\n",
       "    }\n",
       "</style>\n",
       "<table border=\"1\" class=\"dataframe\">\n",
       "  <thead>\n",
       "    <tr style=\"text-align: right;\">\n",
       "      <th></th>\n",
       "      <th>Symbol</th>\n",
       "      <th>Name</th>\n",
       "      <th>Price</th>\n",
       "      <th>Change</th>\n",
       "      <th>%change</th>\n",
       "    </tr>\n",
       "  </thead>\n",
       "  <tbody>\n",
       "    <tr>\n",
       "      <th>1</th>\n",
       "      <td>AMD</td>\n",
       "      <td>Advanced Micro Devices Inc</td>\n",
       "      <td>89.48</td>\n",
       "      <td>-5.34</td>\n",
       "      <td>-5.63</td>\n",
       "    </tr>\n",
       "    <tr>\n",
       "      <th>2</th>\n",
       "      <td>ADBE</td>\n",
       "      <td>Adobe Inc.</td>\n",
       "      <td>378.07</td>\n",
       "      <td>-15.76</td>\n",
       "      <td>-4</td>\n",
       "    </tr>\n",
       "    <tr>\n",
       "      <th>3</th>\n",
       "      <td>ABNB</td>\n",
       "      <td>Airbnb Inc</td>\n",
       "      <td>99.91</td>\n",
       "      <td>-9.01</td>\n",
       "      <td>-8.27</td>\n",
       "    </tr>\n",
       "    <tr>\n",
       "      <th>4</th>\n",
       "      <td>ALGN</td>\n",
       "      <td>Align Technology Inc</td>\n",
       "      <td>247.75</td>\n",
       "      <td>-9.3</td>\n",
       "      <td>-3.62</td>\n",
       "    </tr>\n",
       "    <tr>\n",
       "      <th>5</th>\n",
       "      <td>AMZN</td>\n",
       "      <td>Amazon.com Inc</td>\n",
       "      <td>103.87</td>\n",
       "      <td>-5.78</td>\n",
       "      <td>-5.27</td>\n",
       "    </tr>\n",
       "  </tbody>\n",
       "</table>\n",
       "</div>"
      ],
      "text/plain": [
       "  Symbol                        Name   Price  Change %change\n",
       "1    AMD  Advanced Micro Devices Inc   89.48   -5.34   -5.63\n",
       "2   ADBE                  Adobe Inc.  378.07  -15.76      -4\n",
       "3   ABNB                  Airbnb Inc   99.91   -9.01   -8.27\n",
       "4   ALGN        Align Technology Inc  247.75    -9.3   -3.62\n",
       "5   AMZN              Amazon.com Inc  103.87   -5.78   -5.27"
      ]
     },
     "execution_count": 46,
     "metadata": {},
     "output_type": "execute_result"
    }
   ],
   "source": [
    "#df = pd.DataFrame(data)\n",
    "df = pd.DataFrame(data, columns =['Symbol', 'Name','Price', 'Change','%change'])\n",
    "df=df.drop(df.index[0])\n",
    "#print(df)\n",
    "df.head()"
   ]
  },
  {
   "cell_type": "code",
   "execution_count": 47,
   "id": "d2c8616f-30ec-467c-b37d-819c07cbc189",
   "metadata": {},
   "outputs": [
    {
     "name": "stdout",
     "output_type": "stream",
     "text": [
      "<class 'pandas.core.frame.DataFrame'>\n",
      "RangeIndex: 102 entries, 1 to 102\n",
      "Data columns (total 5 columns):\n",
      " #   Column   Non-Null Count  Dtype \n",
      "---  ------   --------------  ----- \n",
      " 0   Symbol   102 non-null    object\n",
      " 1   Name     102 non-null    object\n",
      " 2   Price    102 non-null    object\n",
      " 3   Change   102 non-null    object\n",
      " 4   %change  102 non-null    object\n",
      "dtypes: object(5)\n",
      "memory usage: 4.1+ KB\n"
     ]
    }
   ],
   "source": [
    "df.info()"
   ]
  },
  {
   "cell_type": "code",
   "execution_count": 50,
   "id": "42cdeab3-2a8c-4892-9109-b95418df358e",
   "metadata": {},
   "outputs": [
    {
     "name": "stdout",
     "output_type": "stream",
     "text": [
      "<class 'pandas.core.frame.DataFrame'>\n",
      "RangeIndex: 102 entries, 1 to 102\n",
      "Data columns (total 5 columns):\n",
      " #   Column   Non-Null Count  Dtype  \n",
      "---  ------   --------------  -----  \n",
      " 0   Symbol   102 non-null    object \n",
      " 1   Name     102 non-null    object \n",
      " 2   Price    99 non-null     float64\n",
      " 3   Change   102 non-null    float64\n",
      " 4   %change  102 non-null    float64\n",
      "dtypes: float64(3), object(2)\n",
      "memory usage: 4.1+ KB\n"
     ]
    }
   ],
   "source": [
    "#df= df.convert_dtypes()\n",
    "asTypes = {'Price':'float64', 'Change':'float64', '%change':'float64'}\n",
    "#df = df.astype({'col1': 'object', 'col2': 'int'})\n",
    "#df= df.convert_dtypes()\n",
    "df[['Price','Change','%change']] = df[['Price','Change','%change']].apply(pd.to_numeric, errors='coerce')\n",
    "df.info()"
   ]
  },
  {
   "cell_type": "code",
   "execution_count": 49,
   "id": "10ab1a87-92b2-4096-a7a5-df10bd8b0566",
   "metadata": {},
   "outputs": [
    {
     "data": {
      "text/html": [
       "<div>\n",
       "<style scoped>\n",
       "    .dataframe tbody tr th:only-of-type {\n",
       "        vertical-align: middle;\n",
       "    }\n",
       "\n",
       "    .dataframe tbody tr th {\n",
       "        vertical-align: top;\n",
       "    }\n",
       "\n",
       "    .dataframe thead th {\n",
       "        text-align: right;\n",
       "    }\n",
       "</style>\n",
       "<table border=\"1\" class=\"dataframe\">\n",
       "  <thead>\n",
       "    <tr style=\"text-align: right;\">\n",
       "      <th></th>\n",
       "      <th>Symbol</th>\n",
       "      <th>Name</th>\n",
       "      <th>Price</th>\n",
       "      <th>Change</th>\n",
       "      <th>%change</th>\n",
       "    </tr>\n",
       "  </thead>\n",
       "  <tbody>\n",
       "    <tr>\n",
       "      <th>count</th>\n",
       "      <td>102</td>\n",
       "      <td>102</td>\n",
       "      <td>99.000000</td>\n",
       "      <td>102.000000</td>\n",
       "      <td>102.000000</td>\n",
       "    </tr>\n",
       "    <tr>\n",
       "      <th>unique</th>\n",
       "      <td>102</td>\n",
       "      <td>102</td>\n",
       "      <td>NaN</td>\n",
       "      <td>NaN</td>\n",
       "      <td>NaN</td>\n",
       "    </tr>\n",
       "    <tr>\n",
       "      <th>top</th>\n",
       "      <td>AMD</td>\n",
       "      <td>Advanced Micro Devices Inc</td>\n",
       "      <td>NaN</td>\n",
       "      <td>NaN</td>\n",
       "      <td>NaN</td>\n",
       "    </tr>\n",
       "    <tr>\n",
       "      <th>freq</th>\n",
       "      <td>1</td>\n",
       "      <td>1</td>\n",
       "      <td>NaN</td>\n",
       "      <td>NaN</td>\n",
       "      <td>NaN</td>\n",
       "    </tr>\n",
       "    <tr>\n",
       "      <th>mean</th>\n",
       "      <td>NaN</td>\n",
       "      <td>NaN</td>\n",
       "      <td>172.455758</td>\n",
       "      <td>-9.782745</td>\n",
       "      <td>-4.022255</td>\n",
       "    </tr>\n",
       "    <tr>\n",
       "      <th>std</th>\n",
       "      <td>NaN</td>\n",
       "      <td>NaN</td>\n",
       "      <td>147.193845</td>\n",
       "      <td>18.281000</td>\n",
       "      <td>2.397990</td>\n",
       "    </tr>\n",
       "    <tr>\n",
       "      <th>min</th>\n",
       "      <td>NaN</td>\n",
       "      <td>NaN</td>\n",
       "      <td>6.030000</td>\n",
       "      <td>-151.960000</td>\n",
       "      <td>-10.860000</td>\n",
       "    </tr>\n",
       "    <tr>\n",
       "      <th>25%</th>\n",
       "      <td>NaN</td>\n",
       "      <td>NaN</td>\n",
       "      <td>72.455000</td>\n",
       "      <td>-9.397500</td>\n",
       "      <td>-5.390000</td>\n",
       "    </tr>\n",
       "    <tr>\n",
       "      <th>50%</th>\n",
       "      <td>NaN</td>\n",
       "      <td>NaN</td>\n",
       "      <td>130.020000</td>\n",
       "      <td>-5.370000</td>\n",
       "      <td>-3.650000</td>\n",
       "    </tr>\n",
       "    <tr>\n",
       "      <th>75%</th>\n",
       "      <td>NaN</td>\n",
       "      <td>NaN</td>\n",
       "      <td>202.305000</td>\n",
       "      <td>-2.457500</td>\n",
       "      <td>-2.270000</td>\n",
       "    </tr>\n",
       "    <tr>\n",
       "      <th>max</th>\n",
       "      <td>NaN</td>\n",
       "      <td>NaN</td>\n",
       "      <td>660.930000</td>\n",
       "      <td>0.030000</td>\n",
       "      <td>0.020000</td>\n",
       "    </tr>\n",
       "  </tbody>\n",
       "</table>\n",
       "</div>"
      ],
      "text/plain": [
       "       Symbol                        Name       Price      Change     %change\n",
       "count     102                         102   99.000000  102.000000  102.000000\n",
       "unique    102                         102         NaN         NaN         NaN\n",
       "top       AMD  Advanced Micro Devices Inc         NaN         NaN         NaN\n",
       "freq        1                           1         NaN         NaN         NaN\n",
       "mean      NaN                         NaN  172.455758   -9.782745   -4.022255\n",
       "std       NaN                         NaN  147.193845   18.281000    2.397990\n",
       "min       NaN                         NaN    6.030000 -151.960000  -10.860000\n",
       "25%       NaN                         NaN   72.455000   -9.397500   -5.390000\n",
       "50%       NaN                         NaN  130.020000   -5.370000   -3.650000\n",
       "75%       NaN                         NaN  202.305000   -2.457500   -2.270000\n",
       "max       NaN                         NaN  660.930000    0.030000    0.020000"
      ]
     },
     "execution_count": 49,
     "metadata": {},
     "output_type": "execute_result"
    }
   ],
   "source": [
    "df.describe(include='all')"
   ]
  },
  {
   "cell_type": "markdown",
   "id": "c4957ad9-ab4f-45c1-a02c-e471bfdd37e0",
   "metadata": {},
   "source": [
    "## Values between 2 nodes"
   ]
  },
  {
   "cell_type": "code",
   "execution_count": 53,
   "id": "83390a12-bd5e-43ac-bab8-7e70728bc19a",
   "metadata": {},
   "outputs": [],
   "source": [
    "html_content = '''\n",
    "<h1>Starting Header</h1><p>Element 1</p><p>Element 2</p><p>Element 3</p><h1>Ending Header</h1>\n",
    "'''"
   ]
  },
  {
   "cell_type": "code",
   "execution_count": 54,
   "id": "367a7396-c7ac-4ec0-9dad-026a50a6f2a5",
   "metadata": {},
   "outputs": [
    {
     "name": "stdout",
     "output_type": "stream",
     "text": [
      "[<p>Element 1</p>, <p>Element 2</p>, <p>Element 3</p>]\n"
     ]
    }
   ],
   "source": [
    "soup = BeautifulSoup(html_content, 'html.parser')\n",
    "elements = []\n",
    "for tag in soup.find(\"h1\").next_siblings:\n",
    "    if tag.name == \"h1\":\n",
    "        break\n",
    "    else:\n",
    "        elements.append(tag)\n",
    "\n",
    "print(elements)"
   ]
  },
  {
   "cell_type": "code",
   "execution_count": 58,
   "id": "2e1e3e43-0290-415f-a119-f77b934273dc",
   "metadata": {},
   "outputs": [
    {
     "name": "stdout",
     "output_type": "stream",
     "text": [
      "Element 1\n",
      "Element 2\n",
      "Element 3\n"
     ]
    }
   ],
   "source": [
    "for i in elements:\n",
    "    print(i.text)"
   ]
  },
  {
   "cell_type": "code",
   "execution_count": null,
   "id": "06384798-ec48-4a47-b321-df5343921dd0",
   "metadata": {},
   "outputs": [],
   "source": []
  }
 ],
 "metadata": {
  "kernelspec": {
   "display_name": "Python 3 (ipykernel)",
   "language": "python",
   "name": "python3"
  },
  "language_info": {
   "codemirror_mode": {
    "name": "ipython",
    "version": 3
   },
   "file_extension": ".py",
   "mimetype": "text/x-python",
   "name": "python",
   "nbconvert_exporter": "python",
   "pygments_lexer": "ipython3",
   "version": "3.11.5"
  }
 },
 "nbformat": 4,
 "nbformat_minor": 5
}
