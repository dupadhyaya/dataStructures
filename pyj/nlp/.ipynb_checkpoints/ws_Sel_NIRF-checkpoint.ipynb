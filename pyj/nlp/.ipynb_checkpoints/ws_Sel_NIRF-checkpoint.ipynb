{
 "cells": [
  {
   "cell_type": "markdown",
   "id": "e757b485-14ec-4547-bc24-613c16b4363f",
   "metadata": {},
   "source": [
    "# NLP - NIRF Data\n",
    "-  "
   ]
  },
  {
   "cell_type": "code",
   "execution_count": 1,
   "id": "68502b92",
   "metadata": {},
   "outputs": [],
   "source": [
    "import pandas as pd\n",
    "from selenium import webdriver"
   ]
  },
  {
   "cell_type": "code",
   "execution_count": 2,
   "id": "a5750331",
   "metadata": {},
   "outputs": [],
   "source": [
    "from selenium.common.exceptions import NoSuchElementException"
   ]
  },
  {
   "cell_type": "code",
   "execution_count": 3,
   "id": "3f546e5c",
   "metadata": {},
   "outputs": [],
   "source": [
    "import time"
   ]
  },
  {
   "cell_type": "code",
   "execution_count": 12,
   "id": "48b4fed8",
   "metadata": {},
   "outputs": [],
   "source": [
    "from selenium.webdriver.common.by import By"
   ]
  },
  {
   "cell_type": "code",
   "execution_count": 6,
   "id": "ffaa4dda",
   "metadata": {},
   "outputs": [
    {
     "name": "stderr",
     "output_type": "stream",
     "text": [
      "C:\\Users\\Admin\\AppData\\Local\\Temp\\ipykernel_20852\\2963930768.py:2: DeprecationWarning: executable_path has been deprecated, please pass in a Service object\n",
      "  driver = webdriver.Chrome(driver_path)\n"
     ]
    }
   ],
   "source": [
    "driver_path = 'path/to/chromedriver'\n",
    "driver = webdriver.Chrome(driver_path)\n",
    "driver.maximize_window()\n",
    "time.sleep(3)"
   ]
  },
  {
   "cell_type": "code",
   "execution_count": 4,
   "id": "b6d30c7e-aff1-42bd-a283-564115b6bf51",
   "metadata": {},
   "outputs": [],
   "source": [
    "driver = webdriver.Chrome()"
   ]
  },
  {
   "cell_type": "code",
   "execution_count": 5,
   "id": "3dac5639-9bcb-40a9-82db-879ac292df76",
   "metadata": {},
   "outputs": [],
   "source": [
    "driver.maximize_window()\n",
    "time.sleep(3)"
   ]
  },
  {
   "cell_type": "code",
   "execution_count": 6,
   "id": "e9c84185",
   "metadata": {},
   "outputs": [],
   "source": [
    "url = 'https://www.nirfindia.org/2023/OverallRanking.html'\n",
    "driver.get(url)\n",
    "time.sleep(4)"
   ]
  },
  {
   "cell_type": "code",
   "execution_count": 8,
   "id": "b1185c45",
   "metadata": {},
   "outputs": [],
   "source": [
    "page=3 #max no of pages for 2023 Overall Ranking"
   ]
  },
  {
   "cell_type": "code",
   "execution_count": 9,
   "id": "faf73470",
   "metadata": {},
   "outputs": [],
   "source": [
    "data=[]\n",
    "score=[]"
   ]
  },
  {
   "cell_type": "code",
   "execution_count": 13,
   "id": "a267ed00",
   "metadata": {},
   "outputs": [],
   "source": [
    "button= driver.find_element(By.XPATH, value='//a[@class=\"btn-more-details\"]')\n",
    "button.click()"
   ]
  },
  {
   "cell_type": "code",
   "execution_count": 14,
   "id": "3343f285-5e0d-42e1-8a5a-87aad7beee01",
   "metadata": {},
   "outputs": [],
   "source": [
    "table1=driver.find_elements(by=By.XPATH, value='//div[@class=\"tbl_hidden\"]//tbody//tr')"
   ]
  },
  {
   "cell_type": "code",
   "execution_count": 18,
   "id": "649830e5-b27d-4f4c-87e7-500849b61d45",
   "metadata": {},
   "outputs": [
    {
     "data": {
      "text/plain": [
       "100"
      ]
     },
     "execution_count": 18,
     "metadata": {},
     "output_type": "execute_result"
    }
   ],
   "source": [
    "#table1\n",
    "len(table1)  #100 univ data so 100 elements"
   ]
  },
  {
   "cell_type": "code",
   "execution_count": 19,
   "id": "7580f5d8",
   "metadata": {},
   "outputs": [],
   "source": [
    "length = len(table1)\n",
    "for i in range(length):\n",
    "    #print(i)\n",
    "    score.append(table1[i].get_attribute('innerHTML'))\n",
    "    #score.append(\" \")"
   ]
  },
  {
   "cell_type": "code",
   "execution_count": 22,
   "id": "a1f2d4e0",
   "metadata": {},
   "outputs": [
    {
     "data": {
      "text/plain": [
       "['<td>86.45</td><td>89.88</td><td>87.22</td><td>63.59</td><td>100.00</td>',\n",
       " '<td>82.43</td><td>88.45</td><td>80.57</td><td>59.23</td><td>97.94</td>',\n",
       " '<td>82.06</td><td>85.23</td><td>79.21</td><td>70.32</td><td>90.98</td>',\n",
       " '<td>80.71</td><td>86.14</td><td>84.26</td><td>58.76</td><td>84.98</td>',\n",
       " '<td>85.45</td><td>72.94</td><td>83.62</td><td>60.24</td><td>69.84</td>',\n",
       " '<td>76.47</td><td>67.75</td><td>70.46</td><td>72.72</td><td>75.23</td>',\n",
       " '<td>73.29</td><td>72.25</td><td>76.75</td><td>57.44</td><td>70.68</td>',\n",
       " '<td>77.69</td><td>68.00</td><td>83.15</td><td>62.80</td><td>50.36</td>',\n",
       " '<td>73.43</td><td>66.98</td><td>82.95</td><td>58.30</td><td>42.44</td>',\n",
       " '<td>73.55</td><td>46.56</td><td>94.89</td><td>73.64</td><td>50.73</td>']"
      ]
     },
     "execution_count": 22,
     "metadata": {},
     "output_type": "execute_result"
    }
   ],
   "source": [
    "score[0:10]\n",
    "#this score of 100 orgs"
   ]
  },
  {
   "cell_type": "code",
   "execution_count": 23,
   "id": "772e2245",
   "metadata": {},
   "outputs": [],
   "source": [
    "df=pd.DataFrame(score)"
   ]
  },
  {
   "cell_type": "code",
   "execution_count": 25,
   "id": "17391ca5",
   "metadata": {},
   "outputs": [
    {
     "data": {
      "text/html": [
       "<div>\n",
       "<style scoped>\n",
       "    .dataframe tbody tr th:only-of-type {\n",
       "        vertical-align: middle;\n",
       "    }\n",
       "\n",
       "    .dataframe tbody tr th {\n",
       "        vertical-align: top;\n",
       "    }\n",
       "\n",
       "    .dataframe thead th {\n",
       "        text-align: right;\n",
       "    }\n",
       "</style>\n",
       "<table border=\"1\" class=\"dataframe\">\n",
       "  <thead>\n",
       "    <tr style=\"text-align: right;\">\n",
       "      <th></th>\n",
       "      <th>0</th>\n",
       "    </tr>\n",
       "  </thead>\n",
       "  <tbody>\n",
       "    <tr>\n",
       "      <th>0</th>\n",
       "      <td>&lt;td&gt;86.45&lt;/td&gt;&lt;td&gt;89.88&lt;/td&gt;&lt;td&gt;87.22&lt;/td&gt;&lt;td&gt;...</td>\n",
       "    </tr>\n",
       "    <tr>\n",
       "      <th>1</th>\n",
       "      <td>&lt;td&gt;82.43&lt;/td&gt;&lt;td&gt;88.45&lt;/td&gt;&lt;td&gt;80.57&lt;/td&gt;&lt;td&gt;...</td>\n",
       "    </tr>\n",
       "    <tr>\n",
       "      <th>2</th>\n",
       "      <td>&lt;td&gt;82.06&lt;/td&gt;&lt;td&gt;85.23&lt;/td&gt;&lt;td&gt;79.21&lt;/td&gt;&lt;td&gt;...</td>\n",
       "    </tr>\n",
       "  </tbody>\n",
       "</table>\n",
       "</div>"
      ],
      "text/plain": [
       "                                                   0\n",
       "0  <td>86.45</td><td>89.88</td><td>87.22</td><td>...\n",
       "1  <td>82.43</td><td>88.45</td><td>80.57</td><td>...\n",
       "2  <td>82.06</td><td>85.23</td><td>79.21</td><td>..."
      ]
     },
     "execution_count": 25,
     "metadata": {},
     "output_type": "execute_result"
    }
   ],
   "source": [
    "df.head(3)"
   ]
  },
  {
   "cell_type": "code",
   "execution_count": 26,
   "id": "51e6b6d6",
   "metadata": {},
   "outputs": [],
   "source": [
    "df['A']=df[0].apply(lambda x: x.replace('</td>',','))\n",
    "#remove <td> and </td> from data"
   ]
  },
  {
   "cell_type": "code",
   "execution_count": 28,
   "id": "34421928",
   "metadata": {},
   "outputs": [
    {
     "data": {
      "text/html": [
       "<div>\n",
       "<style scoped>\n",
       "    .dataframe tbody tr th:only-of-type {\n",
       "        vertical-align: middle;\n",
       "    }\n",
       "\n",
       "    .dataframe tbody tr th {\n",
       "        vertical-align: top;\n",
       "    }\n",
       "\n",
       "    .dataframe thead th {\n",
       "        text-align: right;\n",
       "    }\n",
       "</style>\n",
       "<table border=\"1\" class=\"dataframe\">\n",
       "  <thead>\n",
       "    <tr style=\"text-align: right;\">\n",
       "      <th></th>\n",
       "      <th>0</th>\n",
       "      <th>A</th>\n",
       "    </tr>\n",
       "  </thead>\n",
       "  <tbody>\n",
       "    <tr>\n",
       "      <th>0</th>\n",
       "      <td>&lt;td&gt;86.45&lt;/td&gt;&lt;td&gt;89.88&lt;/td&gt;&lt;td&gt;87.22&lt;/td&gt;&lt;td&gt;...</td>\n",
       "      <td>&lt;td&gt;86.45,&lt;td&gt;89.88,&lt;td&gt;87.22,&lt;td&gt;63.59,&lt;td&gt;10...</td>\n",
       "    </tr>\n",
       "    <tr>\n",
       "      <th>1</th>\n",
       "      <td>&lt;td&gt;82.43&lt;/td&gt;&lt;td&gt;88.45&lt;/td&gt;&lt;td&gt;80.57&lt;/td&gt;&lt;td&gt;...</td>\n",
       "      <td>&lt;td&gt;82.43,&lt;td&gt;88.45,&lt;td&gt;80.57,&lt;td&gt;59.23,&lt;td&gt;97...</td>\n",
       "    </tr>\n",
       "    <tr>\n",
       "      <th>2</th>\n",
       "      <td>&lt;td&gt;82.06&lt;/td&gt;&lt;td&gt;85.23&lt;/td&gt;&lt;td&gt;79.21&lt;/td&gt;&lt;td&gt;...</td>\n",
       "      <td>&lt;td&gt;82.06,&lt;td&gt;85.23,&lt;td&gt;79.21,&lt;td&gt;70.32,&lt;td&gt;90...</td>\n",
       "    </tr>\n",
       "    <tr>\n",
       "      <th>3</th>\n",
       "      <td>&lt;td&gt;80.71&lt;/td&gt;&lt;td&gt;86.14&lt;/td&gt;&lt;td&gt;84.26&lt;/td&gt;&lt;td&gt;...</td>\n",
       "      <td>&lt;td&gt;80.71,&lt;td&gt;86.14,&lt;td&gt;84.26,&lt;td&gt;58.76,&lt;td&gt;84...</td>\n",
       "    </tr>\n",
       "    <tr>\n",
       "      <th>4</th>\n",
       "      <td>&lt;td&gt;85.45&lt;/td&gt;&lt;td&gt;72.94&lt;/td&gt;&lt;td&gt;83.62&lt;/td&gt;&lt;td&gt;...</td>\n",
       "      <td>&lt;td&gt;85.45,&lt;td&gt;72.94,&lt;td&gt;83.62,&lt;td&gt;60.24,&lt;td&gt;69...</td>\n",
       "    </tr>\n",
       "  </tbody>\n",
       "</table>\n",
       "</div>"
      ],
      "text/plain": [
       "                                                   0  \\\n",
       "0  <td>86.45</td><td>89.88</td><td>87.22</td><td>...   \n",
       "1  <td>82.43</td><td>88.45</td><td>80.57</td><td>...   \n",
       "2  <td>82.06</td><td>85.23</td><td>79.21</td><td>...   \n",
       "3  <td>80.71</td><td>86.14</td><td>84.26</td><td>...   \n",
       "4  <td>85.45</td><td>72.94</td><td>83.62</td><td>...   \n",
       "\n",
       "                                                   A  \n",
       "0  <td>86.45,<td>89.88,<td>87.22,<td>63.59,<td>10...  \n",
       "1  <td>82.43,<td>88.45,<td>80.57,<td>59.23,<td>97...  \n",
       "2  <td>82.06,<td>85.23,<td>79.21,<td>70.32,<td>90...  \n",
       "3  <td>80.71,<td>86.14,<td>84.26,<td>58.76,<td>84...  \n",
       "4  <td>85.45,<td>72.94,<td>83.62,<td>60.24,<td>69...  "
      ]
     },
     "execution_count": 28,
     "metadata": {},
     "output_type": "execute_result"
    }
   ],
   "source": [
    "df.head()"
   ]
  },
  {
   "cell_type": "code",
   "execution_count": 29,
   "id": "1c878de2",
   "metadata": {},
   "outputs": [],
   "source": [
    "df['A']=df[0].apply(lambda x: x.replace('<td>',''))"
   ]
  },
  {
   "cell_type": "code",
   "execution_count": 30,
   "id": "5cbbc585",
   "metadata": {},
   "outputs": [],
   "source": [
    "df['A']=df['A'].apply(lambda x: x.replace('</td>',','))"
   ]
  },
  {
   "cell_type": "code",
   "execution_count": 31,
   "id": "b0e3940c",
   "metadata": {},
   "outputs": [
    {
     "data": {
      "text/html": [
       "<div>\n",
       "<style scoped>\n",
       "    .dataframe tbody tr th:only-of-type {\n",
       "        vertical-align: middle;\n",
       "    }\n",
       "\n",
       "    .dataframe tbody tr th {\n",
       "        vertical-align: top;\n",
       "    }\n",
       "\n",
       "    .dataframe thead th {\n",
       "        text-align: right;\n",
       "    }\n",
       "</style>\n",
       "<table border=\"1\" class=\"dataframe\">\n",
       "  <thead>\n",
       "    <tr style=\"text-align: right;\">\n",
       "      <th></th>\n",
       "      <th>0</th>\n",
       "      <th>A</th>\n",
       "    </tr>\n",
       "  </thead>\n",
       "  <tbody>\n",
       "    <tr>\n",
       "      <th>0</th>\n",
       "      <td>&lt;td&gt;86.45&lt;/td&gt;&lt;td&gt;89.88&lt;/td&gt;&lt;td&gt;87.22&lt;/td&gt;&lt;td&gt;...</td>\n",
       "      <td>86.45,89.88,87.22,63.59,100.00,</td>\n",
       "    </tr>\n",
       "    <tr>\n",
       "      <th>1</th>\n",
       "      <td>&lt;td&gt;82.43&lt;/td&gt;&lt;td&gt;88.45&lt;/td&gt;&lt;td&gt;80.57&lt;/td&gt;&lt;td&gt;...</td>\n",
       "      <td>82.43,88.45,80.57,59.23,97.94,</td>\n",
       "    </tr>\n",
       "    <tr>\n",
       "      <th>2</th>\n",
       "      <td>&lt;td&gt;82.06&lt;/td&gt;&lt;td&gt;85.23&lt;/td&gt;&lt;td&gt;79.21&lt;/td&gt;&lt;td&gt;...</td>\n",
       "      <td>82.06,85.23,79.21,70.32,90.98,</td>\n",
       "    </tr>\n",
       "    <tr>\n",
       "      <th>3</th>\n",
       "      <td>&lt;td&gt;80.71&lt;/td&gt;&lt;td&gt;86.14&lt;/td&gt;&lt;td&gt;84.26&lt;/td&gt;&lt;td&gt;...</td>\n",
       "      <td>80.71,86.14,84.26,58.76,84.98,</td>\n",
       "    </tr>\n",
       "    <tr>\n",
       "      <th>4</th>\n",
       "      <td>&lt;td&gt;85.45&lt;/td&gt;&lt;td&gt;72.94&lt;/td&gt;&lt;td&gt;83.62&lt;/td&gt;&lt;td&gt;...</td>\n",
       "      <td>85.45,72.94,83.62,60.24,69.84,</td>\n",
       "    </tr>\n",
       "  </tbody>\n",
       "</table>\n",
       "</div>"
      ],
      "text/plain": [
       "                                                   0  \\\n",
       "0  <td>86.45</td><td>89.88</td><td>87.22</td><td>...   \n",
       "1  <td>82.43</td><td>88.45</td><td>80.57</td><td>...   \n",
       "2  <td>82.06</td><td>85.23</td><td>79.21</td><td>...   \n",
       "3  <td>80.71</td><td>86.14</td><td>84.26</td><td>...   \n",
       "4  <td>85.45</td><td>72.94</td><td>83.62</td><td>...   \n",
       "\n",
       "                                 A  \n",
       "0  86.45,89.88,87.22,63.59,100.00,  \n",
       "1   82.43,88.45,80.57,59.23,97.94,  \n",
       "2   82.06,85.23,79.21,70.32,90.98,  \n",
       "3   80.71,86.14,84.26,58.76,84.98,  \n",
       "4   85.45,72.94,83.62,60.24,69.84,  "
      ]
     },
     "execution_count": 31,
     "metadata": {},
     "output_type": "execute_result"
    }
   ],
   "source": [
    "df.head()"
   ]
  },
  {
   "cell_type": "code",
   "execution_count": 32,
   "id": "cfa2055a",
   "metadata": {},
   "outputs": [],
   "source": [
    "df['A']=df['A'].str.split(',')\n",
    "#split the data delim by ,"
   ]
  },
  {
   "cell_type": "code",
   "execution_count": 33,
   "id": "cecb7f81",
   "metadata": {},
   "outputs": [
    {
     "data": {
      "text/html": [
       "<div>\n",
       "<style scoped>\n",
       "    .dataframe tbody tr th:only-of-type {\n",
       "        vertical-align: middle;\n",
       "    }\n",
       "\n",
       "    .dataframe tbody tr th {\n",
       "        vertical-align: top;\n",
       "    }\n",
       "\n",
       "    .dataframe thead th {\n",
       "        text-align: right;\n",
       "    }\n",
       "</style>\n",
       "<table border=\"1\" class=\"dataframe\">\n",
       "  <thead>\n",
       "    <tr style=\"text-align: right;\">\n",
       "      <th></th>\n",
       "      <th>0</th>\n",
       "      <th>A</th>\n",
       "    </tr>\n",
       "  </thead>\n",
       "  <tbody>\n",
       "    <tr>\n",
       "      <th>0</th>\n",
       "      <td>&lt;td&gt;86.45&lt;/td&gt;&lt;td&gt;89.88&lt;/td&gt;&lt;td&gt;87.22&lt;/td&gt;&lt;td&gt;...</td>\n",
       "      <td>[86.45, 89.88, 87.22, 63.59, 100.00, ]</td>\n",
       "    </tr>\n",
       "    <tr>\n",
       "      <th>1</th>\n",
       "      <td>&lt;td&gt;82.43&lt;/td&gt;&lt;td&gt;88.45&lt;/td&gt;&lt;td&gt;80.57&lt;/td&gt;&lt;td&gt;...</td>\n",
       "      <td>[82.43, 88.45, 80.57, 59.23, 97.94, ]</td>\n",
       "    </tr>\n",
       "    <tr>\n",
       "      <th>2</th>\n",
       "      <td>&lt;td&gt;82.06&lt;/td&gt;&lt;td&gt;85.23&lt;/td&gt;&lt;td&gt;79.21&lt;/td&gt;&lt;td&gt;...</td>\n",
       "      <td>[82.06, 85.23, 79.21, 70.32, 90.98, ]</td>\n",
       "    </tr>\n",
       "    <tr>\n",
       "      <th>3</th>\n",
       "      <td>&lt;td&gt;80.71&lt;/td&gt;&lt;td&gt;86.14&lt;/td&gt;&lt;td&gt;84.26&lt;/td&gt;&lt;td&gt;...</td>\n",
       "      <td>[80.71, 86.14, 84.26, 58.76, 84.98, ]</td>\n",
       "    </tr>\n",
       "    <tr>\n",
       "      <th>4</th>\n",
       "      <td>&lt;td&gt;85.45&lt;/td&gt;&lt;td&gt;72.94&lt;/td&gt;&lt;td&gt;83.62&lt;/td&gt;&lt;td&gt;...</td>\n",
       "      <td>[85.45, 72.94, 83.62, 60.24, 69.84, ]</td>\n",
       "    </tr>\n",
       "  </tbody>\n",
       "</table>\n",
       "</div>"
      ],
      "text/plain": [
       "                                                   0  \\\n",
       "0  <td>86.45</td><td>89.88</td><td>87.22</td><td>...   \n",
       "1  <td>82.43</td><td>88.45</td><td>80.57</td><td>...   \n",
       "2  <td>82.06</td><td>85.23</td><td>79.21</td><td>...   \n",
       "3  <td>80.71</td><td>86.14</td><td>84.26</td><td>...   \n",
       "4  <td>85.45</td><td>72.94</td><td>83.62</td><td>...   \n",
       "\n",
       "                                        A  \n",
       "0  [86.45, 89.88, 87.22, 63.59, 100.00, ]  \n",
       "1   [82.43, 88.45, 80.57, 59.23, 97.94, ]  \n",
       "2   [82.06, 85.23, 79.21, 70.32, 90.98, ]  \n",
       "3   [80.71, 86.14, 84.26, 58.76, 84.98, ]  \n",
       "4   [85.45, 72.94, 83.62, 60.24, 69.84, ]  "
      ]
     },
     "execution_count": 33,
     "metadata": {},
     "output_type": "execute_result"
    }
   ],
   "source": [
    "df.head()"
   ]
  },
  {
   "cell_type": "code",
   "execution_count": 34,
   "id": "bc78dcd0",
   "metadata": {},
   "outputs": [],
   "source": [
    "df3 = df['A'].apply(pd.Series)\n",
    "df3.columns = ['A', 'B','C','D','E','F']"
   ]
  },
  {
   "cell_type": "code",
   "execution_count": 35,
   "id": "fccc35bb",
   "metadata": {},
   "outputs": [
    {
     "data": {
      "text/html": [
       "<div>\n",
       "<style scoped>\n",
       "    .dataframe tbody tr th:only-of-type {\n",
       "        vertical-align: middle;\n",
       "    }\n",
       "\n",
       "    .dataframe tbody tr th {\n",
       "        vertical-align: top;\n",
       "    }\n",
       "\n",
       "    .dataframe thead th {\n",
       "        text-align: right;\n",
       "    }\n",
       "</style>\n",
       "<table border=\"1\" class=\"dataframe\">\n",
       "  <thead>\n",
       "    <tr style=\"text-align: right;\">\n",
       "      <th></th>\n",
       "      <th>A</th>\n",
       "      <th>B</th>\n",
       "      <th>C</th>\n",
       "      <th>D</th>\n",
       "      <th>E</th>\n",
       "      <th>F</th>\n",
       "    </tr>\n",
       "  </thead>\n",
       "  <tbody>\n",
       "    <tr>\n",
       "      <th>0</th>\n",
       "      <td>86.45</td>\n",
       "      <td>89.88</td>\n",
       "      <td>87.22</td>\n",
       "      <td>63.59</td>\n",
       "      <td>100.00</td>\n",
       "      <td></td>\n",
       "    </tr>\n",
       "    <tr>\n",
       "      <th>1</th>\n",
       "      <td>82.43</td>\n",
       "      <td>88.45</td>\n",
       "      <td>80.57</td>\n",
       "      <td>59.23</td>\n",
       "      <td>97.94</td>\n",
       "      <td></td>\n",
       "    </tr>\n",
       "    <tr>\n",
       "      <th>2</th>\n",
       "      <td>82.06</td>\n",
       "      <td>85.23</td>\n",
       "      <td>79.21</td>\n",
       "      <td>70.32</td>\n",
       "      <td>90.98</td>\n",
       "      <td></td>\n",
       "    </tr>\n",
       "    <tr>\n",
       "      <th>3</th>\n",
       "      <td>80.71</td>\n",
       "      <td>86.14</td>\n",
       "      <td>84.26</td>\n",
       "      <td>58.76</td>\n",
       "      <td>84.98</td>\n",
       "      <td></td>\n",
       "    </tr>\n",
       "    <tr>\n",
       "      <th>4</th>\n",
       "      <td>85.45</td>\n",
       "      <td>72.94</td>\n",
       "      <td>83.62</td>\n",
       "      <td>60.24</td>\n",
       "      <td>69.84</td>\n",
       "      <td></td>\n",
       "    </tr>\n",
       "  </tbody>\n",
       "</table>\n",
       "</div>"
      ],
      "text/plain": [
       "       A      B      C      D       E F\n",
       "0  86.45  89.88  87.22  63.59  100.00  \n",
       "1  82.43  88.45  80.57  59.23   97.94  \n",
       "2  82.06  85.23  79.21  70.32   90.98  \n",
       "3  80.71  86.14  84.26  58.76   84.98  \n",
       "4  85.45  72.94  83.62  60.24   69.84  "
      ]
     },
     "execution_count": 35,
     "metadata": {},
     "output_type": "execute_result"
    }
   ],
   "source": [
    "df3.head()"
   ]
  },
  {
   "cell_type": "code",
   "execution_count": 37,
   "id": "75adab45-7eb8-4eff-ae9e-b1e2f2ff7eff",
   "metadata": {},
   "outputs": [
    {
     "data": {
      "text/html": [
       "<div>\n",
       "<style scoped>\n",
       "    .dataframe tbody tr th:only-of-type {\n",
       "        vertical-align: middle;\n",
       "    }\n",
       "\n",
       "    .dataframe tbody tr th {\n",
       "        vertical-align: top;\n",
       "    }\n",
       "\n",
       "    .dataframe thead th {\n",
       "        text-align: right;\n",
       "    }\n",
       "</style>\n",
       "<table border=\"1\" class=\"dataframe\">\n",
       "  <thead>\n",
       "    <tr style=\"text-align: right;\">\n",
       "      <th></th>\n",
       "      <th>A</th>\n",
       "      <th>B</th>\n",
       "      <th>C</th>\n",
       "      <th>D</th>\n",
       "      <th>E</th>\n",
       "      <th>F</th>\n",
       "    </tr>\n",
       "  </thead>\n",
       "  <tbody>\n",
       "    <tr>\n",
       "      <th>count</th>\n",
       "      <td>100</td>\n",
       "      <td>100</td>\n",
       "      <td>100</td>\n",
       "      <td>100</td>\n",
       "      <td>100</td>\n",
       "      <td>100</td>\n",
       "    </tr>\n",
       "    <tr>\n",
       "      <th>unique</th>\n",
       "      <td>99</td>\n",
       "      <td>100</td>\n",
       "      <td>95</td>\n",
       "      <td>97</td>\n",
       "      <td>74</td>\n",
       "      <td>1</td>\n",
       "    </tr>\n",
       "    <tr>\n",
       "      <th>top</th>\n",
       "      <td>70.64</td>\n",
       "      <td>89.88</td>\n",
       "      <td>73.26</td>\n",
       "      <td>59.23</td>\n",
       "      <td>8.15</td>\n",
       "      <td></td>\n",
       "    </tr>\n",
       "    <tr>\n",
       "      <th>freq</th>\n",
       "      <td>2</td>\n",
       "      <td>1</td>\n",
       "      <td>2</td>\n",
       "      <td>2</td>\n",
       "      <td>4</td>\n",
       "      <td>100</td>\n",
       "    </tr>\n",
       "  </tbody>\n",
       "</table>\n",
       "</div>"
      ],
      "text/plain": [
       "            A      B      C      D     E    F\n",
       "count     100    100    100    100   100  100\n",
       "unique     99    100     95     97    74    1\n",
       "top     70.64  89.88  73.26  59.23  8.15     \n",
       "freq        2      1      2      2     4  100"
      ]
     },
     "execution_count": 37,
     "metadata": {},
     "output_type": "execute_result"
    }
   ],
   "source": [
    "df3.describe()"
   ]
  },
  {
   "cell_type": "code",
   "execution_count": 42,
   "id": "0f31bbb0-3360-4695-9961-d79641f39c12",
   "metadata": {},
   "outputs": [
    {
     "data": {
      "text/plain": [
       "array([''], dtype=object)"
      ]
     },
     "execution_count": 42,
     "metadata": {},
     "output_type": "execute_result"
    }
   ],
   "source": [
    "df3.F.unique()  #there is just a space in F col"
   ]
  },
  {
   "cell_type": "code",
   "execution_count": 43,
   "id": "719610cc",
   "metadata": {},
   "outputs": [],
   "source": [
    "df3.drop('F',axis=1,inplace=True)"
   ]
  },
  {
   "cell_type": "code",
   "execution_count": 44,
   "id": "29a6f719",
   "metadata": {},
   "outputs": [
    {
     "data": {
      "text/html": [
       "<div>\n",
       "<style scoped>\n",
       "    .dataframe tbody tr th:only-of-type {\n",
       "        vertical-align: middle;\n",
       "    }\n",
       "\n",
       "    .dataframe tbody tr th {\n",
       "        vertical-align: top;\n",
       "    }\n",
       "\n",
       "    .dataframe thead th {\n",
       "        text-align: right;\n",
       "    }\n",
       "</style>\n",
       "<table border=\"1\" class=\"dataframe\">\n",
       "  <thead>\n",
       "    <tr style=\"text-align: right;\">\n",
       "      <th></th>\n",
       "      <th>A</th>\n",
       "      <th>B</th>\n",
       "      <th>C</th>\n",
       "      <th>D</th>\n",
       "      <th>E</th>\n",
       "    </tr>\n",
       "  </thead>\n",
       "  <tbody>\n",
       "    <tr>\n",
       "      <th>0</th>\n",
       "      <td>86.45</td>\n",
       "      <td>89.88</td>\n",
       "      <td>87.22</td>\n",
       "      <td>63.59</td>\n",
       "      <td>100.00</td>\n",
       "    </tr>\n",
       "    <tr>\n",
       "      <th>1</th>\n",
       "      <td>82.43</td>\n",
       "      <td>88.45</td>\n",
       "      <td>80.57</td>\n",
       "      <td>59.23</td>\n",
       "      <td>97.94</td>\n",
       "    </tr>\n",
       "    <tr>\n",
       "      <th>2</th>\n",
       "      <td>82.06</td>\n",
       "      <td>85.23</td>\n",
       "      <td>79.21</td>\n",
       "      <td>70.32</td>\n",
       "      <td>90.98</td>\n",
       "    </tr>\n",
       "    <tr>\n",
       "      <th>3</th>\n",
       "      <td>80.71</td>\n",
       "      <td>86.14</td>\n",
       "      <td>84.26</td>\n",
       "      <td>58.76</td>\n",
       "      <td>84.98</td>\n",
       "    </tr>\n",
       "    <tr>\n",
       "      <th>4</th>\n",
       "      <td>85.45</td>\n",
       "      <td>72.94</td>\n",
       "      <td>83.62</td>\n",
       "      <td>60.24</td>\n",
       "      <td>69.84</td>\n",
       "    </tr>\n",
       "  </tbody>\n",
       "</table>\n",
       "</div>"
      ],
      "text/plain": [
       "       A      B      C      D       E\n",
       "0  86.45  89.88  87.22  63.59  100.00\n",
       "1  82.43  88.45  80.57  59.23   97.94\n",
       "2  82.06  85.23  79.21  70.32   90.98\n",
       "3  80.71  86.14  84.26  58.76   84.98\n",
       "4  85.45  72.94  83.62  60.24   69.84"
      ]
     },
     "execution_count": 44,
     "metadata": {},
     "output_type": "execute_result"
    }
   ],
   "source": [
    "df3.head()"
   ]
  },
  {
   "cell_type": "code",
   "execution_count": 45,
   "id": "cbed7e1b",
   "metadata": {},
   "outputs": [],
   "source": [
    "df3.to_clipboard(excel=True)"
   ]
  },
  {
   "cell_type": "code",
   "execution_count": 46,
   "id": "df03872f",
   "metadata": {},
   "outputs": [],
   "source": [
    "time.sleep(3)\n",
    "driver.quit()"
   ]
  },
  {
   "cell_type": "code",
   "execution_count": null,
   "id": "987deea2-3bbb-4cfe-907a-7604f49eaf7f",
   "metadata": {},
   "outputs": [],
   "source": []
  }
 ],
 "metadata": {
  "kernelspec": {
   "display_name": "Python 3 (ipykernel)",
   "language": "python",
   "name": "python3"
  },
  "language_info": {
   "codemirror_mode": {
    "name": "ipython",
    "version": 3
   },
   "file_extension": ".py",
   "mimetype": "text/x-python",
   "name": "python",
   "nbconvert_exporter": "python",
   "pygments_lexer": "ipython3",
   "version": "3.11.5"
  }
 },
 "nbformat": 4,
 "nbformat_minor": 5
}
