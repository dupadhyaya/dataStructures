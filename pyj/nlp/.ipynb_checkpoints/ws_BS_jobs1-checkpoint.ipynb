{
 "cells": [
  {
   "cell_type": "markdown",
   "id": "a4000ed6-06e1-4c53-8871-44985f1a2533",
   "metadata": {},
   "source": [
    "# Web Scrapping - Fake Jobs\n",
    "-  "
   ]
  },
  {
   "cell_type": "code",
   "execution_count": 2,
   "id": "5c39c950-df45-465e-893c-006666dba051",
   "metadata": {},
   "outputs": [],
   "source": [
    "import requests\n",
    "import pandas as pd\n",
    "import numpy as np"
   ]
  },
  {
   "cell_type": "code",
   "execution_count": 4,
   "id": "991f96b1-6816-4895-b495-3133083e1679",
   "metadata": {},
   "outputs": [
    {
     "data": {
      "text/plain": [
       "'https://realpython.github.io/fake-jobs/'"
      ]
     },
     "execution_count": 4,
     "metadata": {},
     "output_type": "execute_result"
    }
   ],
   "source": [
    "url = 'https://realpython.github.io/fake-jobs/'\n",
    "url"
   ]
  },
  {
   "cell_type": "code",
   "execution_count": 5,
   "id": "81787613-c619-46cb-84bf-5ccf255978e3",
   "metadata": {},
   "outputs": [],
   "source": [
    "page = requests.get(url)"
   ]
  },
  {
   "cell_type": "code",
   "execution_count": 6,
   "id": "76eac0e0-4478-421b-857d-3c51c516219c",
   "metadata": {},
   "outputs": [
    {
     "data": {
      "text/plain": [
       "<Response [200]>"
      ]
     },
     "execution_count": 6,
     "metadata": {},
     "output_type": "execute_result"
    }
   ],
   "source": [
    "page"
   ]
  },
  {
   "cell_type": "code",
   "execution_count": 9,
   "id": "e326d2c2-466b-40d0-8b28-c84812d66740",
   "metadata": {},
   "outputs": [
    {
     "data": {
      "text/plain": [
       "'!DOCTYPE html>\\n<html>\\n  <head>\\n    <meta charset=\"utf-8\">\\n    <meta name=\"viewport\" content=\"width='"
      ]
     },
     "execution_count": 9,
     "metadata": {},
     "output_type": "execute_result"
    }
   ],
   "source": [
    "page.text[1:100]  #first 100 characters in the html"
   ]
  },
  {
   "cell_type": "markdown",
   "id": "f8879c21-6517-4d21-b9fa-666c45707b80",
   "metadata": {},
   "source": [
    "- page.text is like html\n",
    "- static content\n",
    "- https://webformatter.com/html - upload url and see the content\n",
    "- Part of the html \n",
    "    - div class=\"media-content\"\n",
    "    - h2 class=\"title is-5\">Senior Python Developer /h2\n",
    "    - h3 class=\"subtitle is-6 company\">Payne, Roberts and Davis /h3\n",
    "    - /div\n",
    "-  class = 'title is-5' -> contains title of the job\n",
    "-  class = 'subtitle is-6' -> contains name of coy offering job\n",
    "-  class = 'location' -> location of job"
   ]
  },
  {
   "cell_type": "markdown",
   "id": "25b18a54-0e17-4de9-a22a-65b7248e6694",
   "metadata": {},
   "source": [
    "# Beautiful Soup\n",
    "- parsing structure data\n",
    "- interact with pages like developer tools\n",
    "- has many function to parse and extact values\n",
    "- different parsers to extract data\n",
    "  - html.parser\n",
    "  - xml\n",
    "  - lxml\n",
    "  - html5lib\n",
    "- there are different encoding also\n",
    "  - iso-8859-8 , xx-7"
   ]
  },
  {
   "cell_type": "code",
   "execution_count": 10,
   "id": "ecd979c0-01d7-44a5-a3a1-ec071d82933e",
   "metadata": {},
   "outputs": [],
   "source": [
    "from bs4 import BeautifulSoup"
   ]
  },
  {
   "cell_type": "code",
   "execution_count": 11,
   "id": "e8535163-361f-4d6b-b8ec-f1f59586bcfa",
   "metadata": {},
   "outputs": [],
   "source": [
    "page = requests.get(url) #from requests library\n",
    "soup = BeautifulSoup(page.content, 'html.parser')\n",
    "# page.content is better that page.text for parsing html text"
   ]
  },
  {
   "cell_type": "markdown",
   "id": "a21b3c26-9e7a-41a0-ba62-7c677a3df7d8",
   "metadata": {},
   "source": [
    "## Find elements by ID\n",
    "- in HTML web page, every element can have an id ATTRIBUTE assigned, which uniquely identifies element in the page\n",
    "- parse page by selecting specific element by its ID\n",
    "- the element we are looking for here, that has\n",
    "  - div with id attribute ='ResultsContainer'\n",
    "  - it has other attributes, but we will pick id here\n",
    "  - 20: div id=\"ResultsContainer\" class=\"columns is-multiline\"\n",
    "    - .. all job listings.. under this container\n"
   ]
  },
  {
   "cell_type": "code",
   "execution_count": 12,
   "id": "56a838ab-4a73-4070-b36a-2f7a6d3601c7",
   "metadata": {},
   "outputs": [],
   "source": [
    "results = soup.find(id='ResultsContainer')"
   ]
  },
  {
   "cell_type": "code",
   "execution_count": 20,
   "id": "f839e6cb-41da-45e9-92b5-dd186fb408c8",
   "metadata": {},
   "outputs": [],
   "source": [
    "# results # will list all html under this container onwards\n",
    "# now we work with this part of html "
   ]
  },
  {
   "cell_type": "code",
   "execution_count": 18,
   "id": "44080dcc-f257-4cb0-bf6c-31441093226c",
   "metadata": {},
   "outputs": [
    {
     "data": {
      "text/plain": [
       "'<div class=\"columns is-multiline\" id=\"ResultsContainer\">\\n <div class=\"column is-half\">\\n  <div class=\"card\">\\n   <div class=\"card-content\">\\n    <div class=\"media\">\\n     <div class=\"media-left\">\\n      <figure class=\"image is-48x48\">\\n       <img alt=\"Real Python Logo\" src=\"https://files.realpython.com/media/real-python-logo-thumbnail.7f0db70c2ed2.jpg?__no_cf_polish=1\"/>\\n      </figure>\\n     </div>\\n   '"
      ]
     },
     "execution_count": 18,
     "metadata": {},
     "output_type": "execute_result"
    }
   ],
   "source": [
    "results.prettify()[0:400]"
   ]
  },
  {
   "cell_type": "markdown",
   "id": "eb8fb782-816c-43c1-9ae1-dbbbf93e0406",
   "metadata": {},
   "source": [
    "## Find elements by Class Name\n",
    "- every job is wrapped in a < div > element with class = 'card-content'\n",
    "  <div class=\"card-content\">\n",
    "  <div class=\"media\">\n",
    "      <div class=\"media-left\">\n",
    "        <figure class=\"image is-48x48\">\n",
    "          <img src=\"https://files.realpython.com/media/real-python-logo-thumbnail.7f0db70c2ed2.jpg?__no_cf_polish=1\" alt=\"Real Python Logo\">\n",
    "        </figure>\n",
    "      </div>\n",
    "      <div class=\"media-content\">\n",
    "        <h2 class=\"title is-5\">Senior Python Developer</h2>\n",
    "        <h3 class=\"subtitle is-6 company\">Payne, Roberts and Davis</h3>\n",
    "      </div>\n",
    "    </div>"
   ]
  },
  {
   "cell_type": "code",
   "execution_count": 23,
   "id": "23251c94-3067-4e3c-9d8e-40359876c62a",
   "metadata": {},
   "outputs": [],
   "source": [
    "job_elements = results.find_all('div', class_='card-content')"
   ]
  },
  {
   "cell_type": "code",
   "execution_count": 28,
   "id": "d55158eb-f1a9-4baf-b3e5-c5a305fd0f3a",
   "metadata": {},
   "outputs": [
    {
     "data": {
      "text/plain": [
       "[<div class=\"card-content\">\n",
       " <div class=\"media\">\n",
       " <div class=\"media-left\">\n",
       " <figure class=\"image is-48x48\">\n",
       " <img alt=\"Real Python Logo\" src=\"https://files.realpython.com/media/real-python-logo-thumbnail.7f0db70c2ed2.jpg?__no_cf_polish=1\"/>\n",
       " </figure>\n",
       " </div>\n",
       " <div class=\"media-content\">\n",
       " <h2 class=\"title is-5\">Senior Python Developer</h2>\n",
       " <h3 class=\"subtitle is-6 company\">Payne, Roberts and Davis</h3>\n",
       " </div>\n",
       " </div>\n",
       " <div class=\"content\">\n",
       " <p class=\"location\">\n",
       "         Stewartbury, AA\n",
       "       </p>\n",
       " <p class=\"is-small has-text-grey\">\n",
       " <time datetime=\"2021-04-08\">2021-04-08</time>\n",
       " </p>\n",
       " </div>\n",
       " <footer class=\"card-footer\">\n",
       " <a class=\"card-footer-item\" href=\"https://www.realpython.com\" target=\"_blank\">Learn</a>\n",
       " <a class=\"card-footer-item\" href=\"https://realpython.github.io/fake-jobs/jobs/senior-python-developer-0.html\" target=\"_blank\">Apply</a>\n",
       " </footer>\n",
       " </div>]"
      ]
     },
     "execution_count": 28,
     "metadata": {},
     "output_type": "execute_result"
    }
   ],
   "source": [
    "job_elements[0:1] #first job"
   ]
  },
  {
   "cell_type": "code",
   "execution_count": 33,
   "id": "0a13e68d-90bf-4d01-8edf-56e3b0fef58d",
   "metadata": {},
   "outputs": [
    {
     "name": "stdout",
     "output_type": "stream",
     "text": [
      "Job No :  1 \n",
      " <div class=\"card-content\">\n",
      "<div class=\"media\">\n",
      "<div class=\"media-left\">\n",
      "<figure class=\"image is-48x48\">\n",
      "<img alt=\"Real Python Logo\" src=\"https://files.realpython.com/media/real-python-logo-thumbnail.7f0db70c2ed2.jpg?__no_cf_polish=1\"/>\n",
      "</figure>\n",
      "</div>\n",
      "<div class=\"media-content\">\n",
      "<h2 class=\"title is-5\">Senior Python Developer</h2>\n",
      "<h3 class=\"subtitle is-6 company\">Payne, Roberts and Davis</h3>\n",
      "</div>\n",
      "</div>\n",
      "<div class=\"content\">\n",
      "<p class=\"location\">\n",
      "        Stewartbury, AA\n",
      "      </p>\n",
      "<p class=\"is-small has-text-grey\">\n",
      "<time datetime=\"2021-04-08\">2021-04-08</time>\n",
      "</p>\n",
      "</div>\n",
      "<footer class=\"card-footer\">\n",
      "<a class=\"card-footer-item\" href=\"https://www.realpython.com\" target=\"_blank\">Learn</a>\n",
      "<a class=\"card-footer-item\" href=\"https://realpython.github.io/fake-jobs/jobs/senior-python-developer-0.html\" target=\"_blank\">Apply</a>\n",
      "</footer>\n",
      "</div>\n",
      "\n",
      "Job No :  2 \n",
      " <div class=\"card-content\">\n",
      "<div class=\"media\">\n",
      "<div class=\"media-left\">\n",
      "<figure class=\"image is-48x48\">\n",
      "<img alt=\"Real Python Logo\" src=\"https://files.realpython.com/media/real-python-logo-thumbnail.7f0db70c2ed2.jpg?__no_cf_polish=1\"/>\n",
      "</figure>\n",
      "</div>\n",
      "<div class=\"media-content\">\n",
      "<h2 class=\"title is-5\">Energy engineer</h2>\n",
      "<h3 class=\"subtitle is-6 company\">Vasquez-Davidson</h3>\n",
      "</div>\n",
      "</div>\n",
      "<div class=\"content\">\n",
      "<p class=\"location\">\n",
      "        Christopherville, AA\n",
      "      </p>\n",
      "<p class=\"is-small has-text-grey\">\n",
      "<time datetime=\"2021-04-08\">2021-04-08</time>\n",
      "</p>\n",
      "</div>\n",
      "<footer class=\"card-footer\">\n",
      "<a class=\"card-footer-item\" href=\"https://www.realpython.com\" target=\"_blank\">Learn</a>\n",
      "<a class=\"card-footer-item\" href=\"https://realpython.github.io/fake-jobs/jobs/energy-engineer-1.html\" target=\"_blank\">Apply</a>\n",
      "</footer>\n",
      "</div>\n",
      "\n",
      "Job No :  3 \n",
      " <div class=\"card-content\">\n",
      "<div class=\"media\">\n",
      "<div class=\"media-left\">\n",
      "<figure class=\"image is-48x48\">\n",
      "<img alt=\"Real Python Logo\" src=\"https://files.realpython.com/media/real-python-logo-thumbnail.7f0db70c2ed2.jpg?__no_cf_polish=1\"/>\n",
      "</figure>\n",
      "</div>\n",
      "<div class=\"media-content\">\n",
      "<h2 class=\"title is-5\">Legal executive</h2>\n",
      "<h3 class=\"subtitle is-6 company\">Jackson, Chambers and Levy</h3>\n",
      "</div>\n",
      "</div>\n",
      "<div class=\"content\">\n",
      "<p class=\"location\">\n",
      "        Port Ericaburgh, AA\n",
      "      </p>\n",
      "<p class=\"is-small has-text-grey\">\n",
      "<time datetime=\"2021-04-08\">2021-04-08</time>\n",
      "</p>\n",
      "</div>\n",
      "<footer class=\"card-footer\">\n",
      "<a class=\"card-footer-item\" href=\"https://www.realpython.com\" target=\"_blank\">Learn</a>\n",
      "<a class=\"card-footer-item\" href=\"https://realpython.github.io/fake-jobs/jobs/legal-executive-2.html\" target=\"_blank\">Apply</a>\n",
      "</footer>\n",
      "</div>\n",
      "\n",
      "Job No :  4 \n",
      " <div class=\"card-content\">\n",
      "<div class=\"media\">\n",
      "<div class=\"media-left\">\n",
      "<figure class=\"image is-48x48\">\n",
      "<img alt=\"Real Python Logo\" src=\"https://files.realpython.com/media/real-python-logo-thumbnail.7f0db70c2ed2.jpg?__no_cf_polish=1\"/>\n",
      "</figure>\n",
      "</div>\n",
      "<div class=\"media-content\">\n",
      "<h2 class=\"title is-5\">Fitness centre manager</h2>\n",
      "<h3 class=\"subtitle is-6 company\">Savage-Bradley</h3>\n",
      "</div>\n",
      "</div>\n",
      "<div class=\"content\">\n",
      "<p class=\"location\">\n",
      "        East Seanview, AP\n",
      "      </p>\n",
      "<p class=\"is-small has-text-grey\">\n",
      "<time datetime=\"2021-04-08\">2021-04-08</time>\n",
      "</p>\n",
      "</div>\n",
      "<footer class=\"card-footer\">\n",
      "<a class=\"card-footer-item\" href=\"https://www.realpython.com\" target=\"_blank\">Learn</a>\n",
      "<a class=\"card-footer-item\" href=\"https://realpython.github.io/fake-jobs/jobs/fitness-centre-manager-3.html\" target=\"_blank\">Apply</a>\n",
      "</footer>\n",
      "</div>\n",
      "\n",
      "Job No :  5 \n",
      " <div class=\"card-content\">\n",
      "<div class=\"media\">\n",
      "<div class=\"media-left\">\n",
      "<figure class=\"image is-48x48\">\n",
      "<img alt=\"Real Python Logo\" src=\"https://files.realpython.com/media/real-python-logo-thumbnail.7f0db70c2ed2.jpg?__no_cf_polish=1\"/>\n",
      "</figure>\n",
      "</div>\n",
      "<div class=\"media-content\">\n",
      "<h2 class=\"title is-5\">Product manager</h2>\n",
      "<h3 class=\"subtitle is-6 company\">Ramirez Inc</h3>\n",
      "</div>\n",
      "</div>\n",
      "<div class=\"content\">\n",
      "<p class=\"location\">\n",
      "        North Jamieview, AP\n",
      "      </p>\n",
      "<p class=\"is-small has-text-grey\">\n",
      "<time datetime=\"2021-04-08\">2021-04-08</time>\n",
      "</p>\n",
      "</div>\n",
      "<footer class=\"card-footer\">\n",
      "<a class=\"card-footer-item\" href=\"https://www.realpython.com\" target=\"_blank\">Learn</a>\n",
      "<a class=\"card-footer-item\" href=\"https://realpython.github.io/fake-jobs/jobs/product-manager-4.html\" target=\"_blank\">Apply</a>\n",
      "</footer>\n",
      "</div>\n",
      "\n"
     ]
    }
   ],
   "source": [
    "i = 0\n",
    "for job_element in job_elements[0:5]:\n",
    "    print('Job No : ', i+1, '\\n', job_element, end='\\n'*2)\n",
    "    i += 1"
   ]
  },
  {
   "cell_type": "markdown",
   "id": "ce6dfa1e-d2ff-46f3-87e4-8fd4a3389485",
   "metadata": {},
   "source": [
    "# More finer extraction\n",
    "- Still there are many elements to read/ extract"
   ]
  },
  {
   "cell_type": "code",
   "execution_count": 46,
   "id": "cf368645-0a7b-4e35-a9db-22868f0285be",
   "metadata": {},
   "outputs": [
    {
     "name": "stdout",
     "output_type": "stream",
     "text": [
      "Job No -  1\n",
      "<h2 class=\"title is-5\">Senior Python Developer</h2> \n",
      " <h3 class=\"subtitle is-6 company\">Payne, Roberts and Davis</h3> \n",
      " <p class=\"location\">\n",
      "        Stewartbury, AA\n",
      "      </p>\n",
      "\n",
      "Job No -  2\n",
      "<h2 class=\"title is-5\">Energy engineer</h2> \n",
      " <h3 class=\"subtitle is-6 company\">Vasquez-Davidson</h3> \n",
      " <p class=\"location\">\n",
      "        Christopherville, AA\n",
      "      </p>\n",
      "\n",
      "Job No -  3\n",
      "<h2 class=\"title is-5\">Legal executive</h2> \n",
      " <h3 class=\"subtitle is-6 company\">Jackson, Chambers and Levy</h3> \n",
      " <p class=\"location\">\n",
      "        Port Ericaburgh, AA\n",
      "      </p>\n",
      "\n",
      "Job No -  4\n",
      "<h2 class=\"title is-5\">Fitness centre manager</h2> \n",
      " <h3 class=\"subtitle is-6 company\">Savage-Bradley</h3> \n",
      " <p class=\"location\">\n",
      "        East Seanview, AP\n",
      "      </p>\n",
      "\n",
      "Job No -  5\n",
      "<h2 class=\"title is-5\">Product manager</h2> \n",
      " <h3 class=\"subtitle is-6 company\">Ramirez Inc</h3> \n",
      " <p class=\"location\">\n",
      "        North Jamieview, AP\n",
      "      </p>\n",
      "\n"
     ]
    }
   ],
   "source": [
    "i=0\n",
    "for job_element in job_elements[0:5]:\n",
    "    print('Job No - ', i+1)\n",
    "    title = job_element.find('h2',class_ ='title is-5')\n",
    "    coy = job_element.find('h3', class_ ='subtitle is-6 company')\n",
    "    loc = job_element.find('p', class_ ='location')\n",
    "    print(title, '\\n', coy, '\\n', loc)\n",
    "    i += 1\n",
    "    print()"
   ]
  },
  {
   "cell_type": "markdown",
   "id": "1ab7cbe5-da08-4aff-b66f-d9969d4b5ca0",
   "metadata": {},
   "source": [
    "## Extract only text content\n",
    "- add .text to BS object\n",
    "- but it has whitespaces"
   ]
  },
  {
   "cell_type": "code",
   "execution_count": 48,
   "id": "8b61d181-6339-4477-baf3-88779f8ce9f7",
   "metadata": {},
   "outputs": [
    {
     "name": "stdout",
     "output_type": "stream",
     "text": [
      "Job No -  1\n",
      "Senior Python Developer \n",
      " Payne, Roberts and Davis \n",
      " \n",
      "        Stewartbury, AA\n",
      "      \n",
      "\n",
      "Job No -  2\n",
      "Energy engineer \n",
      " Vasquez-Davidson \n",
      " \n",
      "        Christopherville, AA\n",
      "      \n",
      "\n"
     ]
    }
   ],
   "source": [
    "i=0\n",
    "for job_element in job_elements[0:2]:\n",
    "    print('Job No - ', i+1)\n",
    "    title = job_element.find('h2',class_ ='title is-5')\n",
    "    coy = job_element.find('h3', class_ ='subtitle is-6 company')\n",
    "    loc = job_element.find('p', class_ ='location')\n",
    "    print(title.text, '\\n', coy.text, '\\n', loc.text)\n",
    "    i += 1\n",
    "    print()"
   ]
  },
  {
   "cell_type": "code",
   "execution_count": 50,
   "id": "173698dc-da85-4058-acca-10b65b1cf7c8",
   "metadata": {},
   "outputs": [
    {
     "name": "stdout",
     "output_type": "stream",
     "text": [
      "Job No -  1\n",
      "Senior Python Developer \t Payne, Roberts and Davis \t Stewartbury, AA\n",
      "\n",
      "Job No -  2\n",
      "Energy engineer \t Vasquez-Davidson \t Christopherville, AA\n",
      "\n",
      "Job No -  3\n",
      "Legal executive \t Jackson, Chambers and Levy \t Port Ericaburgh, AA\n",
      "\n",
      "Job No -  4\n",
      "Fitness centre manager \t Savage-Bradley \t East Seanview, AP\n",
      "\n",
      "Job No -  5\n",
      "Product manager \t Ramirez Inc \t North Jamieview, AP\n",
      "\n"
     ]
    }
   ],
   "source": [
    "i=0\n",
    "for job_element in job_elements[0:5]:\n",
    "    print('Job No - ', i+1)\n",
    "    title = job_element.find('h2',class_ ='title is-5')\n",
    "    coy = job_element.find('h3', class_ ='subtitle is-6 company')\n",
    "    loc = job_element.find('p', class_ ='location')\n",
    "    print(title.text.strip(), '\\t', coy.text.strip(), '\\t', loc.text.strip())\n",
    "    i += 1\n",
    "    print()"
   ]
  },
  {
   "cell_type": "code",
   "execution_count": 66,
   "id": "e124c3f4-1b1a-4776-b03e-cf5f1cfb1571",
   "metadata": {},
   "outputs": [
    {
     "data": {
      "text/html": [
       "<div>\n",
       "<style scoped>\n",
       "    .dataframe tbody tr th:only-of-type {\n",
       "        vertical-align: middle;\n",
       "    }\n",
       "\n",
       "    .dataframe tbody tr th {\n",
       "        vertical-align: top;\n",
       "    }\n",
       "\n",
       "    .dataframe thead th {\n",
       "        text-align: right;\n",
       "    }\n",
       "</style>\n",
       "<table border=\"1\" class=\"dataframe\">\n",
       "  <thead>\n",
       "    <tr style=\"text-align: right;\">\n",
       "      <th></th>\n",
       "      <th>ser</th>\n",
       "      <th>title</th>\n",
       "      <th>coy</th>\n",
       "      <th>loc</th>\n",
       "    </tr>\n",
       "  </thead>\n",
       "  <tbody>\n",
       "    <tr>\n",
       "      <th>1</th>\n",
       "      <td>1.0</td>\n",
       "      <td>Senior Python Developer</td>\n",
       "      <td>Senior Python Developer</td>\n",
       "      <td>Senior Python Developer</td>\n",
       "    </tr>\n",
       "    <tr>\n",
       "      <th>2</th>\n",
       "      <td>2.0</td>\n",
       "      <td>Energy engineer</td>\n",
       "      <td>Energy engineer</td>\n",
       "      <td>Energy engineer</td>\n",
       "    </tr>\n",
       "    <tr>\n",
       "      <th>3</th>\n",
       "      <td>3.0</td>\n",
       "      <td>Legal executive</td>\n",
       "      <td>Legal executive</td>\n",
       "      <td>Legal executive</td>\n",
       "    </tr>\n",
       "    <tr>\n",
       "      <th>4</th>\n",
       "      <td>4.0</td>\n",
       "      <td>Fitness centre manager</td>\n",
       "      <td>Fitness centre manager</td>\n",
       "      <td>Fitness centre manager</td>\n",
       "    </tr>\n",
       "    <tr>\n",
       "      <th>5</th>\n",
       "      <td>5.0</td>\n",
       "      <td>Product manager</td>\n",
       "      <td>Product manager</td>\n",
       "      <td>Product manager</td>\n",
       "    </tr>\n",
       "    <tr>\n",
       "      <th>...</th>\n",
       "      <td>...</td>\n",
       "      <td>...</td>\n",
       "      <td>...</td>\n",
       "      <td>...</td>\n",
       "    </tr>\n",
       "    <tr>\n",
       "      <th>96</th>\n",
       "      <td>96.0</td>\n",
       "      <td>Museum/gallery exhibitions officer</td>\n",
       "      <td>Museum/gallery exhibitions officer</td>\n",
       "      <td>Museum/gallery exhibitions officer</td>\n",
       "    </tr>\n",
       "    <tr>\n",
       "      <th>97</th>\n",
       "      <td>97.0</td>\n",
       "      <td>Radiographer, diagnostic</td>\n",
       "      <td>Radiographer, diagnostic</td>\n",
       "      <td>Radiographer, diagnostic</td>\n",
       "    </tr>\n",
       "    <tr>\n",
       "      <th>98</th>\n",
       "      <td>98.0</td>\n",
       "      <td>Database administrator</td>\n",
       "      <td>Database administrator</td>\n",
       "      <td>Database administrator</td>\n",
       "    </tr>\n",
       "    <tr>\n",
       "      <th>99</th>\n",
       "      <td>99.0</td>\n",
       "      <td>Furniture designer</td>\n",
       "      <td>Furniture designer</td>\n",
       "      <td>Furniture designer</td>\n",
       "    </tr>\n",
       "    <tr>\n",
       "      <th>100</th>\n",
       "      <td>100.0</td>\n",
       "      <td>Ship broker</td>\n",
       "      <td>Ship broker</td>\n",
       "      <td>Ship broker</td>\n",
       "    </tr>\n",
       "  </tbody>\n",
       "</table>\n",
       "<p>100 rows × 4 columns</p>\n",
       "</div>"
      ],
      "text/plain": [
       "       ser                               title  \\\n",
       "1      1.0             Senior Python Developer   \n",
       "2      2.0                     Energy engineer   \n",
       "3      3.0                     Legal executive   \n",
       "4      4.0              Fitness centre manager   \n",
       "5      5.0                     Product manager   \n",
       "..     ...                                 ...   \n",
       "96    96.0  Museum/gallery exhibitions officer   \n",
       "97    97.0            Radiographer, diagnostic   \n",
       "98    98.0              Database administrator   \n",
       "99    99.0                  Furniture designer   \n",
       "100  100.0                         Ship broker   \n",
       "\n",
       "                                    coy                                 loc  \n",
       "1               Senior Python Developer             Senior Python Developer  \n",
       "2                       Energy engineer                     Energy engineer  \n",
       "3                       Legal executive                     Legal executive  \n",
       "4                Fitness centre manager              Fitness centre manager  \n",
       "5                       Product manager                     Product manager  \n",
       "..                                  ...                                 ...  \n",
       "96   Museum/gallery exhibitions officer  Museum/gallery exhibitions officer  \n",
       "97             Radiographer, diagnostic            Radiographer, diagnostic  \n",
       "98               Database administrator              Database administrator  \n",
       "99                   Furniture designer                  Furniture designer  \n",
       "100                         Ship broker                         Ship broker  \n",
       "\n",
       "[100 rows x 4 columns]"
      ]
     },
     "execution_count": 66,
     "metadata": {},
     "output_type": "execute_result"
    }
   ],
   "source": [
    "i = 0\n",
    "df = pd.DataFrame()\n",
    "#for job_element\n",
    "for job_element in job_elements[0:1000]:\n",
    "    title = job_element.find('h2',class_ ='title is-5')\n",
    "    coy = job_element.find('h3', class_ ='subtitle is-6 company')\n",
    "    loc = job_element.find('p', class_ ='location')\n",
    "    #print(title.text.strip(), '\\t', coy.text.strip(), '\\t', loc.text.strip())\n",
    "    i += 1\n",
    "    df.loc[i, 'ser'] = int(i)\n",
    "    df.loc[i, 'title'] = title.text.strip()\n",
    "    df.loc[i, 'coy'] = title.text.strip()\n",
    "    df.loc[i, 'loc'] = title.text.strip()\n",
    "    #df.append([i, title.text.strip()])\n",
    "df"
   ]
  },
  {
   "cell_type": "code",
   "execution_count": 67,
   "id": "c738e991-900f-4faa-9eaf-199b4da0d74c",
   "metadata": {},
   "outputs": [
    {
     "data": {
      "text/html": [
       "<div>\n",
       "<style scoped>\n",
       "    .dataframe tbody tr th:only-of-type {\n",
       "        vertical-align: middle;\n",
       "    }\n",
       "\n",
       "    .dataframe tbody tr th {\n",
       "        vertical-align: top;\n",
       "    }\n",
       "\n",
       "    .dataframe thead th {\n",
       "        text-align: right;\n",
       "    }\n",
       "</style>\n",
       "<table border=\"1\" class=\"dataframe\">\n",
       "  <thead>\n",
       "    <tr style=\"text-align: right;\">\n",
       "      <th></th>\n",
       "      <th>ser</th>\n",
       "      <th>title</th>\n",
       "      <th>coy</th>\n",
       "      <th>loc</th>\n",
       "    </tr>\n",
       "  </thead>\n",
       "  <tbody>\n",
       "    <tr>\n",
       "      <th>count</th>\n",
       "      <td>100.000000</td>\n",
       "      <td>100</td>\n",
       "      <td>100</td>\n",
       "      <td>100</td>\n",
       "    </tr>\n",
       "    <tr>\n",
       "      <th>unique</th>\n",
       "      <td>NaN</td>\n",
       "      <td>92</td>\n",
       "      <td>92</td>\n",
       "      <td>92</td>\n",
       "    </tr>\n",
       "    <tr>\n",
       "      <th>top</th>\n",
       "      <td>NaN</td>\n",
       "      <td>Python Programmer (Entry-Level)</td>\n",
       "      <td>Python Programmer (Entry-Level)</td>\n",
       "      <td>Python Programmer (Entry-Level)</td>\n",
       "    </tr>\n",
       "    <tr>\n",
       "      <th>freq</th>\n",
       "      <td>NaN</td>\n",
       "      <td>3</td>\n",
       "      <td>3</td>\n",
       "      <td>3</td>\n",
       "    </tr>\n",
       "    <tr>\n",
       "      <th>mean</th>\n",
       "      <td>50.500000</td>\n",
       "      <td>NaN</td>\n",
       "      <td>NaN</td>\n",
       "      <td>NaN</td>\n",
       "    </tr>\n",
       "    <tr>\n",
       "      <th>std</th>\n",
       "      <td>29.011492</td>\n",
       "      <td>NaN</td>\n",
       "      <td>NaN</td>\n",
       "      <td>NaN</td>\n",
       "    </tr>\n",
       "    <tr>\n",
       "      <th>min</th>\n",
       "      <td>1.000000</td>\n",
       "      <td>NaN</td>\n",
       "      <td>NaN</td>\n",
       "      <td>NaN</td>\n",
       "    </tr>\n",
       "    <tr>\n",
       "      <th>25%</th>\n",
       "      <td>25.750000</td>\n",
       "      <td>NaN</td>\n",
       "      <td>NaN</td>\n",
       "      <td>NaN</td>\n",
       "    </tr>\n",
       "    <tr>\n",
       "      <th>50%</th>\n",
       "      <td>50.500000</td>\n",
       "      <td>NaN</td>\n",
       "      <td>NaN</td>\n",
       "      <td>NaN</td>\n",
       "    </tr>\n",
       "    <tr>\n",
       "      <th>75%</th>\n",
       "      <td>75.250000</td>\n",
       "      <td>NaN</td>\n",
       "      <td>NaN</td>\n",
       "      <td>NaN</td>\n",
       "    </tr>\n",
       "    <tr>\n",
       "      <th>max</th>\n",
       "      <td>100.000000</td>\n",
       "      <td>NaN</td>\n",
       "      <td>NaN</td>\n",
       "      <td>NaN</td>\n",
       "    </tr>\n",
       "  </tbody>\n",
       "</table>\n",
       "</div>"
      ],
      "text/plain": [
       "               ser                            title  \\\n",
       "count   100.000000                              100   \n",
       "unique         NaN                               92   \n",
       "top            NaN  Python Programmer (Entry-Level)   \n",
       "freq           NaN                                3   \n",
       "mean     50.500000                              NaN   \n",
       "std      29.011492                              NaN   \n",
       "min       1.000000                              NaN   \n",
       "25%      25.750000                              NaN   \n",
       "50%      50.500000                              NaN   \n",
       "75%      75.250000                              NaN   \n",
       "max     100.000000                              NaN   \n",
       "\n",
       "                                    coy                              loc  \n",
       "count                               100                              100  \n",
       "unique                               92                               92  \n",
       "top     Python Programmer (Entry-Level)  Python Programmer (Entry-Level)  \n",
       "freq                                  3                                3  \n",
       "mean                                NaN                              NaN  \n",
       "std                                 NaN                              NaN  \n",
       "min                                 NaN                              NaN  \n",
       "25%                                 NaN                              NaN  \n",
       "50%                                 NaN                              NaN  \n",
       "75%                                 NaN                              NaN  \n",
       "max                                 NaN                              NaN  "
      ]
     },
     "execution_count": 67,
     "metadata": {},
     "output_type": "execute_result"
    }
   ],
   "source": [
    "df.describe(include='all')"
   ]
  },
  {
   "cell_type": "code",
   "execution_count": 68,
   "id": "7b8dd130-67e1-4461-94cb-deb3e0e03ad4",
   "metadata": {},
   "outputs": [
    {
     "data": {
      "text/plain": [
       "(100, 4)"
      ]
     },
     "execution_count": 68,
     "metadata": {},
     "output_type": "execute_result"
    }
   ],
   "source": [
    "df.shape"
   ]
  },
  {
   "cell_type": "markdown",
   "id": "dab81983-08a0-4a83-bb1c-064e394669e7",
   "metadata": {},
   "source": [
    "# search for only python jobs"
   ]
  }
 ],
 "metadata": {
  "kernelspec": {
   "display_name": "Python 3 (ipykernel)",
   "language": "python",
   "name": "python3"
  },
  "language_info": {
   "codemirror_mode": {
    "name": "ipython",
    "version": 3
   },
   "file_extension": ".py",
   "mimetype": "text/x-python",
   "name": "python",
   "nbconvert_exporter": "python",
   "pygments_lexer": "ipython3",
   "version": "3.11.5"
  }
 },
 "nbformat": 4,
 "nbformat_minor": 5
}
