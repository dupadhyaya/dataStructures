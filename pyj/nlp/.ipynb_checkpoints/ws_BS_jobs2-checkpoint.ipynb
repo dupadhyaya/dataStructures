{
 "cells": [
  {
   "cell_type": "markdown",
   "id": "eac94f83-ce1c-40d3-aeda-11778f64f971",
   "metadata": {},
   "source": [
    "# library Beautiful Soup\n",
    "- "
   ]
  },
  {
   "cell_type": "code",
   "execution_count": 94,
   "id": "f66cc93c-49ac-4d03-bdbf-834bcf8bf2c1",
   "metadata": {},
   "outputs": [],
   "source": [
    "import requests\n",
    "import numpy as np\n",
    "import pandas as pd"
   ]
  },
  {
   "cell_type": "markdown",
   "id": "988d360a-fb37-47dd-a925-1f7faf55997f",
   "metadata": {},
   "source": [
    "## Inspect Page Elements\n",
    "- Mac : Control + Options + I\n",
    "- Win : Control + Shift + I"
   ]
  },
  {
   "cell_type": "code",
   "execution_count": 10,
   "id": "b0b4a71a-1da3-4cfa-9999-700e48be6535",
   "metadata": {},
   "outputs": [],
   "source": [
    "# retrieve HTML elements\n",
    "URL = 'https://realpython.github.io/fake-jobs/'\n",
    "page = requests.get(URL)  #get requests and retrieve data"
   ]
  },
  {
   "cell_type": "code",
   "execution_count": 8,
   "id": "35dc7b44-2541-4b2f-8089-dd07034834cc",
   "metadata": {},
   "outputs": [
    {
     "data": {
      "text/plain": [
       "<Response [200]>"
      ]
     },
     "execution_count": 8,
     "metadata": {},
     "output_type": "execute_result"
    }
   ],
   "source": [
    "page"
   ]
  },
  {
   "cell_type": "code",
   "execution_count": 12,
   "id": "60d89071-8e0d-4a43-8b2a-d78df543fc74",
   "metadata": {},
   "outputs": [
    {
     "name": "stdout",
     "output_type": "stream",
     "text": [
      "<!DOCTYPE html>\n",
      "<html>\n",
      "  <head>\n",
      "    <meta charset=\"utf-8\">\n",
      "    <meta name=\"viewport\" content=\"width=\n"
     ]
    }
   ],
   "source": [
    "print(page.text[0:100])  #attribute of page"
   ]
  },
  {
   "cell_type": "raw",
   "id": "5c83759d-12c4-4cf9-98aa-50c720ddf6d2",
   "metadata": {},
   "source": [
    "## Inspect elements\n",
    "- Click on the first job, Right Click on Job Name - Inpsect\n",
    "- Elements seen/ Class Name\n",
    "    - \"<h2 class='title is-5'> Python Developer </h2>\" : contains title of job posting  eg Python Developer\n",
    "    - \"<h3 class='subtitle is-6 company'> TCS <h3>\" : contains name of coy offering the job\n",
    "    - \"<p class='location'> Bengaluru </p> \": contains the location of job"
   ]
  },
  {
   "cell_type": "code",
   "execution_count": 19,
   "id": "20b771a1-44ae-447e-9a6c-5da077cfb990",
   "metadata": {},
   "outputs": [],
   "source": [
    "from bs4 import BeautifulSoup"
   ]
  },
  {
   "cell_type": "code",
   "execution_count": 20,
   "id": "eebfac35-8d64-494e-ba49-6b7fc5913f89",
   "metadata": {},
   "outputs": [
    {
     "data": {
      "text/plain": [
       "'https://realpython.github.io/fake-jobs/'"
      ]
     },
     "execution_count": 20,
     "metadata": {},
     "output_type": "execute_result"
    }
   ],
   "source": [
    "URL"
   ]
  },
  {
   "cell_type": "code",
   "execution_count": 22,
   "id": "fe7c4ca2-c8be-4f17-929a-37bbdc0e1f6d",
   "metadata": {},
   "outputs": [],
   "source": [
    "page = requests.get(URL)\n",
    "soup = BeautifulSoup(page.content, 'html.parser')  #html content extracted from URL\n",
    "#appropriate parser to extact elements and their values"
   ]
  },
  {
   "cell_type": "markdown",
   "id": "a9218910-1199-4ec6-ae50-dff13561a982",
   "metadata": {},
   "source": [
    "## Finding elements by ID\n",
    "- In HTML web pages, every element has id attributed, which makes element uniquely identified on the page\n",
    "- parse page by selecting specific elements by its ID\n",
    "- here\n",
    "    -  look for element with <div id = ....> attribute which has value of Results Container\n",
    "    -  \"< div id =ResultsContainer >\"\n",
    "    -  \"<!--- all the job posting inside this HTML markup >\"\n",
    "    -   \"< /div >\""
   ]
  },
  {
   "cell_type": "code",
   "execution_count": 33,
   "id": "1c6dfaea-21e8-4085-b0fb-ef0b54ac0319",
   "metadata": {},
   "outputs": [
    {
     "data": {
      "text/plain": [
       "'\\n\\n\\n\\n\\n\\n\\n\\n\\n\\n\\nSenior Python Developer\\nPayne, Roberts and Davis\\n\\n\\n\\n\\n        Stewartbury, AA\\n      \\n\\n2021'"
      ]
     },
     "execution_count": 33,
     "metadata": {},
     "output_type": "execute_result"
    }
   ],
   "source": [
    "results = soup.find(id='ResultsContainer')\n",
    "results.text[0:100]"
   ]
  },
  {
   "cell_type": "code",
   "execution_count": 35,
   "id": "7bb962bb-9e21-4498-8222-9666102ba7ec",
   "metadata": {},
   "outputs": [
    {
     "data": {
      "text/plain": [
       "'<div class=\"columns is-multiline\" id=\"ResultsContainer\">\\n <div class=\"column is-half\">\\n  <div class='"
      ]
     },
     "execution_count": 35,
     "metadata": {},
     "output_type": "execute_result"
    }
   ],
   "source": [
    "results.prettify()[0:100]"
   ]
  },
  {
   "cell_type": "markdown",
   "id": "f27a89e4-306e-473b-b69b-b55f12066a94",
   "metadata": {},
   "source": [
    "## find elements by HTML class name\n",
    "- every job is wrapped in <div> element with class = card-content"
   ]
  },
  {
   "cell_type": "code",
   "execution_count": 36,
   "id": "033bfaed-3eaf-48f0-8ce8-93087c844755",
   "metadata": {},
   "outputs": [],
   "source": [
    "job_elements = results.find_all('div' , class_ = 'card-content')\n",
    "#iterable every job card is return"
   ]
  },
  {
   "cell_type": "markdown",
   "id": "d8f8339d-0b85-426b-81af-a4c993dc0dee",
   "metadata": {},
   "source": [
    "i = 0\n",
    "for job_element in job_elements[:10]:\n",
    "    print('...................... Job No ' , str(i))\n",
    "    print(job_elements, end='\\n')\n",
    "    i = i + 1\n",
    "    if (i > 2): break"
   ]
  },
  {
   "cell_type": "code",
   "execution_count": 58,
   "id": "2720c872-6530-4b78-b4a2-eaaae9525010",
   "metadata": {},
   "outputs": [
    {
     "name": "stdout",
     "output_type": "stream",
     "text": [
      "Next Job : 1\n",
      "<h2 class=\"title is-5\">Senior Python Developer</h2>\n",
      "<h3 class=\"subtitle is-6 company\">Payne, Roberts and Davis</h3>\n",
      "\n",
      "Next Job : 2\n",
      "<h2 class=\"title is-5\">Energy engineer</h2>\n",
      "<h3 class=\"subtitle is-6 company\">Vasquez-Davidson</h3>\n",
      "\n",
      "Next Job : 3\n",
      "<h2 class=\"title is-5\">Legal executive</h2>\n",
      "<h3 class=\"subtitle is-6 company\">Jackson, Chambers and Levy</h3>\n",
      "\n",
      "Next Job : 4\n",
      "<h2 class=\"title is-5\">Fitness centre manager</h2>\n",
      "<h3 class=\"subtitle is-6 company\">Savage-Bradley</h3>\n",
      "\n",
      "Next Job : 5\n",
      "<h2 class=\"title is-5\">Product manager</h2>\n",
      "<h3 class=\"subtitle is-6 company\">Ramirez Inc</h3>\n",
      "\n",
      "Next Job : 6\n",
      "<h2 class=\"title is-5\">Medical technical officer</h2>\n",
      "<h3 class=\"subtitle is-6 company\">Rogers-Yates</h3>\n",
      "\n",
      "Next Job : 7\n",
      "<h2 class=\"title is-5\">Physiological scientist</h2>\n",
      "<h3 class=\"subtitle is-6 company\">Kramer-Klein</h3>\n",
      "\n",
      "Next Job : 8\n",
      "<h2 class=\"title is-5\">Textile designer</h2>\n",
      "<h3 class=\"subtitle is-6 company\">Meyers-Johnson</h3>\n",
      "\n",
      "Next Job : 9\n",
      "<h2 class=\"title is-5\">Television floor manager</h2>\n",
      "<h3 class=\"subtitle is-6 company\">Hughes-Williams</h3>\n",
      "\n",
      "Next Job : 10\n",
      "<h2 class=\"title is-5\">Waste management officer</h2>\n",
      "<h3 class=\"subtitle is-6 company\">Jones, Williams and Villa</h3>\n",
      "\n",
      "Next Job : 11\n",
      "<h2 class=\"title is-5\">Software Engineer (Python)</h2>\n",
      "<h3 class=\"subtitle is-6 company\">Garcia PLC</h3>\n",
      "\n",
      "Next Job : 12\n",
      "<h2 class=\"title is-5\">Interpreter</h2>\n",
      "<h3 class=\"subtitle is-6 company\">Gregory and Sons</h3>\n",
      "\n",
      "Next Job : 13\n",
      "<h2 class=\"title is-5\">Architect</h2>\n",
      "<h3 class=\"subtitle is-6 company\">Clark, Garcia and Sosa</h3>\n",
      "\n",
      "Next Job : 14\n",
      "<h2 class=\"title is-5\">Meteorologist</h2>\n",
      "<h3 class=\"subtitle is-6 company\">Bush PLC</h3>\n",
      "\n",
      "Next Job : 15\n",
      "<h2 class=\"title is-5\">Audiological scientist</h2>\n",
      "<h3 class=\"subtitle is-6 company\">Salazar-Meyers</h3>\n",
      "\n",
      "Next Job : 16\n",
      "<h2 class=\"title is-5\">English as a second language teacher</h2>\n",
      "<h3 class=\"subtitle is-6 company\">Parker, Murphy and Brooks</h3>\n",
      "\n",
      "Next Job : 17\n",
      "<h2 class=\"title is-5\">Surgeon</h2>\n",
      "<h3 class=\"subtitle is-6 company\">Cruz-Brown</h3>\n",
      "\n",
      "Next Job : 18\n",
      "<h2 class=\"title is-5\">Equities trader</h2>\n",
      "<h3 class=\"subtitle is-6 company\">Macdonald-Ferguson</h3>\n",
      "\n",
      "Next Job : 19\n",
      "<h2 class=\"title is-5\">Newspaper journalist</h2>\n",
      "<h3 class=\"subtitle is-6 company\">Williams, Peterson and Rojas</h3>\n",
      "\n",
      "Next Job : 20\n",
      "<h2 class=\"title is-5\">Materials engineer</h2>\n",
      "<h3 class=\"subtitle is-6 company\">Smith and Sons</h3>\n",
      "\n",
      "Next Job : 21\n",
      "<h2 class=\"title is-5\">Python Programmer (Entry-Level)</h2>\n",
      "<h3 class=\"subtitle is-6 company\">Moss, Duncan and Allen</h3>\n",
      "\n",
      "Next Job : 22\n",
      "<h2 class=\"title is-5\">Product/process development scientist</h2>\n",
      "<h3 class=\"subtitle is-6 company\">Gomez-Carroll</h3>\n",
      "\n",
      "Next Job : 23\n",
      "<h2 class=\"title is-5\">Scientist, research (maths)</h2>\n",
      "<h3 class=\"subtitle is-6 company\">Manning, Welch and Herring</h3>\n",
      "\n",
      "Next Job : 24\n",
      "<h2 class=\"title is-5\">Ecologist</h2>\n",
      "<h3 class=\"subtitle is-6 company\">Lee, Gutierrez and Brown</h3>\n",
      "\n",
      "Next Job : 25\n",
      "<h2 class=\"title is-5\">Materials engineer</h2>\n",
      "<h3 class=\"subtitle is-6 company\">Davis, Serrano and Cook</h3>\n",
      "\n",
      "Next Job : 26\n",
      "<h2 class=\"title is-5\">Historic buildings inspector/conservation officer</h2>\n",
      "<h3 class=\"subtitle is-6 company\">Smith LLC</h3>\n",
      "\n",
      "Next Job : 27\n",
      "<h2 class=\"title is-5\">Data scientist</h2>\n",
      "<h3 class=\"subtitle is-6 company\">Thomas Group</h3>\n",
      "\n",
      "Next Job : 28\n",
      "<h2 class=\"title is-5\">Psychiatrist</h2>\n",
      "<h3 class=\"subtitle is-6 company\">Silva-King</h3>\n",
      "\n",
      "Next Job : 29\n",
      "<h2 class=\"title is-5\">Structural engineer</h2>\n",
      "<h3 class=\"subtitle is-6 company\">Pierce-Long</h3>\n",
      "\n",
      "Next Job : 30\n",
      "<h2 class=\"title is-5\">Immigration officer</h2>\n",
      "<h3 class=\"subtitle is-6 company\">Walker-Simpson</h3>\n",
      "\n",
      "Next Job : 31\n",
      "<h2 class=\"title is-5\">Python Programmer (Entry-Level)</h2>\n",
      "<h3 class=\"subtitle is-6 company\">Cooper and Sons</h3>\n",
      "\n",
      "Next Job : 32\n",
      "<h2 class=\"title is-5\">Neurosurgeon</h2>\n",
      "<h3 class=\"subtitle is-6 company\">Donovan, Gonzalez and Figueroa</h3>\n",
      "\n",
      "Next Job : 33\n",
      "<h2 class=\"title is-5\">Broadcast engineer</h2>\n",
      "<h3 class=\"subtitle is-6 company\">Morgan, Butler and Bennett</h3>\n",
      "\n",
      "Next Job : 34\n",
      "<h2 class=\"title is-5\">Make</h2>\n",
      "<h3 class=\"subtitle is-6 company\">Snyder-Lee</h3>\n",
      "\n",
      "Next Job : 35\n",
      "<h2 class=\"title is-5\">Nurse, adult</h2>\n",
      "<h3 class=\"subtitle is-6 company\">Harris PLC</h3>\n",
      "\n",
      "Next Job : 36\n",
      "<h2 class=\"title is-5\">Air broker</h2>\n",
      "<h3 class=\"subtitle is-6 company\">Washington PLC</h3>\n",
      "\n",
      "Next Job : 37\n",
      "<h2 class=\"title is-5\">Editor, film/video</h2>\n",
      "<h3 class=\"subtitle is-6 company\">Brown, Price and Campbell</h3>\n",
      "\n",
      "Next Job : 38\n",
      "<h2 class=\"title is-5\">Production assistant, radio</h2>\n",
      "<h3 class=\"subtitle is-6 company\">Mcgee PLC</h3>\n",
      "\n",
      "Next Job : 39\n",
      "<h2 class=\"title is-5\">Engineer, communications</h2>\n",
      "<h3 class=\"subtitle is-6 company\">Dixon Inc</h3>\n",
      "\n",
      "Next Job : 40\n",
      "<h2 class=\"title is-5\">Sales executive</h2>\n",
      "<h3 class=\"subtitle is-6 company\">Thompson, Sheppard and Ward</h3>\n",
      "\n",
      "Next Job : 41\n",
      "<h2 class=\"title is-5\">Software Developer (Python)</h2>\n",
      "<h3 class=\"subtitle is-6 company\">Adams-Brewer</h3>\n",
      "\n",
      "Next Job : 42\n",
      "<h2 class=\"title is-5\">Futures trader</h2>\n",
      "<h3 class=\"subtitle is-6 company\">Schneider-Brady</h3>\n",
      "\n",
      "Next Job : 43\n",
      "<h2 class=\"title is-5\">Tour manager</h2>\n",
      "<h3 class=\"subtitle is-6 company\">Gonzales-Frank</h3>\n",
      "\n",
      "Next Job : 44\n",
      "<h2 class=\"title is-5\">Cytogeneticist</h2>\n",
      "<h3 class=\"subtitle is-6 company\">Smith-Wong</h3>\n",
      "\n",
      "Next Job : 45\n",
      "<h2 class=\"title is-5\">Designer, multimedia</h2>\n",
      "<h3 class=\"subtitle is-6 company\">Pierce-Herrera</h3>\n",
      "\n",
      "Next Job : 46\n",
      "<h2 class=\"title is-5\">Trade union research officer</h2>\n",
      "<h3 class=\"subtitle is-6 company\">Aguilar, Rivera and Quinn</h3>\n",
      "\n",
      "Next Job : 47\n",
      "<h2 class=\"title is-5\">Chemist, analytical</h2>\n",
      "<h3 class=\"subtitle is-6 company\">Lowe, Barnes and Thomas</h3>\n",
      "\n",
      "Next Job : 48\n",
      "<h2 class=\"title is-5\">Programmer, multimedia</h2>\n",
      "<h3 class=\"subtitle is-6 company\">Lewis, Gonzalez and Vasquez</h3>\n",
      "\n",
      "Next Job : 49\n",
      "<h2 class=\"title is-5\">Engineer, broadcasting (operations)</h2>\n",
      "<h3 class=\"subtitle is-6 company\">Taylor PLC</h3>\n",
      "\n",
      "Next Job : 50\n",
      "<h2 class=\"title is-5\">Teacher, primary school</h2>\n",
      "<h3 class=\"subtitle is-6 company\">Oliver, Jones and Ramirez</h3>\n",
      "\n",
      "Next Job : 51\n",
      "<h2 class=\"title is-5\">Python Developer</h2>\n",
      "<h3 class=\"subtitle is-6 company\">Rivera and Sons</h3>\n",
      "\n",
      "Next Job : 52\n",
      "<h2 class=\"title is-5\">Manufacturing systems engineer</h2>\n",
      "<h3 class=\"subtitle is-6 company\">Garcia PLC</h3>\n",
      "\n",
      "Next Job : 53\n",
      "<h2 class=\"title is-5\">Producer, television/film/video</h2>\n",
      "<h3 class=\"subtitle is-6 company\">Johnson, Wells and Kramer</h3>\n",
      "\n",
      "Next Job : 54\n",
      "<h2 class=\"title is-5\">Scientist, forensic</h2>\n",
      "<h3 class=\"subtitle is-6 company\">Gonzalez LLC</h3>\n",
      "\n",
      "Next Job : 55\n",
      "<h2 class=\"title is-5\">Bonds trader</h2>\n",
      "<h3 class=\"subtitle is-6 company\">Morgan, White and Macdonald</h3>\n",
      "\n",
      "Next Job : 56\n",
      "<h2 class=\"title is-5\">Editorial assistant</h2>\n",
      "<h3 class=\"subtitle is-6 company\">Robinson-Fitzpatrick</h3>\n",
      "\n",
      "Next Job : 57\n",
      "<h2 class=\"title is-5\">Photographer</h2>\n",
      "<h3 class=\"subtitle is-6 company\">Waters, Wilson and Hoover</h3>\n",
      "\n",
      "Next Job : 58\n",
      "<h2 class=\"title is-5\">Retail banker</h2>\n",
      "<h3 class=\"subtitle is-6 company\">Hill LLC</h3>\n",
      "\n",
      "Next Job : 59\n",
      "<h2 class=\"title is-5\">Jewellery designer</h2>\n",
      "<h3 class=\"subtitle is-6 company\">Li-Gregory</h3>\n",
      "\n",
      "Next Job : 60\n",
      "<h2 class=\"title is-5\">Ophthalmologist</h2>\n",
      "<h3 class=\"subtitle is-6 company\">Fisher, Ryan and Coleman</h3>\n",
      "\n",
      "Next Job : 61\n",
      "<h2 class=\"title is-5\">Back-End Web Developer (Python, Django)</h2>\n",
      "<h3 class=\"subtitle is-6 company\">Stewart-Alexander</h3>\n",
      "\n",
      "Next Job : 62\n",
      "<h2 class=\"title is-5\">Licensed conveyancer</h2>\n",
      "<h3 class=\"subtitle is-6 company\">Abbott and Sons</h3>\n",
      "\n",
      "Next Job : 63\n",
      "<h2 class=\"title is-5\">Futures trader</h2>\n",
      "<h3 class=\"subtitle is-6 company\">Bryant, Santana and Davenport</h3>\n",
      "\n",
      "Next Job : 64\n",
      "<h2 class=\"title is-5\">Counselling psychologist</h2>\n",
      "<h3 class=\"subtitle is-6 company\">Smith PLC</h3>\n",
      "\n",
      "Next Job : 65\n",
      "<h2 class=\"title is-5\">Insurance underwriter</h2>\n",
      "<h3 class=\"subtitle is-6 company\">Patterson-Singh</h3>\n",
      "\n",
      "Next Job : 66\n",
      "<h2 class=\"title is-5\">Engineer, automotive</h2>\n",
      "<h3 class=\"subtitle is-6 company\">Martinez-Berry</h3>\n",
      "\n",
      "Next Job : 67\n",
      "<h2 class=\"title is-5\">Producer, radio</h2>\n",
      "<h3 class=\"subtitle is-6 company\">May, Taylor and Fisher</h3>\n",
      "\n",
      "Next Job : 68\n",
      "<h2 class=\"title is-5\">Dispensing optician</h2>\n",
      "<h3 class=\"subtitle is-6 company\">Bailey, Owen and Thompson</h3>\n",
      "\n",
      "Next Job : 69\n",
      "<h2 class=\"title is-5\">Designer, fashion/clothing</h2>\n",
      "<h3 class=\"subtitle is-6 company\">Vasquez Ltd</h3>\n",
      "\n",
      "Next Job : 70\n",
      "<h2 class=\"title is-5\">Chartered loss adjuster</h2>\n",
      "<h3 class=\"subtitle is-6 company\">Leblanc LLC</h3>\n",
      "\n",
      "Next Job : 71\n",
      "<h2 class=\"title is-5\">Back-End Web Developer (Python, Django)</h2>\n",
      "<h3 class=\"subtitle is-6 company\">Jackson, Ali and Mckee</h3>\n",
      "\n",
      "Next Job : 72\n",
      "<h2 class=\"title is-5\">Forest/woodland manager</h2>\n",
      "<h3 class=\"subtitle is-6 company\">Blankenship, Knight and Powell</h3>\n",
      "\n",
      "Next Job : 73\n",
      "<h2 class=\"title is-5\">Clinical cytogeneticist</h2>\n",
      "<h3 class=\"subtitle is-6 company\">Patton, Haynes and Jones</h3>\n",
      "\n",
      "Next Job : 74\n",
      "<h2 class=\"title is-5\">Print production planner</h2>\n",
      "<h3 class=\"subtitle is-6 company\">Wood Inc</h3>\n",
      "\n",
      "Next Job : 75\n",
      "<h2 class=\"title is-5\">Systems developer</h2>\n",
      "<h3 class=\"subtitle is-6 company\">Collins Group</h3>\n",
      "\n",
      "Next Job : 76\n",
      "<h2 class=\"title is-5\">Graphic designer</h2>\n",
      "<h3 class=\"subtitle is-6 company\">Flores-Nelson</h3>\n",
      "\n",
      "Next Job : 77\n",
      "<h2 class=\"title is-5\">Writer</h2>\n",
      "<h3 class=\"subtitle is-6 company\">Mitchell, Jones and Olson</h3>\n",
      "\n",
      "Next Job : 78\n",
      "<h2 class=\"title is-5\">Field seismologist</h2>\n",
      "<h3 class=\"subtitle is-6 company\">Howard Group</h3>\n",
      "\n",
      "Next Job : 79\n",
      "<h2 class=\"title is-5\">Chief Strategy Officer</h2>\n",
      "<h3 class=\"subtitle is-6 company\">Kramer-Edwards</h3>\n",
      "\n",
      "Next Job : 80\n",
      "<h2 class=\"title is-5\">Air cabin crew</h2>\n",
      "<h3 class=\"subtitle is-6 company\">Berry-Houston</h3>\n",
      "\n",
      "Next Job : 81\n",
      "<h2 class=\"title is-5\">Python Programmer (Entry-Level)</h2>\n",
      "<h3 class=\"subtitle is-6 company\">Mathews Inc</h3>\n",
      "\n",
      "Next Job : 82\n",
      "<h2 class=\"title is-5\">Warden/ranger</h2>\n",
      "<h3 class=\"subtitle is-6 company\">Riley-Johnson</h3>\n",
      "\n",
      "Next Job : 83\n",
      "<h2 class=\"title is-5\">Sports therapist</h2>\n",
      "<h3 class=\"subtitle is-6 company\">Spencer and Sons</h3>\n",
      "\n",
      "Next Job : 84\n",
      "<h2 class=\"title is-5\">Arts development officer</h2>\n",
      "<h3 class=\"subtitle is-6 company\">Camacho-Sanchez</h3>\n",
      "\n",
      "Next Job : 85\n",
      "<h2 class=\"title is-5\">Printmaker</h2>\n",
      "<h3 class=\"subtitle is-6 company\">Oliver and Sons</h3>\n",
      "\n",
      "Next Job : 86\n",
      "<h2 class=\"title is-5\">Health and safety adviser</h2>\n",
      "<h3 class=\"subtitle is-6 company\">Eaton PLC</h3>\n",
      "\n",
      "Next Job : 87\n",
      "<h2 class=\"title is-5\">Manufacturing systems engineer</h2>\n",
      "<h3 class=\"subtitle is-6 company\">Stanley-Frederick</h3>\n",
      "\n",
      "Next Job : 88\n",
      "<h2 class=\"title is-5\">Programmer, applications</h2>\n",
      "<h3 class=\"subtitle is-6 company\">Bradley LLC</h3>\n",
      "\n",
      "Next Job : 89\n",
      "<h2 class=\"title is-5\">Medical physicist</h2>\n",
      "<h3 class=\"subtitle is-6 company\">Parker, Goodwin and Zavala</h3>\n",
      "\n",
      "Next Job : 90\n",
      "<h2 class=\"title is-5\">Media planner</h2>\n",
      "<h3 class=\"subtitle is-6 company\">Kim-Miles</h3>\n",
      "\n",
      "Next Job : 91\n",
      "<h2 class=\"title is-5\">Software Developer (Python)</h2>\n",
      "<h3 class=\"subtitle is-6 company\">Moreno-Rodriguez</h3>\n",
      "\n",
      "Next Job : 92\n",
      "<h2 class=\"title is-5\">Surveyor, land/geomatics</h2>\n",
      "<h3 class=\"subtitle is-6 company\">Brown-Ortiz</h3>\n",
      "\n",
      "Next Job : 93\n",
      "<h2 class=\"title is-5\">Legal executive</h2>\n",
      "<h3 class=\"subtitle is-6 company\">Hartman PLC</h3>\n",
      "\n",
      "Next Job : 94\n",
      "<h2 class=\"title is-5\">Librarian, academic</h2>\n",
      "<h3 class=\"subtitle is-6 company\">Brooks Inc</h3>\n",
      "\n",
      "Next Job : 95\n",
      "<h2 class=\"title is-5\">Barrister</h2>\n",
      "<h3 class=\"subtitle is-6 company\">Washington-Castillo</h3>\n",
      "\n",
      "Next Job : 96\n",
      "<h2 class=\"title is-5\">Museum/gallery exhibitions officer</h2>\n",
      "<h3 class=\"subtitle is-6 company\">Nguyen, Yoder and Petty</h3>\n",
      "\n",
      "Next Job : 97\n",
      "<h2 class=\"title is-5\">Radiographer, diagnostic</h2>\n",
      "<h3 class=\"subtitle is-6 company\">Holder LLC</h3>\n",
      "\n",
      "Next Job : 98\n",
      "<h2 class=\"title is-5\">Database administrator</h2>\n",
      "<h3 class=\"subtitle is-6 company\">Yates-Ferguson</h3>\n",
      "\n",
      "Next Job : 99\n",
      "<h2 class=\"title is-5\">Furniture designer</h2>\n",
      "<h3 class=\"subtitle is-6 company\">Ortega-Lawrence</h3>\n",
      "\n",
      "Next Job : 100\n",
      "<h2 class=\"title is-5\">Ship broker</h2>\n",
      "<h3 class=\"subtitle is-6 company\">Fuentes, Walls and Castro</h3>\n",
      "\n"
     ]
    }
   ],
   "source": [
    "i=0\n",
    "for job_element in job_elements:\n",
    "    i = i + 1\n",
    "    title_element = job_element.find('h2', class_='title is-5')\n",
    "    coy_element = job_element.find('h3', class_='company')\n",
    "    print('Next Job : '+ str(i))\n",
    "    print(title_element)\n",
    "    print(coy_element)\n",
    "    print()"
   ]
  },
  {
   "cell_type": "code",
   "execution_count": 60,
   "id": "d69ee6bb-fe1a-4c5d-9412-f467ab16b66b",
   "metadata": {},
   "outputs": [
    {
     "name": "stdout",
     "output_type": "stream",
     "text": [
      "Next Job : 1\n",
      "Senior Python Developer\n",
      "Payne, Roberts and Davis\n",
      "\n",
      "Next Job : 2\n",
      "Energy engineer\n",
      "Vasquez-Davidson\n",
      "\n",
      "Next Job : 3\n",
      "Legal executive\n",
      "Jackson, Chambers and Levy\n",
      "\n",
      "Next Job : 4\n",
      "Fitness centre manager\n",
      "Savage-Bradley\n",
      "\n",
      "Next Job : 5\n",
      "Product manager\n",
      "Ramirez Inc\n",
      "\n",
      "Next Job : 6\n",
      "Medical technical officer\n",
      "Rogers-Yates\n"
     ]
    }
   ],
   "source": [
    "i=0\n",
    "for job_element in job_elements:\n",
    "    i = i + 1\n",
    "    title_element = job_element.find('h2', class_='title is-5')\n",
    "    coy_element = job_element.find('h3', class_='company')\n",
    "    print('Next Job : '+ str(i))\n",
    "    print(title_element.text)\n",
    "    print(coy_element.text)\n",
    "    if (i > 5) : break\n",
    "    print()"
   ]
  },
  {
   "cell_type": "code",
   "execution_count": 61,
   "id": "b5cb528c-a55b-4a08-a6c1-747e10553c4b",
   "metadata": {},
   "outputs": [
    {
     "name": "stdout",
     "output_type": "stream",
     "text": [
      "Next Job : 1\n",
      "Senior Python Developer\n",
      "Payne, Roberts and Davis\n",
      "\n",
      "Next Job : 2\n",
      "Energy engineer\n",
      "Vasquez-Davidson\n",
      "\n",
      "Next Job : 3\n",
      "Legal executive\n",
      "Jackson, Chambers and Levy\n",
      "\n",
      "Next Job : 4\n",
      "Fitness centre manager\n",
      "Savage-Bradley\n",
      "\n",
      "Next Job : 5\n",
      "Product manager\n",
      "Ramirez Inc\n",
      "\n",
      "Next Job : 6\n",
      "Medical technical officer\n",
      "Rogers-Yates\n"
     ]
    }
   ],
   "source": [
    "#remove extra WhiteSpaces if any\n",
    "i=0\n",
    "for job_element in job_elements:\n",
    "    i = i + 1\n",
    "    title_element = job_element.find('h2', class_='title is-5')\n",
    "    coy_element = job_element.find('h3', class_='company')\n",
    "    print('Next Job : '+ str(i))\n",
    "    print(title_element.text.strip())\n",
    "    print(coy_element.text.strip())\n",
    "    if (i > 5) : break\n",
    "    print()"
   ]
  },
  {
   "cell_type": "markdown",
   "id": "f03b9537-382b-43bb-9ec6-d3e1e90f854d",
   "metadata": {},
   "source": [
    "## Save the data in dataframe\n",
    "- "
   ]
  },
  {
   "cell_type": "markdown",
   "id": "cee7b5fc-21fc-49c0-920d-d83e2a75df5c",
   "metadata": {},
   "source": [
    "## Find job by name filter\n",
    "-  lambda looks at the text at the end of h2 element\n",
    "-  converts it to lowercase & checks if python substrint occurs\n",
    "-  https://realpython.com/beautiful-soup-web-scraper-python/"
   ]
  },
  {
   "cell_type": "code",
   "execution_count": 64,
   "id": "b7a73e28-818b-4cc0-8416-0db734b12af5",
   "metadata": {},
   "outputs": [],
   "source": [
    "python_jobs = results.find_all('h2', string=lambda text: 'python' in text.lower())"
   ]
  },
  {
   "cell_type": "code",
   "execution_count": 65,
   "id": "8510c94c-3668-4ff3-bf5e-e4f5de6a3bdf",
   "metadata": {},
   "outputs": [
    {
     "data": {
      "text/plain": [
       "[<h2 class=\"title is-5\">Senior Python Developer</h2>,\n",
       " <h2 class=\"title is-5\">Software Engineer (Python)</h2>,\n",
       " <h2 class=\"title is-5\">Python Programmer (Entry-Level)</h2>,\n",
       " <h2 class=\"title is-5\">Python Programmer (Entry-Level)</h2>,\n",
       " <h2 class=\"title is-5\">Software Developer (Python)</h2>,\n",
       " <h2 class=\"title is-5\">Python Developer</h2>,\n",
       " <h2 class=\"title is-5\">Back-End Web Developer (Python, Django)</h2>,\n",
       " <h2 class=\"title is-5\">Back-End Web Developer (Python, Django)</h2>,\n",
       " <h2 class=\"title is-5\">Python Programmer (Entry-Level)</h2>,\n",
       " <h2 class=\"title is-5\">Software Developer (Python)</h2>]"
      ]
     },
     "execution_count": 65,
     "metadata": {},
     "output_type": "execute_result"
    }
   ],
   "source": [
    "python_jobs"
   ]
  },
  {
   "cell_type": "code",
   "execution_count": 66,
   "id": "4136f0a0-c1c6-48a3-9fec-ef41ce9c724c",
   "metadata": {},
   "outputs": [
    {
     "data": {
      "text/plain": [
       "10"
      ]
     },
     "execution_count": 66,
     "metadata": {},
     "output_type": "execute_result"
    }
   ],
   "source": [
    "len(python_jobs)\n",
    "# there is only 1 element of text in the result"
   ]
  },
  {
   "cell_type": "code",
   "execution_count": 76,
   "id": "a36f234f-4639-43fc-9ca1-094b280ee930",
   "metadata": {},
   "outputs": [
    {
     "name": "stdout",
     "output_type": "stream",
     "text": [
      "Next Job : 1\n"
     ]
    },
    {
     "ename": "AttributeError",
     "evalue": "'NoneType' object has no attribute 'text'",
     "output_type": "error",
     "traceback": [
      "\u001b[0;31m---------------------------------------------------------------------------\u001b[0m",
      "\u001b[0;31mAttributeError\u001b[0m                            Traceback (most recent call last)",
      "Cell \u001b[0;32mIn[76], line 8\u001b[0m\n\u001b[1;32m      6\u001b[0m \u001b[38;5;28mprint\u001b[39m(\u001b[38;5;124m'\u001b[39m\u001b[38;5;124mNext Job : \u001b[39m\u001b[38;5;124m'\u001b[39m\u001b[38;5;241m+\u001b[39m \u001b[38;5;28mstr\u001b[39m(i))\n\u001b[1;32m      7\u001b[0m \u001b[38;5;66;03m#print(title_element.text.strip())\u001b[39;00m\n\u001b[0;32m----> 8\u001b[0m \u001b[38;5;28mprint\u001b[39m(coy_element\u001b[38;5;241m.\u001b[39mtext\u001b[38;5;241m.\u001b[39mstrip())\n\u001b[1;32m      9\u001b[0m \u001b[38;5;66;03m#if (i > 5) : break\u001b[39;00m\n\u001b[1;32m     10\u001b[0m \u001b[38;5;28mprint\u001b[39m()\n",
      "\u001b[0;31mAttributeError\u001b[0m: 'NoneType' object has no attribute 'text'"
     ]
    }
   ],
   "source": [
    "i=0\n",
    "for job_element in python_jobs:\n",
    "    i = i + 1\n",
    "    title_element = job_element.find('h2', class_='title')\n",
    "    #coy_element = job_element.find('h3', class_='company')\n",
    "    print('Next Job : '+ str(i))\n",
    "    #print(title_element.text.strip())\n",
    "    print(coy_element.text.strip())\n",
    "    #if (i > 5) : break\n",
    "    print()\n",
    "# error received - read in doc of the link"
   ]
  },
  {
   "cell_type": "code",
   "execution_count": 77,
   "id": "f21c0c3e-1cfb-4e5d-a816-0391a2b37618",
   "metadata": {},
   "outputs": [],
   "source": [
    "# we have to search for python in job title and then go up the parent and access all elements\n"
   ]
  },
  {
   "cell_type": "code",
   "execution_count": 80,
   "id": "985f3108-150b-4210-bad1-18f9bd41ce4e",
   "metadata": {},
   "outputs": [],
   "source": [
    "python_jobs = results.find_all( 'h2', string=lambda text:'python' in text.lower())\n",
    "# down-up hierarchy\n",
    "# results -> h2 elements (search) -> parent (media-content) -> parent(media) -> parent(card-content)"
   ]
  },
  {
   "cell_type": "code",
   "execution_count": 81,
   "id": "be267333-83be-4f23-aa7a-8158034266c5",
   "metadata": {},
   "outputs": [],
   "source": [
    "python_job_elements = [ h2_element.parent.parent.parent for h2_element in python_jobs]\n",
    "# operate on each of h2 title"
   ]
  },
  {
   "cell_type": "code",
   "execution_count": 114,
   "id": "8b51ce87-958c-47c7-b9ec-a16fbb4ff718",
   "metadata": {},
   "outputs": [
    {
     "name": "stdout",
     "output_type": "stream",
     "text": [
      "Job No-1::Senior Python Developer:Payne, Roberts and Davis:Stewartbury, AA\n",
      "Learn::https://www.realpython.com\n",
      "Apply::https://realpython.github.io/fake-jobs/jobs/senior-python-developer-0.html\n",
      "\n",
      "Job No-2::Software Engineer (Python):Garcia PLC:Ericberg, AE\n",
      "Learn::https://www.realpython.com\n",
      "Apply::https://realpython.github.io/fake-jobs/jobs/software-engineer-python-10.html\n",
      "\n",
      "Job No-3::Python Programmer (Entry-Level):Moss, Duncan and Allen:Port Sara, AE\n",
      "Learn::https://www.realpython.com\n",
      "Apply::https://realpython.github.io/fake-jobs/jobs/python-programmer-entry-level-20.html\n",
      "\n",
      "Job No-4::Python Programmer (Entry-Level):Cooper and Sons:West Victor, AE\n",
      "Learn::https://www.realpython.com\n",
      "Apply::https://realpython.github.io/fake-jobs/jobs/python-programmer-entry-level-30.html\n",
      "\n",
      "Job No-5::Software Developer (Python):Adams-Brewer:Brockburgh, AE\n",
      "Learn::https://www.realpython.com\n",
      "Apply::https://realpython.github.io/fake-jobs/jobs/software-developer-python-40.html\n",
      "\n",
      "Job No-6::Python Developer:Rivera and Sons:East Michaelfort, AA\n",
      "Learn::https://www.realpython.com\n",
      "Apply::https://realpython.github.io/fake-jobs/jobs/python-developer-50.html\n"
     ]
    }
   ],
   "source": [
    "#only python jobs : list title, coy etc\n",
    "i=0\n",
    "for job_element in python_job_elements:\n",
    "    i = i + 1\n",
    "    title_element = job_element.find('h2', class_='title')\n",
    "    coy_element = job_element.find('h3', class_='company')\n",
    "    loc_element = job_element.find('p', class_='location') \n",
    "    #print('Next Job : '+ str(i))\n",
    "    #print(title_element.text.strip())\n",
    "    #print(coy_element.text.strip())\n",
    "    #print(loc_element.text.strip())\n",
    "    print('Job No-' + str(i) + '::' + title_element.text.strip() + \":\" + coy_element.text.strip() + \":\" + loc_element.text.strip())\n",
    "    links = job_element.find_all('a')\n",
    "    for link in links:\n",
    "        print(link.text.strip() + \"::\" + link['href'])\n",
    "    if (i > 5) : break\n",
    "    print()"
   ]
  },
  {
   "cell_type": "markdown",
   "id": "4120cd57-8863-4720-a97c-a9e43d83dd25",
   "metadata": {},
   "source": [
    "# adding data into DF\n",
    "- "
   ]
  },
  {
   "cell_type": "code",
   "execution_count": 116,
   "id": "09fc2601-a19b-4240-af98-1a9f40e838a3",
   "metadata": {},
   "outputs": [
    {
     "data": {
      "text/html": [
       "<div>\n",
       "<style scoped>\n",
       "    .dataframe tbody tr th:only-of-type {\n",
       "        vertical-align: middle;\n",
       "    }\n",
       "\n",
       "    .dataframe tbody tr th {\n",
       "        vertical-align: top;\n",
       "    }\n",
       "\n",
       "    .dataframe thead th {\n",
       "        text-align: right;\n",
       "    }\n",
       "</style>\n",
       "<table border=\"1\" class=\"dataframe\">\n",
       "  <thead>\n",
       "    <tr style=\"text-align: right;\">\n",
       "      <th></th>\n",
       "      <th>ser</th>\n",
       "      <th>jobTitle</th>\n",
       "      <th>company</th>\n",
       "      <th>location</th>\n",
       "    </tr>\n",
       "  </thead>\n",
       "  <tbody>\n",
       "    <tr>\n",
       "      <th>1</th>\n",
       "      <td>1</td>\n",
       "      <td>Senior Python Developer</td>\n",
       "      <td>Payne, Roberts and Davis</td>\n",
       "      <td>Stewartbury, AA</td>\n",
       "    </tr>\n",
       "    <tr>\n",
       "      <th>2</th>\n",
       "      <td>2</td>\n",
       "      <td>Software Engineer (Python)</td>\n",
       "      <td>Garcia PLC</td>\n",
       "      <td>Ericberg, AE</td>\n",
       "    </tr>\n",
       "    <tr>\n",
       "      <th>3</th>\n",
       "      <td>3</td>\n",
       "      <td>Python Programmer (Entry-Level)</td>\n",
       "      <td>Moss, Duncan and Allen</td>\n",
       "      <td>Port Sara, AE</td>\n",
       "    </tr>\n",
       "    <tr>\n",
       "      <th>4</th>\n",
       "      <td>4</td>\n",
       "      <td>Python Programmer (Entry-Level)</td>\n",
       "      <td>Cooper and Sons</td>\n",
       "      <td>West Victor, AE</td>\n",
       "    </tr>\n",
       "    <tr>\n",
       "      <th>5</th>\n",
       "      <td>5</td>\n",
       "      <td>Software Developer (Python)</td>\n",
       "      <td>Adams-Brewer</td>\n",
       "      <td>Brockburgh, AE</td>\n",
       "    </tr>\n",
       "    <tr>\n",
       "      <th>6</th>\n",
       "      <td>6</td>\n",
       "      <td>Python Developer</td>\n",
       "      <td>Rivera and Sons</td>\n",
       "      <td>East Michaelfort, AA</td>\n",
       "    </tr>\n",
       "    <tr>\n",
       "      <th>7</th>\n",
       "      <td>7</td>\n",
       "      <td>Back-End Web Developer (Python, Django)</td>\n",
       "      <td>Stewart-Alexander</td>\n",
       "      <td>South Kimberly, AA</td>\n",
       "    </tr>\n",
       "    <tr>\n",
       "      <th>8</th>\n",
       "      <td>8</td>\n",
       "      <td>Back-End Web Developer (Python, Django)</td>\n",
       "      <td>Jackson, Ali and Mckee</td>\n",
       "      <td>New Elizabethside, AA</td>\n",
       "    </tr>\n",
       "    <tr>\n",
       "      <th>9</th>\n",
       "      <td>9</td>\n",
       "      <td>Python Programmer (Entry-Level)</td>\n",
       "      <td>Mathews Inc</td>\n",
       "      <td>Robertborough, AP</td>\n",
       "    </tr>\n",
       "    <tr>\n",
       "      <th>10</th>\n",
       "      <td>10</td>\n",
       "      <td>Software Developer (Python)</td>\n",
       "      <td>Moreno-Rodriguez</td>\n",
       "      <td>Martinezburgh, AE</td>\n",
       "    </tr>\n",
       "  </tbody>\n",
       "</table>\n",
       "</div>"
      ],
      "text/plain": [
       "    ser                                 jobTitle                   company  \\\n",
       "1     1                  Senior Python Developer  Payne, Roberts and Davis   \n",
       "2     2               Software Engineer (Python)                Garcia PLC   \n",
       "3     3          Python Programmer (Entry-Level)    Moss, Duncan and Allen   \n",
       "4     4          Python Programmer (Entry-Level)           Cooper and Sons   \n",
       "5     5              Software Developer (Python)              Adams-Brewer   \n",
       "6     6                         Python Developer           Rivera and Sons   \n",
       "7     7  Back-End Web Developer (Python, Django)         Stewart-Alexander   \n",
       "8     8  Back-End Web Developer (Python, Django)    Jackson, Ali and Mckee   \n",
       "9     9          Python Programmer (Entry-Level)               Mathews Inc   \n",
       "10   10              Software Developer (Python)          Moreno-Rodriguez   \n",
       "\n",
       "                 location  \n",
       "1         Stewartbury, AA  \n",
       "2            Ericberg, AE  \n",
       "3           Port Sara, AE  \n",
       "4         West Victor, AE  \n",
       "5          Brockburgh, AE  \n",
       "6    East Michaelfort, AA  \n",
       "7      South Kimberly, AA  \n",
       "8   New Elizabethside, AA  \n",
       "9       Robertborough, AP  \n",
       "10      Martinezburgh, AE  "
      ]
     },
     "execution_count": 116,
     "metadata": {},
     "output_type": "execute_result"
    }
   ],
   "source": [
    "i=0\n",
    "df = pd.DataFrame(columns =['ser','jobTitle', 'company', 'location'])\n",
    "#df = pd.DataFrame()\n",
    "for job_element in python_job_elements:\n",
    "    i = i + 1\n",
    "    title = job_element.find('h2', class_='title').text.strip()\n",
    "    coy = job_element.find('h3', class_='company').text.strip()\n",
    "    loc = job_element.find('p', class_='location').text.strip()\n",
    "    links = job_element.find_all('a')\n",
    "    dfDict = {'ser':i, 'jobTitle':title, 'company':coy, 'location':loc}\n",
    "    df.loc[i] = dfDict\n",
    "df   "
   ]
  },
  {
   "cell_type": "code",
   "execution_count": 113,
   "id": "c87657c4-5207-4e0e-a90d-ef6eb32ef0e9",
   "metadata": {},
   "outputs": [
    {
     "data": {
      "text/plain": [
       "(10, 4)"
      ]
     },
     "execution_count": 113,
     "metadata": {},
     "output_type": "execute_result"
    }
   ],
   "source": [
    "df.shape"
   ]
  },
  {
   "cell_type": "code",
   "execution_count": null,
   "id": "8a90b969-d924-4e19-8a8e-d18dfd099585",
   "metadata": {},
   "outputs": [],
   "source": []
  }
 ],
 "metadata": {
  "kernelspec": {
   "display_name": "Python 3 (ipykernel)",
   "language": "python",
   "name": "python3"
  },
  "language_info": {
   "codemirror_mode": {
    "name": "ipython",
    "version": 3
   },
   "file_extension": ".py",
   "mimetype": "text/x-python",
   "name": "python",
   "nbconvert_exporter": "python",
   "pygments_lexer": "ipython3",
   "version": "3.11.5"
  }
 },
 "nbformat": 4,
 "nbformat_minor": 5
}
