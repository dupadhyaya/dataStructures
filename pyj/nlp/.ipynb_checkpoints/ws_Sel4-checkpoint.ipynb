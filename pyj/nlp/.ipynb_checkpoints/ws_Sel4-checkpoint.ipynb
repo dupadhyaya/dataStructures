{
 "cells": [
  {
   "cell_type": "markdown",
   "id": "dc2393ae-f0ee-4833-89ae-6bf1ab2101bc",
   "metadata": {},
   "source": [
    "# webScraping - Selinium\n",
    "-  xxx"
   ]
  },
  {
   "cell_type": "code",
   "execution_count": 1,
   "id": "d5605f2b-2e11-4ba4-a921-1b28d9dd4ff8",
   "metadata": {},
   "outputs": [],
   "source": [
    "from selenium import webdriver"
   ]
  },
  {
   "cell_type": "code",
   "execution_count": 8,
   "id": "585ffcf8-874c-42f7-9436-7ebd0fdfafe8",
   "metadata": {},
   "outputs": [],
   "source": [
    "import time\n",
    "import pandas as pd\n",
    "from selenium.webdriver.support.ui import WebDriverWait\n",
    "from selenium.webdriver.common.keys import Keys\n",
    "from selenium.webdriver.common.by import By"
   ]
  },
  {
   "cell_type": "code",
   "execution_count": 3,
   "id": "67210301-3a40-4553-baf6-01c4a7e9f82f",
   "metadata": {},
   "outputs": [],
   "source": [
    "driver = webdriver.Chrome()"
   ]
  },
  {
   "cell_type": "code",
   "execution_count": 4,
   "id": "c40d4304-5643-4116-ad06-ee446db2c77d",
   "metadata": {},
   "outputs": [],
   "source": [
    "url = 'https://new-york.eat24hours.com/restaurants/index.php'"
   ]
  },
  {
   "cell_type": "code",
   "execution_count": 5,
   "id": "f914cf96-f519-47f6-99ad-f8cf83121991",
   "metadata": {},
   "outputs": [],
   "source": [
    "driver.get(url)"
   ]
  },
  {
   "cell_type": "markdown",
   "id": "dcb4db76-683b-409a-89d0-f5969854fcdf",
   "metadata": {},
   "source": [
    "search_area = driver.find_element(By.NAME, 'address_auto_complete')"
   ]
  },
  {
   "cell_type": "code",
   "execution_count": null,
   "id": "a9c5a1d1-6955-405e-8131-af40b1260bb7",
   "metadata": {},
   "outputs": [],
   "source": []
  }
 ],
 "metadata": {
  "kernelspec": {
   "display_name": "Python 3 (ipykernel)",
   "language": "python",
   "name": "python3"
  },
  "language_info": {
   "codemirror_mode": {
    "name": "ipython",
    "version": 3
   },
   "file_extension": ".py",
   "mimetype": "text/x-python",
   "name": "python",
   "nbconvert_exporter": "python",
   "pygments_lexer": "ipython3",
   "version": "3.11.5"
  }
 },
 "nbformat": 4,
 "nbformat_minor": 5
}
