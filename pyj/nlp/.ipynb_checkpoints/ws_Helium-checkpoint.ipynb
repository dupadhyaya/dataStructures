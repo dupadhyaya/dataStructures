{
 "cells": [
  {
   "cell_type": "markdown",
   "id": "a10bff93-31b1-4d93-a19c-b3ec39f931cf",
   "metadata": {},
   "source": [
    "# Helium  for web scraping\n",
    "-  "
   ]
  },
  {
   "cell_type": "code",
   "execution_count": 2,
   "id": "901434c5-0ec7-4cb3-a1c2-c7c42c87799c",
   "metadata": {},
   "outputs": [],
   "source": [
    "#!pip install helium"
   ]
  },
  {
   "cell_type": "code",
   "execution_count": 3,
   "id": "0aa24c22-0409-4356-ba66-7007d7aa9977",
   "metadata": {},
   "outputs": [],
   "source": [
    "from helium import *"
   ]
  },
  {
   "cell_type": "code",
   "execution_count": 5,
   "id": "a3011604-8cde-4e4f-9285-2164aad5ee91",
   "metadata": {},
   "outputs": [
    {
     "data": {
      "text/plain": [
       "<selenium.webdriver.chrome.webdriver.WebDriver (session=\"051bf20d37f7d85a6ea151f704b0a01f\")>"
      ]
     },
     "execution_count": 5,
     "metadata": {},
     "output_type": "execute_result"
    }
   ],
   "source": [
    "start_chrome('github.com/login')"
   ]
  },
  {
   "cell_type": "code",
   "execution_count": 10,
   "id": "68c25a99-9589-49ba-8655-0624e44ae304",
   "metadata": {},
   "outputs": [],
   "source": [
    "write('dupadhyaya', into='Username')"
   ]
  },
  {
   "cell_type": "code",
   "execution_count": 11,
   "id": "7bb79084-a992-4218-beae-61e13099bcda",
   "metadata": {},
   "outputs": [],
   "source": [
    "write('dhiru1966#', into ='Password')"
   ]
  },
  {
   "cell_type": "code",
   "execution_count": 12,
   "id": "78b50af8-79d2-4c58-aafe-cc00a9eee8b6",
   "metadata": {},
   "outputs": [],
   "source": [
    "click('Sign in')"
   ]
  },
  {
   "cell_type": "code",
   "execution_count": null,
   "id": "dfd5b4d9-17f2-4c13-ace0-7e86519df39b",
   "metadata": {},
   "outputs": [],
   "source": []
  },
  {
   "cell_type": "code",
   "execution_count": 13,
   "id": "a76b9504-eb74-40f3-8ad4-496f60c0f190",
   "metadata": {},
   "outputs": [],
   "source": [
    "click('Send SMS')"
   ]
  },
  {
   "cell_type": "code",
   "execution_count": 15,
   "id": "636bdd34-9555-4011-87d8-723fe3e93ae8",
   "metadata": {},
   "outputs": [
    {
     "ename": "LookupError",
     "evalue": "",
     "output_type": "error",
     "traceback": [
      "\u001b[0;31m---------------------------------------------------------------------------\u001b[0m",
      "\u001b[0;31mLookupError\u001b[0m                               Traceback (most recent call last)",
      "Cell \u001b[0;32mIn[15], line 1\u001b[0m\n\u001b[0;32m----> 1\u001b[0m write(\u001b[38;5;124m'\u001b[39m\u001b[38;5;124m343451\u001b[39m\u001b[38;5;124m'\u001b[39m, into \u001b[38;5;241m=\u001b[39m\u001b[38;5;124m'\u001b[39m\u001b[38;5;124msms_top\u001b[39m\u001b[38;5;124m'\u001b[39m)\n",
      "File \u001b[0;32m~/anaconda3/lib/python3.11/site-packages/helium/__init__.py:171\u001b[0m, in \u001b[0;36mwrite\u001b[0;34m(text, into)\u001b[0m\n\u001b[1;32m    155\u001b[0m \u001b[38;5;28;01mdef\u001b[39;00m \u001b[38;5;21mwrite\u001b[39m(text, into\u001b[38;5;241m=\u001b[39m\u001b[38;5;28;01mNone\u001b[39;00m):\n\u001b[1;32m    156\u001b[0m \u001b[38;5;250m\t\u001b[39m\u001b[38;5;124;03m\"\"\"\u001b[39;00m\n\u001b[1;32m    157\u001b[0m \u001b[38;5;124;03m\t:param text: The text to be written.\u001b[39;00m\n\u001b[1;32m    158\u001b[0m \u001b[38;5;124;03m\t:type text: one of str, unicode\u001b[39;00m\n\u001b[0;32m   (...)\u001b[0m\n\u001b[1;32m    169\u001b[0m \u001b[38;5;124;03m\t\twrite(\"Michael\", into=Alert(\"Please enter your name\"))\u001b[39;00m\n\u001b[1;32m    170\u001b[0m \u001b[38;5;124;03m\t\"\"\"\u001b[39;00m\n\u001b[0;32m--> 171\u001b[0m \t_get_api_impl()\u001b[38;5;241m.\u001b[39mwrite_impl(text, into)\n",
      "File \u001b[0;32m~/anaconda3/lib/python3.11/site-packages/helium/_impl/__init__.py:36\u001b[0m, in \u001b[0;36mmight_spawn_window.<locals>.f_decorated\u001b[0;34m(self, *args, **kwargs)\u001b[0m\n\u001b[1;32m     34\u001b[0m \t\u001b[38;5;28;01mreturn\u001b[39;00m f(\u001b[38;5;28mself\u001b[39m, \u001b[38;5;241m*\u001b[39margs, \u001b[38;5;241m*\u001b[39m\u001b[38;5;241m*\u001b[39mkwargs)\n\u001b[1;32m     35\u001b[0m window_handles_before \u001b[38;5;241m=\u001b[39m driver\u001b[38;5;241m.\u001b[39mwindow_handles[:]\n\u001b[0;32m---> 36\u001b[0m result \u001b[38;5;241m=\u001b[39m f(\u001b[38;5;28mself\u001b[39m, \u001b[38;5;241m*\u001b[39margs, \u001b[38;5;241m*\u001b[39m\u001b[38;5;241m*\u001b[39mkwargs)\n\u001b[1;32m     37\u001b[0m \u001b[38;5;66;03m# As above, don't access .window_handles in IE if an alert is present:\u001b[39;00m\n\u001b[1;32m     38\u001b[0m \u001b[38;5;28;01mif\u001b[39;00m \u001b[38;5;129;01mnot\u001b[39;00m (driver\u001b[38;5;241m.\u001b[39mis_ie() \u001b[38;5;129;01mand\u001b[39;00m AlertImpl(driver)\u001b[38;5;241m.\u001b[39mexists()):\n",
      "File \u001b[0;32m~/anaconda3/lib/python3.11/site-packages/helium/_impl/__init__.py:55\u001b[0m, in \u001b[0;36mhandle_unexpected_alert.<locals>.f_decorated\u001b[0;34m(*args, **kwargs)\u001b[0m\n\u001b[1;32m     53\u001b[0m \u001b[38;5;28;01mdef\u001b[39;00m \u001b[38;5;21mf_decorated\u001b[39m(\u001b[38;5;241m*\u001b[39margs, \u001b[38;5;241m*\u001b[39m\u001b[38;5;241m*\u001b[39mkwargs):\n\u001b[1;32m     54\u001b[0m \t\u001b[38;5;28;01mtry\u001b[39;00m:\n\u001b[0;32m---> 55\u001b[0m \t\t\u001b[38;5;28;01mreturn\u001b[39;00m f(\u001b[38;5;241m*\u001b[39margs, \u001b[38;5;241m*\u001b[39m\u001b[38;5;241m*\u001b[39mkwargs)\n\u001b[1;32m     56\u001b[0m \t\u001b[38;5;28;01mexcept\u001b[39;00m UnexpectedAlertPresentException:\n\u001b[1;32m     57\u001b[0m \t\t\u001b[38;5;28;01mraise\u001b[39;00m UnexpectedAlertPresentException(\n\u001b[1;32m     58\u001b[0m \t\t\t\u001b[38;5;124m\"\u001b[39m\u001b[38;5;124mThis command is not supported when an alert is present. To \u001b[39m\u001b[38;5;124m\"\u001b[39m\n\u001b[1;32m     59\u001b[0m \t\t\t\u001b[38;5;124m\"\u001b[39m\u001b[38;5;124maccept the alert (this usually corresponds to clicking \u001b[39m\u001b[38;5;124m'\u001b[39m\u001b[38;5;124mOK\u001b[39m\u001b[38;5;124m'\u001b[39m\u001b[38;5;124m) \u001b[39m\u001b[38;5;124m\"\u001b[39m\n\u001b[0;32m   (...)\u001b[0m\n\u001b[1;32m     63\u001b[0m \t\t\t\u001b[38;5;124m\"\u001b[39m\u001b[38;5;124mEg.: `write(\u001b[39m\u001b[38;5;124m'\u001b[39m\u001b[38;5;124mhi there!\u001b[39m\u001b[38;5;124m'\u001b[39m\u001b[38;5;124m)`.\u001b[39m\u001b[38;5;124m\"\u001b[39m\n\u001b[1;32m     64\u001b[0m \t\t)\n",
      "File \u001b[0;32m~/anaconda3/lib/python3.11/site-packages/helium/_impl/__init__.py:145\u001b[0m, in \u001b[0;36mAPIImpl.write_impl\u001b[0;34m(self, text, into)\u001b[0m\n\u001b[1;32m    143\u001b[0m \t\u001b[38;5;28;01mif\u001b[39;00m \u001b[38;5;28misinstance\u001b[39m(into, GUIElement):\n\u001b[1;32m    144\u001b[0m \t\tinto \u001b[38;5;241m=\u001b[39m into\u001b[38;5;241m.\u001b[39m_impl\n\u001b[0;32m--> 145\u001b[0m \u001b[38;5;28mself\u001b[39m\u001b[38;5;241m.\u001b[39m_handle_alerts(\n\u001b[1;32m    146\u001b[0m \t\u001b[38;5;28mself\u001b[39m\u001b[38;5;241m.\u001b[39m_write_no_alert, \u001b[38;5;28mself\u001b[39m\u001b[38;5;241m.\u001b[39m_write_with_alert, text, into\u001b[38;5;241m=\u001b[39minto\n\u001b[1;32m    147\u001b[0m )\n",
      "File \u001b[0;32m~/anaconda3/lib/python3.11/site-packages/helium/_impl/__init__.py:170\u001b[0m, in \u001b[0;36mAPIImpl._handle_alerts\u001b[0;34m(self, no_alert, with_alert, *args, **kwargs)\u001b[0m\n\u001b[1;32m    168\u001b[0m driver \u001b[38;5;241m=\u001b[39m \u001b[38;5;28mself\u001b[39m\u001b[38;5;241m.\u001b[39mrequire_driver()\n\u001b[1;32m    169\u001b[0m \u001b[38;5;28;01mif\u001b[39;00m \u001b[38;5;129;01mnot\u001b[39;00m AlertImpl(driver)\u001b[38;5;241m.\u001b[39mexists():\n\u001b[0;32m--> 170\u001b[0m \t\u001b[38;5;28;01mreturn\u001b[39;00m no_alert(\u001b[38;5;241m*\u001b[39margs, \u001b[38;5;241m*\u001b[39m\u001b[38;5;241m*\u001b[39mkwargs)\n\u001b[1;32m    171\u001b[0m \u001b[38;5;28;01mreturn\u001b[39;00m with_alert(\u001b[38;5;241m*\u001b[39margs, \u001b[38;5;241m*\u001b[39m\u001b[38;5;241m*\u001b[39mkwargs)\n",
      "File \u001b[0;32m~/anaconda3/lib/python3.11/site-packages/helium/_impl/__init__.py:156\u001b[0m, in \u001b[0;36mAPIImpl._write_no_alert\u001b[0;34m(self, text, into)\u001b[0m\n\u001b[1;32m    154\u001b[0m \t\t\telt\u001b[38;5;241m.\u001b[39mclear()\n\u001b[1;32m    155\u001b[0m \t\telt\u001b[38;5;241m.\u001b[39msend_keys(text)\n\u001b[0;32m--> 156\u001b[0m \t\u001b[38;5;28mself\u001b[39m\u001b[38;5;241m.\u001b[39m_manipulate(into, _write)\n\u001b[1;32m    157\u001b[0m \u001b[38;5;28;01melse\u001b[39;00m:\n\u001b[1;32m    158\u001b[0m \t\u001b[38;5;28mself\u001b[39m\u001b[38;5;241m.\u001b[39mrequire_driver()\u001b[38;5;241m.\u001b[39mswitch_to\u001b[38;5;241m.\u001b[39mactive_element\u001b[38;5;241m.\u001b[39msend_keys(text)\n",
      "File \u001b[0;32m~/anaconda3/lib/python3.11/site-packages/helium/_impl/__init__.py:280\u001b[0m, in \u001b[0;36mAPIImpl._manipulate\u001b[0;34m(self, gui_or_web_elt, action)\u001b[0m\n\u001b[1;32m    277\u001b[0m driver \u001b[38;5;241m=\u001b[39m \u001b[38;5;28mself\u001b[39m\u001b[38;5;241m.\u001b[39mrequire_driver()\n\u001b[1;32m    278\u001b[0m \u001b[38;5;28;01mif\u001b[39;00m \u001b[38;5;28mhasattr\u001b[39m(gui_or_web_elt, \u001b[38;5;124m'\u001b[39m\u001b[38;5;124mperform\u001b[39m\u001b[38;5;124m'\u001b[39m) \\\n\u001b[1;32m    279\u001b[0m \t\u001b[38;5;129;01mand\u001b[39;00m \u001b[38;5;28mcallable\u001b[39m(gui_or_web_elt\u001b[38;5;241m.\u001b[39mperform):\n\u001b[0;32m--> 280\u001b[0m \tdriver\u001b[38;5;241m.\u001b[39mlast_manipulated_element \u001b[38;5;241m=\u001b[39m gui_or_web_elt\u001b[38;5;241m.\u001b[39mperform(action)\n\u001b[1;32m    281\u001b[0m \u001b[38;5;28;01melse\u001b[39;00m:\n\u001b[1;32m    282\u001b[0m \t\u001b[38;5;28;01mif\u001b[39;00m \u001b[38;5;28misinstance\u001b[39m(gui_or_web_elt, WebElement):\n",
      "File \u001b[0;32m~/anaconda3/lib/python3.11/site-packages/helium/_impl/__init__.py:627\u001b[0m, in \u001b[0;36mGUIElementImpl.perform\u001b[0;34m(self, action)\u001b[0m\n\u001b[1;32m    625\u001b[0m \u001b[38;5;28;01mif\u001b[39;00m result \u001b[38;5;129;01mis\u001b[39;00m \u001b[38;5;129;01mnot\u001b[39;00m \u001b[38;5;28;01mNone\u001b[39;00m:\n\u001b[1;32m    626\u001b[0m \t\u001b[38;5;28;01mreturn\u001b[39;00m result\n\u001b[0;32m--> 627\u001b[0m \u001b[38;5;28;01mraise\u001b[39;00m \u001b[38;5;167;01mLookupError\u001b[39;00m()\n",
      "\u001b[0;31mLookupError\u001b[0m: "
     ]
    }
   ],
   "source": [
    "write('343451', into ='sms_top')"
   ]
  },
  {
   "cell_type": "code",
   "execution_count": null,
   "id": "114bba71-42bc-4792-9e79-2e26ab588a2d",
   "metadata": {},
   "outputs": [],
   "source": []
  }
 ],
 "metadata": {
  "kernelspec": {
   "display_name": "Python 3 (ipykernel)",
   "language": "python",
   "name": "python3"
  },
  "language_info": {
   "codemirror_mode": {
    "name": "ipython",
    "version": 3
   },
   "file_extension": ".py",
   "mimetype": "text/x-python",
   "name": "python",
   "nbconvert_exporter": "python",
   "pygments_lexer": "ipython3",
   "version": "3.11.5"
  }
 },
 "nbformat": 4,
 "nbformat_minor": 5
}
