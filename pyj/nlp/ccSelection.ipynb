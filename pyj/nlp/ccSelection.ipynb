{
 "cells": [
  {
   "cell_type": "markdown",
   "id": "c9e243f3-8a35-4840-aaaa-daf1e77fde06",
   "metadata": {},
   "source": [
    "# CSS Selection Method"
   ]
  },
  {
   "cell_type": "code",
   "execution_count": 1,
   "id": "e52dc720-c00e-4c7a-a14a-ee055f44810d",
   "metadata": {},
   "outputs": [],
   "source": [
    "from selenium import webdriver\n",
    "from selenium.webdriver.common.by import By"
   ]
  },
  {
   "cell_type": "code",
   "execution_count": null,
   "id": "3a18469d-b3e9-47b6-b639-6b3b7596daa1",
   "metadata": {},
   "outputs": [],
   "source": [
    "DRIVER_PATH = '/path/to/chromedriver'\n",
    "driver = webdriver.Chrome(executable_path=DRIVER_PATH)"
   ]
  },
  {
   "cell_type": "code",
   "execution_count": null,
   "id": "8840145f-829e-407a-a30a-5c257a9873a5",
   "metadata": {},
   "outputs": [],
   "source": [
    "\n",
    "\n",
    "\n",
    "\n",
    "# Open Scrapingbee's website\n",
    "driver.get(\"http://www.scrapingbee.com\")\n",
    "\n",
    "# Get the first h1 element using find_element\n",
    "h1 = driver.find_element(By.CSS_SELECTOR, \"h1\")\n",
    "\n",
    "print(h1.text)\n",
    "# Output: 'Tired of getting blocked while scraping the web?'\n",
    "\n",
    "# Get the first h1 element with the class of mb-33\n",
    "h1 = driver.find_element(By.CSS_SELECTOR, \"h1.mb-33\")\n",
    "\n",
    "print(h1.text)\n",
    "# Output: 'Tired of getting blocked while scraping the web?'\n"
   ]
  }
 ],
 "metadata": {
  "kernelspec": {
   "display_name": "Python 3 (ipykernel)",
   "language": "python",
   "name": "python3"
  },
  "language_info": {
   "codemirror_mode": {
    "name": "ipython",
    "version": 3
   },
   "file_extension": ".py",
   "mimetype": "text/x-python",
   "name": "python",
   "nbconvert_exporter": "python",
   "pygments_lexer": "ipython3",
   "version": "3.11.5"
  }
 },
 "nbformat": 4,
 "nbformat_minor": 5
}
