{
 "cells": [
  {
   "cell_type": "markdown",
   "id": "c9e243f3-8a35-4840-aaaa-daf1e77fde06",
   "metadata": {},
   "source": [
    "# CSS Selection Method"
   ]
  },
  {
   "cell_type": "code",
   "execution_count": 72,
   "id": "e52dc720-c00e-4c7a-a14a-ee055f44810d",
   "metadata": {},
   "outputs": [],
   "source": [
    "from selenium import webdriver\n",
    "from selenium.webdriver.common.by import By\n",
    "import time"
   ]
  },
  {
   "cell_type": "code",
   "execution_count": 73,
   "id": "3a18469d-b3e9-47b6-b639-6b3b7596daa1",
   "metadata": {},
   "outputs": [],
   "source": [
    "driver = webdriver.Chrome()"
   ]
  },
  {
   "cell_type": "code",
   "execution_count": 3,
   "id": "8840145f-829e-407a-a30a-5c257a9873a5",
   "metadata": {},
   "outputs": [],
   "source": [
    "# Open Scrapingbee's website\n",
    "#driver.get(\"http://www.scrapingbee.com\")"
   ]
  },
  {
   "cell_type": "code",
   "execution_count": 74,
   "id": "3ae0f65d-df6b-4ce9-a4b3-950ef34024df",
   "metadata": {},
   "outputs": [],
   "source": [
    "url1 ='https://forms.gle/e1dQcYiNNGC6wHfPA'"
   ]
  },
  {
   "cell_type": "code",
   "execution_count": 75,
   "id": "9d53f597-c052-4fac-b2db-0e62dd743e02",
   "metadata": {},
   "outputs": [],
   "source": [
    "driver.get(url1)"
   ]
  },
  {
   "cell_type": "code",
   "execution_count": 30,
   "id": "9da472b4-4547-4aaf-94c7-e35a2a252236",
   "metadata": {},
   "outputs": [],
   "source": [
    "driver.maximize_window()\n",
    "time.sleep(3)"
   ]
  },
  {
   "cell_type": "code",
   "execution_count": 76,
   "id": "2d895bd0-acdb-4a55-b018-100e780ffc5e",
   "metadata": {},
   "outputs": [],
   "source": [
    "contents1 = driver.find_element(By.CLASS_NAME, 'Uc2NEf')"
   ]
  },
  {
   "cell_type": "code",
   "execution_count": 77,
   "id": "b515c838-8269-4dd8-b691-0b675c092d9f",
   "metadata": {},
   "outputs": [
    {
     "data": {
      "text/plain": [
       "<selenium.webdriver.remote.webelement.WebElement (session=\"d035ce926dad0b5c32af43942c8f34cc\", element=\"f.73BD6577CDA6D80AA9C752A060CB2D77.d.6480B4E5849ECB552A67F3D80533183D.e.16\")>"
      ]
     },
     "execution_count": 77,
     "metadata": {},
     "output_type": "execute_result"
    }
   ],
   "source": [
    "contents1"
   ]
  },
  {
   "cell_type": "code",
   "execution_count": 33,
   "id": "59cea57c-479d-4879-87f3-65c007e015a3",
   "metadata": {},
   "outputs": [],
   "source": [
    "contents2 = driver.find_element(By.CSS_SELECTOR , '.Uc2NEf')"
   ]
  },
  {
   "cell_type": "code",
   "execution_count": 34,
   "id": "f4ffd7b4-ab29-4807-af95-13bbdaab88c4",
   "metadata": {},
   "outputs": [
    {
     "data": {
      "text/plain": [
       "<selenium.webdriver.remote.webelement.WebElement (session=\"4409bb828ca7b1fd0346c43061289bae\", element=\"f.DDB8B565343BA1ED1E39EED7F25FD61D.d.242824AF1DFBF25D388FCCDBD9739B1A.e.16\")>"
      ]
     },
     "execution_count": 34,
     "metadata": {},
     "output_type": "execute_result"
    }
   ],
   "source": [
    "contents2"
   ]
  },
  {
   "cell_type": "code",
   "execution_count": null,
   "id": "9cbdc01b-119e-4104-98a2-560dac66165d",
   "metadata": {},
   "outputs": [],
   "source": []
  },
  {
   "cell_type": "markdown",
   "id": "fb428ccc-dbfc-4e1f-be56-295c35fdcac9",
   "metadata": {},
   "source": [
    "#xpath\n",
    "#/html/body/div\n",
    "#/html/body/div\n",
    "contents3 = driver.find_element(By.XPATH , \"//*[class='.Uc2NEf'\")"
   ]
  },
  {
   "cell_type": "code",
   "execution_count": 36,
   "id": "a309303d-1fca-4a9f-a884-1fd347d5965b",
   "metadata": {},
   "outputs": [],
   "source": [
    "head1 = driver.find_element(By.CLASS_NAME,'HB1eCd-UMrnmb')"
   ]
  },
  {
   "cell_type": "code",
   "execution_count": 37,
   "id": "7d0df304-2962-4ce0-89bc-5388a5934733",
   "metadata": {},
   "outputs": [
    {
     "data": {
      "text/plain": [
       "<selenium.webdriver.remote.webelement.WebElement (session=\"4409bb828ca7b1fd0346c43061289bae\", element=\"f.DDB8B565343BA1ED1E39EED7F25FD61D.d.242824AF1DFBF25D388FCCDBD9739B1A.e.17\")>"
      ]
     },
     "execution_count": 37,
     "metadata": {},
     "output_type": "execute_result"
    }
   ],
   "source": [
    "head1"
   ]
  },
  {
   "cell_type": "code",
   "execution_count": 39,
   "id": "c0a92b75-361f-460b-86e2-92de51f4ca72",
   "metadata": {},
   "outputs": [
    {
     "data": {
      "text/plain": [
       "<selenium.webdriver.remote.webelement.WebElement (session=\"4409bb828ca7b1fd0346c43061289bae\", element=\"f.DDB8B565343BA1ED1E39EED7F25FD61D.d.242824AF1DFBF25D388FCCDBD9739B1A.e.18\")>"
      ]
     },
     "execution_count": 39,
     "metadata": {},
     "output_type": "execute_result"
    }
   ],
   "source": [
    "driver.find_element(By.TAG_NAME, 'head')"
   ]
  },
  {
   "cell_type": "code",
   "execution_count": 40,
   "id": "24f48dbd-f85b-4868-bf33-565074dd4e15",
   "metadata": {},
   "outputs": [
    {
     "data": {
      "text/plain": [
       "<selenium.webdriver.remote.webelement.WebElement (session=\"4409bb828ca7b1fd0346c43061289bae\", element=\"f.DDB8B565343BA1ED1E39EED7F25FD61D.d.242824AF1DFBF25D388FCCDBD9739B1A.e.335\")>"
      ]
     },
     "execution_count": 40,
     "metadata": {},
     "output_type": "execute_result"
    }
   ],
   "source": [
    "driver.find_element(By.TAG_NAME, 'title')"
   ]
  },
  {
   "cell_type": "code",
   "execution_count": 44,
   "id": "269f55ad-36ca-43ac-8a64-39e155b9c474",
   "metadata": {},
   "outputs": [
    {
     "data": {
      "text/plain": [
       "''"
      ]
     },
     "execution_count": 44,
     "metadata": {},
     "output_type": "execute_result"
    }
   ],
   "source": [
    "driver.find_element(By.TAG_NAME, 'title').text"
   ]
  },
  {
   "cell_type": "code",
   "execution_count": 45,
   "id": "70608ea6-38fa-40f8-bc9b-dd5384a50e21",
   "metadata": {},
   "outputs": [
    {
     "data": {
      "text/plain": [
       "<selenium.webdriver.remote.webelement.WebElement (session=\"4409bb828ca7b1fd0346c43061289bae\", element=\"f.DDB8B565343BA1ED1E39EED7F25FD61D.d.242824AF1DFBF25D388FCCDBD9739B1A.e.334\")>"
      ]
     },
     "execution_count": 45,
     "metadata": {},
     "output_type": "execute_result"
    }
   ],
   "source": [
    "driver.find_element(By.TAG_NAME, 'link')"
   ]
  },
  {
   "cell_type": "code",
   "execution_count": 46,
   "id": "ecec1ea1-28e1-4bc7-a41a-16ba7bd030a8",
   "metadata": {},
   "outputs": [
    {
     "data": {
      "text/plain": [
       "[<selenium.webdriver.remote.webelement.WebElement (session=\"4409bb828ca7b1fd0346c43061289bae\", element=\"f.DDB8B565343BA1ED1E39EED7F25FD61D.d.242824AF1DFBF25D388FCCDBD9739B1A.e.334\")>,\n",
       " <selenium.webdriver.remote.webelement.WebElement (session=\"4409bb828ca7b1fd0346c43061289bae\", element=\"f.DDB8B565343BA1ED1E39EED7F25FD61D.d.242824AF1DFBF25D388FCCDBD9739B1A.e.163\")>,\n",
       " <selenium.webdriver.remote.webelement.WebElement (session=\"4409bb828ca7b1fd0346c43061289bae\", element=\"f.DDB8B565343BA1ED1E39EED7F25FD61D.d.242824AF1DFBF25D388FCCDBD9739B1A.e.160\")>,\n",
       " <selenium.webdriver.remote.webelement.WebElement (session=\"4409bb828ca7b1fd0346c43061289bae\", element=\"f.DDB8B565343BA1ED1E39EED7F25FD61D.d.242824AF1DFBF25D388FCCDBD9739B1A.e.161\")>,\n",
       " <selenium.webdriver.remote.webelement.WebElement (session=\"4409bb828ca7b1fd0346c43061289bae\", element=\"f.DDB8B565343BA1ED1E39EED7F25FD61D.d.242824AF1DFBF25D388FCCDBD9739B1A.e.159\")>,\n",
       " <selenium.webdriver.remote.webelement.WebElement (session=\"4409bb828ca7b1fd0346c43061289bae\", element=\"f.DDB8B565343BA1ED1E39EED7F25FD61D.d.242824AF1DFBF25D388FCCDBD9739B1A.e.346\")>,\n",
       " <selenium.webdriver.remote.webelement.WebElement (session=\"4409bb828ca7b1fd0346c43061289bae\", element=\"f.DDB8B565343BA1ED1E39EED7F25FD61D.d.242824AF1DFBF25D388FCCDBD9739B1A.e.347\")>,\n",
       " <selenium.webdriver.remote.webelement.WebElement (session=\"4409bb828ca7b1fd0346c43061289bae\", element=\"f.DDB8B565343BA1ED1E39EED7F25FD61D.d.242824AF1DFBF25D388FCCDBD9739B1A.e.348\")>]"
      ]
     },
     "execution_count": 46,
     "metadata": {},
     "output_type": "execute_result"
    }
   ],
   "source": [
    "driver.find_elements(By.TAG_NAME, 'link')"
   ]
  },
  {
   "cell_type": "code",
   "execution_count": 49,
   "id": "1ace507f-fdca-4a95-8469-91c48fea1775",
   "metadata": {},
   "outputs": [
    {
     "data": {
      "text/plain": [
       "[<selenium.webdriver.remote.webelement.WebElement (session=\"4409bb828ca7b1fd0346c43061289bae\", element=\"f.DDB8B565343BA1ED1E39EED7F25FD61D.d.242824AF1DFBF25D388FCCDBD9739B1A.e.341\")>,\n",
       " <selenium.webdriver.remote.webelement.WebElement (session=\"4409bb828ca7b1fd0346c43061289bae\", element=\"f.DDB8B565343BA1ED1E39EED7F25FD61D.d.242824AF1DFBF25D388FCCDBD9739B1A.e.342\")>,\n",
       " <selenium.webdriver.remote.webelement.WebElement (session=\"4409bb828ca7b1fd0346c43061289bae\", element=\"f.DDB8B565343BA1ED1E39EED7F25FD61D.d.242824AF1DFBF25D388FCCDBD9739B1A.e.349\")>,\n",
       " <selenium.webdriver.remote.webelement.WebElement (session=\"4409bb828ca7b1fd0346c43061289bae\", element=\"f.DDB8B565343BA1ED1E39EED7F25FD61D.d.242824AF1DFBF25D388FCCDBD9739B1A.e.350\")>,\n",
       " <selenium.webdriver.remote.webelement.WebElement (session=\"4409bb828ca7b1fd0346c43061289bae\", element=\"f.DDB8B565343BA1ED1E39EED7F25FD61D.d.242824AF1DFBF25D388FCCDBD9739B1A.e.354\")>,\n",
       " <selenium.webdriver.remote.webelement.WebElement (session=\"4409bb828ca7b1fd0346c43061289bae\", element=\"f.DDB8B565343BA1ED1E39EED7F25FD61D.d.242824AF1DFBF25D388FCCDBD9739B1A.e.355\")>,\n",
       " <selenium.webdriver.remote.webelement.WebElement (session=\"4409bb828ca7b1fd0346c43061289bae\", element=\"f.DDB8B565343BA1ED1E39EED7F25FD61D.d.242824AF1DFBF25D388FCCDBD9739B1A.e.356\")>,\n",
       " <selenium.webdriver.remote.webelement.WebElement (session=\"4409bb828ca7b1fd0346c43061289bae\", element=\"f.DDB8B565343BA1ED1E39EED7F25FD61D.d.242824AF1DFBF25D388FCCDBD9739B1A.e.357\")>,\n",
       " <selenium.webdriver.remote.webelement.WebElement (session=\"4409bb828ca7b1fd0346c43061289bae\", element=\"f.DDB8B565343BA1ED1E39EED7F25FD61D.d.242824AF1DFBF25D388FCCDBD9739B1A.e.358\")>,\n",
       " <selenium.webdriver.remote.webelement.WebElement (session=\"4409bb828ca7b1fd0346c43061289bae\", element=\"f.DDB8B565343BA1ED1E39EED7F25FD61D.d.242824AF1DFBF25D388FCCDBD9739B1A.e.359\")>,\n",
       " <selenium.webdriver.remote.webelement.WebElement (session=\"4409bb828ca7b1fd0346c43061289bae\", element=\"f.DDB8B565343BA1ED1E39EED7F25FD61D.d.242824AF1DFBF25D388FCCDBD9739B1A.e.360\")>,\n",
       " <selenium.webdriver.remote.webelement.WebElement (session=\"4409bb828ca7b1fd0346c43061289bae\", element=\"f.DDB8B565343BA1ED1E39EED7F25FD61D.d.242824AF1DFBF25D388FCCDBD9739B1A.e.361\")>,\n",
       " <selenium.webdriver.remote.webelement.WebElement (session=\"4409bb828ca7b1fd0346c43061289bae\", element=\"f.DDB8B565343BA1ED1E39EED7F25FD61D.d.242824AF1DFBF25D388FCCDBD9739B1A.e.362\")>,\n",
       " <selenium.webdriver.remote.webelement.WebElement (session=\"4409bb828ca7b1fd0346c43061289bae\", element=\"f.DDB8B565343BA1ED1E39EED7F25FD61D.d.242824AF1DFBF25D388FCCDBD9739B1A.e.164\")>,\n",
       " <selenium.webdriver.remote.webelement.WebElement (session=\"4409bb828ca7b1fd0346c43061289bae\", element=\"f.DDB8B565343BA1ED1E39EED7F25FD61D.d.242824AF1DFBF25D388FCCDBD9739B1A.e.165\")>,\n",
       " <selenium.webdriver.remote.webelement.WebElement (session=\"4409bb828ca7b1fd0346c43061289bae\", element=\"f.DDB8B565343BA1ED1E39EED7F25FD61D.d.242824AF1DFBF25D388FCCDBD9739B1A.e.166\")>,\n",
       " <selenium.webdriver.remote.webelement.WebElement (session=\"4409bb828ca7b1fd0346c43061289bae\", element=\"f.DDB8B565343BA1ED1E39EED7F25FD61D.d.242824AF1DFBF25D388FCCDBD9739B1A.e.167\")>,\n",
       " <selenium.webdriver.remote.webelement.WebElement (session=\"4409bb828ca7b1fd0346c43061289bae\", element=\"f.DDB8B565343BA1ED1E39EED7F25FD61D.d.242824AF1DFBF25D388FCCDBD9739B1A.e.168\")>,\n",
       " <selenium.webdriver.remote.webelement.WebElement (session=\"4409bb828ca7b1fd0346c43061289bae\", element=\"f.DDB8B565343BA1ED1E39EED7F25FD61D.d.242824AF1DFBF25D388FCCDBD9739B1A.e.169\")>,\n",
       " <selenium.webdriver.remote.webelement.WebElement (session=\"4409bb828ca7b1fd0346c43061289bae\", element=\"f.DDB8B565343BA1ED1E39EED7F25FD61D.d.242824AF1DFBF25D388FCCDBD9739B1A.e.170\")>,\n",
       " <selenium.webdriver.remote.webelement.WebElement (session=\"4409bb828ca7b1fd0346c43061289bae\", element=\"f.DDB8B565343BA1ED1E39EED7F25FD61D.d.242824AF1DFBF25D388FCCDBD9739B1A.e.171\")>]"
      ]
     },
     "execution_count": 49,
     "metadata": {},
     "output_type": "execute_result"
    }
   ],
   "source": [
    "driver.find_elements(By.TAG_NAME, 'meta')"
   ]
  },
  {
   "cell_type": "code",
   "execution_count": 51,
   "id": "018269c7-a590-4c6f-8dae-c06f1415d1ec",
   "metadata": {},
   "outputs": [
    {
     "data": {
      "text/plain": [
       "''"
      ]
     },
     "execution_count": 51,
     "metadata": {},
     "output_type": "execute_result"
    }
   ],
   "source": [
    "driver.find_elements(By.TAG_NAME, 'meta')[1].text"
   ]
  },
  {
   "cell_type": "code",
   "execution_count": 55,
   "id": "b92e4c55-38b1-4e99-8de0-98062b162ebb",
   "metadata": {},
   "outputs": [
    {
     "data": {
      "text/plain": [
       "'HR Data Input\\nSample Form to collect data of HR Staff using Selenium\\nSign in to Google to save your progress. Learn more\\n* Indicates required question\\nempCode\\n*\\nYour answer\\nempName\\n*\\nYour answer\\ngender\\n*\\nM\\nF\\ncampus\\n*\\nYour answer\\nqualifications\\nYour answer\\nage\\nYour answer\\nDOJ\\nDate\\nRemarks\\nYour answer\\nSubmit\\nPage 1 of 1\\nClear form\\nNever submit passwords through Google Forms.\\nThis form was created inside CVIO Data Management System. Report Abuse\\n Forms\\n '"
      ]
     },
     "execution_count": 55,
     "metadata": {},
     "output_type": "execute_result"
    }
   ],
   "source": [
    "#driver.find_elements(By.TAG_NAME, 'meta')[1].text\n",
    "driver.find_element(By.XPATH, \"//div[@class='Uc2NEf']\").text"
   ]
  },
  {
   "cell_type": "code",
   "execution_count": 56,
   "id": "b9a41e7e-da13-4c3f-8ba8-2e8566d969c9",
   "metadata": {},
   "outputs": [
    {
     "data": {
      "text/plain": [
       "'HR Data Input\\nSample Form to collect data of HR Staff using Selenium\\nSign in to Google to save your progress. Learn more\\n* Indicates required question\\nempCode\\n*\\nYour answer\\nempName\\n*\\nYour answer\\ngender\\n*\\nM\\nF\\ncampus\\n*\\nYour answer\\nqualifications\\nYour answer\\nage\\nYour answer\\nDOJ\\nDate\\nRemarks\\nYour answer\\nSubmit\\nPage 1 of 1\\nClear form\\nNever submit passwords through Google Forms.'"
      ]
     },
     "execution_count": 56,
     "metadata": {},
     "output_type": "execute_result"
    }
   ],
   "source": [
    "driver.find_element(By.XPATH, \"//form[@id='mG61Hd']\").text"
   ]
  },
  {
   "cell_type": "code",
   "execution_count": 62,
   "id": "7797ab17-5722-4773-8c68-015137ab1810",
   "metadata": {},
   "outputs": [
    {
     "data": {
      "text/plain": [
       "8"
      ]
     },
     "execution_count": 62,
     "metadata": {},
     "output_type": "execute_result"
    }
   ],
   "source": [
    "itemLists = driver.find_elements(By.XPATH, \"//div[@role='listitem']\")\n",
    "len(itemLists)"
   ]
  },
  {
   "cell_type": "code",
   "execution_count": 63,
   "id": "5f5dc76d-de71-4486-8f15-b7c42075140c",
   "metadata": {},
   "outputs": [
    {
     "name": "stdout",
     "output_type": "stream",
     "text": [
      "empCode\n",
      "*\n",
      "Your answer\n",
      "empName\n",
      "*\n",
      "Your answer\n",
      "gender\n",
      "*\n",
      "M\n",
      "F\n",
      "campus\n",
      "*\n",
      "Your answer\n",
      "qualifications\n",
      "Your answer\n",
      "age\n",
      "Your answer\n",
      "DOJ\n",
      "Date\n",
      "Remarks\n",
      "Your answer\n"
     ]
    }
   ],
   "source": [
    "for item in itemLists:\n",
    "    print(item.text)"
   ]
  },
  {
   "cell_type": "code",
   "execution_count": 78,
   "id": "d4722082-0891-44be-8ca9-42b29ce9d26a",
   "metadata": {},
   "outputs": [],
   "source": [
    "#driver.refresh()\n",
    "driver.get(url1)"
   ]
  },
  {
   "cell_type": "code",
   "execution_count": 79,
   "id": "8b342a03-2f45-43a2-b998-5974b4a18b86",
   "metadata": {},
   "outputs": [
    {
     "data": {
      "text/plain": [
       "0"
      ]
     },
     "execution_count": 79,
     "metadata": {},
     "output_type": "execute_result"
    }
   ],
   "source": [
    "itemLists2 = driver.find_elements(By.XPATH, \"//div[class='Qr70ae']\")\n",
    "len(itemLists2)"
   ]
  },
  {
   "cell_type": "code",
   "execution_count": null,
   "id": "766f1bdb-1817-4797-8e06-3f9c71e2358a",
   "metadata": {},
   "outputs": [],
   "source": []
  }
 ],
 "metadata": {
  "kernelspec": {
   "display_name": "Python 3 (ipykernel)",
   "language": "python",
   "name": "python3"
  },
  "language_info": {
   "codemirror_mode": {
    "name": "ipython",
    "version": 3
   },
   "file_extension": ".py",
   "mimetype": "text/x-python",
   "name": "python",
   "nbconvert_exporter": "python",
   "pygments_lexer": "ipython3",
   "version": "3.11.5"
  }
 },
 "nbformat": 4,
 "nbformat_minor": 5
}
