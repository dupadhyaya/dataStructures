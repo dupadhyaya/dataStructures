{
 "cells": [
  {
   "cell_type": "markdown",
   "id": "f5d309b5-71a5-4730-b97a-71f810aa4075",
   "metadata": {},
   "source": [
    "# Library Beautiful Soup + X path\n",
    "-  https://www.geeksforgeeks.org/how-to-use-xpath-with-beautifulsoup/"
   ]
  },
  {
   "cell_type": "code",
   "execution_count": 4,
   "id": "7aa3d736-6641-4c5b-99a1-b4c400d6c467",
   "metadata": {},
   "outputs": [],
   "source": [
    "from bs4 import BeautifulSoup \n",
    "from lxml import etree, html\n",
    "import requests \n",
    "import numpy as np\n",
    "import pandas as pd"
   ]
  },
  {
   "cell_type": "code",
   "execution_count": 2,
   "id": "4843d7da-b771-4d66-9d99-2c565c4253a3",
   "metadata": {},
   "outputs": [],
   "source": [
    "URL = \"https://en.wikipedia.org/wiki/Nike,_Inc.\""
   ]
  },
  {
   "cell_type": "code",
   "execution_count": 3,
   "id": "73071b2e-70cf-4fde-97b4-86fd8593cf93",
   "metadata": {},
   "outputs": [
    {
     "name": "stdout",
     "output_type": "stream",
     "text": [
      "None\n"
     ]
    }
   ],
   "source": [
    "webpage = requests.get(URL) \n",
    "soup = BeautifulSoup(webpage.content, \"html.parser\") \n",
    "dom = etree.HTML(str(soup)) \n",
    "print(dom.xpath('//*[@id=\"firstHeading\"]')[0].text) "
   ]
  },
  {
   "cell_type": "code",
   "execution_count": 5,
   "id": "b7a128e8-925e-4cb1-92a2-0a0e89b1ccf0",
   "metadata": {},
   "outputs": [
    {
     "name": "stdout",
     "output_type": "stream",
     "text": [
      "Buyers:  []\n",
      "Prices:  []\n"
     ]
    }
   ],
   "source": [
    "page = requests.get('http://econpy.pythonanywhere.com/ex/001.html')\n",
    "tree = html.fromstring(page.content)\n",
    "#This will create a list of buyers:\n",
    "buyers = tree.xpath('//div[@title=\"buyer-name\"]/text()')\n",
    "#This will create a list of prices\n",
    "prices = tree.xpath('//span[@class=\"item-price\"]/text()')\n",
    "\n",
    "print('Buyers: ', buyers)\n",
    "print('Prices: ', prices)"
   ]
  },
  {
   "cell_type": "markdown",
   "id": "30b3df35-1677-4797-86ac-7c0862b5da48",
   "metadata": {},
   "source": [
    "## LXML\n",
    "tree = lxml.html.fromstring(html)\n",
    "i_need_element = tree.xpath('//a[@class=\"shared-components\"]/@href')\n",
    "## BS\n",
    "soup = BeautifulSoup(html, \"lxml\")\n",
    "\n",
    "i_need_element = soup.select ('a[class*=\"shared-components\"]')\n"
   ]
  },
  {
   "cell_type": "code",
   "execution_count": 6,
   "id": "9da0fe83-d35c-42c6-8027-5b319b0a8b9f",
   "metadata": {},
   "outputs": [],
   "source": [
    "from bs4 import BeautifulSoup"
   ]
  },
  {
   "cell_type": "markdown",
   "id": "ddd447e7-d85f-4a51-a4a3-00b7193a881c",
   "metadata": {},
   "source": [
    "## Eg1"
   ]
  },
  {
   "cell_type": "code",
   "execution_count": 12,
   "id": "7feb93d3-559d-463f-8b35-7196e927d23c",
   "metadata": {},
   "outputs": [],
   "source": [
    "# Loading the HTML Document\n",
    "html_doc = '''\n",
    "<html>\n",
    "  <body>\n",
    "    <div id=\"content\">\n",
    "      <h1>Welcome to My Website: Learning Analytics</h1>\n",
    "      <p>Some text here...</p>\n",
    "      <ul>\n",
    "        <li>EDM</li>\n",
    "        <li>Learning Analytics</li>\n",
    "        <li>Academic Analytics</li>\n",
    "      </ul>\n",
    "    </div>\n",
    "  </body>\n",
    "</html>\n",
    "'''"
   ]
  },
  {
   "cell_type": "code",
   "execution_count": 13,
   "id": "bf8a1801-3ed6-4f42-89b5-835a1ffb9b16",
   "metadata": {},
   "outputs": [],
   "source": [
    "# Creating a BeautifulSoup object\n",
    "soup = BeautifulSoup(html_doc, 'lxml')"
   ]
  },
  {
   "cell_type": "code",
   "execution_count": 11,
   "id": "25a12e5d-1511-4d9a-b748-5d84a25b0865",
   "metadata": {},
   "outputs": [
    {
     "name": "stdout",
     "output_type": "stream",
     "text": [
      "Welcome to My Website: Learning Analytics\n"
     ]
    }
   ],
   "source": [
    "# Using find() and find_all()\n",
    "result1 = soup.find('h1')\n",
    "print(result1.text)  # Output: Welcome to My Website"
   ]
  },
  {
   "cell_type": "code",
   "execution_count": 32,
   "id": "bd992416-ca8b-4ef1-b996-6929119268c5",
   "metadata": {},
   "outputs": [
    {
     "name": "stdout",
     "output_type": "stream",
     "text": [
      "<li>EDM</li> EDM\n",
      "<li>Learning Analytics</li> Learning Analytics\n",
      "<li>Academic Analytics</li> Academic Analytics\n"
     ]
    }
   ],
   "source": [
    "results2 = soup.find_all('li')\n",
    "#results2\n",
    "for ei in results2:\n",
    "    print(ei , ei.text.strip())"
   ]
  },
  {
   "cell_type": "code",
   "execution_count": 36,
   "id": "44b8bd66-8789-4c28-8b90-e590815f754a",
   "metadata": {},
   "outputs": [
    {
     "data": {
      "text/plain": [
       "<p>Some text here...</p>"
      ]
     },
     "execution_count": 36,
     "metadata": {},
     "output_type": "execute_result"
    }
   ],
   "source": [
    "soup.find('p')"
   ]
  },
  {
   "cell_type": "code",
   "execution_count": 37,
   "id": "5d6adae0-6303-45f8-a06c-94b247bb1ac3",
   "metadata": {},
   "outputs": [
    {
     "data": {
      "text/plain": [
       "<div id=\"content\">\n",
       "<h1>Welcome to My Website: Learning Analytics</h1>\n",
       "<p>Some text here...</p>\n",
       "<ul>\n",
       "<li>EDM</li>\n",
       "<li>Learning Analytics</li>\n",
       "<li>Academic Analytics</li>\n",
       "</ul>\n",
       "</div>"
      ]
     },
     "execution_count": 37,
     "metadata": {},
     "output_type": "execute_result"
    }
   ],
   "source": [
    "soup.find('div')"
   ]
  },
  {
   "cell_type": "code",
   "execution_count": 38,
   "id": "e4c688e0-5169-4dae-81b1-2d044c4ab611",
   "metadata": {},
   "outputs": [
    {
     "data": {
      "text/plain": [
       "<body>\n",
       "<div id=\"content\">\n",
       "<h1>Welcome to My Website: Learning Analytics</h1>\n",
       "<p>Some text here...</p>\n",
       "<ul>\n",
       "<li>EDM</li>\n",
       "<li>Learning Analytics</li>\n",
       "<li>Academic Analytics</li>\n",
       "</ul>\n",
       "</div>\n",
       "</body>"
      ]
     },
     "execution_count": 38,
     "metadata": {},
     "output_type": "execute_result"
    }
   ],
   "source": [
    "soup.find('body')"
   ]
  },
  {
   "cell_type": "markdown",
   "id": "a78d2da5-d3e0-403e-95d6-44fe7158a4dd",
   "metadata": {},
   "source": [
    "### Method-2 : select_one(), select()\n",
    "- "
   ]
  },
  {
   "cell_type": "code",
   "execution_count": 42,
   "id": "5edfd5ca-f770-4a69-8078-39e6acfa0ca9",
   "metadata": {},
   "outputs": [
    {
     "data": {
      "text/plain": [
       "'Welcome to My Website: Learning Analytics'"
      ]
     },
     "execution_count": 42,
     "metadata": {},
     "output_type": "execute_result"
    }
   ],
   "source": [
    "m2select_one = soup.select_one('h1')\n",
    "m2select_one.text"
   ]
  },
  {
   "cell_type": "code",
   "execution_count": 45,
   "id": "7a53f181-4cbe-412a-88ac-487bebeb1ea5",
   "metadata": {},
   "outputs": [
    {
     "data": {
      "text/plain": [
       "'\\nWelcome to My Website: Learning Analytics\\nSome text here...\\n\\nEDM\\nLearning Analytics\\nAcademic Analytics\\n\\n'"
      ]
     },
     "execution_count": 45,
     "metadata": {},
     "output_type": "execute_result"
    }
   ],
   "source": [
    "soup.select_one('#content').text.strip('\\\\n')"
   ]
  },
  {
   "cell_type": "code",
   "execution_count": null,
   "id": "f5fcee56-8a01-4287-8111-dcbaaa1f33fc",
   "metadata": {},
   "outputs": [],
   "source": []
  },
  {
   "cell_type": "code",
   "execution_count": null,
   "id": "be0fef48-3bb7-4c8a-9ca4-6a9d5817e118",
   "metadata": {},
   "outputs": [],
   "source": []
  },
  {
   "cell_type": "markdown",
   "id": "5aac21e2-6cf3-48a1-ada9-34bfc0cf908d",
   "metadata": {},
   "source": [
    "### Method-3\n",
    "- "
   ]
  },
  {
   "cell_type": "code",
   "execution_count": 50,
   "id": "f62426b4-8bae-46cb-824e-4829a0eb175d",
   "metadata": {},
   "outputs": [
    {
     "name": "stdout",
     "output_type": "stream",
     "text": [
      "\n",
      "<html>\n",
      "  <body>\n",
      "    <div id=\"content\">\n",
      "      <h1>Welcome to My Website: Learning Analytics</h1>\n",
      "      <p>Some text here...</p>\n",
      "      <ul>\n",
      "        <li>EDM</li>\n",
      "        <li>Learning Analytics</li>\n",
      "        <li>Academic Analytics</li>\n",
      "      </ul>\n",
      "    </div>\n",
      "  </body>\n",
      "</html>\n",
      "\n"
     ]
    }
   ],
   "source": [
    "print(html_doc)"
   ]
  },
  {
   "cell_type": "code",
   "execution_count": 51,
   "id": "67c22421-d8a2-47fc-a850-cf541dd7ae93",
   "metadata": {},
   "outputs": [
    {
     "name": "stdout",
     "output_type": "stream",
     "text": [
      "None\n"
     ]
    }
   ],
   "source": [
    "# Using XPath with find() and find_all()\n",
    "result = soup.find('li', attrs={'class': 'active'})\n",
    "print(result)"
   ]
  },
  {
   "cell_type": "code",
   "execution_count": 52,
   "id": "a3afb5b1-2b08-4f8b-84c0-a1fe0043db5d",
   "metadata": {},
   "outputs": [
    {
     "name": "stdout",
     "output_type": "stream",
     "text": [
      "\n",
      "Welcome to My Website: Learning Analytics\n",
      "Some text here...\n",
      "\n",
      "EDM\n",
      "Learning Analytics\n",
      "Academic Analytics\n",
      "\n",
      "\n"
     ]
    }
   ],
   "source": [
    "results = soup.find_all('div', attrs={'id': 'content'})\n",
    "for div in results:\n",
    "    print(div.text)"
   ]
  },
  {
   "cell_type": "code",
   "execution_count": null,
   "id": "2e049be4-e63a-4e2e-bf46-9070f727bb0d",
   "metadata": {},
   "outputs": [],
   "source": []
  }
 ],
 "metadata": {
  "kernelspec": {
   "display_name": "Python 3 (ipykernel)",
   "language": "python",
   "name": "python3"
  },
  "language_info": {
   "codemirror_mode": {
    "name": "ipython",
    "version": 3
   },
   "file_extension": ".py",
   "mimetype": "text/x-python",
   "name": "python",
   "nbconvert_exporter": "python",
   "pygments_lexer": "ipython3",
   "version": "3.11.5"
  }
 },
 "nbformat": 4,
 "nbformat_minor": 5
}
