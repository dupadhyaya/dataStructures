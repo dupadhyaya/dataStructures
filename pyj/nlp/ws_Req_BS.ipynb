{
 "cells": [
  {
   "cell_type": "markdown",
   "id": "457d3c3e-8bbd-4b6c-9a80-56dc3e6a08ff",
   "metadata": {},
   "source": [
    "# NLP - requests\n",
    "- "
   ]
  },
  {
   "cell_type": "code",
   "execution_count": 1,
   "id": "1a9be7d6-6d8c-48c7-a91b-d49efabd2073",
   "metadata": {},
   "outputs": [],
   "source": [
    "import requests"
   ]
  },
  {
   "cell_type": "code",
   "execution_count": 4,
   "id": "fc78c4a5-ac29-44d9-ae8d-1c1ccd607d7b",
   "metadata": {},
   "outputs": [
    {
     "data": {
      "text/plain": [
       "'https://www.gutenberg.org/files/2701/2701-h/2701-h.htm'"
      ]
     },
     "execution_count": 4,
     "metadata": {},
     "output_type": "execute_result"
    }
   ],
   "source": [
    "url = 'https://www.gutenberg.org/files/2701/2701-h/2701-h.htm'\n",
    "url"
   ]
  },
  {
   "cell_type": "code",
   "execution_count": 5,
   "id": "be2cf59a-8783-468f-a95a-2ac145afa650",
   "metadata": {},
   "outputs": [
    {
     "data": {
      "text/plain": [
       "requests.models.Response"
      ]
     },
     "execution_count": 5,
     "metadata": {},
     "output_type": "execute_result"
    }
   ],
   "source": [
    "r = requests.get(url)\n",
    "type(r)"
   ]
  },
  {
   "cell_type": "code",
   "execution_count": 6,
   "id": "0d4910e2-59e7-4412-abfd-18b47f3aa360",
   "metadata": {},
   "outputs": [
    {
     "data": {
      "text/plain": [
       "requests.models.Response"
      ]
     },
     "execution_count": 6,
     "metadata": {},
     "output_type": "execute_result"
    }
   ],
   "source": [
    "requests.models.Response"
   ]
  },
  {
   "cell_type": "code",
   "execution_count": 8,
   "id": "069236fc-7822-4b82-95a9-e05919472353",
   "metadata": {},
   "outputs": [],
   "source": [
    "#extract HTML\n",
    "html = r.text\n",
    "#html"
   ]
  },
  {
   "cell_type": "markdown",
   "id": "39434fd2-313a-45cd-98b7-f86954fc4a18",
   "metadata": {},
   "source": [
    "## Example2"
   ]
  },
  {
   "cell_type": "code",
   "execution_count": 1,
   "id": "21b772fb-46ec-47b0-91c3-306afd2eccc0",
   "metadata": {},
   "outputs": [],
   "source": [
    "import requests"
   ]
  },
  {
   "cell_type": "code",
   "execution_count": 2,
   "id": "065f4735-4658-4e40-a363-4d93390fdfbc",
   "metadata": {},
   "outputs": [
    {
     "data": {
      "text/plain": [
       "'https://news.ycombinator.com/'"
      ]
     },
     "execution_count": 2,
     "metadata": {},
     "output_type": "execute_result"
    }
   ],
   "source": [
    "url2 = 'https://news.ycombinator.com/'\n",
    "url2"
   ]
  },
  {
   "cell_type": "code",
   "execution_count": 4,
   "id": "4ca946f7-2800-4835-926c-9fb1e38d4095",
   "metadata": {},
   "outputs": [
    {
     "data": {
      "text/plain": [
       "<Response [200]>"
      ]
     },
     "execution_count": 4,
     "metadata": {},
     "output_type": "execute_result"
    }
   ],
   "source": [
    "response = requests.get(url2)\n",
    "response  #if 200 it is sucess"
   ]
  },
  {
   "cell_type": "code",
   "execution_count": 5,
   "id": "df5159a8-a372-4024-9612-83b99fd507ab",
   "metadata": {},
   "outputs": [],
   "source": [
    "content = response.content"
   ]
  },
  {
   "cell_type": "code",
   "execution_count": 7,
   "id": "5831dec3-f5b5-425c-af75-7f39746a0247",
   "metadata": {},
   "outputs": [
    {
     "name": "stdout",
     "output_type": "stream",
     "text": [
      "b'html lang=\"en\" op=\"news\"><head><meta name=\"referrer\" content=\"origin\"><meta name=\"viewport\" content'\n"
     ]
    }
   ],
   "source": [
    "print(content[1:100])"
   ]
  },
  {
   "cell_type": "markdown",
   "id": "06b5c0bb-9385-4706-93e1-a979f29bd71d",
   "metadata": {},
   "source": [
    "## Example3 with BS"
   ]
  },
  {
   "cell_type": "code",
   "execution_count": 8,
   "id": "f5ac0efd-2d3d-48e4-b499-c654ad8bf78b",
   "metadata": {},
   "outputs": [],
   "source": [
    "from bs4 import BeautifulSoup"
   ]
  },
  {
   "cell_type": "code",
   "execution_count": 9,
   "id": "6711a914-b4f1-4877-9b74-dca1017393a3",
   "metadata": {},
   "outputs": [],
   "source": [
    "soup = BeautifulSoup(response.content, 'html.parser')"
   ]
  },
  {
   "cell_type": "code",
   "execution_count": 10,
   "id": "46939189-4cb3-4207-b82b-6c88827a9fa3",
   "metadata": {},
   "outputs": [
    {
     "data": {
      "text/plain": [
       "<title>Hacker News</title>"
      ]
     },
     "execution_count": 10,
     "metadata": {},
     "output_type": "execute_result"
    }
   ],
   "source": [
    "soup.title"
   ]
  },
  {
   "cell_type": "code",
   "execution_count": 11,
   "id": "9c134099-5761-4c96-812f-5a6ffce0bcee",
   "metadata": {},
   "outputs": [
    {
     "data": {
      "text/plain": [
       "'Hacker News'"
      ]
     },
     "execution_count": 11,
     "metadata": {},
     "output_type": "execute_result"
    }
   ],
   "source": [
    "soup.title.text"
   ]
  },
  {
   "cell_type": "code",
   "execution_count": 13,
   "id": "50c7e1c7-81e9-4b76-941f-742c3b7a8a50",
   "metadata": {},
   "outputs": [
    {
     "data": {
      "text/plain": [
       "'Hacker News'"
      ]
     },
     "execution_count": 13,
     "metadata": {},
     "output_type": "execute_result"
    }
   ],
   "source": [
    "soup.title.string"
   ]
  },
  {
   "cell_type": "code",
   "execution_count": 14,
   "id": "7e336952-0575-4aab-a470-d2525826aba9",
   "metadata": {},
   "outputs": [
    {
     "data": {
      "text/plain": [
       "225"
      ]
     },
     "execution_count": 14,
     "metadata": {},
     "output_type": "execute_result"
    }
   ],
   "source": [
    "# Links\n",
    "links = soup.find_all('a')\n",
    "len(links)"
   ]
  },
  {
   "cell_type": "code",
   "execution_count": 15,
   "id": "96899942-a96d-4bd1-9df1-379860f142be",
   "metadata": {},
   "outputs": [
    {
     "data": {
      "text/plain": [
       "'\\n\\nHacker News\\n\\nHacker News\\nnew | past | comments | ask | show | jobs | submit \\nlogin\\n\\n\\n\\n\\n1. LLaMA N'"
      ]
     },
     "execution_count": 15,
     "metadata": {},
     "output_type": "execute_result"
    }
   ],
   "source": [
    "soup.text[1:100]"
   ]
  },
  {
   "cell_type": "markdown",
   "id": "7c9329a8-a1dd-4d90-b4d6-8848ecc896ea",
   "metadata": {},
   "source": [
    "### DOM elements"
   ]
  },
  {
   "cell_type": "code",
   "execution_count": 16,
   "id": "88d102cc-11b2-48de-8ced-69f1931c6c95",
   "metadata": {},
   "outputs": [
    {
     "data": {
      "text/plain": [
       "<a href=\"https://news.ycombinator.com\"><img height=\"18\" src=\"y18.svg\" style=\"border:1px white solid; display:block\" width=\"18\"/></a>"
      ]
     },
     "execution_count": 16,
     "metadata": {},
     "output_type": "execute_result"
    }
   ],
   "source": [
    "first_link = soup.a\n",
    "first_link"
   ]
  },
  {
   "cell_type": "code",
   "execution_count": 18,
   "id": "a1b17174-022e-4a68-aa80-eacadebf4322",
   "metadata": {},
   "outputs": [
    {
     "data": {
      "text/plain": [
       "''"
      ]
     },
     "execution_count": 18,
     "metadata": {},
     "output_type": "execute_result"
    }
   ],
   "source": [
    "first_link.text  #it contains no text but a image"
   ]
  },
  {
   "cell_type": "code",
   "execution_count": 22,
   "id": "92556176-ed69-4988-b6eb-4c20d4ed3dca",
   "metadata": {},
   "outputs": [
    {
     "data": {
      "text/plain": [
       "'https://news.ycombinator.com'"
      ]
     },
     "execution_count": 22,
     "metadata": {},
     "output_type": "execute_result"
    }
   ],
   "source": [
    "first_link.get('href')  #link"
   ]
  },
  {
   "cell_type": "markdown",
   "id": "9261f055-cc29-4c83-ab75-2b884ed7a88b",
   "metadata": {},
   "source": [
    "### First element based on id or class attribute"
   ]
  },
  {
   "cell_type": "code",
   "execution_count": 23,
   "id": "16cac5c1-7974-4f76-847a-0a75577a182e",
   "metadata": {},
   "outputs": [],
   "source": [
    "pagespace = soup.find(id='pagespace')"
   ]
  },
  {
   "cell_type": "code",
   "execution_count": 24,
   "id": "00f96f28-d856-476c-8c88-0c8ca94f7c2b",
   "metadata": {},
   "outputs": [
    {
     "data": {
      "text/plain": [
       "<tr id=\"pagespace\" style=\"height:10px\" title=\"\"></tr>"
      ]
     },
     "execution_count": 24,
     "metadata": {},
     "output_type": "execute_result"
    }
   ],
   "source": [
    "pagespace"
   ]
  },
  {
   "cell_type": "code",
   "execution_count": 25,
   "id": "496d71af-1f69-40a7-934d-5bd2f3f20ef1",
   "metadata": {},
   "outputs": [],
   "source": [
    "#class is a reserved word hence we use class_\n",
    "athing = soup.find(class_ ='athing')"
   ]
  },
  {
   "cell_type": "code",
   "execution_count": 26,
   "id": "39852652-5553-4771-b7a7-2d37c891f9af",
   "metadata": {},
   "outputs": [
    {
     "data": {
      "text/plain": [
       "<tr class=\"athing\" id=\"39890262\">\n",
       "<td align=\"right\" class=\"title\" valign=\"top\"><span class=\"rank\">1.</span></td> <td class=\"votelinks\" valign=\"top\"><center><a href=\"vote?id=39890262&amp;how=up&amp;goto=news\" id=\"up_39890262\"><div class=\"votearrow\" title=\"upvote\"></div></a></center></td><td class=\"title\"><span class=\"titleline\"><a href=\"https://justine.lol/matmul/\">LLaMA Now Goes Faster on CPUs</a><span class=\"sitebit comhead\"> (<a href=\"from?site=justine.lol\"><span class=\"sitestr\">justine.lol</span></a>)</span></span></td></tr>"
      ]
     },
     "execution_count": 26,
     "metadata": {},
     "output_type": "execute_result"
    }
   ],
   "source": [
    "athing"
   ]
  },
  {
   "cell_type": "markdown",
   "id": "aeada796-b32e-4503-a75d-e4263b8a2188",
   "metadata": {},
   "source": [
    "### Find all elements"
   ]
  },
  {
   "cell_type": "code",
   "execution_count": 27,
   "id": "f7cc2dfb-0295-4d05-8f4a-ad47b4c7fe1d",
   "metadata": {},
   "outputs": [],
   "source": [
    "from collections import Counter"
   ]
  },
  {
   "cell_type": "code",
   "execution_count": 28,
   "id": "d5df6d2f-5ba5-450f-9f77-3d399ce6828a",
   "metadata": {},
   "outputs": [],
   "source": [
    "all_hrefs = [ a.get('href') for a in soup.find_all('a')]"
   ]
  },
  {
   "cell_type": "code",
   "execution_count": 30,
   "id": "cd85f1fa-2675-49cc-a1af-2009a0f78f26",
   "metadata": {},
   "outputs": [
    {
     "data": {
      "text/plain": [
       "['news',\n",
       " 'newest',\n",
       " 'front',\n",
       " 'newcomments',\n",
       " 'ask',\n",
       " 'show',\n",
       " 'jobs',\n",
       " 'submit',\n",
       " 'login?goto=news']"
      ]
     },
     "execution_count": 30,
     "metadata": {},
     "output_type": "execute_result"
    }
   ],
   "source": [
    "all_hrefs[1:10]"
   ]
  },
  {
   "cell_type": "code",
   "execution_count": 32,
   "id": "f7da758b-1ae1-45bc-a999-348128612d63",
   "metadata": {},
   "outputs": [],
   "source": [
    "top_3_links = Counter(all_hrefs).most_common(3)"
   ]
  },
  {
   "cell_type": "code",
   "execution_count": 33,
   "id": "ef2f546d-4696-436a-956d-55854792ba32",
   "metadata": {},
   "outputs": [
    {
     "data": {
      "text/plain": [
       "[('from?site=arxiv.org', 4),\n",
       " ('user?id=milliondreams', 3),\n",
       " ('item?id=39890262', 2)]"
      ]
     },
     "execution_count": 33,
     "metadata": {},
     "output_type": "execute_result"
    }
   ],
   "source": [
    "top_3_links"
   ]
  },
  {
   "cell_type": "code",
   "execution_count": null,
   "id": "97a8aa73-1b19-4677-b076-aaa0483c2a5a",
   "metadata": {},
   "outputs": [],
   "source": []
  },
  {
   "cell_type": "code",
   "execution_count": null,
   "id": "f5f3657b-0086-4265-823a-f38be2587585",
   "metadata": {},
   "outputs": [],
   "source": []
  },
  {
   "cell_type": "markdown",
   "id": "e4493828-abbb-4ae4-a789-a5ba83521f30",
   "metadata": {},
   "source": [
    "# Links\n",
    "- https://www.scrapingbee.com/blog/python-web-scraping-beautiful-soup/"
   ]
  },
  {
   "cell_type": "code",
   "execution_count": null,
   "id": "51b0b4a7-9a49-4372-952d-db851631c1bd",
   "metadata": {},
   "outputs": [],
   "source": []
  }
 ],
 "metadata": {
  "kernelspec": {
   "display_name": "Python 3 (ipykernel)",
   "language": "python",
   "name": "python3"
  },
  "language_info": {
   "codemirror_mode": {
    "name": "ipython",
    "version": 3
   },
   "file_extension": ".py",
   "mimetype": "text/x-python",
   "name": "python",
   "nbconvert_exporter": "python",
   "pygments_lexer": "ipython3",
   "version": "3.11.5"
  }
 },
 "nbformat": 4,
 "nbformat_minor": 5
}
