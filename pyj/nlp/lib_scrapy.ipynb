{
 "cells": [
  {
   "cell_type": "markdown",
   "id": "f879dc31-dbec-4cad-b559-cb218f5207c8",
   "metadata": {},
   "source": [
    "# library Scrapy\n",
    "- suited for large scale web scrapping with complicated data retrieval methods"
   ]
  },
  {
   "cell_type": "code",
   "execution_count": 1,
   "id": "656884ce-1ab0-4b2c-a432-289025e09249",
   "metadata": {},
   "outputs": [],
   "source": [
    "import scrapy"
   ]
  },
  {
   "cell_type": "code",
   "execution_count": 2,
   "id": "8773015d-0a9d-446f-840f-d99f3c089e4f",
   "metadata": {},
   "outputs": [
    {
     "data": {
      "text/plain": [
       "'2.11.1'"
      ]
     },
     "execution_count": 2,
     "metadata": {},
     "output_type": "execute_result"
    }
   ],
   "source": [
    "scrapy.__version__"
   ]
  },
  {
   "cell_type": "code",
   "execution_count": null,
   "id": "bcce89ad-162d-4d43-8a1d-a0ea430b6dfb",
   "metadata": {},
   "outputs": [],
   "source": []
  }
 ],
 "metadata": {
  "kernelspec": {
   "display_name": "Python 3 (ipykernel)",
   "language": "python",
   "name": "python3"
  },
  "language_info": {
   "codemirror_mode": {
    "name": "ipython",
    "version": 3
   },
   "file_extension": ".py",
   "mimetype": "text/x-python",
   "name": "python",
   "nbconvert_exporter": "python",
   "pygments_lexer": "ipython3",
   "version": "3.11.5"
  }
 },
 "nbformat": 4,
 "nbformat_minor": 5
}
