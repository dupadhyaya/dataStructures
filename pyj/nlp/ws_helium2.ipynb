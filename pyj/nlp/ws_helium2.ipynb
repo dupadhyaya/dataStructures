{
 "cells": [
  {
   "cell_type": "markdown",
   "id": "a10bff93-31b1-4d93-a19c-b3ec39f931cf",
   "metadata": {},
   "source": [
    "# Helium  for web scraping\n",
    "-  "
   ]
  },
  {
   "cell_type": "code",
   "execution_count": 1,
   "id": "901434c5-0ec7-4cb3-a1c2-c7c42c87799c",
   "metadata": {},
   "outputs": [],
   "source": [
    "#!pip install helium"
   ]
  },
  {
   "cell_type": "code",
   "execution_count": 2,
   "id": "0aa24c22-0409-4356-ba66-7007d7aa9977",
   "metadata": {},
   "outputs": [],
   "source": [
    "from helium import *"
   ]
  },
  {
   "cell_type": "code",
   "execution_count": 7,
   "id": "a3011604-8cde-4e4f-9285-2164aad5ee91",
   "metadata": {},
   "outputs": [
    {
     "data": {
      "text/plain": [
       "<selenium.webdriver.chrome.webdriver.WebDriver (session=\"bb92c68f4e9d244fdee000497421a2b3\")>"
      ]
     },
     "execution_count": 7,
     "metadata": {},
     "output_type": "execute_result"
    }
   ],
   "source": [
    "start_chrome('github.com/login')"
   ]
  },
  {
   "cell_type": "code",
   "execution_count": 8,
   "id": "68c25a99-9589-49ba-8655-0624e44ae304",
   "metadata": {},
   "outputs": [],
   "source": [
    "write('dupadhyaya', into='Username')"
   ]
  },
  {
   "cell_type": "code",
   "execution_count": 9,
   "id": "7bb79084-a992-4218-beae-61e13099bcda",
   "metadata": {},
   "outputs": [],
   "source": [
    "write('dhxxxx', into ='Password')"
   ]
  },
  {
   "cell_type": "code",
   "execution_count": 10,
   "id": "78b50af8-79d2-4c58-aafe-cc00a9eee8b6",
   "metadata": {},
   "outputs": [],
   "source": [
    "click('Sign in')"
   ]
  },
  {
   "cell_type": "code",
   "execution_count": 13,
   "id": "a76b9504-eb74-40f3-8ad4-496f60c0f190",
   "metadata": {},
   "outputs": [],
   "source": [
    "click('Send SMS')"
   ]
  },
  {
   "cell_type": "code",
   "execution_count": null,
   "id": "114bba71-42bc-4792-9e79-2e26ab588a2d",
   "metadata": {},
   "outputs": [],
   "source": []
  }
 ],
 "metadata": {
  "kernelspec": {
   "display_name": "Python 3 (ipykernel)",
   "language": "python",
   "name": "python3"
  },
  "language_info": {
   "codemirror_mode": {
    "name": "ipython",
    "version": 3
   },
   "file_extension": ".py",
   "mimetype": "text/x-python",
   "name": "python",
   "nbconvert_exporter": "python",
   "pygments_lexer": "ipython3",
   "version": "3.11.5"
  }
 },
 "nbformat": 4,
 "nbformat_minor": 5
}
