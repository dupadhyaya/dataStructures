{
 "cells": [
  {
   "cell_type": "markdown",
   "id": "a4000ed6-06e1-4c53-8871-44985f1a2533",
   "metadata": {},
   "source": [
    "# Web Scrapping - Fake Jobs\n",
    "-  "
   ]
  },
  {
   "cell_type": "code",
   "execution_count": 76,
   "id": "5c39c950-df45-465e-893c-006666dba051",
   "metadata": {},
   "outputs": [],
   "source": [
    "import requests\n",
    "import pandas as pd\n",
    "import numpy as np"
   ]
  },
  {
   "cell_type": "code",
   "execution_count": 81,
   "id": "991f96b1-6816-4895-b495-3133083e1679",
   "metadata": {},
   "outputs": [
    {
     "data": {
      "text/plain": [
       "'https://realpython.github.io/fake-jobs/'"
      ]
     },
     "execution_count": 81,
     "metadata": {},
     "output_type": "execute_result"
    }
   ],
   "source": [
    "url = 'https://realpython.github.io/fake-jobs/'\n",
    "url"
   ]
  },
  {
   "cell_type": "code",
   "execution_count": 82,
   "id": "81787613-c619-46cb-84bf-5ccf255978e3",
   "metadata": {},
   "outputs": [],
   "source": [
    "page = requests.get(url)"
   ]
  },
  {
   "cell_type": "code",
   "execution_count": 83,
   "id": "76eac0e0-4478-421b-857d-3c51c516219c",
   "metadata": {},
   "outputs": [
    {
     "data": {
      "text/plain": [
       "<Response [200]>"
      ]
     },
     "execution_count": 83,
     "metadata": {},
     "output_type": "execute_result"
    }
   ],
   "source": [
    "page"
   ]
  },
  {
   "cell_type": "code",
   "execution_count": 84,
   "id": "e326d2c2-466b-40d0-8b28-c84812d66740",
   "metadata": {},
   "outputs": [
    {
     "data": {
      "text/plain": [
       "'!DOCTYPE html>\\n<html>\\n  <head>\\n    <meta charset=\"utf-8\">\\n    <meta name=\"viewport\" content=\"width='"
      ]
     },
     "execution_count": 84,
     "metadata": {},
     "output_type": "execute_result"
    }
   ],
   "source": [
    "page.text[1:100]  #first 100 characters in the html"
   ]
  },
  {
   "cell_type": "markdown",
   "id": "f8879c21-6517-4d21-b9fa-666c45707b80",
   "metadata": {},
   "source": [
    "- page.text is like html\n",
    "- static content\n",
    "- https://webformatter.com/html - upload url and see the content\n",
    "- Part of the html \n",
    "    - div class=\"media-content\"\n",
    "    - h2 class=\"title is-5\">Senior Python Developer /h2\n",
    "    - h3 class=\"subtitle is-6 company\">Payne, Roberts and Davis /h3\n",
    "    - /div\n",
    "-  class = 'title is-5' -> contains title of the job\n",
    "-  class = 'subtitle is-6' -> contains name of coy offering job\n",
    "-  class = 'location' -> location of job"
   ]
  },
  {
   "cell_type": "markdown",
   "id": "25b18a54-0e17-4de9-a22a-65b7248e6694",
   "metadata": {},
   "source": [
    "# Beautiful Soup\n",
    "- parsing structure data\n",
    "- interact with pages like developer tools\n",
    "- has many function to parse and extact values\n",
    "- different parsers to extract data\n",
    "  - html.parser\n",
    "  - xml\n",
    "  - lxml\n",
    "  - html5lib\n",
    "- there are different encoding also\n",
    "  - iso-8859-8 , xx-7"
   ]
  },
  {
   "cell_type": "code",
   "execution_count": 85,
   "id": "ecd979c0-01d7-44a5-a3a1-ec071d82933e",
   "metadata": {},
   "outputs": [],
   "source": [
    "from bs4 import BeautifulSoup"
   ]
  },
  {
   "cell_type": "code",
   "execution_count": 86,
   "id": "e8535163-361f-4d6b-b8ec-f1f59586bcfa",
   "metadata": {},
   "outputs": [],
   "source": [
    "page = requests.get(url) #from requests library\n",
    "soup = BeautifulSoup(page.content, 'html.parser')\n",
    "# page.content is better that page.text for parsing html text"
   ]
  },
  {
   "cell_type": "markdown",
   "id": "a21b3c26-9e7a-41a0-ba62-7c677a3df7d8",
   "metadata": {},
   "source": [
    "## Find elements by ID\n",
    "- in HTML web page, every element can have an id ATTRIBUTE assigned, which uniquely identifies element in the page\n",
    "- parse page by selecting specific element by its ID\n",
    "- the element we are looking for here, that has\n",
    "  - div with id attribute ='ResultsContainer'\n",
    "  - it has other attributes, but we will pick id here\n",
    "  - 20: div id=\"ResultsContainer\" class=\"columns is-multiline\"\n",
    "    - .. all job listings.. under this container\n"
   ]
  },
  {
   "cell_type": "code",
   "execution_count": 87,
   "id": "56a838ab-4a73-4070-b36a-2f7a6d3601c7",
   "metadata": {},
   "outputs": [],
   "source": [
    "results = soup.find(id='ResultsContainer')"
   ]
  },
  {
   "cell_type": "code",
   "execution_count": 88,
   "id": "f839e6cb-41da-45e9-92b5-dd186fb408c8",
   "metadata": {},
   "outputs": [],
   "source": [
    "# results # will list all html under this container onwards\n",
    "# now we work with this part of html "
   ]
  },
  {
   "cell_type": "code",
   "execution_count": 89,
   "id": "44080dcc-f257-4cb0-bf6c-31441093226c",
   "metadata": {},
   "outputs": [
    {
     "data": {
      "text/plain": [
       "'<div class=\"columns is-multiline\" id=\"ResultsContainer\">\\n <div class=\"column is-half\">\\n  <div class=\"card\">\\n   <div class=\"card-content\">\\n    <div class=\"media\">\\n     <div class=\"media-left\">\\n      <figure class=\"image is-48x48\">\\n       <img alt=\"Real Python Logo\" src=\"https://files.realpython.com/media/real-python-logo-thumbnail.7f0db70c2ed2.jpg?__no_cf_polish=1\"/>\\n      </figure>\\n     </div>\\n   '"
      ]
     },
     "execution_count": 89,
     "metadata": {},
     "output_type": "execute_result"
    }
   ],
   "source": [
    "results.prettify()[0:400]"
   ]
  },
  {
   "cell_type": "markdown",
   "id": "eb8fb782-816c-43c1-9ae1-dbbbf93e0406",
   "metadata": {},
   "source": [
    "## Find elements by Class Name\n",
    "- every job is wrapped in a < div > element with class = 'card-content'\n",
    "  <div class=\"card-content\">\n",
    "  <div class=\"media\">\n",
    "      <div class=\"media-left\">\n",
    "        <figure class=\"image is-48x48\">\n",
    "          <img src=\"https://files.realpython.com/media/real-python-logo-thumbnail.7f0db70c2ed2.jpg?__no_cf_polish=1\" alt=\"Real Python Logo\">\n",
    "        </figure>\n",
    "      </div>\n",
    "      <div class=\"media-content\">\n",
    "        <h2 class=\"title is-5\">Senior Python Developer</h2>\n",
    "        <h3 class=\"subtitle is-6 company\">Payne, Roberts and Davis</h3>\n",
    "      </div>\n",
    "    </div>"
   ]
  },
  {
   "cell_type": "code",
   "execution_count": 90,
   "id": "23251c94-3067-4e3c-9d8e-40359876c62a",
   "metadata": {},
   "outputs": [],
   "source": [
    "job_elements = results.find_all('div', class_='card-content')"
   ]
  },
  {
   "cell_type": "code",
   "execution_count": 91,
   "id": "d55158eb-f1a9-4baf-b3e5-c5a305fd0f3a",
   "metadata": {},
   "outputs": [
    {
     "data": {
      "text/plain": [
       "[<div class=\"card-content\">\n",
       " <div class=\"media\">\n",
       " <div class=\"media-left\">\n",
       " <figure class=\"image is-48x48\">\n",
       " <img alt=\"Real Python Logo\" src=\"https://files.realpython.com/media/real-python-logo-thumbnail.7f0db70c2ed2.jpg?__no_cf_polish=1\"/>\n",
       " </figure>\n",
       " </div>\n",
       " <div class=\"media-content\">\n",
       " <h2 class=\"title is-5\">Senior Python Developer</h2>\n",
       " <h3 class=\"subtitle is-6 company\">Payne, Roberts and Davis</h3>\n",
       " </div>\n",
       " </div>\n",
       " <div class=\"content\">\n",
       " <p class=\"location\">\n",
       "         Stewartbury, AA\n",
       "       </p>\n",
       " <p class=\"is-small has-text-grey\">\n",
       " <time datetime=\"2021-04-08\">2021-04-08</time>\n",
       " </p>\n",
       " </div>\n",
       " <footer class=\"card-footer\">\n",
       " <a class=\"card-footer-item\" href=\"https://www.realpython.com\" target=\"_blank\">Learn</a>\n",
       " <a class=\"card-footer-item\" href=\"https://realpython.github.io/fake-jobs/jobs/senior-python-developer-0.html\" target=\"_blank\">Apply</a>\n",
       " </footer>\n",
       " </div>]"
      ]
     },
     "execution_count": 91,
     "metadata": {},
     "output_type": "execute_result"
    }
   ],
   "source": [
    "job_elements[0:1] #first job"
   ]
  },
  {
   "cell_type": "code",
   "execution_count": 92,
   "id": "0a13e68d-90bf-4d01-8edf-56e3b0fef58d",
   "metadata": {},
   "outputs": [
    {
     "name": "stdout",
     "output_type": "stream",
     "text": [
      "Job No :  1 \n",
      " <div class=\"card-content\">\n",
      "<div class=\"media\">\n",
      "<div class=\"media-left\">\n",
      "<figure class=\"image is-48x48\">\n",
      "<img alt=\"Real Python Logo\" src=\"https://files.realpython.com/media/real-python-logo-thumbnail.7f0db70c2ed2.jpg?__no_cf_polish=1\"/>\n",
      "</figure>\n",
      "</div>\n",
      "<div class=\"media-content\">\n",
      "<h2 class=\"title is-5\">Senior Python Developer</h2>\n",
      "<h3 class=\"subtitle is-6 company\">Payne, Roberts and Davis</h3>\n",
      "</div>\n",
      "</div>\n",
      "<div class=\"content\">\n",
      "<p class=\"location\">\n",
      "        Stewartbury, AA\n",
      "      </p>\n",
      "<p class=\"is-small has-text-grey\">\n",
      "<time datetime=\"2021-04-08\">2021-04-08</time>\n",
      "</p>\n",
      "</div>\n",
      "<footer class=\"card-footer\">\n",
      "<a class=\"card-footer-item\" href=\"https://www.realpython.com\" target=\"_blank\">Learn</a>\n",
      "<a class=\"card-footer-item\" href=\"https://realpython.github.io/fake-jobs/jobs/senior-python-developer-0.html\" target=\"_blank\">Apply</a>\n",
      "</footer>\n",
      "</div>\n",
      "\n",
      "Job No :  2 \n",
      " <div class=\"card-content\">\n",
      "<div class=\"media\">\n",
      "<div class=\"media-left\">\n",
      "<figure class=\"image is-48x48\">\n",
      "<img alt=\"Real Python Logo\" src=\"https://files.realpython.com/media/real-python-logo-thumbnail.7f0db70c2ed2.jpg?__no_cf_polish=1\"/>\n",
      "</figure>\n",
      "</div>\n",
      "<div class=\"media-content\">\n",
      "<h2 class=\"title is-5\">Energy engineer</h2>\n",
      "<h3 class=\"subtitle is-6 company\">Vasquez-Davidson</h3>\n",
      "</div>\n",
      "</div>\n",
      "<div class=\"content\">\n",
      "<p class=\"location\">\n",
      "        Christopherville, AA\n",
      "      </p>\n",
      "<p class=\"is-small has-text-grey\">\n",
      "<time datetime=\"2021-04-08\">2021-04-08</time>\n",
      "</p>\n",
      "</div>\n",
      "<footer class=\"card-footer\">\n",
      "<a class=\"card-footer-item\" href=\"https://www.realpython.com\" target=\"_blank\">Learn</a>\n",
      "<a class=\"card-footer-item\" href=\"https://realpython.github.io/fake-jobs/jobs/energy-engineer-1.html\" target=\"_blank\">Apply</a>\n",
      "</footer>\n",
      "</div>\n",
      "\n",
      "Job No :  3 \n",
      " <div class=\"card-content\">\n",
      "<div class=\"media\">\n",
      "<div class=\"media-left\">\n",
      "<figure class=\"image is-48x48\">\n",
      "<img alt=\"Real Python Logo\" src=\"https://files.realpython.com/media/real-python-logo-thumbnail.7f0db70c2ed2.jpg?__no_cf_polish=1\"/>\n",
      "</figure>\n",
      "</div>\n",
      "<div class=\"media-content\">\n",
      "<h2 class=\"title is-5\">Legal executive</h2>\n",
      "<h3 class=\"subtitle is-6 company\">Jackson, Chambers and Levy</h3>\n",
      "</div>\n",
      "</div>\n",
      "<div class=\"content\">\n",
      "<p class=\"location\">\n",
      "        Port Ericaburgh, AA\n",
      "      </p>\n",
      "<p class=\"is-small has-text-grey\">\n",
      "<time datetime=\"2021-04-08\">2021-04-08</time>\n",
      "</p>\n",
      "</div>\n",
      "<footer class=\"card-footer\">\n",
      "<a class=\"card-footer-item\" href=\"https://www.realpython.com\" target=\"_blank\">Learn</a>\n",
      "<a class=\"card-footer-item\" href=\"https://realpython.github.io/fake-jobs/jobs/legal-executive-2.html\" target=\"_blank\">Apply</a>\n",
      "</footer>\n",
      "</div>\n",
      "\n",
      "Job No :  4 \n",
      " <div class=\"card-content\">\n",
      "<div class=\"media\">\n",
      "<div class=\"media-left\">\n",
      "<figure class=\"image is-48x48\">\n",
      "<img alt=\"Real Python Logo\" src=\"https://files.realpython.com/media/real-python-logo-thumbnail.7f0db70c2ed2.jpg?__no_cf_polish=1\"/>\n",
      "</figure>\n",
      "</div>\n",
      "<div class=\"media-content\">\n",
      "<h2 class=\"title is-5\">Fitness centre manager</h2>\n",
      "<h3 class=\"subtitle is-6 company\">Savage-Bradley</h3>\n",
      "</div>\n",
      "</div>\n",
      "<div class=\"content\">\n",
      "<p class=\"location\">\n",
      "        East Seanview, AP\n",
      "      </p>\n",
      "<p class=\"is-small has-text-grey\">\n",
      "<time datetime=\"2021-04-08\">2021-04-08</time>\n",
      "</p>\n",
      "</div>\n",
      "<footer class=\"card-footer\">\n",
      "<a class=\"card-footer-item\" href=\"https://www.realpython.com\" target=\"_blank\">Learn</a>\n",
      "<a class=\"card-footer-item\" href=\"https://realpython.github.io/fake-jobs/jobs/fitness-centre-manager-3.html\" target=\"_blank\">Apply</a>\n",
      "</footer>\n",
      "</div>\n",
      "\n",
      "Job No :  5 \n",
      " <div class=\"card-content\">\n",
      "<div class=\"media\">\n",
      "<div class=\"media-left\">\n",
      "<figure class=\"image is-48x48\">\n",
      "<img alt=\"Real Python Logo\" src=\"https://files.realpython.com/media/real-python-logo-thumbnail.7f0db70c2ed2.jpg?__no_cf_polish=1\"/>\n",
      "</figure>\n",
      "</div>\n",
      "<div class=\"media-content\">\n",
      "<h2 class=\"title is-5\">Product manager</h2>\n",
      "<h3 class=\"subtitle is-6 company\">Ramirez Inc</h3>\n",
      "</div>\n",
      "</div>\n",
      "<div class=\"content\">\n",
      "<p class=\"location\">\n",
      "        North Jamieview, AP\n",
      "      </p>\n",
      "<p class=\"is-small has-text-grey\">\n",
      "<time datetime=\"2021-04-08\">2021-04-08</time>\n",
      "</p>\n",
      "</div>\n",
      "<footer class=\"card-footer\">\n",
      "<a class=\"card-footer-item\" href=\"https://www.realpython.com\" target=\"_blank\">Learn</a>\n",
      "<a class=\"card-footer-item\" href=\"https://realpython.github.io/fake-jobs/jobs/product-manager-4.html\" target=\"_blank\">Apply</a>\n",
      "</footer>\n",
      "</div>\n",
      "\n"
     ]
    }
   ],
   "source": [
    "i = 0\n",
    "for job_element in job_elements[0:5]:\n",
    "    print('Job No : ', i+1, '\\n', job_element, end='\\n'*2)\n",
    "    i += 1"
   ]
  },
  {
   "cell_type": "markdown",
   "id": "ce6dfa1e-d2ff-46f3-87e4-8fd4a3389485",
   "metadata": {},
   "source": [
    "# More finer extraction\n",
    "- Still there are many elements to read/ extract"
   ]
  },
  {
   "cell_type": "code",
   "execution_count": 93,
   "id": "cf368645-0a7b-4e35-a9db-22868f0285be",
   "metadata": {},
   "outputs": [
    {
     "name": "stdout",
     "output_type": "stream",
     "text": [
      "Job No -  1\n",
      "<h2 class=\"title is-5\">Senior Python Developer</h2> \n",
      " <h3 class=\"subtitle is-6 company\">Payne, Roberts and Davis</h3> \n",
      " <p class=\"location\">\n",
      "        Stewartbury, AA\n",
      "      </p>\n",
      "\n",
      "Job No -  2\n",
      "<h2 class=\"title is-5\">Energy engineer</h2> \n",
      " <h3 class=\"subtitle is-6 company\">Vasquez-Davidson</h3> \n",
      " <p class=\"location\">\n",
      "        Christopherville, AA\n",
      "      </p>\n",
      "\n",
      "Job No -  3\n",
      "<h2 class=\"title is-5\">Legal executive</h2> \n",
      " <h3 class=\"subtitle is-6 company\">Jackson, Chambers and Levy</h3> \n",
      " <p class=\"location\">\n",
      "        Port Ericaburgh, AA\n",
      "      </p>\n",
      "\n",
      "Job No -  4\n",
      "<h2 class=\"title is-5\">Fitness centre manager</h2> \n",
      " <h3 class=\"subtitle is-6 company\">Savage-Bradley</h3> \n",
      " <p class=\"location\">\n",
      "        East Seanview, AP\n",
      "      </p>\n",
      "\n",
      "Job No -  5\n",
      "<h2 class=\"title is-5\">Product manager</h2> \n",
      " <h3 class=\"subtitle is-6 company\">Ramirez Inc</h3> \n",
      " <p class=\"location\">\n",
      "        North Jamieview, AP\n",
      "      </p>\n",
      "\n"
     ]
    }
   ],
   "source": [
    "i=0\n",
    "for job_element in job_elements[0:5]:\n",
    "    print('Job No - ', i+1)\n",
    "    title = job_element.find('h2',class_ ='title is-5')\n",
    "    coy = job_element.find('h3', class_ ='subtitle is-6 company')\n",
    "    loc = job_element.find('p', class_ ='location')\n",
    "    print(title, '\\n', coy, '\\n', loc)\n",
    "    i += 1\n",
    "    print()"
   ]
  },
  {
   "cell_type": "markdown",
   "id": "1ab7cbe5-da08-4aff-b66f-d9969d4b5ca0",
   "metadata": {},
   "source": [
    "## Extract only text content\n",
    "- add .text to BS object\n",
    "- but it has whitespaces"
   ]
  },
  {
   "cell_type": "code",
   "execution_count": 94,
   "id": "8b61d181-6339-4477-baf3-88779f8ce9f7",
   "metadata": {},
   "outputs": [
    {
     "name": "stdout",
     "output_type": "stream",
     "text": [
      "Job No -  1\n",
      "Senior Python Developer \n",
      " Payne, Roberts and Davis \n",
      " \n",
      "        Stewartbury, AA\n",
      "      \n",
      "\n",
      "Job No -  2\n",
      "Energy engineer \n",
      " Vasquez-Davidson \n",
      " \n",
      "        Christopherville, AA\n",
      "      \n",
      "\n"
     ]
    }
   ],
   "source": [
    "i=0\n",
    "for job_element in job_elements[0:2]:\n",
    "    print('Job No - ', i+1)\n",
    "    title = job_element.find('h2',class_ ='title is-5')\n",
    "    coy = job_element.find('h3', class_ ='subtitle is-6 company')\n",
    "    loc = job_element.find('p', class_ ='location')\n",
    "    print(title.text, '\\n', coy.text, '\\n', loc.text)\n",
    "    i += 1\n",
    "    print()"
   ]
  },
  {
   "cell_type": "code",
   "execution_count": 96,
   "id": "173698dc-da85-4058-acca-10b65b1cf7c8",
   "metadata": {},
   "outputs": [
    {
     "name": "stdout",
     "output_type": "stream",
     "text": [
      "Job No -  1\n",
      "Senior Python Developer \t Payne, Roberts and Davis \t Stewartbury, AA\n",
      "\n",
      "Job No -  2\n",
      "Energy engineer \t Vasquez-Davidson \t Christopherville, AA\n",
      "\n",
      "Job No -  3\n",
      "Legal executive \t Jackson, Chambers and Levy \t Port Ericaburgh, AA\n",
      "\n",
      "Job No -  4\n",
      "Fitness centre manager \t Savage-Bradley \t East Seanview, AP\n",
      "\n",
      "Job No -  5\n",
      "Product manager \t Ramirez Inc \t North Jamieview, AP\n",
      "\n"
     ]
    }
   ],
   "source": [
    "i=0\n",
    "for job_element in job_elements[0:5]:\n",
    "    print('Job No - ', i+1)\n",
    "    title = job_element.find('h2',class_ ='title is-5')\n",
    "    coy = job_element.find('h3', class_ ='subtitle is-6 company')\n",
    "    loc = job_element.find('p', class_ ='location')\n",
    "    print(title.text.strip(), '\\t', coy.text.strip(), '\\t', loc.text.strip())\n",
    "    i += 1\n",
    "    print()"
   ]
  },
  {
   "cell_type": "code",
   "execution_count": 112,
   "id": "e124c3f4-1b1a-4776-b03e-cf5f1cfb1571",
   "metadata": {},
   "outputs": [
    {
     "data": {
      "text/html": [
       "<div>\n",
       "<style scoped>\n",
       "    .dataframe tbody tr th:only-of-type {\n",
       "        vertical-align: middle;\n",
       "    }\n",
       "\n",
       "    .dataframe tbody tr th {\n",
       "        vertical-align: top;\n",
       "    }\n",
       "\n",
       "    .dataframe thead th {\n",
       "        text-align: right;\n",
       "    }\n",
       "</style>\n",
       "<table border=\"1\" class=\"dataframe\">\n",
       "  <thead>\n",
       "    <tr style=\"text-align: right;\">\n",
       "      <th></th>\n",
       "      <th>ser</th>\n",
       "      <th>title</th>\n",
       "      <th>coy</th>\n",
       "      <th>loc</th>\n",
       "    </tr>\n",
       "  </thead>\n",
       "  <tbody>\n",
       "    <tr>\n",
       "      <th>1</th>\n",
       "      <td>1</td>\n",
       "      <td>Senior Python Developer</td>\n",
       "      <td>Payne, Roberts and Davis</td>\n",
       "      <td>Stewartbury, AA</td>\n",
       "    </tr>\n",
       "    <tr>\n",
       "      <th>2</th>\n",
       "      <td>2</td>\n",
       "      <td>Energy engineer</td>\n",
       "      <td>Vasquez-Davidson</td>\n",
       "      <td>Christopherville, AA</td>\n",
       "    </tr>\n",
       "    <tr>\n",
       "      <th>3</th>\n",
       "      <td>3</td>\n",
       "      <td>Legal executive</td>\n",
       "      <td>Jackson, Chambers and Levy</td>\n",
       "      <td>Port Ericaburgh, AA</td>\n",
       "    </tr>\n",
       "    <tr>\n",
       "      <th>4</th>\n",
       "      <td>4</td>\n",
       "      <td>Fitness centre manager</td>\n",
       "      <td>Savage-Bradley</td>\n",
       "      <td>East Seanview, AP</td>\n",
       "    </tr>\n",
       "    <tr>\n",
       "      <th>5</th>\n",
       "      <td>5</td>\n",
       "      <td>Product manager</td>\n",
       "      <td>Ramirez Inc</td>\n",
       "      <td>North Jamieview, AP</td>\n",
       "    </tr>\n",
       "  </tbody>\n",
       "</table>\n",
       "</div>"
      ],
      "text/plain": [
       "   ser                    title                         coy  \\\n",
       "1    1  Senior Python Developer    Payne, Roberts and Davis   \n",
       "2    2          Energy engineer            Vasquez-Davidson   \n",
       "3    3          Legal executive  Jackson, Chambers and Levy   \n",
       "4    4   Fitness centre manager              Savage-Bradley   \n",
       "5    5          Product manager                 Ramirez Inc   \n",
       "\n",
       "                    loc  \n",
       "1       Stewartbury, AA  \n",
       "2  Christopherville, AA  \n",
       "3   Port Ericaburgh, AA  \n",
       "4     East Seanview, AP  \n",
       "5   North Jamieview, AP  "
      ]
     },
     "execution_count": 112,
     "metadata": {},
     "output_type": "execute_result"
    }
   ],
   "source": [
    "i = 0\n",
    "df = pd.DataFrame(columns=['ser','title','coy','loc'])\n",
    "#for job_element\n",
    "for job_element in job_elements[0:1000]:\n",
    "    title = job_element.find('h2',class_ ='title is-5').text.strip()\n",
    "    coy = job_element.find('h3', class_ ='subtitle is-6 company').text.strip()\n",
    "    loc = job_element.find('p', class_ ='location').text.strip()\n",
    "    i += 1\n",
    "    dfDict = {'ser':int(i), 'title':title, 'coy':coy, 'loc':loc}\n",
    "    df.loc[i] = dfDict\n",
    "df.head()"
   ]
  },
  {
   "cell_type": "code",
   "execution_count": 115,
   "id": "c738e991-900f-4faa-9eaf-199b4da0d74c",
   "metadata": {},
   "outputs": [
    {
     "data": {
      "text/html": [
       "<div>\n",
       "<style scoped>\n",
       "    .dataframe tbody tr th:only-of-type {\n",
       "        vertical-align: middle;\n",
       "    }\n",
       "\n",
       "    .dataframe tbody tr th {\n",
       "        vertical-align: top;\n",
       "    }\n",
       "\n",
       "    .dataframe thead th {\n",
       "        text-align: right;\n",
       "    }\n",
       "</style>\n",
       "<table border=\"1\" class=\"dataframe\">\n",
       "  <thead>\n",
       "    <tr style=\"text-align: right;\">\n",
       "      <th></th>\n",
       "      <th>title</th>\n",
       "      <th>coy</th>\n",
       "      <th>loc</th>\n",
       "    </tr>\n",
       "  </thead>\n",
       "  <tbody>\n",
       "    <tr>\n",
       "      <th>count</th>\n",
       "      <td>100</td>\n",
       "      <td>100</td>\n",
       "      <td>100</td>\n",
       "    </tr>\n",
       "    <tr>\n",
       "      <th>unique</th>\n",
       "      <td>92</td>\n",
       "      <td>99</td>\n",
       "      <td>100</td>\n",
       "    </tr>\n",
       "    <tr>\n",
       "      <th>top</th>\n",
       "      <td>Python Programmer (Entry-Level)</td>\n",
       "      <td>Garcia PLC</td>\n",
       "      <td>Stewartbury, AA</td>\n",
       "    </tr>\n",
       "    <tr>\n",
       "      <th>freq</th>\n",
       "      <td>3</td>\n",
       "      <td>2</td>\n",
       "      <td>1</td>\n",
       "    </tr>\n",
       "  </tbody>\n",
       "</table>\n",
       "</div>"
      ],
      "text/plain": [
       "                                  title         coy              loc\n",
       "count                               100         100              100\n",
       "unique                               92          99              100\n",
       "top     Python Programmer (Entry-Level)  Garcia PLC  Stewartbury, AA\n",
       "freq                                  3           2                1"
      ]
     },
     "execution_count": 115,
     "metadata": {},
     "output_type": "execute_result"
    }
   ],
   "source": [
    "df.describe(include='object')"
   ]
  },
  {
   "cell_type": "code",
   "execution_count": null,
   "id": "7b8dd130-67e1-4461-94cb-deb3e0e03ad4",
   "metadata": {},
   "outputs": [],
   "source": [
    "df.shape"
   ]
  },
  {
   "cell_type": "markdown",
   "id": "dab81983-08a0-4a83-bb1c-064e394669e7",
   "metadata": {},
   "source": [
    "# search for only python jobs"
   ]
  }
 ],
 "metadata": {
  "kernelspec": {
   "display_name": "Python 3 (ipykernel)",
   "language": "python",
   "name": "python3"
  },
  "language_info": {
   "codemirror_mode": {
    "name": "ipython",
    "version": 3
   },
   "file_extension": ".py",
   "mimetype": "text/x-python",
   "name": "python",
   "nbconvert_exporter": "python",
   "pygments_lexer": "ipython3",
   "version": "3.11.5"
  }
 },
 "nbformat": 4,
 "nbformat_minor": 5
}
