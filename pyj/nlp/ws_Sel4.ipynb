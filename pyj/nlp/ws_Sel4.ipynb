{
 "cells": [
  {
   "cell_type": "markdown",
   "id": "dc2393ae-f0ee-4833-89ae-6bf1ab2101bc",
   "metadata": {},
   "source": [
    "# webScraping - Selinium\n",
    "-  xxx"
   ]
  },
  {
   "cell_type": "code",
   "execution_count": 1,
   "id": "d5605f2b-2e11-4ba4-a921-1b28d9dd4ff8",
   "metadata": {},
   "outputs": [],
   "source": [
    "from selenium import webdriver"
   ]
  },
  {
   "cell_type": "code",
   "execution_count": 8,
   "id": "585ffcf8-874c-42f7-9436-7ebd0fdfafe8",
   "metadata": {},
   "outputs": [],
   "source": [
    "import time\n",
    "import pandas as pd\n",
    "from selenium.webdriver.support.ui import WebDriverWait\n",
    "from selenium.webdriver.common.keys import Keys\n",
    "from selenium.webdriver.common.by import By"
   ]
  },
  {
   "cell_type": "code",
   "execution_count": null,
   "id": "2188b811-eb93-4675-a463-8c5aa3750aa2",
   "metadata": {},
   "outputs": [],
   "source": []
  },
  {
   "cell_type": "code",
   "execution_count": null,
   "id": "8e86ac60-bdc3-47b6-82b2-d753d2a56ac2",
   "metadata": {},
   "outputs": [],
   "source": []
  },
  {
   "cell_type": "code",
   "execution_count": 11,
   "id": "67210301-3a40-4553-baf6-01c4a7e9f82f",
   "metadata": {},
   "outputs": [],
   "source": [
    "driver = webdriver.Chrome()"
   ]
  },
  {
   "cell_type": "code",
   "execution_count": 12,
   "id": "c40d4304-5643-4116-ad06-ee446db2c77d",
   "metadata": {},
   "outputs": [],
   "source": [
    "url = 'https://www.timeshighereducation.com/world-university-rankings/2024/world-ranking'"
   ]
  },
  {
   "cell_type": "code",
   "execution_count": 13,
   "id": "f914cf96-f519-47f6-99ad-f8cf83121991",
   "metadata": {},
   "outputs": [],
   "source": [
    "driver.get(url)"
   ]
  },
  {
   "cell_type": "code",
   "execution_count": 15,
   "id": "090f7afa-2d12-42f7-a7d3-20767762259b",
   "metadata": {},
   "outputs": [],
   "source": [
    "search_area = driver.find_element(By.CLASS_NAME, 'form-control')"
   ]
  },
  {
   "cell_type": "code",
   "execution_count": 16,
   "id": "a9c5a1d1-6955-405e-8131-af40b1260bb7",
   "metadata": {},
   "outputs": [
    {
     "data": {
      "text/plain": [
       "''"
      ]
     },
     "execution_count": 16,
     "metadata": {},
     "output_type": "execute_result"
    }
   ],
   "source": [
    "search_area.accessible_name"
   ]
  },
  {
   "cell_type": "code",
   "execution_count": null,
   "id": "cd39dad4-91f1-4e42-a3d9-33462c5e9d14",
   "metadata": {},
   "outputs": [],
   "source": []
  }
 ],
 "metadata": {
  "kernelspec": {
   "display_name": "Python 3 (ipykernel)",
   "language": "python",
   "name": "python3"
  },
  "language_info": {
   "codemirror_mode": {
    "name": "ipython",
    "version": 3
   },
   "file_extension": ".py",
   "mimetype": "text/x-python",
   "name": "python",
   "nbconvert_exporter": "python",
   "pygments_lexer": "ipython3",
   "version": "3.11.5"
  }
 },
 "nbformat": 4,
 "nbformat_minor": 5
}
